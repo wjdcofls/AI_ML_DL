{
 "cells": [
  {
   "cell_type": "markdown",
   "id": "52973082",
   "metadata": {},
   "source": [
    "### ★ 전처리(Preprocessing)\n",
    "* 원본 raw 데이터의 품질이 좋지 않아서 가공하여 데이터의 품질을 향상시키는 과정\n",
    "\n",
    "#### 피처 스케일링\n",
    "#### (1) 표준화(Standardization) : 데이터가 평균으로 부터 얼마나 떨어져 있는지를 나타내 값으로, 특정 범위를 벗어난 데이터를 이상치(outlier)로 간주하여 제거 한다.StandardScaler 사용, Z = (X - mean())/std()  = (X - 평균)/표준편차  , 정규분포, 가우시안분포(평균=0,분산=1)\n",
    "\n",
    "#### (2) 정규화(Normalization) : 데이터의 범위를 일치시키거나 분포를 유사하게 만들어 주는 기능, 데이터의 범위를 0 ~ 1사이의 값으로 변환, MinMaxScaler, Z = (X-min())/(max()-min())  =  (X-최소값)/(최대-최소)  or  X/최대값"
   ]
  },
  {
   "cell_type": "code",
   "execution_count": 1,
   "id": "720708ab",
   "metadata": {},
   "outputs": [],
   "source": [
    "import numpy as np\n",
    "import pandas as pd\n",
    "import matplotlib.pyplot as plt"
   ]
  },
  {
   "cell_type": "markdown",
   "id": "b02bc00b",
   "metadata": {},
   "source": [
    "### 표준화 (Standardization)"
   ]
  },
  {
   "cell_type": "code",
   "execution_count": 2,
   "id": "5a8878cc",
   "metadata": {},
   "outputs": [
    {
     "name": "stdout",
     "output_type": "stream",
     "text": [
      "raw_data:\n",
      " [[163 597 439 247]\n",
      " [569 597 883 970]\n",
      " [215 221 802 167]]\n",
      "numpy standardized data:\n",
      " [[-0.84632743  0.70710678 -1.39331489 -0.59345582]\n",
      " [ 1.40438612  0.70710678  0.90643162  1.40841925]\n",
      " [-0.5580587  -1.41421356  0.48688327 -0.81496343]]\n"
     ]
    }
   ],
   "source": [
    "# (1) numpy를 이용한 표준화\n",
    "# Z = (X - mean())/std()\n",
    "data = np.random.randint(1000,size=(3,4))\n",
    "print('raw_data:\\n', data)\n",
    "\n",
    "data_stand_np = (data - np.mean(data,axis=0))/np.std(data,axis=0)\n",
    "print('numpy standardized data:\\n', data_stand_np)"
   ]
  },
  {
   "cell_type": "code",
   "execution_count": 3,
   "id": "c45ec973",
   "metadata": {},
   "outputs": [
    {
     "name": "stdout",
     "output_type": "stream",
     "text": [
      "sklearn standardized data:\n",
      " [[-0.84632743  0.70710678 -1.39331489 -0.59345582]\n",
      " [ 1.40438612  0.70710678  0.90643162  1.40841925]\n",
      " [-0.5580587  -1.41421356  0.48688327 -0.81496343]]\n",
      "sklearn standardized data:\n",
      " [[-0.84632743  0.70710678 -1.39331489 -0.59345582]\n",
      " [ 1.40438612  0.70710678  0.90643162  1.40841925]\n",
      " [-0.5580587  -1.41421356  0.48688327 -0.81496343]]\n"
     ]
    }
   ],
   "source": [
    "# (2) sklearn.preprocessing을 이용한 표준화\n",
    "# StandardScaler().fit_transform()  (fit() --> transform())\n",
    "\n",
    "from sklearn.preprocessing import StandardScaler\n",
    "\n",
    "data_stand_skl = StandardScaler().fit_transform(data)\n",
    "print('sklearn standardized data:\\n', data_stand_skl)\n",
    "\n",
    "# 동일한 구현\n",
    "sc = StandardScaler()   # 클래스의 인스턴스를 생성\n",
    "sc.fit(data)\n",
    "data_stand_skl = sc.transform(data)\n",
    "print('sklearn standardized data:\\n', data_stand_skl)"
   ]
  },
  {
   "cell_type": "code",
   "execution_count": 4,
   "id": "bdc0d97f",
   "metadata": {},
   "outputs": [
    {
     "name": "stdout",
     "output_type": "stream",
     "text": [
      "fit: my_data\n",
      "transform: my_data\n"
     ]
    },
    {
     "data": {
      "text/plain": [
       "'my_data'"
      ]
     },
     "execution_count": 4,
     "metadata": {},
     "output_type": "execute_result"
    }
   ],
   "source": [
    " # fit_transform() 메서드  : 참고용\n",
    "from sklearn.base import TransformerMixin\n",
    "\n",
    "class A(TransformerMixin):\n",
    "    def fit(self,X):\n",
    "        print('fit:',X)\n",
    "        return self\n",
    "    \n",
    "    def transform(self,X):\n",
    "        print('transform:',X)\n",
    "        return X\n",
    "\n",
    "inst = A()  # 클래스의 인스턴스 생성\n",
    "# inst.fit('x_data')\n",
    "# inst.transform('y_data')\n",
    "inst.fit_transform('my_data')"
   ]
  },
  {
   "cell_type": "markdown",
   "id": "00939d4c",
   "metadata": {},
   "source": [
    "### 정규화 (Normalization)"
   ]
  },
  {
   "cell_type": "code",
   "execution_count": 8,
   "id": "57b431cf",
   "metadata": {},
   "outputs": [
    {
     "name": "stdout",
     "output_type": "stream",
     "text": [
      "numpy minmax data:\n",
      " [[0.         1.         0.         0.0996264 ]\n",
      " [1.         1.         1.         1.        ]\n",
      " [0.12807882 0.         0.81756757 0.        ]]\n"
     ]
    }
   ],
   "source": [
    "# (1) numpy를 이용한 정규화 : 0 ~ 1 범위\n",
    "# Z = (X-min())/(max()-min())\n",
    "data_minmax_np = (data - np.min(data,axis=0))/(np.max(data,axis=0)\n",
    "                                               -np.min(data,axis=0))\n",
    "print('numpy minmax data:\\n', data_minmax_np)"
   ]
  },
  {
   "cell_type": "code",
   "execution_count": 6,
   "id": "0e52a81e",
   "metadata": {},
   "outputs": [
    {
     "name": "stdout",
     "output_type": "stream",
     "text": [
      "sklearn minmax data:\n",
      " [[0.         1.         0.         0.0996264 ]\n",
      " [1.         1.         1.         1.        ]\n",
      " [0.12807882 0.         0.81756757 0.        ]]\n",
      "sklearn minmax data:\n",
      " [[0.         1.         0.         0.0996264 ]\n",
      " [1.         1.         1.         1.        ]\n",
      " [0.12807882 0.         0.81756757 0.        ]]\n"
     ]
    }
   ],
   "source": [
    "# (2) sklearn.preprocessing 를  이용한 정규화\n",
    "# MinMaxScaler 클래스 : fit_transform() (fit() -> transform())\n",
    "from sklearn.preprocessing import MinMaxScaler\n",
    "\n",
    "data_minmax_skl = MinMaxScaler().fit_transform(data)\n",
    "print('sklearn minmax data:\\n',data_minmax_skl)\n",
    "\n",
    "# 동일한 구현\n",
    "sc = MinMaxScaler()   # 클래스의 인스턴스를 생성\n",
    "sc.fit(data)\n",
    "data_minmax_skl = sc.transform(data)\n",
    "print('sklearn minmax data:\\n',data_minmax_skl)"
   ]
  },
  {
   "cell_type": "markdown",
   "id": "b95db258",
   "metadata": {},
   "source": [
    "# 로그 변환"
   ]
  },
  {
   "cell_type": "code",
   "execution_count": 9,
   "id": "4b464d63",
   "metadata": {},
   "outputs": [
    {
     "data": {
      "text/plain": [
       "array([[ 20123328,  73703232,  54197184,  30493632],\n",
       "       [ 70246464,  73703232, 109011648, 119752320],\n",
       "       [ 26543040,  27283776,  99011712,  20617152]])"
      ]
     },
     "execution_count": 9,
     "metadata": {},
     "output_type": "execute_result"
    }
   ],
   "source": [
    "data2 = data * 123456\n",
    "data2         # 로그변환 필요 : 데이터 값이 너무 큰 경우, 로그변환을 사용하여 값을 작게 만들어준다."
   ]
  },
  {
   "cell_type": "code",
   "execution_count": 12,
   "id": "6639b7c9",
   "metadata": {},
   "outputs": [
    {
     "data": {
      "text/plain": [
       "array([[16.81739035, 18.11555722, 17.80813953, 17.23302847],\n",
       "       [18.06752054, 18.11555722, 18.50696531, 18.60093618],\n",
       "       [17.09427816, 17.12180283, 18.41074871, 16.84163396]])"
      ]
     },
     "execution_count": 12,
     "metadata": {},
     "output_type": "execute_result"
    }
   ],
   "source": [
    "np.log1p(data2)    # 자연로그, x값에 1을 더한후 log값을 취함\n",
    "                   # df['TAX2'] = np.log1p(df['TAX']) : 한 개의 컬럼만 로그변환 한 것."
   ]
  },
  {
   "cell_type": "code",
   "execution_count": 14,
   "id": "1aa667d1",
   "metadata": {},
   "outputs": [
    {
     "name": "stdout",
     "output_type": "stream",
     "text": [
      "-inf\n",
      "0.0\n"
     ]
    },
    {
     "name": "stderr",
     "output_type": "stream",
     "text": [
      "<ipython-input-14-4f68928933dc>:1: RuntimeWarning: divide by zero encountered in log\n",
      "  print(np.log(0))\n"
     ]
    }
   ],
   "source": [
    "print(np.log(0))      # -inf , 무한대\n",
    "print(np.log1p(0))    # 0.0 , np.log(0 + 1)"
   ]
  },
  {
   "cell_type": "markdown",
   "id": "a2b31c2e",
   "metadata": {},
   "source": [
    "### 레이블 인코딩 (Label Encoding)"
   ]
  },
  {
   "cell_type": "code",
   "execution_count": 28,
   "id": "64112682",
   "metadata": {},
   "outputs": [
    {
     "name": "stdout",
     "output_type": "stream",
     "text": [
      "encoding 변환 값: [0 1 4 5 3 2 3 2]\n"
     ]
    }
   ],
   "source": [
    "from sklearn.preprocessing import LabelEncoder\n",
    "\n",
    "items = ['TV', '냉장고', '전자레인지', '컴퓨터', '선풍기', '믹서', '선풍기','믹서']\n",
    "encoder = LabelEncoder()            # 클래스의 인스턴스 객체를 생성  \n",
    "encoder.fit(items)                  \n",
    "labels = encorder.transform(items)  # labels = LabelEncoder().fit_transform(items)\n",
    "print('encoding 변환 값:',labels)"
   ]
  },
  {
   "cell_type": "code",
   "execution_count": 22,
   "id": "9a7ec9d9",
   "metadata": {},
   "outputs": [
    {
     "name": "stdout",
     "output_type": "stream",
     "text": [
      "encoding 클래스: ['TV' '냉장고' '믹서' '선풍기' '전자레인지' '컴퓨터']\n"
     ]
    }
   ],
   "source": [
    "print('encoding 클래스:', encoder.classes_)"
   ]
  },
  {
   "cell_type": "code",
   "execution_count": 27,
   "id": "726061b0",
   "metadata": {},
   "outputs": [
    {
     "name": "stdout",
     "output_type": "stream",
     "text": [
      "decoding 원본값: ['TV' '냉장고' '선풍기' '컴퓨터' '전자레인지' '믹서' '전자레인지' '컴퓨터']\n"
     ]
    }
   ],
   "source": [
    "print('decoding 원본값:', encoder.inverse_transform([0,1,3,5,4,2,4,5]))"
   ]
  },
  {
   "cell_type": "code",
   "execution_count": null,
   "id": "c500eacd",
   "metadata": {},
   "outputs": [],
   "source": []
  }
 ],
 "metadata": {
  "kernelspec": {
   "display_name": "Python 3",
   "language": "python",
   "name": "python3"
  },
  "language_info": {
   "codemirror_mode": {
    "name": "ipython",
    "version": 3
   },
   "file_extension": ".py",
   "mimetype": "text/x-python",
   "name": "python",
   "nbconvert_exporter": "python",
   "pygments_lexer": "ipython3",
   "version": "3.9.4"
  }
 },
 "nbformat": 4,
 "nbformat_minor": 5
}
