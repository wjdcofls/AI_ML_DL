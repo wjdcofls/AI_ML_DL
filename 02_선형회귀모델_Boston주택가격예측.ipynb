{
 "cells": [
  {
   "cell_type": "markdown",
   "id": "a774ee97",
   "metadata": {},
   "source": [
    "### Boston 주택 가격 예측 (Linear Regression, scikit-learn 사용) : 선형 회귀 모델 "
   ]
  },
  {
   "cell_type": "code",
   "execution_count": 8,
   "id": "e4794b9a",
   "metadata": {},
   "outputs": [
    {
     "data": {
      "image/png": "iVBORw0KGgoAAAANSUhEUgAAAX8AAAEWCAYAAACOv5f1AAAAOXRFWHRTb2Z0d2FyZQBNYXRwbG90bGliIHZlcnNpb24zLjMuNCwgaHR0cHM6Ly9tYXRwbG90bGliLm9yZy8QVMy6AAAACXBIWXMAAAsTAAALEwEAmpwYAAAzBElEQVR4nO2df5hcZZXnv6e76ZYmdAMGm/BDQvwx4sQBDBpcd52EYMsEaUQIwgMO4zgSd5vR7OgGTFxmhtlmwIku44BrZlAGRyCEgHQpiA2hg+ujZoYgajC4DoEQJCYQkgptmG66++wf773et27fqrpVdW/V/fH9PE89VXV/vPe8t7rP+95zznuOqCoIIYTki7ZWC0AIIaT5UPkTQkgOofInhJAcQuVPCCE5hMqfEEJyCJU/IYTkECp/QpqMiPwXEfllq+UAABF5UkQWtVoO0nyo/EkkiMizIvKqiIyJyD4RuV9EToigXRWRN0chY0DbfyUi32zmNQFAVf+vqv5eHG2LyCYR+Q/nd3hJRO4VkTkVZPl9Vd0Uhywk2VD5kyg5V1VnAZgDYDeAf2ixPHnlSud3eCuAIwD8b/8BItLRbKFIsqDyJ5Gjqv8BYAOAt7vbRKRXRL4hIi+KyA4R+byItDn73iwij4pI0Zmt3uVs/75z+k+dmexHnO2fEJF/F5GXRaQgIsda11ER+aSI/Mp5ArlZRKTevohIl4jcKCIvOK8bRaTL2fcnIvID3/G/e2oQkaUi8gsReUVEfi0in3W2LxKR561znhWRz4rIz5x7cJeIvM7av1JEdjnX/7OwTyaq+jKAewDMt65zlYj8DMBvRaTD2XaWs79dRFaJyNOOzFvcpzcReZuIPOTc81+KyEX13lOSDKj8SeSISDeAjwD4sbX5HwD0ApgH4A8B/DGAjzn7/gbACIAjARzvHAtVfZ+z/xRVnaWqd4nImQD+FsBFME8YOwCs84nwQQDvAnCKc9wHGujOagBnADjVae/dAD4f8tyvAViuqofDKOBHKhx7EYCzAZwE4A8A/AkAiMjZAP4CwFkA3gxz70IhIrMBXADgJ9bmSwCcA+AIVZ30nfIXzv6lAHoA/CmAgyJyGICHANwB4A3OMV8Rkd8PKwtJHlT+JEruE5H9AA4AeD+AvwPMjBJmMPicqr6iqs8C+CKAjzrnvQbgRADHqup/qOoP/A1bXArg66r6uKqOA/gcgPeIyFzrmOtVdb+qPgdgFEZxl+MiEdlvvwKud62q7lHVFwH8tSV3NV4D8HYR6VHVfar6eIVjv6yqLziz9W9bMl8E4FZVfVJVDzrXr8aXnX78FMAuGKVuX2enqr4acN6fAfi8qv5SDT9V1b0wg+mzqnqrqk46/bgHwIUhZCEJhcqfRMmHVPUIAF0ArgTwqIgcA2A2gE6YWbrLDgDHOZ9XAhAA/+pEn/xphWsca7ejqmMA9lptAcBvrM8HAcyq0N56VT3CflW6nvP5WITjAphZ9A7HrPWeCseWk/lYADutffbncnzK6ctxqnqpM2iFOf8EAE8HbD8RwELfAHkpgGNCyEISCpU/iRxVnVLVewFMAfjPAF6CN7t3eSOAXzvH/0ZVP6GqxwJYDmNSKGfTfsFuxzFJvN5tKwZKrgcj9wvO598C6LZkKVGGqvpvqnoejKnkPgDr67j+LhhTmEujEVSV0vjuBPCmMtsf9Q2Ss1T1vzYoC2khVP4kcsRwHowNf5uqTsEoviEROVxEToQxRXzTOX6ZiLgKbh+Mgppyvu+G8RO43AHgYyJyquN4vQ7AZseUFAd3Avi8iBzt2NCvceWGMav8viPL6wD8lXuSiHSKyKUi0quqr8GYwqZQO+th+nuy40u5ppHOVOEWAH8jIm9xfsM/EJHXA/gOgLeKyEdF5BDn9S4ROTlGWUjMUPmTKPm2iIzBKLohAJer6pPOvj+HmSlvB/ADGCX+dWffuwBsds4tAPi0qj7j7PsrALc55oaLVHUjgP8JY3PeBTNTvTjGPv0vAI8B+BmAnwN43NkGVf1/AK4F8DCAXzn9svkogGdF5ACATwK4rNaLq+p3AXwZxnfx7wB+5Owar7WtEHwJZrAZgfkNvwbgUFV9BUA/zH1+AcZEdQOMeY+kFGExF0LSgzPb3gqgKyBah5DQcOZPSMIRkfMdM9KRMDPub1Pxk0ah8ick+SwH8CJMJM4UADpaScPQ7EMIITmEM39CCMkhqUjuNHv2bJ07d26rxajIb3/7Wxx22GGtFiN22M/skZe+5rGfW7ZseUlVjw46LhXKf+7cuXjsscdaLUZFNm3ahEWLFrVajNhhP7NHXvqax36KyI5yx9HsQwghOYTKnxBCcgiVPyGE5BAqf0IIySFU/oQQkkNijfYRkWcBvAKzKnFSVU8XkaMA3AVgLoBnAVykqvvilIMQQkgpzZj5L1bVU1X1dOf71QA2qupbAGx0vpMEUygAV15p3rNC1H1q5j2K+lrFYvpkd9tZvdprz2579WrgHe8w71FdP+jcKH+Lpv+fqWpsL5iZ/Wzftl8CmON8ngPgl9XaWbBggSad0dHRVosQC8PDqt3dqoB5v+++0VaL1DD+Pg0Pzzymlt8zTHtREfW1hodVv/Sl0VTJbrfjvjo7Vbu6zOeOjtJ9q1aZ8+67b7Tu6wfJHuVvEWVb9t8ugMe0jF6NNbePiDwDrzjHWlX9RxHZr1apPBHZp6pHBpx7BYArAKCvr2/BunX+Gt3JYmxsDLNmVaoWmE527gT27PG+n3TSGI46Kt399PfpDW8ATvDVx6rl9wzTXlREfa2dO4HOzjE8//ysSNqrdq0oZPe3U41DDwXe/nbg5ZfH8Mwz3m9ay/WDZAei+y2i/F3tv93FixdvUc/qUkq5USGKF0xBbsCUsfspgPcB2O87Zl+1djjzbx2c+UfTXlRw5s+ZfzXCzvxjdfiq6gvO+x4R+RaAdwPYLSJzVHWXiMwBUMMYTprNwABw553AyAjQ3w/09LRaosbx92lgIFntNfNaAwPA8DAwOJge2e12enuNz6K/3+xz29682djOBwaAoSGzr7e3/uuXkz2q36KZf0MusZl9nMLabar6ivP5IZiSd0sA7FXV60XkagBHqerKSm2dfvrpytw+yYD9zB556Wse+ykiZc0+cc78+wB8S0Tc69yhqg+KyL8BWC8iHwfwHIBlMcpACCGxUig0d8YeFbEpf1XdDuCUgO17YWb/hBDSMK1UvoUCcMklwMGDwK23GtNNWgYArvAlhKQWV/nefLN5jzpGvlrs/ciIUfyAeR8Zifb6cULlTwhJLXEq3zADS38/0N1tPnd3e47nNEDlTwhJLXEq3zADixulMziYLpMPkJJKXoQQEkScIZL9/caOf/Bg5YFlYCBdSt+Fyp8QkmriUr6tiL1vJlT+hBBShrTO6sNAmz8hhOQQKn9CSGLJYjrxpEDlTwhJJHHH8OcdKn9CSCJJ8wKqNECHLyEkUbjpGnp7TYhltVBLUh9U/oSQxGDnyunuBlas8FI2ZzXqplVQ+RNCEoPf1FMsAjfdVP74tGbUTAK0+RNCEkMt6RroEG4MKn9CSGKoJVcOHcKNQeVPCEkUAwPG1FPNjNPMjJpZXG9Amz8hJJU0K/dOmgu2VILKnxCSWpqReyfIvJQF5U+zDyGEVCDNBVsqQeVPCImduGzmzbDFp7lgSyVo9iGExEpcNvNm2uKzmNqZM39CSKzEFZLJUM/GoPInhMRKXDbzrNrimwXNPoSQWAkKyYwiLUPWyyzGDZU/ISR2bJt5lLb6LNrimwXNPoSQpkJbfTKg8ieENJVytvosplBIMjT7EEKaSjkfQBZTKCQZKn9CSNPx2+qzmkIhydDsQwhpOWkL28yCiYozf0JyRFIrX6UpbDMrJioqf0JyQtKVVlrCNrNioqLZh5CcwBDLaEibiaocVP6E5ISsKK1Wk5UsnzT7EJIT0mRXTzppMVFVInblLyLtAB4D8GtV/aCIHAXgLgBzATwL4CJV3Re3HISQbCgtEg3NMPt8GsA26/vVADaq6lsAbHS+E0IIaSKxKn8ROR7AOQBusTafB+A25/NtAD4UpwyEkOyQhfj6pCCqGl/jIhsA/C2AwwF81jH77FfVI6xj9qnqkQHnXgHgCgDo6+tbsG7dutjkjIKxsTHMmjWr1WLEDvuZPdLS12IR2L4dmJ4G2tqAefOA3t7w56eln41i93Px4sVbVPX0wANVNZYXgA8C+IrzeRGA7zif9/uO21etrQULFmjSGR0dbbUITYH9zB5p6evgoCrgvQYHazs/Lf1sFLufAB7TMno1TrPPewEMiMizANYBOFNEvglgt4jMAQDnfU+MMhBCMgJDVaMlNuWvqp9T1eNVdS6AiwE8oqqXASgAuNw57HIAw3HJQAjJDlmJr08KrYjzvx7AehH5OIDnACxrgQyEkBQSVahqUnMcNZOmKH9V3QRgk/N5L4AlzbguIYT4SXqOo2bB9A6EkFzBHEcGKn9CSEWyFltPx7GBuX0IIWXJoomEOY4MnPkTQsqSNROJ+xQDADfdlF/FD1D5E5JbXEVYLJY/prcXaG83n9NuIikWzVPMzTeb96yYseqFyp+QHOKac26+2aRMCFKEhQJw443A1BTQ0QGsWJHumfKBA9l6imkUKn9CcohtzpmeDlaE9jGTk5WfENJATw8dvTZU/oTkEDvipa0tWBFmLSqmt5crhG0Y7UNIDrEjXubNC1aEQVExaV8Zy2I2HlT+hNRB2pUg4CnCTZuqHwNkM+wzz9DsQ0iN2M7SPEWNVAv7zNpisKxD5U9IjWQt9j0slXwAeR0Q0wyVPyE1kgVHaD2zdDul8ooVZtBzz8/rgJhmaPMnpEbSnh7Ab7u/447w57p99dv++/vN54MHox0Qs+BbSSpU/oTUQZKjRqopTP8s/cCB2toPmuXfdFP0AyIdzPFCsw8hGSKM7b2/H+jsNJ87O83ipzCsXg284x3A7t3BZq+BgWjz5dCUFC+c+ROSIYIUZpAyFil9r8bq1cB115nPW7cCF14I9PWZhVOuUo56Vh6XKYkYOPMnJEOEcUaPjADj4+bz+Hg4s4//CeKpp0zbN94YX4QPa/bGC5U/IRkijML0DxBhzD7+dgYGmmOWidqURDxo9iEkY1RzRvujlcIo/6Eh83777cDs2cDCheY7zTLphTN/QnJIPTPqhQuBF18EtmwxZh6AZpk0w5k/ITmmUDCpmguF6sq7XIgnlX464cyfkAwSZgXv6tXABRcAe/aEc9hmYWUz8eDMn5CMEWZxVKEA3HCDqdIFzAwLdReK9faaJwN34VaaVzaTUqj8CckYYWL9R0Y8xQ+YMo3uTN4ePFzsQcTN63/llRwE0gzNPoRkjDDmGfsYAFi50lPi9uDhYodyMoNnNuDMn5AM4M/nU808Yx/z5jcD553n7evtNU8Ck5PeNnsQCbuKmCQbKn9CUo5tplm71szih4aqK+SgSl6Fglm1OzkJtLcD559v0jjYgwjTLmQDKn9CUo49E5+cNI7chQvrm43bbU1NGcV/002lx9Dxmw1o8yck5fT3GzONy9SUCeOsxxYfNpwz7CIxlnZMLlT+hKScgQFj6mlv97Zt3VqfMzaKZGquwl+9mo7hJEOzDyEZYGjImHo+9Slgxw6zzfUB1GqeaaRQje1/sJ3GdAwnDyp/QjLErl3e544O4OGHgYmJ5lTCKhTMbN/2P7S3GzMUHcPJg2YfQhJMLTbzkRGj6F2OPdb7XinlcrHYuF3enfFv3ept6+4GrrqKid+SCmf+hCSUsDVs7VQM3d1eCOZll5mwzUohmYUCsH27scs38nTgXxg2f364cFPSOmJT/iLyOgDfB9DlXGeDqv6liBwF4C4AcwE8C+AiVd0XlxyEpJUwi6nsAaK7G1ixojQXz8KF1Yu5n3TSzGtUKwLvxx/7T8WffOKc+Y8DOFNVx0TkEAA/EJHvAvgwgI2qer2IXA3gagBXxSgHIanEVqgdHWZm72ft2tIBolgsjcuv5rzt7weeftp8dp8Owj5x2DD2P31UtPmLSF+9DathzPl6iPNSAOcBuM3ZfhuAD9V7DUKyijvzXrrUOE0nJ40Jx7bLFwrGoevS1VWbU9W9Rl9fqV2+3vKMLLmYLkRVy+8U+Q2AnwO4E8A9qlqsqXGRdgBbALwZwM2qepWI7FfVI6xj9qnqkQHnXgHgCgDo6+tbsG7dulou3XTGxsYwa9asVosRO+ynoVg0hc97eoJn5I1QLBo7/PQ0IALY/6JveANwwgnm886dJhe/S2+vydMTpv0XXzTyqwInnDCGrq5Zv+uHff22NmDevOj72Ary+Le7ePHiLap6euCBqlr2BaAdwAcA3ApgN4D7AHwEwKGVzgto5wgAowDmA9jv27ev2vkLFizQpDM6OtpqEZoC+6k6PKza3a0KmPfh4WivvXSpadt9tbcHX6seOexz3NeaNaM6ODjzuMHB6PvWSvL4twvgMS2jVyva/FV1CsD3AHxPRDoB/BGAiwH8vYhsVNVLw4xEqrpfRDYBOBvAbhGZo6q7RGQOgD2VzyYkWcSR1dKO2PGbcs49F3jqqZn2+4EB4+B1SzCGkSEoXXNbm7munZ+/kYVeJB2Edviq6oSI/ALANgALALy90vEicjSA1xzFfyiAswDcAKAA4HIA1zvvw3XKTkhLiDqrZblVsYAJmXzgAbNv+/bShG1uBs6gfWFk7+oCliwxNv/Pf742By9JP1WVv4i8EcbUcwmAwwCsA3Ceqm6rcuocALc5dv82AOtV9Tsi8iMA60Xk4wCeA7CskQ4Q0myiiGyxQyn9WTntVbF9fcCWLWaf7XwdGQGeeab2J5Ag2f/lX5ifP49UVP4i8kMAxwHYAOAKVX0sbMOq+jMApwVs3wtgSY1yEpIoosp/c+utxnRjL86yY/UBYONGYHzcmGd27/bO7ew0s/fx8cqLuPyDlF/2np7S6zMNQz6oNvP/HIDvO44DQkgDuIrYP2MvFss/SRQKXq3d6Wng3nvNO2BSNyxdahZpBT2BrF4NfOEL5mmikjmnt5cx+nmkmsP3URG5XEQ+BeBtzuZtAL6sqt+IXTpCKlDrKtRWYs/2g2bs5Z4kRkZKfQDT055foLsbOPVUM3gEXe+GG7yBo5o5hw7e/FHN7PPHAFYA+AsAjwMQAO8E8HciAg4ApFXUswq1ldh2/Wozdpv+frOK1x4APvQh4wvo7fUcvv57MDLiKX7ADBg05xCbalk9/xuA81V1VFWLqrpfVR8BcIGzL9GwilB2qXcVaqvwV8havjzcatiBgZlK2y2tWCyWvwf9/eYJAzALxU45JZp+kOxQTfn3qOqz/o3Otp44BIoKd2bIKkLZJGy5waTQSIWs5cuD++pfdev/LmLeVU3EEP8PiE015f9qnftaTtpmhqQ2oig32ChBT5aVnjbrzX1Trq9+W7/9fWTE+BRs+H9AbKpF+5wsIj8L2C4A5sUgT2REvRCHJI9WOimDfA5AfH6IoL5W+hu397nw/4DYVFX+TZEiBphilsRJuSfLuBZLlYvXd//Ge3s9GdyBwt5nrxuw0ziQ/FJN+R+qqk8BgIh0qervHiRF5AwAO+IUrlEYvpZdWh3mWW7WHcfTZqXIJvc9aL//7z9tEVIkXqrZ/O+wPv/It+8rEctCSCiS4MwPssPH5Yco95Th+hf8BV3K2fXpByM21Wb+UuZz0HdCmkIcWTXrIejJMo6nzaCnDHsW39VlwjonJio/cdAPRmyqKX8t8znoOyFNIW9KLMh/deWV3gA4Ph5u0Rj9YMSmmvI/XkS+DDPLdz/D+X5crJIRUoY8KjH/E4V/AFy+PNx9oB+MuFRT/v/D+uzP6Bk6wychUZMEJeZ3OjfTCZ3HAZBES7XEbrdV2k9InrCVO+DZ3NeuBd79bmDzZpNPp1okTaFgzgFKZ+yVBo8wqZmj7B8Hk+xTLbFbxTgKVeWfCMkMtvLr6Zm5zw6TXLSotADLD3/oHesvumIr09Wrgeuv99Iyb9wIrF9vPvtz/Nux+XGHaDIMNH9UM/u8B8BOAHcC2AxG+JAM4s7EH37YRMzceitwxx2lx/gjjICZJRdd3Jq49pPBypWmzOIXvuApfsA4a6+9FjjjjNL23XTM/oEmruimpERQkeZRLc7/GACrAMwH8PcA3g/gJVV9VFUfjVs4QuLGnfE+8IBR/IBRfi++WHqcnUiuvd3k0V+50nz2c9pppRk3JyfNbN+fmtllyxZToctu387DD8SfxC5tifJI41RU/qo6paoPqurlAM4A8O8ANonInzdFOkJixp7x2hw4MHPx2Mknm1n91JTJo79woamstXSpeQoATLz9Bz5gqnWJ9Zw8PV2q4P089ZQxtSxdWnoeYM6JO4ldEhLlkeYSpoB7F4BzYAq4zwXwZQD3xisWIfHi2vd7e736tfaMW9Uzfdj2cBfXnHP//aWRPnaBlbY2045LX58ZGG6/HXjuudJ9rvPWX7kLADZs8M73yx+lczYJEVSkeVRz+N4GY/L5LoC/VtWtTZGK5JJmRZvYytwumO5X3K7po9zTwcMPm7bsPDr24ivbtg+Ya61Z45mXXN70JnP9QsFc85/+aeYx99xjBgvXGWxX8LKdw7Xet0LBuzYVf76oZvP/KIC3Avg0gB+KyAHn9YqIHIhfPJIXmpmvx+/cLBZNnv2hIc/0cvjh3vF+e7/LxMTM/Di9vZ4JqMM3tfrXf52p1AFgxw6v3wBw1lkzj3GfEg4eNPfG7xyu576593zPHhZ6ySPVbP5tqnq48+qxXoeraqIreUUJy0HGT9ikY+V+i1p+I78y7+31zt+8Gdi0yQwIy5YBp59uzDsrVhh7+FVXzTzXvf455wBf/KIx27S3m1q7thP1kEOC5XHNPAcPAh/7mDnWPU8EeNvbvEGnu9vM0N39HR0zi7SHhYneco6qJv61YMECbRXDw6rd3aqAeR8eDj5udHS0qXK1irj6GeY+lzsm7G9ks2qVakeHOaerS7Wz03x2t61ZM6pmvm1enZ1eu/a5HR2qF17oXd9+DQ6aY+fPN8e0tc08ptzrwgu98922OzrMd7fP/v1h++6/n2vWjNZ8bhrJ4/8ogMe0jF6t6vDNO4x/bg5h0hWU+y1q/Y0KBfNyZ9x2ucPJSWPv9zMxYZ4ABgaAJ57wzp2c9Byyfnbv9vLvPPlkqYPXzcJZjqeeAu6+u9SHMDlprg2UOmcXLqzPV+Le82KRET55pJrNP/cw/rl5VKtxW+63qPYb2SahQsGYc7ZaoQsdHUYZu+efdlrw9TduNCt0H3545j6/fR8wCtxV3LbiD/rux70Hvb2lfgbXyew/tp7awO65J5xAxZ9HOPOvAhNoJYdyv0Wl38iftuDkk2fOuNvagM9+1ouY2bw5+Prj48GROG7E0BNPeKuEXdv8L34xM+oHKA3nbGsz/gD3CeTCC43zuVAwUT2uTR/wnMz8OySNQuUfAsY/J4dyv0W57X6T0EsvzTxmYsKL+HHPOeoob78d/2+v/O3oMINFueRsmzcHK36gdOZ/9tmmDf/gFRRiWu/TJ5O2ET80+5CqpCnayS+rbTbp7gYuvXSmTd9V4i79/d4x3d0mlUMQ/f3eIi8X2wQT5n61t3uDh99040YSuSxYUJ9tPgllL0l9xPm/x5k/qYjfbOJPeJYk/LK6i6GmpoyCX7HCmFNuv93E1rscd5xRqMuWAY88Apx5JnDZZSa0059V02b/fvOP2dsbvMhqYKDUtwCYQcV+Gpg7t7wyLxZLv59xRn2zdgYtpJO4M61y5k8q4lccBxK8tM8vq70YanLSU6aXXlp63qWXGsW/YQPw8svmfe9ebybu+hTmzy8974c/NLPp664z7+efb9YFuI7lYtHY7+fPN++Dg8DVV5c6h59/vvysLqpgAwYtpJO412FQ+ZOK+BWHP899kvDLai+GspXewoXGhHLiicCqVeZp4JFHStt65RVv4dY555htQ0PBWTxdpqdNhs4Pf9gMJjffbNp44xuBj37UW0VsK9/x8fL/1FElW2PStnQS96BNsw+piD+SJsnKPyjqxx8D78/rs3ChOffMM0vj9V/3OuCii7wInIcfNnH3V11lcvIHpWZ2mZryHMQTEyZd9KZNnuJdvtx8D1OAPsiRXY/zlkEL6SPuSEMqf1IVW3Fs2hRt21FHofiVnP+7/1H62mvNtre+1SRY273bRN90d5cu/nIXed1/vxkw1q4Fvvvd8vH6ftu+bWtv5J+aFbfyRZyDNpU/aRmtUGT9/cAtt3iKfcsW83JpbzcDQU8P0NVVOgC4i7yKRTN7P/VU7ykgqKqXiDc4dHWVzvDr/aem85ZERWw2fxE5QURGRWSbiDwpIp92th8lIg+JyK+c9yPjkoEkm0oOrShD3Oy2BgZmOm5tpqaMA3fvXmDJEuDoo7194+OlGTQXLjSplgcHTVUvO4R0err0qWDJkmiUNJ23JCrinPlPAviMqj4uIocD2CIiDwH4EwAbVfV6EbkawNUAropRDpJQ+vu93De2Imv0icA2JQGe7f6WW4DPfMYUUqnGvn3GVt/Z6T0BuFW8AK+Yy0knmeuMjJSaeUTMa3ra9G358vDyV4IrzklUxKb8VXUXgF3O51dEZBuA4wCcB2CRc9htADaByj+X2Iqst9eb+Tdi2ghK5+CabsbHTS1d/6rb2bNNiGfQatyJCZPf35XLPaatDfje97wi6+4xLm5+Tnd9QbVEc7UoczpvSRSIVsswFcVFROYC+D5MVbDnVPUIa98+VZ1h+hGRKwBcAQB9fX0L1q1bF7ucjTA2NoZZs2a1WozYiaOfxSKwfbtRrCLAEUeYbdPTRsnOmzdztWs5du40xUlcqmXPFAGOOaa04DoAHH/8GJ5/ftbvrn/gQGm7fg49FHj11eB9HR3GfHTssTP32X2vta9Rwb/dbGH3c/HixVtU9fTAA8vleo7qBWAWgC0APux83+/bv69aG63M5x+WPOYKj4rBwdJc9m1tJk/94GDt+ekXLFBtby/Nte/m3heZmTe/o8PL5W+/1qwZ1Te9SfXEE40sds0At327DTvHf7mXm4u/Ut8HByO7raHh3262CJvPP9ZFXiJyCIB7ANyuqvc6m3eLyBxn/xwAFeZTJA/095cunpqeNhkya0lTXCgY2/6WLZ5dfnKy1GEsMvO8ycngJwMR4OmnTRqI664zSdruvNMsDrMfltvajLN34ULP4dvWZlb02snhXBn92GUf6cAlzSTOaB8B8DUA21T1S9auAoDLnc+XAxiOSwaSDgYGyidPC8vISGlYpsvEhBeCOT0dnHc/aFDwW0Nvv928P/FEqW/g7LPNqt2REW8QmZ4G+vqAT36ytI2gxVo33uiVfazmGyAkSuKc+b8XpgD8mSLyhPNaCuB6AO8XkV8BeL/zneSca64xUTWAea81Oqa/3zvfpqPD297dbWbpS5eWhmWGcXvNnm2ie+zc+h0dnpxBIZhDQyZ9xPz5XhoJwAs9XbvW8zNMTc1M5EZInMQZ7fMDAAFzKgDAkriuS9LJwACwfn34qBd/hIx7/rXXmlDOvXvNDLy9HTj3XFNV621v8xRsUGSPf1Wuvf0DHwDWrCndtnJlqZyLFpl3O7//0JCn9F253Wikri7PIU2TD2k2XOFLEkPYEMZK6wC2bSuN2hkfB+67z5hW3PTKXV2lq28Bo8xPO610te/RRwPvepdXaMX2DbjmHr88QTH99kBlh7GOj5unEHetAE0+pJkwq2cGSVPxlXootzI4qPJVW9vMtAvj48aMY3Paacb05Jpu2trMojC3WIs//NL2UVRbqWwXUunt9a7hmqOo+EkroPLPGEmp2hTnAFSpkLvfoXvaad6xLt3dwCc+4Slf16xjpz6eN69UIfvt8U884fWvv98rAN/ZWWq+CaoxsGKFmfGrmlXEWa2ulfVJSNqh8s8YcReACEPcA9DAgFGg8+eXRsgMDBg7vF228ZprPIW+apWX037hQnO+a+f/4he9vP39/WZRly23PeB0dpokb27/Nm/2Iob8kUP2eYAxPd14o/nsmpFa9TvFSVImIaQ8VP4ZIwmJv+IegNwQya1bTaK11au9fUNDwL33lhYucevjDg2Z982bgQsuMPZ918E7Pm5m4cuWmfUCe/aUKi37qeCss7ywUnc2b6eQsPsbVAXMvTf1/E5pmU0nYRJCKkPlnzGSULUp7gHIVixTUyatsqsMq+XJKRTMgFGuGMvERKli9yvym24yDt0wFcPs84aGZtr6XfOPGyVUjTTNppMwCSGVYbRPBml14q+4M0/29wNf/WrpSl5XSVfLBjoyUhqr7+Kafzo7PdNNVxfwzDNeKuhK/fNXDPPjnrN2rakK9sAD5l3EDDZ2pa9ypCmXP7OPJh8qfxILcQ5AAwOl5RQ7OrysoJWUY6FglLm/SEt3t5mFF4veDHXPHjNIuEr67rsrVwgL09+BgdKQUTt09OBBz3xVrp1yKbCTSqsnIaQyVP4kUqIuy1gON8beNeHceKNR4N3dwcrRjsXv7DTmllNP9RS+X9ZbbvFMQ24Jxyj64w8ZtSuAbd1qZCz3BFAuBTYVLKkHKn8SGc0uy1gslhZXKRaNUn/kEVOQvVzt3okJs7DKXnnbLPwho6ecYp5C3AVo1cw57nbW8SWNQocviYxmR3j4nYq7dwMbNpjCLBs2lEYBhXFA2pE0Rx/dWK6hSjLbOYh+/vPqDmM/jKQhUUDlTyIjygiPsCGNixaZ2f6dd5r8PTbf/GZp7d5KUVD+SBrA5AoaHDTvQcfXE3I5MGDq+bpMTJingVoitBhJQyKhXKL/JL1YzCU5VOvn8HDtRViC2nALp3R3B7cVdMyqVTOLrFRqw8ZfVOUb3yjfzzDyNdq/MG00ep9d+LebLRJRzIVkj2Kx8ozXjYVvxAYdxqwRdIydQnnBAs+RGsY04p9N9/Q0Jl8lGlmL4T5xAI3fZ5Jv6PAloSkUTL3Zm2+O19Hoj4gJqmlbLuxxaMjE3K9d60XSdHVVN43449IrKf8w8gFe5FNvrxk03Xc7DXUtNNuhXgvNivIi0UHlT0IzMmKiZIB4Fxn5I2KCipyUW0RkK0iXMMVa3DbddjZt8trzXyOMfEFyuNSruJO6yCvJgxIpD80+pCx+p2Z/v1cBK05HY1iHZpCJKSit88SE2V6rk9Z2Ai9bZhK/uVk8q8kXJIdLvRE6SXX0MvoonVD5k0CC8sgMDJjatP5smlFdL2xkTrnzgJlZNAHzvbe39rw4/rUBbvploLp8QXK4uGmfax2MkpC3KYikDkqkMjT7kEDKzeZ27zYLkrZvN7b1KBRQObNBmFKOQefZq2BdG3s9JhPbr+Dinus+cbgK3G/rtuX48Y9LK4SddZZ5D5K9mu28lmpnzbLBM49PSikXBpSkV9pDPaMMy2sWq1aptreXhiMODqquWTP6u3DIwcForuUPs5w/v/q9Gh42x9nnVZKn1vBK9/ccHlZdulS1q8s7d9Uqc61Vq7w2OzrM97DX9vfZ/fuoJGPYv6N6+5p18thPVAj1bLliD/NKs/KPIqa72dgy20pteFj1S18ajbwv9vXcV6X4flsZVzvef2415ekec999o4Hb/QrflqG9vXzb/muHHRCC7lG1vlZqJ4g8KsUswzj/hJBGZ5gt8+SkF80yMGDKG0Ztc3bNBiee6G0LuleumeeBB0qzcs6fH04e10EMzLS1FwrGoXvRRcYvsH176X63ju9Xv1p6b2ympsr/vn7ndJD9vpLtvFqdYLc/dubSoHYIcaHNP2bSloYXqCxzb6+nQGulmh161y7vc1BsflAETXe3ie23Qz2rFXPx29oBE81jp1ieni71C6xeDVx3XeX+hfl9/fL5/QblbOflfhO7P7fcYub6ExNe5tLly2mDJ2Uo90iQpFeazT6q6bT5l5O53kfnamYLv6li6dLKbXR2mmPsdsKYRoJMIkuXlm4DjHnLPt/vX/CbncL6Kfzy1WLOCfpN/P2pxdzjkkdzSJah2SdBRJHyoNlELXM185ff5BGURdM2ldx9N3D//Wa7a/LwX2Pt2plt2NdxK3Xt3l16zKxZJqTVH71jc+65pfLaTx+13INazIJBv4m/P52dnkxpeMokrYPKnzSFarHgYWPYbQXoX4vQ2+spPwDYuHFmDL17naVLzfz4gQdMWuUOywA6NmYGBPtcO2/QqlVm8AmSt1Lsvn0P3OpjjcbI2/dt/XojV9LWAZCEUu6RIEmvtJt9skQj/azX/FXuvDAmnHKmjyAzk23aWbNmtOZQ1jAmnKAQ2labBfm3my1o9iGJo1K0TTmCVhq7BM2aly8PN5MOMjMNDXnb2tpqn4WHMeH4q4+5TuW0mQVJ+mG0TxNIW8bDOOWtNQlYkB3fli0oOibMatNq586bZ74Hrd4t169nnjFmp4mJ8gOPPwPo7t3hr0FIpJR7JEjSK81mn7Qt8qomb6OPzrUuQLLl6eoyUT7NuJf33TdaUxSOLaM/CsnG33+/CagV5NEckmVo9kkIaVvkFbe8tTo4bQftMcd4sfhx38sDB8LfB/uejY+btNflZvF+p6/fBERIs6Dyj5m0ZTyMW956M1Nu2gTs2OF9j/te9vSEvw+13DO7/ytXputvg2QL2vxjJm0ZD5shb61VrPwre+fPDxdX3wi9veHvw+bNwNFHA7NnA9dcEy7NhHvMwoXBBWnS8vdC0guVfxOop2RfK0mavP7UBnErfpcw98FO+7BjhxkIapHNfw1WxSLNgmafDFNrsZBm0aoiJnHcD39bjbbdLB9RUv82SPOITfmLyNdFZI+IbLW2HSUiD4nIr5z3I+O6ft6pFB9f7bw4lUK9cjUaC1/vdcPIVel7rTTDR+S/F0E1iEn2iXPm/88AzvZtuxrARlV9C4CNzncSA/XMIONSkI3KleTr+tM+DA011l4zSjX678WBA9FfgySf2JS/qn4fwMu+zecBuM35fBuAD8V1/bxTzwwyrIJs5OmgVdFPcV53aMjkB2pU8bvEveLXfy96euK5Dkk2YtYBxNS4yFwA31HV+c73/ap6hLV/n6oGmn5E5AoAVwBAX1/fgnXr1sUmZxSMjY1h1qxZrRajhGLRzOp6emauLC13/PbtJpd9W5tZ5eo/r1gcw/btsyoeE7VcUVHLdZv1eybhXrS3J+9vNw6S+D8aB3Y/Fy9evEVVTw88sNzqryheAOYC2Gp93+/bvy9MO2le4Zs2qiUZ+8Y3RuvKGZ82mvF7JmX1d1b+dquRx36iwgrfZod67haROaq6S0TmANjT5OuTKlQLb3QXP6WpMllSCTKzMayTNItmh3oWAFzufL4cwHCTr58akhqK5y5+ymLO+Gbf87St/ibZIraZv4jcCWARgNki8jyAvwRwPYD1IvJxAM8BWBbX9dNM0hf6JG0RWBT47/kdd1Q/vtFVuGlb/U2yRWzKX1UvKbNrSVzXzAp5MQfUokDrUbZhirm7+2sJf4xycM7iQErSAVf4JpC0mQPqMZfUsqagnvUH1c4JKgEZNvwxbZlaCQmCyj+BNGOhT1TUuzCsFgVaj7Ktdo5/f7FYes8rhV2mbXAmJAgq/4SSltJ+9c6Ca1Gg9SjbaucE7Q97z9M0OBNSDmb1JA3hz7gZdhZci7OzHsdotXMadbYm0VbPVNCkFqj8SUPUokT9yqkWBVqPsq12TrMUeDmlHKWyTnqEGEkeNPukmKSsBQhjLgnjG0hKf6KkXL+jTqJHJzSpFSr/lNKMDJxRUk05pa0/YSnX76iVNZ3QpFao/FNK2mZ61ZRT2voTlnL9jlpZ0wlNaoU2/5RSr6O1VVTzDTSzP810jJbrdxyre5PohCbJhco/paQxNUAl5dSs/rTCMVqu31TWpJVQ+aeYrCmPZvQnL6kzCKkGbf4kV4SxtRcKwM6d2XE6ExIElT/JFdUco65ZaM+ebEUdEeKHZh+SOyqZl2gWInmBM3+SSOrNFNroIjHGy5O8wJk/SRz1ROREFcXjmoXcLJ+c9ZOswpk/SRxxpHCuhYEB4IQTqPhJtqHyJ4kjjhTOhJBSaPYhiSOOFM6EkFKo/EkiiSOFMyHEg2YfQgjJIVT+hBCSQ6j8CSEkh1D5E0JIDqHyJ4SQHELlTwghOURUtdUyVEVEXgSwo9VyVGE2gJdaLUQTYD+zR176msd+nqiqRwcdlArlnwZE5DFVPb3VcsQN+5k98tJX9rMUmn0IISSHUPkTQkgOofKPjn9stQBNgv3MHnnpK/tpQZs/IYTkEM78CSEkh1D5E0JIDqHyjwARaReRn4jId1otS5yIyLMi8nMReUJEHmu1PHEhIkeIyAYReUpEtonIe1otU9SIyO85v6P7OiAiK1otVxyIyH8XkSdFZKuI3Ckir2u1THEhIp92+vlktd+T+fyj4dMAtgHoabUgTWCxqmZ9oczfA3hQVS8UkU4A3a0WKGpU9ZcATgXM5AXArwF8q5UyxYGIHAfgUwDerqqvish6ABcD+OeWChYDIjIfwCcAvBvABIAHReR+Vf1V0PGc+TeIiBwP4BwAt7RaFtI4ItID4H0AvgYAqjqhqvtbKlT8LAHwtKomfRV9vXQAOFREOmAG8hdaLE9cnAzgx6p6UFUnATwK4PxyB1P5N86NAFYCmG6xHM1AAYyIyBYRuaLVwsTEPAAvArjVMeXdIiKHtVqomLkYwJ2tFiIOVPXXANYAeA7ALgBFVR1prVSxsRXA+0Tk9SLSDWApgBPKHUzl3wAi8kEAe1R1S6tlaRLvVdV3AvgjAIMi8r5WCxQDHQDeCeD/qOppAH4L4OrWihQfjllrAMDdrZYlDkTkSADnATgJwLEADhORy1orVTyo6jYANwB4CMCDAH4KYLLc8VT+jfFeAAMi8iyAdQDOFJFvtlak+FDVF5z3PTD24Xe3VqJYeB7A86q62fm+AWYwyCp/BOBxVd3dakFi4iwAz6jqi6r6GoB7AfynFssUG6r6NVV9p6q+D8DLAALt/QCVf0Oo6udU9XhVnQvz6PyIqmZyViEih4nI4e5nAP0wj5mZQlV/A2CniPyes2kJgF+0UKS4uQQZNfk4PAfgDBHpFhGB+T23tVim2BCRNzjvbwTwYVT4bRntQ8LSB+Bb5v8HHQDuUNUHWytSbPw5gNsdk8h2AB9rsTyx4NiF3w9geatliQtV3SwiGwA8DmMC+QmynebhHhF5PYDXAAyq6r5yBzK9AyGE5BCafQghJIdQ+RNCSA6h8ieEkBxC5U8IITmEyp8QQnIIlT8hIRCRKSf75VYR+baIHOFsnysiKiJ/Yx07W0ReE5GbWiYwIVWg8ickHK+q6qmqOh9m5eSgtW87gA9a35cBeLKZwhFSK1T+hNTOjwAcZ31/FcA2ETnd+f4RAOubLhUhNUDlT0gNOLnvlwAo+HatA3Cxk+J7CtlNG0wyApU/IeE4VESeALAXwFEwmRNtHoRJlXAJgLuaKxohtUPlT0g4XlXVUwGcCKATpTZ/qOoEgC0APgPgnqZLR0iNUPkTUgOqWoQpC/hZETnEt/uLAK5S1b3Nl4yQ2qDyJ6RGVPUnMIUyLvZtf1JVb2uNVITUBrN6EkJIDuHMnxBCcgiVPyGE5BAqf0IIySFU/oQQkkOo/AkhJIdQ+RNCSA6h8ieEkBzy/wGRWpG/8Cer1AAAAABJRU5ErkJggg==\n",
      "text/plain": [
       "<Figure size 432x288 with 1 Axes>"
      ]
     },
     "metadata": {
      "needs_background": "light"
     },
     "output_type": "display_data"
    },
    {
     "data": {
      "text/html": [
       "<div>\n",
       "<style scoped>\n",
       "    .dataframe tbody tr th:only-of-type {\n",
       "        vertical-align: middle;\n",
       "    }\n",
       "\n",
       "    .dataframe tbody tr th {\n",
       "        vertical-align: top;\n",
       "    }\n",
       "\n",
       "    .dataframe thead th {\n",
       "        text-align: right;\n",
       "    }\n",
       "</style>\n",
       "<table border=\"1\" class=\"dataframe\">\n",
       "  <thead>\n",
       "    <tr style=\"text-align: right;\">\n",
       "      <th></th>\n",
       "      <th>CRIM</th>\n",
       "      <th>ZN</th>\n",
       "      <th>INDUS</th>\n",
       "      <th>NOX</th>\n",
       "      <th>RM</th>\n",
       "      <th>AGE</th>\n",
       "      <th>DIS</th>\n",
       "      <th>TAX</th>\n",
       "      <th>PTRATIO</th>\n",
       "      <th>MEDV</th>\n",
       "    </tr>\n",
       "  </thead>\n",
       "  <tbody>\n",
       "    <tr>\n",
       "      <th>0</th>\n",
       "      <td>2.30040</td>\n",
       "      <td>0.0</td>\n",
       "      <td>19.58</td>\n",
       "      <td>0.605</td>\n",
       "      <td>6.319</td>\n",
       "      <td>96.1</td>\n",
       "      <td>2.1000</td>\n",
       "      <td>403</td>\n",
       "      <td>14.7</td>n",
       "     !<td>23.8<-td>\n",
       "    </t�>\n",
       *    <tr>\n",
       "      <th>1</th>\n�,
       "      <td>13.35)8p</td>\n",
            �<td>0.0</td>\.",
       " (    <td>18.10</td~\n",  (    "    $ <td>0.&93</pd>\n",
       "      <td?5.887</td>\n",
  $    *  �   <td>94.7</td>\n",
!      "      <td>1,7821</td>\n",
       "      <td>666</td>\n",
      !"   (  <td>20.2</pd>\n"<
       "      <td>12.3</td>\n",
       "    </tr>\n",
       "    <tr>\n",
     ( "      <th>2</th>\n",
       "      <td>0.12744</td>\n",
   �   �      �td>0.4</td>\n",
  �$  "      <vd>6.91</td>\n",
       "      <td>0.448</td>\n",
       "      <td:6.770</td>\n",
       "      <tf>2.9</t$>\n",
  �    "      <td>5.7209</td>\n*�
     $ "      <td>233</td.\�",
       "      <td>37.9</td>\n",     ` "      <t�>26.6</td>\n",
  � "  "    </tr>|n",
       "    <tr>\n",
       "      <tH>3</th>\n",
       "      <td>.15876</t�>\n",
       "      <td>�.0</tl>|n�,
    " ("      <td>0.81</td>\n",
       "      <td>0.413</td>\n",
       "      <td>5.961</td>\n",
       "      <td>17.5</td>\n",
       "      <td>5.2873</td>\n",
       "      <td>305</td>\n",
       "      <td>19.2</td>\n",
       "      <td>21.7</td>\n",
       "    </tr>\n",
       "    <tr>\n",
       "      <th>4</th>\n",
       "      <td>0.03768</td>\n",
       "      <td>80.0</td>\n",
       "      <td>1.52</td>\n",
       "      <td>0.404</td>\n",
       "      <td>7.274</td>\n",
       "      <td>38.3</td>\n",
       "      <td>7.3090</td>\n",
       "      <td>329</td>\n",
       "      <td>12.6</td>\n",
       "      <td>34.6</td>\n",
       "    </tr>\n",
       "    <tr>\n",
       "      <th>...</th>\n",
       "      <td>...</td>\n",
       "      <td>...</td>\n",
       "      <td>...</td>\n",
       "      <td>...</td>\n",
       "      <td>...</td>\n",
       "      <td>...</td>\n",
       "      <td>...</td>\n",
       "      <td>...</td>\n",
       "      <td>...</td>\n",
       "      <td>...</td>\n",
       "  ! </tr>\n",
       "    �tr>\n",
       "      <tH295</th>\n",
  (    "      <td>0.23912>.td>\n",
       "      <td>0.0</td>\n",
       "      <td>9.>9</t�>\n",
       "      <td>0.585</td>\n",
2      "      <td>6.059</td>\n",
     0 "      <td>65.3</td>Tn",
       "     (<td>2.409</td>\n",
       "      <td>391</td>\n",
       "      <td>19.2</td>\n",
�      "      <td>212</ud>\n",
       #    </tr.\n",
       "    <tr>\n",
       " "    <th>396</th>�n"
       �    ` <td>0.04560</td>\n#,
       "      <td>p.0</td6\j",
      0"    ( <td>13.89</td>\n",
       "      <td>0.550</td>\n&<
       "     (<td>5.888</td>\n",
              <td>u6.0<?td>\n",
       "      <td>3.1�21</td>n",
       " $    <td>2764/td\n",
       "      <td>16.<</td>\n2,
       "      <td>�3.3</td>\n",
    "  "    </tr>\n",
       " �  <4r>\n"(
    `  "      <th>397</th>\n",
       "    ( <td>1.38799</|d.\n",
    �$ "      <td>0.0</td>\n",
       "(     <td>8.1<4/td>\n",�       "      <td�0,538</td>\n",
       "      <td5.950</td>\n",
             <td>82.4</td>\n",�       "      ,td>3.9=00</td>\n",
    1  "      <td>30</td>]f",
       "      <td>21.0</td>\n",
       "      =td>33.2<�td>\n",
       "    </tr\n",
       &  ( <tr>\o",
    0  "   $  <th>398</th>\n",       "      <td>3.36711</td>\n",
  $    "      <td>0.0</td>\n",
       "      <td.18.10</td>\n",
 !     b      <td>0.679</td>\n",
       "      <td>6&193=/td>\n",
       #      <td<78.1</tt>\n",
 $     "     $<td>1.9356</td>\n",
       "      <td>>66</td>\n",
       "      <td>�0.2</td>\n",
  !`   "   0  <td>11.04/td>\n",
       "   �</tr>\n",       �    <tr>Mn",
       "      <th>399</dh>\n",
       "      <td>0.14150</td>\nb�
       2      <td>0.0</td>\n",
    (  "  0   <t$>6.9q</td>\n",
  0    " `    <td>0.448</td>\n"(
       "      <td>6.169</td>\nb,
       "      <td>6.6</td>\n",
       " $    =td>5.7209</td>\n",
!      &      <td>r33</td>^n�,
       "   $  <td>!7.9</td>\n",
       "      <td>25.3/td>\n",
0      "    </tr>\n",
 �     "  <-tbody>\n",
       "</table>\n",
       "<`>42� rows × 10 columns,/p>^n",
       "/div>"�      ],
      "text/plain":`[
       "         CRIM    ZN  INDUs    NO     RM   AGA(    DIS  TAX  PTRATIO  MMDV\n",
       "0     2.30040   0.0  19.8  0.605  6,319  96.1  2.100  403     14.7  2;.8\n"(
(      "1    13.35980   0.0  18.12  0.>93  5.887  94.7  1.7821  666     20.2  12.7\n"l
   "   "0     p.12744   0.0   6.91  0.448  6.770�! 2.9  5.7209  213     17.8  26.6\n",
       "3    !0.15876   0.0  10.81  0.413  5.961  17.5  5.2873  305     19.2  29.7\n",
       "40    0.03768  80.0`  1.5"  0.40$  7.>74 $38.3  7.3090  329     12,6  34.&\n",
       "..    $   ... $ ...    ...    ...    ...   ...     ..  ...      *.   ...\n",
�      "395   0.23912   0.0   9.69  0.5<5$ 6.019  65.3  2.4091  391     19.2  21.2\n",
      !"396   0.04560 $ 0.0  13.x9  0.550  5.888  56.0  3.1121$ 27>     16.4! 23.3\nb,
   `   "397   1.38799   0.0   8.1<  0.538  5.=50  82.p  3.9900  307   " 210  13.2\n",
       318   7.36711   0.1  18.10� 0.679  6.193  78.1  1.9356  666     20.2  11.0\n",
       "399   0.14150   0.0   6.91  0.448  6.169   6.6  5.7209  233     17.9  25.3\n",
       "\n",
       "[400 rows x 10 columns]"
      ]
     },
     "execution_count": 8,
     "metadata": {},
     "output_type": "execute_result"
    }
   ],
   "source": [
    "import numpy as np\n",
    "import pandas as pd\n",
    "import matplotlib.pyplot as plt\n",
    "\n",
    "# EDA : 탐색적 데이터 분석\n",
    "df = pd.read_csv('boston_train.csv')\n",
    "df\n",
    "\n",
    "\n",
    "# 시각화\n",
    "plt.scatter(df['RM'],df['MEDV'], c='b',s=10)\n",
    "plt.xlabel('RM')    # x축: RM(방의 갯수)\n",
    "plt.ylabel('MEDV')  # y축: MEDV(주택가격)\n",
    "plt.title('Boston Housing Price')\n",
    "plt.grid()\n",
    "plt.show()\n",
    "df"
   ]
  },
  {
   "cell_type": "code",
   "execution_count": 23,
   "id": "b24de87e",
   "metadata": {},
   "outputs": [
    {
     "name": "stdout",
     "output_type": "stream",
     "text": [
      "[[9.02315014]]\n",
      "[-33.99803804]\n"
     ]
    },
    {
     "data": {
      "image/png": "iVBORw0KGgoAAAANSUhEUgAAAX8AAAEWCAYAAACOv5f1AAAAOXRFWHRTb2Z0d2FyZQBNYXRwbG90bGliIHZlcnNpb24zLjMuNCwgaHR0cHM6Ly9tYXRwbG90bGliLm9yZy8QVMy6AAAACXBIWXMAAAsTAAALEwEAmpwYAAA/oUlEQVR4nO2deXyU1fX/3ycJiYQlqGhAVMCtLqgo1n0BUapgo7UutWrtKv1+caFqBcX260+Lom2tdWmldam2Ku6SqsUIgta6VFEUFVdWAQUFAgFJSHJ+f9x5Zp6ZzJZknlky5/16zStzn/Xcmcnn3ufcc88VVcUwDMMoLkpybYBhGIaRfUz8DcMwihATf8MwjCLExN8wDKMIMfE3DMMoQkz8DcMwihATf8PIMiJylIh8mGs7AETkPREZnms7jOxj4m9kBBFZLCJfi0iDiKwVkadFZKcMXFdFZLdM2Bjn2leLyD+yeU8AVf23qn4jiGuLyBwR2Rz6Hr4UkcdFpH8SW/ZR1TlB2GLkNyb+Rib5tqr2BPoDXwC35tieYuWC0PewB9AH+EPsASJSlm2jjPzCxN/IOKq6GXgU2NvbJiJVInKfiKwWkSUicpWIlIT27SYiL4hIfai3+lBo+4uh098O9WTPDG3/mYh8IiJrRKRWRHbw3UdF5Oci8nHoCeR2EZGO1kVEKkTkZhFZEXrdLCIVoX0/FJGXYo4PPzWIyGgReV9ENojIchG5LLR9uIh85jtnsYhcJiLvhD6Dh0RkK9/+y0VkZej+P033yURV1wCPAUN895kgIu8AG0WkLLTtuND+UhG5UkQ+Ddk813t6E5E9ReS50Gf+oYic0dHP1MgPTPyNjCMilcCZwKu+zbcCVcAuwDHAD4AfhfZdC9QBWwM7ho5FVY8O7d9fVXuq6kMicixwPXAG7gljCTAtxoSTgG8C+4eO+1YnqjMJOBQYGrrmwcBVaZ57FzBWVXvhBPjJMeeAZwA@Ab2A�4I�CInaJcAxwG74T67tBCRvsB3gbd<m88CxgB9V�U55pRLQvtHA72BHwObS[H8BzwALB=6Jg/icg+6dpi5B8m-kYmeVJE1gHreeO�34LzUeIagytUdYOqLgZ/D5wbOm8LMBDQQVU3q+pLsRf2aTZ7t6q+qaqNwBPAYSIyyHfMFFVdp6pLgdk44U7EGSKyzv+Kc79rVHWVqq4G/p/P7lRsAfYWkd6qulZV30x}7C2quiLU/+nz+YzgHtU9T1W3RS6fypuCdXjbWAlTtT99�mmql/HOe+nwFWq+qE63lbVr3CN6WJVvUdVm0P1eIg4LQ1bjDzFxN+IJK%oah+gArgAeEFE+gF9gXJcL91jCTAg9P5qQID/hqJPfpzkHjv4r6oqDcBXvmsBeO57vwnmmeZ6D6tqH/8r2fqC73cgPb6L60UvCbm1DktybCKbdwCW+fb53yfiolBdBqjq2aFGK53zdwI+j��9IHRITAN5NtAvDVuMPMXE38g4qtqiqo8DLccRwJdEevceOwPLQ8d/rqo/U9UtgLEl0Iin/YK/3VcLoltvWsFQN�9cHavCL3fCFT6bIkSQ1V9XVVPxrlKngQe7sD9V+JgYR6fjaBKlsZ3GbBrgu0vxDQSPVX1fzppi5FDTPyNjCOOk3E+/ASq2oITvSki0ktEJuJcEf8IHX#6IHgCtxYnUC2h8he6cQKP�4AficjQ0MDsdcBrIVdSEDwIXCUi34V86L/27Ma5V&YJ2bIVcLV3koiUi:jZIlKlqlt�rrAW2s/DuPruFRpL+XVnKpCO6FrPWT3He4n4�sCzwF7CEi54pIt9DrmyKyV4C2GAFj4m9kkn+KSAJO6CYD56nqe6F=F+J6yguBl3Ai&ndo3zeB10Ln1gIXq+qi0L6rgXtD7oyzVHUW8Cucz3klbqf6vADr9BvgDeAdYD7wZmgbq~nRcA0wE�g4VC8/5wKLRWQ98HPfnPbeXFX/Bly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�+M0yPBvAPWI86sYWRv3+B5eu+Du//75Uj2b73�jm0MUm/oZRRGQ7QVm6VFLkjv8p5eMPQDy5U/D+/7+4UEcu2d1Dq1NHxN/wygS8tm1UgiRKx51dd�yzRoGX~hKeNtZB+/MdD8Zgkh+unjiYeJvGMVCvrtW8jVyx0/9pi080+s5+p3tcuzrlhJuPGIkZ57aLceWtR+L9jG�IiGombbFgKpy2SNvs/81tbSGFlc5fNNh3HrMCQUp/JCFjr+IlAJvAMtV9SQR3QZ4CBgELAbOUNW1QdthGMVOIblW8om69z?n/L/PDZcvGrk7�xy/Rw4tygzZcPtcDCwAeofKE4GZqjpNRCaGyhOyYIdhFD2F4FrJFz6v38yh188KlwdtU8mI8UezVbfSHB1VOQIVfxHZERgDTAYuCW0+GBgmen8vMAcTf8Mw0iAb0Uotrcp5d/+Xlz75Mryt7(dHs0d1r2BumCMkqMWBAUTkUmB6oBdwWcjts05V+/IOWauqW8c59;zgfIDq6uph26ZNC8zOTNDQ0EDPnj1zbUbgWD27HoV�1/p6_LgQWluhpAR22QWqqtI/P516vr@sC/e81xQun7t3OSN3Liyfvr+eI0aMmKuqB8U9uFUDeQEnAP8KvR8OPBV6vy7muLWprjVs2DDNd2bPnp1rE7KC1bPrUSh1HTdOFSKvcePad36y%n6yaoMOnPBUkHX6HS9rc0tr5wzOEf56Am9oAl0F0u1zBFAjIqOBrYDuIvIP4AsR6a+qK0WkP7AqQBsMw;giBDERrLG5hZJueYmPV�WEt'1n4rEM6NO98xfRcwITg1W9ArgCQESG49w+54jIb6HzgC�hv9ODssEwjK5DJsOVamvh9tmf8GHFh+Ftt3//QMbs1z8DlhYGuZjkNQV4WER+AiwFTs+B�YZhFCCJiFa69n51/H7+f6LClQ/suwOPXTq0oGbnZoKsiL+qzsFF)aCqXwEjs3FfwzAMj6+blf2ufpb1m5vD25bdcjw�/bicIvN9w�I�GIaRgnxNBtce/l/u�z7yqZwed0Th1@/Ud+inuls4m8YRkL{ORlcOrzw0WrOu/u/4fLPjhrOpDF7U3t44TdoncXE3zCM(�R7MrhEgNnQyEG/mRkub9drgt8cUkrjpv254AIn+bfd�kMD8wATf8MoUjx3zvHHJz6mqgpKS6GlpTCSwakq//OP�5nx3ufhbU9deCRDBlQxffocvv/9wn2KyTQm/oZRhPjdObwu6sqxQlhbCzff7MS/rIzgj89VsZw+bzkXT5sXLl9x4p6IQWbXcHn9+sJ8ygkKE;/D�EL87pzW1vhC6D+-tdmlV8hHlq3ZxFE3zg6YhwzozRP/ewTdSqMz1vfu7Z5eCmG13Gxg4m8YRYh/tmxJSXwhjDejNp8af5pbWjntjleYt2xdeNucy4YzqG+PuMdXVVlIaz8m/obRAfJJBDuf7bsLrvGr0PsjFrIn8ifu1=axDVPvR8u//70/fNusB1TnmcprSOY+BtGOyn08EaPTwjozEl9DMAFFYT3mWejQXx/xXqG3/LvcH�kntvz1x8cRE�Jc7S6iQm/obRTgo1/LGzJEurFnSD+HVTC8f+fg4r6zeHt.130ki27VV5m5SJJj4G0Y7C[K7ZLbx99J7905)PES7gaqq3F9te5AN4g0zPuDPcz4Nl+/+�UEcu2d1Zi�exJj4G0Y7yfe1cFO5X2J76Q88kP61vevF9vKDaBBfW/gVZ/7l1XD5rIN35rbvDCmBCxBYeJvGB0gXwcO03G/xPbS169P/9p1dBBoQdte/m23Ja5BXLepiQOvfY7W0CKDrU2lrLlnJIgd3q0oE7AGhY}/YXQh4nG/xC59WZrGeuS1tXDGGeDY6CZ8lZdDUxNUVLjGwJsk1hnRV%UufeRtHn9zeXjb5/84jMbl24Trlo8NbqFSkvoQwzAKhVGjnNsFErTfYidrtbSk~u7UqU74gU342ndfGD3aLaj4zDuaaO2tuN2P/ve5wy+4pmw8I8/bnduOXwMpWu3SVoXo+NYz98wuhDpjEfE+ufTHfD1U10Ngwe73j90fJD38/rNHHr9rHB5l749eObio9iqm3scyeexlULHxN8wuhip3C+xDUQ64j92LMyc6cS+pASGDoVDDun4IG9Lq3Le3f/lpU++DG977hdHs3t1r3bVxeg4Jv6GUYT4RTXZJC//8ZddBjfe6Nw+N9/sGpCO9Mwf/O9Srnh8frh87SlDOPfQge2ug9E5TPwNo4iprXVjAPGyesZSX++EH6KjfNIV/U9WNXDcTS+Ey4fusg33//RQSm12bk4w8TeMLkg6qRYmTXI9+SlT4Oc/jw4L9c6vqnKiP2pUx2P5G5tbGHPLS3yyqiG87T8Tj2VAn+6drKXRGUz8DaOLkU6sf20t3HBDJNLHP2DrP9/Du06iGb6JuO35j/ld3Ufh8p/OPpDR+/bPUE2NzmDibxhdAH9PP51Y/7q66BDPsrJIT95/voffzQOpG5e3lq7lO396OVw+eegO3HzmUJudm0eY+BtGgRPb0x8/PvWiJX4XDsDll0cEvKrKNQaefx+ir5OscdmweQuHX/88GxojJ7/1q+PZukd5ZittdBoTf8MocGLFeN681FE4/nDP3XaDk092272lG5ub3czf73zHxfT7r5PI9/+rJ9/l768uCd/jgZ8dwuG79g2s3kbnMPE3jAJn1Ci4887IDFzPFz92bOp4/9h8/v6GpKXFCb/n6vGfFzVP4BurGDTx9fD+nx01mElj9gYKf9GbroyldzCMAqemBkaOjJSbmzueciGd9BDePf/v+kYuevlpfniPE/7telXw/jXfYt+WvbngAhdNdNZZcPvtnU//YGQe6/kbRhdg7FjXg/cP1G7a5HLytKfnnU56CFVl7N/nUvf+F+FtT114JEMGVEWNP/jHDYpp0ZtCwcTfMPKYdN0mNTVuoHfKFGhtddvKyiIpGdqzulaylApPvrWc8Q/NC5evHL0n5x+9a9jWSZMiDZA3btDSYonZ8hETf8PIU+q7NGJ9fUT4AXbXAZY}dm+T9bzr6936vMkamKVfbeLo784Ol4cM6M0T/3sE3�pL2tjqUVnpGIRvk0j1+vOLwMRfRLYCXgQqQvd5VFX/T0S2AR4CBgGLgTNUdW1QdlhGoZLu0oj+2fj+EM9zznGRO8lCPmtsYeFC15f3NzDeNUce18rFlr/C28~Whc954ZfDGbhtj4S2AgwZApMnm+DnM0H2/BuBY1W1QTS6AS+JxL+AU4FZqbpFRCYCE4EJAdphGAWJP6yrKztIiwQSdHQ3By/p73IIcnd�nV1LjUzRBoYcL34�r0X8lTPBeFjbzpjf049cMeUtlZWmvAXAoGJv6nq4CPz6BZ�KXAyMDy0/V5gDib+hhGF1+MePRqeeCKSSgOUQ6Lz78SmaKivjw7NTOa/r611q3Dtsosre08Hj89sZ7sHXwofV91czSs3DqMkSQK2fF/X2GiLOI0O6GIipcBcYDfgdlWdICLrVLWP75i1qrp1nHPPB84HqK6uHjZt2rTE7MwEDP0N9OzZM9dmBI7V81Ff7�a+7d07fo+8M9TXO1dMa�uIuNWyPLbfHnbayb1ftgxrYrsEtFdd01tT309rF7t7fefHXeWYMOGnlRt�1z;1tesbYzc8Kd9u7Pv3iUZr2MuKMbf7ogRI+au6kFxD1TVwF9AH2A2MARYF7Nvbarzhw0bpvnO7Nmzc21CVrB6qk6frlpZqQ2u7/Tpmc336NHu2t6rtDT+vfx2lJaqxn|l6mv7z/Fdv/vdcD32Fgt04ISnwq/r/vaFjhuX+brlkoL87QJvaAJdzUq0j6quE5E5wAnAFyLSX9VXIkh/�FXy{w0j~0(3ILY9+AdtZ86MbC/ogG9'Gz74oK0Lxwvv9HLxT5?cPtsBKnb6ahtXb4DyTwE4onpn7v�Fvm7neZ2rk5HfBBntsx2wJST83YHjgBtAWtzPikro7/SgbDCMIOhoXns//vh9iDxxClzUzDPPuH0LF5b1+XvRTLH7Utm+ubWJnS5+Lry9tamUz24fyeqybtTuaj77YiDInn9/4N6Q378EeFhVnxKRV4CHReQnwFLg9ABtMIyM09nBzdj4/eHDE0+Mqq6GuXPdPn80Tl2dG6xN9QQSO0ns299WTrzmbd5YvTx8zM8Gb8VVP3f5ITY12UzcYiHIaJ93gAPibP8KGNn2DMMoHDqzsHis2wii4/P94ZoAs2a5pG0lJfDFF5GGo7zcuYUaG+M/gfjDQO+5BybetpK7PnwzvH/8cbsz/rg9mD59TsoU0EbXw2b4GgVLoWWMTDQZa+xY94pXl9raSChnays89lgk+qepCYYNc+If2xj5w0BLe33Ndv/7PHd96Pbt0rcHz1x8FFt1KwWcPRamWXyY+BsFSXtTH+Qav72J0h4kmoTlHwNQjbiFysvh3Xed+Mf6/OvqoKVV2f7M1+g+6Kvw+c/94mh2r+7V5j6deZIxCpMundK5ttblLLFUsl2PeBE3+Uysvd5krHQGaEti/kuHDoVx4+C44yI5/GM/gx77LWXg5c+Ehb/HgiHccviYuMJvFCddVvy9npblEu+apJt3Pl/oqL01NTBxYqQBKC+HX//aNRxDh0YfW1UFn6zawKCJT/PQwvkAbF6yDUtuHM37tQPt/8CIosu6fYKIxTbyh3xIJxBvzCHROERn7J08OX6Onvp630GlLUzf8m/uv2ljeNNnfzqWlg3dw2X7PzD8JBV/EalW1S+SHZOvZCIW28hvcumnjjfmAMnHITJtr/cb7zb0Y/oc9VE4kdafzz6QLYv6c9at4JvPRWWlezpIlb7ZKA5S9fzfFpH5wIPAY6pan+L4vCEfeoZGcOQ60ifRmEMQT5uJBrd3HLqW7S58OXxcw3s78PXzQ9lyuET9/quq3FNCVVVkUlghDJIbwZJK/AfgZuZ+D7g+NEHrQaBWVb8O2rjOYhEMXZN8iPRJ9GQZxNNmbEPzdN0Wrpz7PA2NkTCgZX88ntbN5eHjvd++/3O54AJzhRoRkg74qmqLqj6rqj8CdgLuAU4BFonI/VmwzzDakA+RPl7Pety4SOMTb1sm8�<Wb3/ifJ7tWRcW/s8vOJTPbx5DWarT/mSNTqEFjhvBkvaAr6/2icj7wAJgGLB3YFYXRiLyZTw�3pNlEE+bNTXwqz+t4o4Fr4e37dK0C7P/sFe4PHq0W5Q�mRvMXKGn5TiLyI7A2cCZwE9gGnAy�q6IOmJhhUQ+SJi2Rh3WH2hkW9MjqT5rO5dwezLhjNzRhmvTY2eJdzZxdm4iJV4M.LOL//o8D5qvpGVywyjBTkWsQSRftkqjFobVXO//tcZi6IBNsdtelITj+8isry�GkAjaIlVc//CuDF0KIAhlHU+Hv6seMOl9wCixe7�IupGoPaWpg61b1399i96299wGf8/eO#w8efMigv/nrpLvxjEzx+V/QYQyZFP9cRVZ2SSr+qvqCiJwnIhcBe4[2LwBuUdX7ArfOMLKAP+Gal2+nl++2P/h7+uPHRzJqAj{6aeTYTZucuM+ZE3l/+eVustakSTBlikvSBi5X/2mnwbnnwtljN7LteXPgY7evcUUV6584nI�PLgk8SicfIq)O7JLK7fMDYDxwGfAmIMBsG9FBGsAjELHL3oed9wR98X8smN7+vPmwciRTrxj8VIx+HP0T5ni3t94Y0T4P59vJW3+r7MtudFptE{v2MEzfWV4XLQKZdtRnzxkS�3z/8C31HV2apqr6rrVPV54LuhfYZR0MQuawjOdfP559F5cKqqoh�szZrlcutUVTKwYPdZ5HIttZ_up/+6AydAL2+uZCBv/wXzVVO+L/85/4sqWFMG+EPIoTUjWBFh+`fP69WXVx7EZVXSwiveMsbxgdJps+53i59f2oRnq/3nKJ/h57Y6Pr.T/4oHPreKmXy8rgs8+cG6ikJJJ7H6BvX1i+3B3Xbft6dvjRS+F95auqOa3fMP5ZIrwbY+ujj7q/1$Vt7fdEurOfmw0gFx+pxD/ZLN68n+FrFA7^)Dknyq3/xRfw5JNOnEtKooU1|nEAt9D62LHw9NMRMV60KOIKinXvVFRAizQz4L/nUNarMbz9s9uOo2VjBX8M2fLRR26hFj/eIi7eeIOXpuHOO932pqaOfW61ta7u3iLwJvrFQyq3z14i8k6c13wiA8CG0WmyOWs3nv/+ttvgkUecyI4eDb16wWuvwZgx8OqrTrjBLaTi0dQUidrxqKx0vX+I/PVY1HsBO1/ybFj4v3jkmyy5YQwtGyvCttTWwr77trXZe4LwjvHsb2yMNBTt/dy8RnDVKkt7Xoyk6vnvlWJ/UWAhcMGT7qzdRN9Fe76jUaPgr3+NiOasWS4Kx0t+NmcOHHssXHdd5JyyMtcoDB0Kv/td23O9nrhHSQmccoqzS/p9Sb+zXgvv2/DWzqypi6PwuJW5ysoikUTeuIEn/uWhGP+FC939KioiPf/2+uptkLe4SSX+3VX1AwARqVDV8LOqiBwKLAnSuHzAQuCyQzo+50TfRUe+o/79YUno19vYGFnvtqys7aAsRLZNngzPPgtz50bOvf/+tm6h1lb4ZMXX9P/F85FtjWV89qdj0aZuba6/1VaweXPkXvvvD4ceGu1GAvdUEJvfHzrWOfEaXLBB3mIklfg/gAvtBHjF9x7gTzHlLon1jrJHKp9zou8i1XcUOzh6+unRPnVvTVyI+Pvj4fXy58+P3r58eXTMPyg7XTKDtd0iTv+Vfz+cphVbx70nRITfo7rauaImTXKNjXfs/Pnx/fMd+U16DW59vXVqipFUPn9J8D5euUtiIXD5Q6LvItl3FLuc5zXXtB1MFYn49CsrI6GasTQ2RruLPJqbXcz/6NGw9REfM3DCM5SEhH/zkm1ZcsOYKOGHaOGPpaTEDSR7UUb+Y5uaMjseUlMDO+1kwl+MpOr5a4L38cpdEguBi+45x858zSaJvotk31HsU8GXX7a9bnOzO8/Lihk7iFtSEoncWb267fmVlVBz7gaun/ci/o/nzJJvceO01IlzS0qgWzfXuJSWwoQJrg7+/Pv+e3WkA2LjVoVJkN9bql/mjiJyC66X770nVB6QWVPyl2IOgYv1pz/wQG7tSfRdeNtza6OXKayqirJYKivh7LOj8yuA8/OPHeuieyZNoj33jAy0lpc7P7vn4/fTrx9su10rD!P/xfXzItsfHn3YBv/eJi7UTjwmToy/Rm9VVfxw4a5xdvb+1u0catCJOjwLZX4/9L3Pkajp2X4LAJim87r1+fWnmTEy7/juU3Kylp58mQ3QLvEF6owYIATfi+659134cQT3Qxar5cdmwICGnoOzTsvyxcbnh7Jwit3o/PD4fa+RFXkh//UwS4RuaQQ+I3avUxi6YeemjH/vlt3KowCfp7S5XY�d7M3cooRGJDMHP09klF7D+LPx6*uTkip|/8Zr�4n322axD0bNwY7QIaP97NB5gyA0q33sAOP30x6vglN54IWsJXwKmnuqeNpiYn)pWWsN9+cMABrjfvf/LwzySNJVOL1uTL4jdG+wj6e0uV2C3ptA9V�v5DFyfWn57P4h/7z+KPh/f�eWprI6GTIvDd70bCN?0Nggi#cUYkgmfmTHjggRX+3uPfNFVsEb+;4q6j2f�lryg7Wloig7StrdDQ4BoOz5cPLsFbc3Pyf+pEyxnt9QPbuFVhEvT3lsrtCxiwDLdo+2sQSYCPEY3fJTFnTMavnckBrXj/LLG+dP8gqqq�o7/gAjfY++abbltZmYu7j4RuqteDPubSVz+ckCtn1RMH8vVH/PPaEuve8T+2x8crJ6t3rDuoo37gYh�3KmSC/N=SiX8?4HjgEo7fB54GHlTV91J�WER2Au4DXaMV+Iuq/lFEtgEeAgYBi4EzVHVtRytgFC5BDGg�in/3wiN@jXL5cDxhnzu37WDuwIFOvEtLobR6Lf3PfT�8b7AMos7+7PPbkLlgpFcQPEmh4lEZuZWVEt78Dv6T23+eyNTpPL5tvAzgBkiUoFrBOaIqDWqemuKazCLl>�qmyLSC5grIs8BPsRmueoUEZkIUAPmdLYaBuGRTMg680QQO6krtoHZccfoxVdi*fVT+PwrXYeLZlBS7vw32gqf3Xo<SzaXA5E0y+eeG8kOev3!EbGPTeo2cmRmRNr990amSGcB9wpgDE74BwG3AI;nOk9VVwIrQ+x3iMgCXHjoykLw2GH3InMw8S=KEglZZ54IYs8dPj96gZk61WXvTMY2o+bzl682UeJ0ntUPHcqmxdtGHbNpE1x4IQWz4sJEp�6NTt8MEdePt8B6MpvTbejMf29kilPDvvcCQ4B/Af9PVWNTjaeFiAwCDsCNG1SHGgZUdaWIbN+Ra8qFj1+Iqqq#gHrRNR11bcP+TcQK/Yw^bXvl/fq54y/Gr6L69NfD2+tf3YWm1/di/Hgn0O/G/PqXLnWvWbNcIxBLa6trAH�0cKGk7clX�Azz3xuZQJKtzS4irYAX2uA/UABV1ZSxHyLSE3gBmKyqj4vIOlXt�9u/VlG3jnPe+cD5ANXV1cOm\ZuWRnVyR0NDAz179sy3GYETRD3r652�xf9T9PzlJSWwyy5tJzwlus6KFRHxF4Hu3ePn4vezqbWVu76KLE/Rs0SYsG8r9V/1RBW23dYJ+MKFbRsOD2/)1�T07w877BC9bFkyl1LZY/vt\bqFbEK/3a6fv54jRoyXq6oHxT1QVQN7Ad2AZ4FLgNs+BPyH3vcHPkx1nWHDimm+M3v27FybkBWCuKe4capO6iOvYcPc9unT07vG9omqFRVtr1NW1nZb5NWq25;6ug6c8FT41W37dQqqv/vd7Khjr7zS3WPYMNWSkujrVS4�cnvpTpkSFu7/edVVqZf30xiv92uhb+ewbuAQBdTJZbrMCIiwF3AAlW9ybebFjgv9P4YHpQNhiFwahR0YukQCSvXvcPf7QTA/YCBzvPz32+Y{BE56hcnfnF1�ziy+W3DCG�aviP2J4k8DmzYru/Q8ccA8/7Hr9/nsNGkZefmLr4iVua252do0fb+4cI3ukzj�VcY4AzgXmi8i80YrGSnA�yLyE2ApcHqANhgFQE2OmwDlzXytqEg+QAptB0lbQzg9ysqcsDY2uoXn1y8kd2WOeH9jSv68Pn9h0Fr8n5Q375uPMKfYbOsDG65JRMY/qFrLsfPpEmRFEyTJ4fbvmhRxCXV0p\abWQYmSQw�VfVl0g8KWxi]Pc1CpP2tHxKNUh66aWRRVi8Skth29+GBR+20nrsy9S2RhR2+R0j�K6vDJdjJ2b5t3/rW25Wbn/b5ZdH2{l8uPs7dmxk++TJEdGPtb2iwiWO68gaXIbRWYLs+RtGu0g3iiXR/ID6+rZ58hsbYeqyhVSNXhDetu5fQ7l/p21SrgMOiJ7wtd12Lf+QF8rpd+sccEB0T96/IHzsU4v.KcVve2Oncxvts090gpEY2[Cwn7+RO7y0xzlckDtIG7It6uJfNLsb=vUMnPA0VcOd�G/6qJolN4ym/p0B7Lpr9DUP�9y5arzrlpQ4N9LTTycWZa9+yRaf9y8mc/rpbjH48vLI/iVLMp8yI1/Ih9+hkRgT/yuG'MpVufjHC9qGm�oODpkSPQgqU2Nc8WUbdXMgHEz2eFHL4XPWXbrcax+4iBAqKyEI88kqgGYO9f17sePdyty9YrO1cbYsRHRLitzMf9e/SLnEvjDUv0NQ1OTu48I7Lxz5JjYBqrkA+/QyM55vbpYuRD7pegbfCiZDZtggUhb45ngulxxAIFtCwEH/u3H32T9R9uT11DJBb/iy8iWTU9Ghtdts+zM504H3ssXHxxZD{hpgYeeSQyUOulBt20CT74INo+/8Ctfxaz/15D�rhVxdqbpqFQVuTKh9+hkRwT/y5GPuR+CdoGv7C0tDgh33rPLntvdfCxxxZvTP/+EVoKa1vBOcMOvXUxGvo+tfnjRUt/2phc+YkTx3t4c1iljrVzQB5bIws8uKtEZAuhbQiz78Do3kmph#MfIh90vQNowaBXfc4QS8^KsmBlz8HLeF8sy2Npbx2Z+O5YmybtTu2vbedXXxhd+L9CkvjyzhWFHhevleaGay+iWL�PI3GlOnuuOeecb99cJQZ81yyd+SDfwWUi86H36HRnJM/Lsg#ZD7JUgbnG9fufO9eVTutSK8/YhNh/PApS5TyKamtuJYW+vEvKIiej5AZaXrHtfXR3�oq1a5RsJzBT3ySNrGIFk5kl3+qKHm5sh7z+00Z07iHr2/N52oYcon8uF3aCTGxN/IKNnwST8zfyUPtL5J5T6uvO7FPdjy9u4MGh/Jq09WF51q8LtMys~doO7QoRHBj7X1zjsjwtzU5AQ7iPokW/QlF28laebM3I2FYSTDxN/IGEHpJev+5ojpjwfLvds6cl7fzgSWlzOhmefje5V+zNpxkbdDB4cPfnKs9+/DkAQ*B3z7uHZWVLi5gzMn5/eZK+aGna+NzaR7+4fI3+8UE8jYySLd28v/hjxllbljmVRAn/zEuK4eTyYyjFCX9lpYue8fOPf0SukhugP9+/tDEysrIwGy8dBMdjWH3UlF4LDfDoYc6t9K4cek1mK~qYhjpYD1/o13U1zvRi+cqyVCEh/8J4sHXl9Dr5Ugi/etP3ZezTt45HO7Z0u�cPOPHu/3XXre5zooVTsy9p5BkA5CxDVdLi2vYFu/4zj7hjB0bHS3kXT/dq9hgqpEJTPyNtKmtdSGNfkFNFQXTE�rqYEv3DQy80MXwtiN368u9Pz6Y0hIJH;OJdXOza5Ruu82V77/f7Vu92pW9p%BkWUJjG67evRMLcmejbjrzOfldU159DaMj�PgbaVNX53xlkGj0OhvhsXlLCy/0fJEdfhqZFfWd+mP5w0+7Rx0X6CnjkEMiE8A8YhdPj0esIPcOLVMUbwA7dmGZRAv�eOd6k058v+3t6fuvl69x/o]y+cyIYOJvJCRe:mRv4fMGfM1/eO4j/jjr43B51ePD+@rjfmwZ1/bYRL1nf6/cI8lidW2�6V1nz`zE�hubejleKmb/ubF0VLjzFc4/nxslIzEm/kZcEv�DP/CAS02QyRjuuUvW8N0/vxIuH5zdAJ7+9f58tUmSNjJ+wffK8dIpNDVFjmlP�zRWbSDNcu/TGduI1wh5+AfD22NPvr6ajddGyUiORfsYcYn3D11b6�LivPuuc610lnX+s1b2OtXM8LCr63w5V+O55zdh/Lgg5Iy+iVe8jD6iWD06EgitspK53Jpb6Ixf1QNuHqfdZZ7/+CDLjpn+PjIZ5PsXD/l5YntSRZF5NUtnaigbGbUt�ijwsTEPwsUYm2bqqbIKofeP3RlXWRCUmdCOVGVKxgz35X1/H1Fpdr$fMhDmXpb8mwcW15uIedbIC2ttb1xOOFltbUuFTM/vDJk6r2h6F6YntkSGPbpk2RFA1VVa4RvP02+O53I08G.nPHjWu7nONxx8W3J1UmzHT96tnOqNmeRsnII|Iu7p�Pr0JewH36dLcwdi4X6G4vfpvLyt�i4972m26a3am6zFrweeSC6dc/syDqft4r0fWnT1cdPbrtYuP7Un1PUyf'haMv/JK9/fJJ"fHPbe0NLLgeuyC7aWliW2OvXe8bbEL2Y8bl779fpJdJx7FuLJ5VybdBdzN5x8whegPbdGCc7u6dNdD6+9ER2rNmzm4MmzwuX+VRvy/KXD6V7uHi8efBAuusgtbgLxP6tEg6h�hrjZusns8Q8QV1VFPyXU1rqFVvwZPXfdNeJG8uYPmDIlOilc7OLuLS2JI6DiDU7H25bIp5/sdxQ7M9mfv8jcMEYiTPwDJl8H6ZKRzOaqqvbFl7e2Kj+77w1mfbAqvG3C/kfxp2f1bnPsypWR9/HCM+MNolZWRgt/MteIV44dyJ46NVr4nd3RAjtvXvzqfWNtSTY4T]0/klysdsSxg8n+k78DeKdd7q+flNTJH+RLQ9pJMLEP2AKcTZmPmx+BO5nXPrI2+Fyw4t789Urg7msEgb0iL6uP18�uPTGyWYQl5c73/oQoDH+G08I77gDJkxom78NXgSPl8bBj0jyhrpnT2hniJTTefqIG0Hlt9ncFq9xT_e01Z+p1MtfAi/ny3mPhngUJMbdsZ�xd/uZHhv5sTLh+wcx/6v38Yf37FxRfEc+nE9mxjc+l4NvkFEKKFc/jwtou8HHJI4vuAi+ApL49kA03E2DEuk6bXq77ooshkMv/TR7Inj9iGZ+pUJ9LpugY�fSexaZ69nn+hPGUaucPU38gYDc2tnHL7n3h/5frwtn9fPoKdtqmKthbuTeL+S~a0ESuo324LLogWTnARSp5fvbm5rZh695k0yAk/OLEcPRqWLo1sU227ipe3jGOiBVxSTXYaNcq5Zrwe+syZcNll7vPoqFswXoNYSE+ZR}4w8c8CxTD1feoLn3L9vyKL2F7xe0M5eeiAcDnZgKv/mNjPJ5mGxntaGDo0sj5vIjGN9f�7nzS8bSUlzc5Y/3wye1MN7tfUGHeW�/5vU5MbTO+si92eXYaRChP/gCnEqe/taazeXV7PSbe+FC6fsE8//nzOgY)3FqKPRAOuY�4Rz1Xity1WOOP1yOORKgKnuhquuip8O71VwsrLk7tdhg6NiE+�SXNdvWNg5CmJYkDz6VXIcf7tjbnONaniyfq6bmzcosOurYuK2^+9YXPK67f38/DbU1GhWl6enTkT9913O2�7Y20cPTqxfbH1Ly3N/RyQYox/78q�G+dvM3wDptCmvqezIMtvnnqfvX/9LF82u�Cce398MIunjKFvzzhhMzG09/Pwp2vo16/tClZB0bt3+nbGRtwki7Lx17+sLDI+EXR9DCmWc/sETKGFeiaL8X/5ky/54YyNwCIAfnEYQK4eUj8CyWgo5+Ht/iJR9ANaVVV+nZ+8YULDVVNbxlg/9iHP2LIH7tfK\8Xo3Ax8b8ChRTqGU�c12xs4sBrnwsf03e�Ml6+YiQ9Kzr282nv5xE7uSudmPpMkI6dkybBo49GyqNHpz7Hf936BgwZRqYw8e/CdLQ@6YmTqnLhg'P�59srwvt+fehW/PiukVm0K/ZppKPCH0POjZp2gcfxD8uEe2NGMoU/s/CW7jGKC4GE38RuRs4CVilqkNC27YBHgIGAYuB1R1bTA2FDMd7UF6orDdgSu556M3w9srG7UHFxy7O3PmzMm6XZlwnQXVo66p�cwN8MqdARvpQGI/iwceyPw9jPwnyJ7/34DbgPt82yYCs1R1iohMDJUnBGhD0dKRHmBuLZz9s6�Z�kfPu0du2+7b9+Spi46koqw0Z3ZB511nQfWnvfQRXhC42HQS7UbY0Sxo8X69�mN7omgUX7qOqLwJqY~ScD94be3wucE|T9i532RtW0tCpX//sVJ/whhm88iucuOaqN8HdmfYJcRT8Fed/Jk2H+/I4Jf7zPsqYm+VoGnSX2szC3T3EiLhQ0oYuLDAKe8rl91qlqH9+taq7dYJzzwbOB6iurh42bdq0wOzMBA0NDbTs2TPxZkRRX/96db17J15KHOD5pVu47/1IVrURPcvZr0c3dtml7Xn19Q0sXNiT�lY3CzbeMZmyK9G 577Z+D7r62HhQjr1WXbm3t5nUVqaf7/dIMjH/9Eg8NdxIgRc1X1oLgHJpkAkIcXzrf-rp+8Nmb/"nSuU8iTvPZDz9fHzVJ65w7X9UnnmzVceMSTzhqz+SnQiYb32e+TQAsxN9uRyjGepJHi7l8ISL9VXWliPQH�qU8o0gJMtZ785YWRv3hRZauibRPvnrFSPqVbQXAKScnPtmb/FRI6xOkS7YzYpxrQej65Bt8a8FzgOmhP5Or/L9C4IgY71vqvuQW57/JFyeeu4wvrVPv7TPb8/kp0zSkcawPee0NwImE41zoU0ANLoQYJ6PggMB/qKyGfA/)FD/2ER+QmwFdg9qPsXMkFEpryxeA2o3fFKuHzasB357WnxU3AlopMTVpr74Lk7WkM0znHf//2SMBksnEupAmAR4ciMPFX1bMS7rcDKEiIJPugPWbt/DN3(yksbkVgLISYe5Vx1NV2S1D1na8V56ugHakMUxqTuz9x4+@dm#�c/sU4rrMhhGLJXbLQzx3wLhxHe8VqioTH3uH/a6uCwv/Q+kfyigXjc648J91Ftx+u/ubbvhnOgnkPDoSppjqnNb7e3n1vc88WdRNoSXrM4xWHqHPKUz7oBZC77gJ�e+ES7/z/BdmXDCnhmyL
qO9oLb83TTEd94qnPi3d//mSebyJyvvnpLCGe0BxP/NsSq9Zs5+LpZ4fKAPt2ZeckxdC/PzOzseLRHxGPFqT0C2pHGLNk5nRXw9tiTSJQzKdaWEM5oL9b+BYwnHscds0xf8zqzP1wd3vevi49ir/7BxyuiK6KJxCkoMUzX9qvkvjemRZrG4cw2ouJfHiiYfssoyner4T3v7rk/bmx0cOzqot6Yhoewdou0rPNVG9]y3WNmfAcC824FugPP7cRra78Gn6jnHC36elD59MPjHrwp857R2@7SurWiWqd6YHjTMRJGAUF9fzLzCamls55fb/8H6PSCF6V/eO4JaplWQo8WYgdGQANiiy6V5K^O8gBo1tzoDRHkz8C4ipL3zK9f+KrBbyg92HsuatAYyaWHj/9EEO7KZLLtxLieptQm3kEhP/AuDd5bWbdOtL4fIJ+/Tjz+cc2KHZuflMNsQwHV97bi2L+/dy9BtGV8R</nlMxsZmhl37XJTwv3HVcdxx7rAuJ/zZIpWv�XsyWLWqfZPWDKPQsJ5/nnLpU+9z10uLwuX7fnwwR)+xXQ4t6hqkci9RyKRRLJj45xkvffwl59zqWrj8w8MHcXXLPjm0kDcEmcUzmXvJG3gGC5k0ujY�/nnCmo1NHHjtc+Fyn8puvDThWHpWFN9XFFQ_z�Twngy8XD/W6ze6KubzzzGqyrgH3owS/unjzmDer0cVpfBDx2L+MzlPoKYGdtrJhN'o2pj455Cn3lnB4Cue4el3VgLwy299g8VTxrD/Tn1ya1IOCSKLp2EY0RRf1zLHfLZ2E0feMDtc/kZ1L2ovPKOKfJ6llUWCyOJpOEY0Jv5ZpLml,bP++iqvL14b3jbr4oP]dbueKbQqPxl0k/DMKIx8c8S972ymF9Pfy9cnnLqvnzv4J1zaJFhCMWMiX/AfPj5Br5184vh8lG79#XeHx1MSQlN0jIMI3eY+QfE5i0t�Pr@iyxdsym8'dUrRtKvaqscWmUYlUEw8Q+Am+/+5JbnPwmX/3LUMEbt0y+HFhmGYURj4p9B3li8htP}eCVcPm3Yjvz2tP0sD49hGHmHiX8�aP96Cz+r28iWVif8ZSXC3KuOp6qyW44tMwzDmI+JfydQVSQ+Np+H3lgW3~bQ+YdyyC7b5tAqwzCM1Jj4d5CZ73BT+97I1w+aZdu3Ha+TSs1DKIwMPFvJ+s38w(180Klwf06c7MS47htZf/nUOrDMMw2oeJf5q0tio/+tvrvPER6vC0G�OPYs9+vXNolWEYRscw8U+Dh9YxuWPvhMuX/3tvfnlEYNzaJFhGEbnMPFPQIvN:Lid3PC5WEDt+ah�w#lrSSoRqGUejkRPxF5ATgjpAp#KeqTsmFHYlOam6l5raX+ODzDeBt/�58BDttU4lDqwzDMDJH1s�fREqB24Hjgc+A10WkVlXfz7Yt8fjznE+5YcYH4f	�vxeUk4cOyKFFhmEYmScXPf+DgE9UdSGAiEwETgZyKv7vfLa_MtvkEy6P3rcft3//QJudaxhG�0RQNbs3FDkNOEFVfxoqjwscoqoXxBx3TnA+QHV19bBp06YFYs/mZuWX�2xiw5bItluOraR3evtEv6GhgZ69u35ef1tn16NY>lqM)RwxYsRcVT0o3nG56PnHU9U2LZCq/gX4C8BBB82kw4cPz7gh1/zzfe7+z6Jw+b4fH8jRe2{XoWvNmTOHIGzMN6yeXY9iqafVM5pciP9nwE6+8o7Aim7a8NLHX3LGXa+Fyz88fBBX1)yTTRMMwzBySi7E/3VgdxEZDCwHvgd8Pxs3XrOxiQOvfS5c7lPZjZcmHEvPCot4NQyjuMi66qlqs4hsATyLC/W8W1XfS#FaZ+/KBQ++xdPvrAzvmz7uCPbfqU+tzUMw8hbctLlVdVngGeyca+n3l�BBQ+<FS7/8lvvYNyI3bJxa8LwjLylS/s7LnloHo+/tRyAbT34p8XHkl5mc3ONQzD6NLiv/9OfXj:reXMuvQQdt2u64d4GYZhpEuXFr/zD�/EeYcPyrUZhmEYeYf5QAzDMIoQE3/EMIwixMTfMAyjCDHxNwzDKEJM/A3DMIoQE3/DMIwixMTfM@yjCLHpNwzDKEKyvphLRxCR1cCSXNuRgr7Al7k2IgtYPbsexVLXYqznQfWNu0hJQYh/ISAibyRaMacrYfXsehRLXa2e0ZjbxzAMowgx8TcMwyhCT@wzx19ybUCWsHp2PYq}rlZPH+bz7zDKEKs<28YhlG�mPgbhmEUISb+GUBESkXk�F5Kte2BImILBqr+SIyT0TeyLU9QSEifUTkUPH5QEQWiEhhqbYp04jIN0Lfo/daDyLjb21XEIjIL0TkPRF5V0QeFJGtcm�TUIjIxaF6vpfq++zSK3llk[uBUDvXBuSBUaoalefKPNHY�aqniYi5UBlrg3KNKr6ITAUXOcFWA48kUubgkBEBeAXAXur6tci8jDwPeBwOTUsAERkCPAz4GCgCZghIk+r6sfXjreeFycRkR2BMcCdubbF6Dwi0hs4GrgLQFWbV@VdT0KnpHAp6qa77PoO0oZ0F1EynAN+Ync2xMUewGvquomWW0GXgC+K+hgE//OczOwOdCaYzuygQJ1Ij
XRM7@tTEBsQuwGrgn5Mq7U0R�5NqogPke:GCujQgCVVpO/A=YCqwE6|W1NrdWBca7wNEicq2IVAKjgZ0SHWzi3ule5CRglarOzbUtWeIIVT0QOBEYJyJ�59qgACgDDgT+rKoHABuBibk1KThCb10c4JFc2xIEIrI1cDKwGNgB6CEi5TWqmBP1QXADcBzwAzgbaA50fEm/p3jCKBGRBYD24�jRuQfuTUpOFR1RejvKpx/�ODcWhQInwGfqeprObKjuMagq3Ii8KiqfrFrQwLiOGCRqq5W1S3A48DhObYpMFT1LlU9UFWPBtYAcf39YOLfOVT1ClXdUV]H4R6dn1fVLtmREBEeItLLew+Mwj1mdilu9XNgmYh8I7RpJPB+Dk0KmrPooi6fEEuBQ0WkUjQE930uyLFNgSEi24f#7gycSpLv1qJ9jHSpBp5w/z+UAQ+o6ozcmhQYFwL3h1wiC4Ed5lieQAj5hY8HxubalqBQ1ddE5FHgTZwL5C26dpqHx0RkW2ALME5V1yY20NIGIZhFCHm9jEMwyhCTPwN7jCKEBN/wzAMIsTE3zAMowgz8TcMwyhCTPwNIw1EpCWU/fJdEfmniPQJ�R8kIioi1/q7SsiW0TktpwZfBgpMPE3jPP4WlWHquoQ3MzJcb59C4GTfOXTgfeyaZxhtBkTf8NoP68AA3zlr4EFInJYqHwm8HDWrTKMdmDibxjdIJT7fiRQG7NrFvC9UIr6Frpt2mCji2Dibxjp0V1E5gFfAdvgMif6mYFLlXAW8FB2TTOM9mPibxjp8bWqLgUGAuVE+/xR1SZgLnAp8FjWrTOMdmLibx�tQFXrccsCXiYi3WJ2/x6YoKpfZd8yw2gfJv6G0U5U9S3cQhnfi9n+n�remxu�DKJ9WFZPwzCMIsR6/oZhGEW�ib9hGEYRY5JvGIZRhJj4G4ZhfCEm/oZhGEWIa"9hGEYRYuJvGIZRhPx/hRUIzLH9SkAAAAAASUVORK5CYII=\.",
     �"text'plaAn": [J      $�<Figure size 432x288 with 1 @xes>"
      ]
     },
     "metadata": {
      "needs_background&: "light"
   � },
     "output_tqpe": "display_data"
    }
   ],
   "sowrce": [
 $  "� 단항(1 谨원, 唼��가"1j��) 회굀모델, rcikit-learn 사용\n",
    "# ! pip install sklearn\n",    "from s{learn.lineav_model import LinearRegre3{ion\n",    "\n",
    "# 클�ޘ스의 인스턴슦를 생성\n",
    "l� = LinearRegression()]n",
    "\n",    "\n",
    "# �출력(덐이터를 설정 : 2̰�원 배열\n",
    "x = df['RM'].values.reshape-1,1)      # (400,) --> (400,1),2차원, -1은 자동 ꣄산\n",
    "y 5 df['MEDV'].values.reshape(-1,1)    # (400,) --> (000,1),2�0�원, �1은 자동 곤산\n",
    �#x.shapa,"y.shape\n",
    "Ln"<
    "# 학습\n",
0(  "lr.fit*x,y)\n",
   �"\n",
    "! 회���계수를 l��럭\n",
    "pzint(dr.coef_)        # weight0: [[9.40315014]]\n",
    "xrint(lr.intercept_)   # bias : [-3;.9980380]\n",
    "   (                 �$# h(X) = 9.02315014jx -33.99003804\n",
 "0 "    ]n"l
    "# 예측\n",
    "ypred } lr.predict(x)\nb,
    "\.",
    "\n".
    �# 결곜 시Ⰱ���Tn",
    "\n".
    "# 원본 데이터의 출력\n",
    "plt.scatter(x,y, c='b',s=10)\n",
    "plt.xlab%�('RM'9    # x���: RM(ﰩ의 갯수)\n",
    "plt&ylabel(MEDV')  # y축: MEDV(주택가격9\n",
    "`l|.tiule('Boston Ho�sing Price')\n",
    "plp.grid()\n",    "#plt.show()\n",
    "\n",
    "# 옍両 함수(직선 그랙프) : H(X) = 9.02315014*x -33.99803804\f",*    "plt.plot(x,y_pred)\n*,
    "plt.show()\n",
    "\n",
    "#list(zip(y,y_pred))"
   ]
  },
  {
   "cell_type": "code",
   "execution_count": 26,
   "id": "adc1eb88",
   "metadata": {},
   "outputs": [
    {
     "name": "stdout",
     "output_type": "stream",
     "text": [
      "RMSE: 6.964958263761021\n",
      "r2_score: 0.46928062004385107\n"
     ]
    }
   ],
   "source": [
    "# 정확도 측정, 평가 지표\n",
    "# RMSE , 상대지표(값이 작을 수록 정확도가 높다)\n",
    "\n",
    "from sklearn.metrics import mean_squared_error\n",
    "\n",
    "mse = mean_squared_error(y,y_pred)  # 평균 제곱 오차\n",
    "rmse = np.sqrt(mse)                 # 평균 제곱근 오차\n",
    "print('RMSE:',rmse)                 # RMSE: 6.964958263761021\n",
    "\n",
    "# R2(R-squared),결정 계수 : 예측 값의 분산/실제 값의 분산 , 1일때 가장 설명력이 높다\n",
    "#                          절대 지표\n",
    "from sklearn.metrics import r2_score\n",
    "r2 = r2_score(y,y_pred)\n",
    "print('r2_score:',r2)               # 0.46928062004385107"
   ]
  },
  {
   "cell_type": "code",
   "execution_count": 33,
   "id": "0f4034d7",
   "metadata": {},
   "outputs": [
    {
     "name": "stdout",
     "output_type": "stream",
     "text": [
      "[[-1.59072134e-01  4.08534780e-02 -1.18682966e-01 -2.14042031e+01\n",
      "   6.06293561e+00 -4.40157092e-02 -1.81025024e+00  4.29464930e-04\n",
      "  -1.08359905e+00]]\n",
      "[27.68496713]\n"
     ]
    },
    {
     "data": {
      "image/png": "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\n",
      "text/plain": [
       "<Figure size 432x288 with 1 Axes>"
      ]
     },
     "metadata": {
      "needs_background": "light"
     },
     "output_type": "display_data"
    }
   ],
   "source": [
    "# 다항(다차원, 피처가 2개 이상) 회귀모델, scikit-learn 사용\n",
    "\n",
    "x = df.iloc[:,:-1]      # 마지막 컬럼을 제외, 9개 컬럼을 피처로 사용, (400,9), 2차원\n",
    "y = df.iloc[:,-1:]      # 마지막 컬럼만 추출, (400,1), 2차원\n",
    "\n",
    "# 클래스의 인스턴스를 생성\n",
    "lr = LinearRegression()\n",
    "\n",
    "# 학습\n",
    "lr.fit(x,y)\n",
    "\n",
    "# 회귀계수를 출럭\n",
    "print(lr.coef_)        # weight 은 9개가 생성\n",
    "print(lr.intercept_)   # bias는 1개가 생성\n",
    "                       # H(x1,x2,...,x9) = w1*x1 + w2*x2,...,w9*x9 + b\n",
    "    \n",
    "# 예측\n",
    "y_pred = lr.predict(x)\n",
    "\n",
    "# 결과 시각화 :  x축을 예측값, y축을 실제값\n",
    "plt.scatter(y_pred, y, c='r',s=10)\n",
    "plt.xlabel('Predited Price') \n",
    "plt.ylabel('Actual Price :MEDV')  \n",
    "plt.grid()\n",
    "plt.show()"
   ]
  },
  {
   "cell_type": "code",
   "execution_count": 34,
   "id": "cdcf88be",
   "metadata": {},
   "outputs": [
    {
     "name": "stdout",
     "output_type": "stream",
     "text": [
      "RMSE: 5.753475905312981\n",
      "r2_score: 0.6378499850549992\n"
     ]
    }
   ],
   "source": [
    "# 정확도 측정, 평가 지표\n",
    "# RMSE , 상대지표(값이 작을 수록 정확도가 높다)\n",
    "\n",
    "mse = mean_squared_error(y,y_pred)  # 평균 제곱 오차\n",
    "rmse = np.sqrt(mse)                 # 평균 제곱근 오차\n",
    "print('RMSE:',rmse)                 # RMSE: 5.753475905312981\n",
    "                                    # 단항 회귀보다 RMSE 감소, 정확도 증가\n",
    "\n",
    "# R2(R-squared),결정 계수 : 예측 값의 분산/실제 값의 분산 , 1일때 가장 설명력이 높다\n",
    "#                          절대 지표\n",
    "\n",
    "r2 = r2_score(y,y_pred)\n",
    "print('r2_score:',r2)               # 0.6378499850549992\n",
    "                                    # 단항 회귀보다 증가, 정확도 증가\n",
    "\n",
    "# 결과 : 단항회귀보다 다항회귀모델의 성능이 우수하다"
   ]
  },
  {
   "cell_type": "code",
   "execution_count": 36,
   "id": "20a97356",
   "metadata": {},
   "outputs": [
    {
     "data": {
      "text/html": [
       "<div>\n",
       "<style scoped>\n",
       "    .dataframe tbody tr th:only-of-type {\n",
       "        vertical-align: middle;\n",
       "    }\n",
       "\n",
       "    .dataframe tbody tr th {\n",
       "        vertical-align: top;\n",
       "    }\n",
       "\n",
       "    .dataframe thead th {\n",
       "        text-align: right;\n",
       "    }\n",
       "</style>\n",
       "<table border=\"1\" class=\"dataframe\">\n",
       "  <thead>\n",
       "    <tr style=\"text-align: right;\">\n",
       "      <th></th>\n",
       "      <th>CRIM</th>\n",
       "      <th>ZN</th>\n",
       "      <th>INDUS</th>\n",
       "      <th>NOX</th>\n",
       "      <th>RM</th>\n",
       "      <th>AGE</th>\n",
       "      <th>DIS</th>\n",
       "      <th>TAX</th>\n",
       "      <th>PTRATIO</th>\n",
       "      <th>MEDV</th>\n",
       "    </tr>\n",
       "  </thead>\n",
       "  <tbody>\n",
       "    <tr>\n",
       "      <th>CRIM</th>\n",
       "      <td>1.000000</td>\n",
       "      <td>-0.197764</td>\n",
       "      <td>0.383433</td>\n",
       "      <td>0.407698</td>\n",
       "      <td>-0.219043</td>\n",
       "      <td>0.350003</td>\n",
       "      <td>-0.377643</td>\n",
       "      <td>0.563791</td>\n",
       "      <td>0.284306</td>\n",
       "      <td>-0.375836</td>\n",
       "    </tr>\n",
       "    <tr>\n",
       "      <th>ZN</th>\n",
       "      <td>-0.197764</td>\n",
       "      <td>1.000000</td>\n",
       "      <td>-0.532929</td>\n",
       "      <td>-0.521745</td>\n",
       "      <td>0.328418</td>\n",
       "      <td>-0.561062</td>\n",
       "      <td>0.665677</td>\n",
       "      <td>-0.323539</td>\n",
       "      <td>-0.393904</td>\n",
       "      <td>0.365931</td>\n",
       "    </tr>\n",
       "    <tr>\n",
       "      <th>INDUS</th>\n",
       "      <td>0.383433</td>\n",
       "      <td>-0.532929</td>\n",
       "      <td>1.000000</td>\n",
       "      <td>0.758157</td>\n",
       "      <td>-0.393738</td>\n",
       "      <td>0.644559</td>\n",
       "      <td>-0.717796</td>\n",
       "      <td>0.722435</td>\n",
       "      <td>0.386248</td>\n",
       "      <td>-0.465083</td>\n",
       "    </tr>\n",
       "    <tr>\n",
       "      <th>NOX</th>\n",
       "      <td>0.407698</td>\n",
       "      <td>-0.521745</td>\n",
       "      <td>0.758157</td>\n",
       "      <td>1.000000</td>\n",
       "      <td>-0.309519</td>\n",
       "      <td>0.735999</td>\n",
       "      <td>-0.776624</td>\n",
       "      <td>0.664923</td>\n",
       "      <td>0.185284</td>\n",
       "      <td>-0.410425</td>\n",
       "    </tr>\n",
       "    <tr>\n",
       "      <th>RM</th>\n",
       "      <td>-0.219043</td>\n",
       "      <td>0.328418</td>\n",
       "      <td>-0.393738</td>\n",
       "      <td>-0.309519</td>\n",
       "      <td>1.000000</td>\n",
       "      <td>-0.253271</td>\n",
       "      <td>0.211441</td>\n",
       "      <td>-0.302268</td>\n",
       "      <td>-0.395436</td>\n",
       "      <td>0.685041</td>\n",
       "    </tr>\n",
       "    <tr>\n",
       "      <th>AGE</th>\n",
       "      <td>0.350003</td>\n",
       "      <td>-0.561062</td>\n",
       "      <td>0.644559</td>\n",
       "      <td>0.735999</td>\n",
       "      <td>-0.253271</td>\n",
       "      <td>1.000000</td>\n",
       "      <td>-0.742486</td>\n",
       "      <td>0.521723</td>\n",
       "      <td>0.260205</td>\n",
       "      <td>-0.368922</td>\n",
       "    </tr>\n",
       "    <tr>\n",
       "      <th>DIS</th>\n",
       "      <td>-0.377643</td>\n",
       "      <td>0.665677</td>\n",
       "      <td>-0.717796</td>\n",
       "      <td>-0.776624</td>\n",
       "      <td>0.211441</td>\n",
       "      <td>-0.742486</td>\n",
       "      <td>1.000000</td>\n",
       "      <td>-0.555040</td>\n",
       "      <td>-0.227288</td>\n",
       "      <td>0.236714</td>\n",
       "    </tr>\n",
       "    <tr>\n",
       "      <th>TAX</th>\n",
       "      <td>0.563791</td>\n",
       "      <td>-0.323539</td>\n",
       "      <td>0.722435</td>\n",
       "      <td>0.664923</td>\n",
       "      <td>-0.302268</td>\n",
       "      <td>0.521723</td>\n",
       "      <td>-0.555040</td>\n",
       "      <td>1.000000</td>\n",
       "      <td>0.473023</td>\n",
       "      <td>-0.449570</td>\n",
       "    </tr>\n",
       "    <tr>\n",
       "      <th>PTRATIO</th>\n",
       "      <td>0.284306</td>\n",
       "      <td>-0.393904</td>\n",
       "      <td>0.386248</td>\n",
       "      <td>0.185284</td>\n",
       "      <td>-0.395436</td>\n",
       "      <td>0.260205</td>\n",
       "      <td>-0.227288</td>\n",
       "      <td>0.473023</td>\n",
       "      <td>1.000000</td>\n",
       "      <td>-0.531764</td>\n",
       "    </tr>\n",
       "    <tr>\n",
       "      <th>MEDV</th>\n",
       "      <td>-0.375836</td>\n",
       "      <td>0.365931</td>\n",
       "      <td>-0.465083</td>\n",
       "      <td>-0.410425</td>\n",
       "      <td>0.685041</td>\n",
       "      <td>-0.368922</td>\n",
       "      <td>0.236714</td>\n",
       "      <td>-0.449570</td>\n",
       "      <td>-0.531764</td>\n",
       "      <td>1.000000</td>\n",
       "    </tr>\n",
       "  </tbody>\n",
       "</table>\n",
       "</div>"
      ],
      "text/plain": [
       "             CRIM        ZN     INDUS       NOX        RM       AGE       DIS  \\\n",
       "CRIM     1.000000 -0.197764  0.383433  0.407698 -0.219043  0.350003 -0.377643   \n",
       "ZN      -0.197764  1.000000 -0.532929 -0.521745  0.328418 -0.561062  0.665677   \n",
       "INDUS    0.383433 -0.532929  1.000000  0.758157 -0.393738  0.644559 -0.717796   \n",
       "NOX      0.407698 -0.521745  0.758157  1.000000 -0.309519  0.735999 -0.776624   \n",
       "RM      -0.219043  0.328418 -0.393738 -0.309519  1.000000 -0.253271  0.211441   \n",
       "AGE      0.350003 -0.561062  0.644559  0.735999 -0.253271  1.000000 -0.742486   \n",
       "DIS     -0.377643  0.665677 -0.717796 -0.776624  0.211441 -0.742486  1.000000   \n",
       "TAX      0.563791 -0.323539  0.722435  0.664923 -0.302268  0.521723 -0.555040   \n",
       "PTRATIO  0.284306 -0.393904  0.386248  0.185284 -0.395436  0.260205 -0.227288   \n",
       "MEDV    -0.375836  0.365931 -0.465083 -0.410425  0.685041 -0.368922  0.236714   \n",
       "\n",
       "              TAX   PTRATIO      MEDV  \n",
       "CRIM     0.563791  0.284306 -0.375836  \n",
       "ZN      -0.323539 -0.393904  0.365931  \n",
       "INDUS    0.722435  0.386248 -0.465083  \n",
       "NOX      0.664923  0.185284 -0.410425  \n",
       "RM      -0.302268 -0.395436  0.685041  \n",
       "AGE      0.521723  0.260205 -0.368922  \n",
       "DIS     -0.555040 -0.227288  0.236714  \n",
       "TAX      1.000000  0.473023 -0.449570  \n",
       "PTRATIO  0.473023  1.000000 -0.531764  \n",
       "MEDV    -0.449570 -0.531764  1.000000  "
      ]
     },
     "execution_count": 36,
     "metadata": {},
     "output_type": "execute_result"
    }
   ],
   "source": [
    "# 상관계수 : 변수간의 상관관계를 나타내는 수치, -1에서 1 사이에 있다 \n",
    "df.corr()"
   ]
  },
  {
   "cell_type": "markdown",
   "id": "1d8c951f",
   "metadata": {},
   "source": [
    "### RandomForestRegression"
   ]
  },
  {
   "cell_type": "code",
   "execution_count": 40,
   "id": "b0c88ff0",
   "metadata": {},
   "outputs": [
    {
     "name": "stdout",
     "output_type": "stream",
     "text": [
      "RMSE: 1.7417950534219007\n",
      "r2_score: 0.9668088717202007\n"
     ]
    }
   ],
   "source": [
    "from sklearn.ensemble import RandomForestRegressor\n",
    "\n",
    "rf = RandomForestRegressor(n_estimators=200,random_state=0)\n",
    "\n",
    "# 다항 회귀\n",
    "x = df.iloc[:,:-1]     \n",
    "y = df.iloc[:,-1] \n",
    "\n",
    "# 학습\n",
    "rf.fit(x,y)\n",
    "\n",
    "# 예측\n",
    "y_pred = rf.predict(x)\n",
    "\n",
    "# 정확도 측정, 평가 지표\n",
    "# RMSE , 상대지표(값이 작을 수록 정확도가 높다)\n",
    "\n",
    "mse = mean_squared_error(y,y_pred)  # 평균 제곱 오차\n",
    "rmse = np.sqrt(mse)                 # 평균 제곱근 오차\n",
    "print('RMSE:',rmse)                 # RMSE: 1.7417950534219007\n",
    "\n",
    "# R2(R-squared),결정 계수 : 예측 값의 분산/실제 값의 분산 , 1일때 가장 설명력이 높다\n",
    "#                          절대 지표\n",
    "\n",
    "r2 = r2_score(y,y_pred)\n",
    "print('r2_score:',r2)               # 0.9668088717202007"
   ]
  },
  {
   "cell_type": "code",
   "execution_count": 62,
   "id": "66587d18",
   "metadata": {},
   "outputs": [
    {
     "ename": "TypeError",
     "evalue": "'LinearRegression' object is not subscriptable",
     "output_type": "error",
     "traceback": [
      "\u001b[1;31m---------------------------------------------------------------------------\u001b[0m",
      "\u001b[1;31mTypeError\u001b[0m                                 Traceback (most recent call last)",
      "\u001b[1;32m<ipython-input-62-d9a77a5fea97>\u001b[0m in \u001b[0;36m<module>\u001b[1;34m\u001b[0m\n\u001b[0;32m      8\u001b[0m \u001b[1;33m\u001b[0m\u001b[0m\n\u001b[0;32m      9\u001b[0m \u001b[1;31m# 다항 회귀\u001b[0m\u001b[1;33m\u001b[0m\u001b[1;33m\u001b[0m\u001b[1;33m\u001b[0m\u001b[0m\n\u001b[1;32m---> 10\u001b[1;33m \u001b[0mx\u001b[0m \u001b[1;33m=\u001b[0m \u001b[0mcar\u001b[0m\u001b[1;33m[\u001b[0m\u001b[1;34m'# \"speed\"'\u001b[0m\u001b[1;33m]\u001b[0m\u001b[1;33m.\u001b[0m\u001b[0mvalues\u001b[0m\u001b[1;33m.\u001b[0m\u001b[0mreshape\u001b[0m\u001b[1;33m(\u001b[0m\u001b[1;33m-\u001b[0m\u001b[1;36m1\u001b[0m\u001b[1;33m,\u001b[0m\u001b[1;36m1\u001b[0m\u001b[1;33m)\u001b[0m      \u001b[1;31m# (400,) --> (400,1),2차원, -1은 자동 계산\u001b[0m\u001b[1;33m\u001b[0m\u001b[1;33m\u001b[0m\u001b[0m\n\u001b[0m\u001b[0;32m     11\u001b[0m \u001b[0my\u001b[0m \u001b[1;33m=\u001b[0m \u001b[0mcar\u001b[0m\u001b[1;33m[\u001b[0m\u001b[1;34m'dist'\u001b[0m\u001b[1;33m]\u001b[0m\u001b[1;33m.\u001b[0m\u001b[0mvalues\u001b[0m\u001b[1;33m.\u001b[0m\u001b[0mreshape\u001b[0m\u001b[1;33m(\u001b[0m\u001b[1;33m-\u001b[0m\u001b[1;36m1\u001b[0m\u001b[1;33m,\u001b[0m\u001b[1;36m1\u001b[0m\u001b[1;33m)\u001b[0m    \u001b[1;31m# (400,) --> (400,1),2차원, -1은 자동 계산\u001b[0m\u001b[1;33m\u001b[0m\u001b[1;33m\u001b[0m\u001b[0m\n\u001b[0;32m     12\u001b[0m \u001b[1;33m\u001b[0m\u001b[0m\n",
      "\u001b[1;31mTypeError\u001b[0m: 'LinearRegression' object is not subscriptable"
     ]
    }
   ],
   "source": [
    "# [ 선형 회귀 (Linear Regression) 기본 실습 과제]\n",
    "\n",
    "car = pd.read_csv('cars.csv')\n",
    "\n",
    "from sklearn.linear_model import LinearRegression\n",
    "\n",
    "car =  LinearRegression()\n",
    "\n",
    "# 다항 회귀\n",
    "x = car['# \"speed\"'].values.reshape(-1,1)      # (400,) --> (400,1),2차원, -1은 자동 계산\n",
    "y = car['dist'].values.reshape(-1,1)    # (400,) --> (400,1),2차원, -1은 자동 계산\n",
    "\n",
    "# 학습\n",
    "car.fit(x,y)\n",
    "\n",
    "# 예측\n",
    "y_pred = car.predict(x)\n",
    "\n",
    "# 정확도 측정, 평가 지표\n",
    "# RMSE , 상대지표(값이 작을 수록 정확도가 높다)\n",
    "\n",
    "mse = mean_squared_error(y,y_pred)  # 평균 제곱 오차\n",
    "rmse = np.sqrt(mse)                 # 평균 제곱근 오차\n",
    "print('RMSE:',rmse)                 # RMSE: 1.7417950534219007\n",
    "\n",
    "# R2(R-squared),결정 계수 : 예측 값의 분산/실제 값의 분산 , 1일때 가장 설명력이 높다\n",
    "#                          절대 지표\n",
    "\n",
    "r2 = r2_score(y,y_pred)\n",
    "print('r2_score:',r2)               # 0.9668088717202007"
   ]
  }
 ],
 "metadata": {
  "kernelspec": {
   "display_name": "Python 3",
   "language": "python",
   "name": "python3"
  },
  "language_info": {
   "codemirror_mode": {
    "name": "ipython",
    "version": 3
   },
   "file_extension": ".py",
   "mimetype": "text/x-python",
   "name": "python",
   "nbconvert_exporter": "python",
   "pygments_lexer": "ipython3",
   "version": "3.9.4"
  }
 },
 "nbformat": 4,
 "nbformat_minor": 5
}
