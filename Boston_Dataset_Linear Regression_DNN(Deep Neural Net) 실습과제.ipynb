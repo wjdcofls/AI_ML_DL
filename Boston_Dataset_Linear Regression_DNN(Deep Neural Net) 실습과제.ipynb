{
 "cells": [
  {
   "cell_type": "code",
   "execution_count": 1,
   "metadata": {},
   "outputs": [
    {
     "name": "stdout",
     "output_type": "stream",
     "text": [
      "(400, 9)\n",
      "(400, 1)\n"
     ]
    }
   ],
   "source": [
    "# Boston_Dataset_Linear Regression\n",
    "import tensorflow as tf\n",
    "import numpy as np\n",
    "import csv\n",
    "tf.random.set_seed(5)\n",
    "\n",
    "boston_train = np.loadtxt('boston_train.csv', delimiter=',', dtype=np.float32, skiprows=1)\n",
    "boston_test = np.loadtxt('boston_test.csv', delimiter=',', dtype=np.float32, skiprows=1)\n",
    "\n",
    "x_train = boston_train[:,:-1]\n",
    "y_train = boston_train[:,[-1]]\n",
    "print(x_train.shape)\n",
    "print(y_train.shape)"
   ]
  },
  {
   "cell_type": "code",
   "execution_count": 2,
   "metadata": {},
   "outputs": [],
   "source": [
    "# Layer 1  :  은닉층 (hidden layer)\n",
    "\n",
    "# (400,9) * (9,2) = (3,2)\n",
    "W1 = tf.Variable(tf.random.normal([9,2]), name='weight1')\n",
    "b1 = tf.Variable(tf.random.normal([2]), name='bias1')\n",
    "\n",
    "def layer1(X):\n",
    "    return tf.nn.relu(tf.matmul(X,W1) + b1)   # relu 사용"
   ]
  },
  {
   "cell_type": "code",
   "execution_count": 3,
   "metadata": {},
   "outputs": [],
   "source": [
    "# Layer 2  :  은닉층 (hidden layer)\n",
    "\n",
    "# (3,2) * (2,3) = (4,3)\n",
    "W2 = tf.Variable(tf.random.normal([2,3]), name='weight2')\n",
    "b2 = tf.Variable(tf.random.normal([3]), name='bias2')\n",
    "\n",
    "def layer2(X):\n",
    "    return tf.nn.relu(tf.matmul(layer1(X),W2) + b2)  # relu 사용"
   ]
  },
  {
   "cell_type": "code",
   "execution_count": 4,
   "metadata": {},
   "outputs": [],
   "source": [
    "# Layer 3  :  출력층 (output layer)\n",
    "\n",
    "# (4,3) * (3,1) = (400,1)\n",
    "W3 = tf.Variable(tf.random.normal([3,1]), name='weight3')\n",
    "b3 = tf.Variable(tf.random.normal([1]), name='bias3')\n",
    "\n",
    "def hypothesis(X):\n",
    "    return tf.matmul(layer2(X),W3) + b3   # 2진 분류니까 sigmoid 사용"
   ]
  },
  {
   "cell_type": "code",
   "execution_count": 5,
   "metadata": {},
   "outputs": [],
   "source": [
    "# 비용함수 : (Hx - y)^2 의 평균\n",
    "def cost_func():\n",
    "    cost = tf.reduce_mean(tf.square((hypothesis(x_train) - y_train)))\n",
    "    return cost"
   ]
  },
  {
   "cell_type": "code",
   "execution_count": 6,
   "metadata": {},
   "outputs": [],
   "source": [
    "# 경사 하강법\n",
    "# learning rate (학습율) 을 0.01로 설정하여  optimizer객체를 생성\n",
    "# optimizer = tf.compat.v1.train.GradientDescentOptimizer(learning_rate=0.01)\n",
    "optimizer = tf.keras.optimizers.Adam(learning_rate=0.01)"
   ]
  },
  {
   "cell_type": "code",
   "execution_count": 7,
   "metadata": {
    "scrolled": true
   },
   "outputs": [
    {
     "name": "stdout",
     "output_type": "stream",
     "text": [
      "***** Start Learning!!\n",
      "0000 cost:[ 3190.3162 ]  W1: [[-0.19030666 -0.95028627]\n",
      " [-0.04964049 -0.7425406 ]\n",
      " [ 1.3131523  -0.61854804]\n",
      " [ 0.8440664  -0.08899953]\n",
      " [ 2.4388697   0.762508  ]\n",
      " [ 1.2559615   0.9801489 ]\n",
      " [ 1.5193121  -0.57500345]\n",
      " [ 0.8887044  -1.250801  ]\n",
      " [-0.8704956   1.260746  ]]  b1: [0.21652862 0.8106553 ]\n",
      "1000 cost:[ 88.61043 ]  W1: [[-3.1014013  -0.95028627]\n",
      " [ 4.0857925  -0.7425406 ]\n",
      " [ 0.30827984 -0.61854804]\n",
      " [ 1.0545223  -0.08899953]\n",
      " [ 3.8028882   0.762508  ]\n",
      " [ 1.02838     0.9801489 ]\n",
      " [ 3.6375985  -0.57500345]\n",
      " [ 0.17344998 -1.250801  ]\n",
      " [-0.39008543  1.260746  ]]  b1: [1.0987446 0.8106553]\n",
      "2000 cost:[ 69.31277 ]  W1: [[-3.367534   -0.95028627]\n",
      " [ 2.2513366  -0.7425406 ]\n",
      " [-0.40240067 -0.61854804]\n",
      " [ 1.5248399  -0.08899953]\n",
      " [ 5.861522    0.762508  ]\n",
      " [ 1.0075123   0.9801489 ]\n",
      " [ 3.799514   -0.57500345]\n",
      " [-0.09968434 -1.250801  ]\n",
      " [ 0.07650962  1.260746  ]]  b1: [2.1931107 0.8106553]\n",
      "3000 cost:[ 45.103134 ]  W1: [[-1.9989101  -0.95028627]\n",
      " [ 0.15082473 -0.7425406 ]\n",
      " [-1.1476456  -0.61854804]\n",
      " [ 1.6207637  -0.08899953]\n",
      " [ 8.861398    0.762508  ]\n",
      " [-0.01418926  0.9801489 ]\n",
      " [-1.5761521  -0.57500345]\n",
      " [ 0.02523343 -1.250801  ]\n",
      " [-1.0313424   1.260746  ]]  b1: [2.8263786 0.8106553]\n",
      "4000 cost:[ 30.491022 ]  W1: [[-5.6189966e-01 -9.5028627e-01]\n",
      " [ 4.1686751e-02 -7.4254060e-01]\n",
      " [-1.8733726e-01 -6.1854804e-01]\n",
      " [-3.5391572e+00 -8.8999532e-02]\n",
      " [ 1.0527510e+01  7.6250798e-01]\n",
      " [-1.1915396e-01  9.8014891e-01]\n",
      " [-2.2169397e+00 -5.7500345e-01]\n",
      " [-4.9527143e-03 -1.2508010e+00]\n",
      " [-1.6536710e+00  1.2607460e+00]]  b1: [0.8025436 0.8106553]\n",
      "5000 cost:[ 29.468338 ]  W1: [[-5.56225538e-01 -9.50286269e-01]\n",
      " [ 2.11002026e-02 -7.42540598e-01]\n",
      " [-1.12916440e-01 -6.18548036e-01]\n",
      " [-9.30496502e+00 -8.89995322e-02]\n",
      " [ 1.04865084e+01  7.62507975e-01]\n",
      " [-1.00949466e-01  9.80148911e-01]\n",
      " [-2.03214240e+00 -5.75003445e-01]\n",
      " [-2.75158230e-03 -1.25080097e+00]\n",
      " [-1.53395307e+00  1.26074600e+00]]  b1: [-2.3719988  0.8106553]\n",
      "***** Learning Finished!!\n"
     ]
    }
   ],
   "source": [
    "# 학습 시작\n",
    "print('***** Start Learning!!')\n",
    "for step in range(5001):\n",
    "    # cost를 minimize 한다\n",
    "    optimizer.minimize(cost_func,var_list=[W1,b1,W2,b2,W3,b3])\n",
    "    \n",
    "    if step % 1000 == 0:\n",
    "        print('%04d'%step,'cost:[',cost_func().numpy(),']',\n",
    "             ' W1:',W1.numpy(),' b1:',b1.numpy())\n",
    "        \n",
    "print('***** Learning Finished!!')"
   ]
  },
  {
   "cell_type": "code",
   "execution_count": 8,
   "metadata": {},
   "outputs": [
    {
     "name": "stdout",
     "output_type": "stream",
     "text": [
      "weight: [[-5.56225538e-01 -9.50286269e-01]\n",
      " [ 2.11002026e-02 -7.42540598e-01]\n",
      " [-1.12916440e-01 -6.18548036e-01]\n",
      " [-9.30496502e+00 -8.89995322e-02]\n",
      " [ 1.04865084e+01  7.62507975e-01]\n",
      " [-1.00949466e-01  9.80148911e-01]\n",
      " [-2.03214240e+00 -5.75003445e-01]\n",
      " [-2.75158230e-03 -1.25080097e+00]\n",
      " [-1.53395307e+00  1.26074600e+00]]\n",
      "bias: [-2.3719988  0.8106553]\n",
      "weight2: [[ 1.3828026  -1.3431921   0.95606345]\n",
      " [-2.242431    0.08975757 -0.11256858]]\n",
      "bias2: [-0.19609232 -0.03678353  3.847398  ]\n",
      "weight3: [[-1.1557841]\n",
      " [ 1.1945069]\n",
      " [ 2.4470327]]\n",
      "bias3: [3.96269]\n"
     ]
    }
   ],
   "source": [
    "# 회귀계수, weight과 bias 출력\n",
    "print('weight:', W1.numpy())\n",
    "print('bias:', b1.numpy())\n",
    "\n",
    "print('weight2:', W2.numpy())\n",
    "print('bias2:', b2.numpy())\n",
    "\n",
    "print('weight3:', W3.numpy())\n",
    "print('bias3:', b3.numpy())"
   ]
  },
  {
   "cell_type": "code",
   "execution_count": 9,
   "metadata": {},
   "outputs": [],
   "source": [
    "# 예측\n",
    "x_test = boston_test[:,:-1]\n",
    "y_test = boston_test[:,[-1]]\n",
    "\n",
    "preds = hypothesis(x_test).numpy()"
   ]
  },
  {
   "cell_type": "code",
   "execution_count": 10,
   "metadata": {},
   "outputs": [
    {
     "name": "stdout",
     "output_type": "stream",
     "text": [
      "RMSE: 3.79284\n"
     ]
    }
   ],
   "source": [
    "# 정확도 측정(RMSE)\n",
    "def get_rmse(y_test,preds):\n",
    "    squared_error = 0\n",
    "    for k,_ in enumerate(y_test):\n",
    "        squared_error += (preds[k] - y_test[k])**2\n",
    "    mse = squared_error/len(y_test)    \n",
    "    rmse = np.sqrt(mse)\n",
    "    return rmse[0]  \n",
    "\n",
    "print('RMSE:', get_rmse(y_test,preds))   "
   ]
  },
  {
   "cell_type": "code",
   "execution_count": null,
   "metadata": {},
   "outputs": [],
   "source": [
    "# RMSE: 4.0023303\n",
    "# RMSE: 3.79284"
   ]
  }
 ],
 "metadata": {
  "kernelspec": {
   "display_name": "Python 3",
   "language": "python",
   "name": "python3"
  },
  "language_info": {
   "codemirror_mode": {
    "name": "ipython",
    "version": 3
   },
   "file_extension": ".py",
   "mimetype": "text/x-python",
   "name": "python",
   "nbconvert_exporter": "python",
   "pygments_lexer": "ipython3",
   "version": "3.9.4"
  }
 },
 "nbformat": 4,
 "nbformat_minor": 4
}
