{
 "cells": [
  {
   "cell_type": "code",
   "execution_count": 1,
   "metadata": {},
   "outputs": [
    {
     "name": "stdout",
     "output_type": "stream",
     "text": [
      "(400, 9)\n",
      "(400, 1)\n"
     ]
    }
   ],
   "source": [
    "# Boston_Dataset_Linear Regression\n",
    "import tensorflow as tf\n",
    "import numpy as np\n",
    "import csv\n",
    "tf.random.set_seed(5)\n",
    "\n",
    "boston_train = np.loadtxt('boston_train.csv', delimiter=',', dtype=np.float32, skiprows=1)\n",
    "boston_test = np.loadtxt('boston_test.csv', delimiter=',', dtype=np.float32, skiprows=1)\n",
    "\n",
    "x_train = boston_train[:,:-1]\n",
    "y_train = boston_train[:,[-1]]\n",
    "print(x_train.shape)\n",
    "print(y_train.shape)"
   ]
  },
  {
   "cell_type": "code",
   "execution_count": 2,
   "metadata": {},
   "outputs": [],
   "source": [
    "# 변수 초기화 : weight, bias\n",
    "W = tf.Variable(tf.random.normal([9, 1]), name='weight')\n",
    "b = tf.Variable(tf.random.normal([1]), name='bias')"
   ]
  },
  {
   "cell_type": "code",
   "execution_count": 3,
   "metadata": {},
   "outputs": [],
   "source": [
    "# hypothesis 예측 함수(방정식)  , H(x) = W * X + b\n",
    "def hypothesis(X):\n",
    "    return  tf.matmul(X,W) + b  "
   ]
  },
  {
   "cell_type": "code",
   "execution_count": 4,
   "metadata": {},
   "outputs": [],
   "source": [
    "# 비용함수 : (Hx - y)^2 의 평균\n",
    "def cost_func():\n",
    "    cost = tf.reduce_mean(tf.square((hypothesis(x_train) - y_train)))\n",
    "    return cost"
   ]
  },
  {
   "cell_type": "code",
   "execution_count": 5,
   "metadata": {},
   "outputs": [],
   "source": [
    "# 경사 하강법\n",
    "# learning rate (학습율) 을 0.01로 설정하여  optimizer객체를 생성\n",
    "# optimizer = tf.compat.v1.train.GradientDescentOptimizer(learning_rate=0.01)\n",
    "optimizer = tf.keras.optimizers.Adam(learning_rate=0.01)"
   ]
  },
  {
   "cell_type": "code",
   "execution_count": 6,
   "metadata": {
    "scrolled": true
   },
   "outputs": [
    {
     "name": "stdout",
     "output_type": "stream",
     "text": [
      "***** Start Learning!!\n",
      "0000 cost: [ 3380.4307 ]  W:  [[-0.17030665]\n",
      " [-0.9402863 ]\n",
      " [-0.0296405 ]\n",
      " [-0.7325406 ]\n",
      " [ 1.3331523 ]\n",
      " [-0.60854805]\n",
      " [ 0.86406636]\n",
      " [-0.07899953]\n",
      " [ 2.4588697 ]]   b:  [0.23652864]\n",
      "1000 cost: [ 62.337715 ]  W:  [[-0.22907348]\n",
      " [ 0.15704152]\n",
      " [-0.23415782]\n",
      " [-0.55374384]\n",
      " [ 2.0969353 ]\n",
      " [-0.00413893]\n",
      " [-1.2355285 ]\n",
      " [-0.01346129]\n",
      " [ 1.1769998 ]]   b:  [0.04301887]\n",
      "2000 cost: [ 43.619274 ]  W:  [[-0.21055736]\n",
      " [ 0.11845101]\n",
      " [-0.26855505]\n",
      " [-0.02376889]\n",
      " [ 4.298945  ]\n",
      " [-0.02798385]\n",
      " [-1.5441726 ]\n",
      " [-0.0086548 ]\n",
      " [ 0.45516843]]   b:  [0.9228244]\n",
      "3000 cost: [ 36.123016 ]  W:  [[-1.8018964e-01]\n",
      " [ 7.6397866e-02]\n",
      " [-2.0762978e-01]\n",
      " [ 4.2566754e-02]\n",
      " [ 6.0564041e+00]\n",
      " [-4.8381824e-02]\n",
      " [-1.4871427e+00]\n",
      " [-6.0389778e-03]\n",
      " [-1.9743173e-01]]   b:  [1.7857461]\n",
      "4000 cost: [ 34.849686 ]  W:  [[-1.6464920e-01]\n",
      " [ 5.3313375e-02]\n",
      " [-1.6675107e-01]\n",
      " [-6.9249862e-01]\n",
      " [ 6.8752527e+00]\n",
      " [-5.4360446e-02]\n",
      " [-1.3683952e+00]\n",
      " [-4.4191224e-03]\n",
      " [-5.4338819e-01]]   b:  [2.5220294]\n",
      "5000 cost: [ 34.630127 ]  W:  [[-1.6099368e-01]\n",
      " [ 4.7722422e-02]\n",
      " [-1.5108058e-01]\n",
      " [-2.2039921e+00]\n",
      " [ 7.0557866e+00]\n",
      " [-5.3817470e-02]\n",
      " [-1.3494039e+00]\n",
      " [-3.8043640e-03]\n",
      " [-6.3172919e-01]]   b:  [3.3778584]\n",
      "6000 cost: [ 34.398834 ]  W:  [[-1.6050264e-01]\n",
      " [ 4.6896178e-02]\n",
      " [-1.4191701e-01]\n",
      " [-4.3419743e+00]\n",
      " [ 7.0563273e+00]\n",
      " [-5.1605716e-02]\n",
      " [-1.3767709e+00]\n",
      " [-3.3921436e-03]\n",
      " [-6.5746903e-01]]   b:  [4.722418]\n",
      "7000 cost: [ 34.18254 ]  W:  [[-1.6063765e-01]\n",
      " [ 4.6078097e-02]\n",
      " [-1.3394713e-01]\n",
      " [-6.8770561e+00]\n",
      " [ 7.0075717e+00]\n",
      " [-4.9709797e-02]\n",
      " [-1.4202337e+00]\n",
      " [-3.3133561e-03]\n",
      " [-6.9259185e-01]]   b:  [6.7902937]\n",
      "8000 cost: [ 33.909042 ]  W:  [[-1.6002144e-01]\n",
      " [ 4.5635365e-02]\n",
      " [-1.2836078e-01]\n",
      " [-8.9495468e+00]\n",
      " [ 6.9345965e+00]\n",
      " [-4.7826558e-02]\n",
      " [-1.4624060e+00]\n",
      " [-2.4795088e-03]\n",
      " [-7.3009890e-01]]   b:  [8.935076]\n",
      "9000 cost: [ 33.73651 ]  W:  [[-1.5987065e-01]\n",
      " [ 4.5093432e-02]\n",
      " [-1.2532440e-01]\n",
      " [-1.0604905e+01]\n",
      " [ 6.8538184e+00]\n",
      " [-4.6899039e-02]\n",
      " [-1.5010742e+00]\n",
      " [-2.1178320e-03]\n",
      " [-7.6684797e-01]]   b:  [10.949563]\n",
      "10000 cost: [ 33.601818 ]  W:  [[-1.5979342e-01]\n",
      " [ 4.4578411e-02]\n",
      " [-1.2355551e-01]\n",
      " [-1.1959943e+01]\n",
      " [ 6.7740407e+00]\n",
      " [-4.6341728e-02]\n",
      " [-1.5357002e+00]\n",
      " [-1.8498291e-03]\n",
      " [-8.0095309e-01]]   b:  [12.78422]\n",
      "***** Learning Finished!!\n"
     ]
    }
   ],
   "source": [
    "# 학습 시작\n",
    "print('***** Start Learning!!')\n",
    "for step in range(10001):\n",
    "    # cost를 minimize한다\n",
    "    optimizer.minimize(cost_func, var_list=[W,b])\n",
    "    \n",
    "    if step % 1000 == 0:\n",
    "        print('%04d'%step, 'cost: [', cost_func().numpy(), ']  W: ', W.numpy(), '  b: ', b.numpy())\n",
    "        \n",
    "print('***** Learning Finished!!')"
   ]
  },
  {
   "cell_type": "code",
   "execution_count": 7,
   "metadata": {},
   "outputs": [
    {
     "name": "stdout",
     "output_type": "stream",
     "text": [
      "Weight = [[-1.5979342e-01]\n",
      " [ 4.4578411e-02]\n",
      " [-1.2355551e-01]\n",
      " [-1.1959943e+01]\n",
      " [ 6.7740407e+00]\n",
      " [-4.6341728e-02]\n",
      " [-1.5357002e+00]\n",
      " [-1.8498291e-03]\n",
      " [-8.0095309e-01]]\n",
      "Bias = [12.78422]\n"
     ]
    }
   ],
   "source": [
    "# 회귀 계수 출력\n",
    "print('Weight =', W.numpy())\n",
    "print('Bias =', b.numpy())"
   ]
  },
  {
   "cell_type": "code",
   "execution_count": 8,
   "metadata": {},
   "outputs": [],
   "source": [
    "# 예측\n",
    "x_test = boston_test[:,:-1]\n",
    "y_test = boston_test[:,[-1]]\n",
    "\n",
    "preds = hypothesis(x_test).numpy()"
   ]
  },
  {
   "cell_type": "code",
   "execution_count": 9,
   "metadata": {},
   "outputs": [
    {
     "name": "stdout",
     "output_type": "stream",
     "text": [
      "RMSE: 4.0023303\n"
     ]
    }
   ],
   "source": [
    "# 정확도 측정(RMSE)\n",
    "def get_rmse(y_test,preds):\n",
    "    squared_error = 0\n",
    "    for k,_ in enumerate(y_test):\n",
    "        squared_error += (preds[k] - y_test[k])**2\n",
    "    mse = squared_error/len(y_test)    \n",
    "    rmse = np.sqrt(mse)\n",
    "    return rmse[0]  \n",
    "\n",
    "print('RMSE:', get_rmse(y_test,preds))"
   ]
  },
  {
   "cell_type": "code",
   "execution_count": null,
   "metadata": {},
   "outputs": [],
   "source": []
  }
 ],
 "metadata": {
  "kernelspec": {
   "display_name": "Python 3",
   "language": "python",
   "name": "python3"
  },
  "language_info": {
   "codemirror_mode": {
    "name": "ipython",
    "version": 3
   },
   "file_extension": ".py",
   "mimetype": "text/x-python",
   "name": "python",
   "nbconvert_exporter": "python",
   "pygments_lexer": "ipython3",
   "version": "3.9.4"
  }
 },
 "nbformat": 4,
 "nbformat_minor": 4
}
