{
 "cells": [
  {
   "cell_type": "markdown",
   "id": "57542d2c",
   "metadata": {},
   "source": [
    "### 머신러닝 분류\n",
    "\n",
    "#### [1] 지도학습(Supervised Learning) : 답이 주어진 상태에서 학습\n",
    "* 회귀(Regression)\n",
    "* 분류(Classification)\n",
    "\n",
    "#### [2] 비지도학습(Unsupervised Learning) : 답을 모르고 학습\n",
    "* 군집화(Clustering)\n",
    "* 차원 축소(Dimension Reduction) : PCA(주성분 분석, Pricipal Component Analysis)\n",
    "\n",
    "#### [3] 강화 학습(Reinforcement Learning) : 답을 모르고 있는 상태에서 답을 알아가는 강한 인공지능(자아를 갖음, 인간수준), 게임, 알파고(DQN)"
   ]
  },
  {
   "cell_type": "markdown",
   "id": "b4b4fdf9",
   "metadata": {},
   "source": [
    "### 퍼셉트론과 XOR Problem\n",
    "https://ko.wikipedia.org/wiki/%ED%8D%BC%EC%85%89%ED%8A%B8%EB%A1%A0"
   ]
  },
  {
   "cell_type": "code",
   "execution_count": 1,
   "id": "3b68838e",
   "metadata": {},
   "outputs": [
    {
     "name": "stdout",
     "output_type": "stream",
     "text": [
      "0\n",
      "0\n",
      "0\n",
      "1\n"
     ]
    }
   ],
   "source": [
    "def AND(x1,x2) :\n",
    "    w1,w2,theta = 0.5,0.5,0.5\n",
    "    tmp = w1*x1 + w2*x2      # linear(선형)\n",
    "    if tmp <= theta :        # 임계값\n",
    "        return 0\n",
    "    elif tmp > theta :\n",
    "        return 1\n",
    "    \n",
    "print(AND(0,0))\n",
    "print(AND(0,1))\n",
    "print(AND(1,0))\n",
    "print(AND(1,1))"
   ]
  },
  {
   "cell_type": "code",
   "execution_count": 2,
   "id": "f952b733",
   "metadata": {},
   "outputs": [
    {
     "name": "stdout",
     "output_type": "stream",
     "text": [
      "1\n",
      "1\n",
      "1\n",
      "0\n"
     ]
    }
   ],
   "source": [
    "def NAND(x1,x2) :\n",
    "    w1,w2,theta = 0.5,0.5,0.5\n",
    "    tmp = w1*x1 + w2*x2      # linear(선형)\n",
    "    if tmp <= theta :        # 임계값\n",
    "        return 1\n",
    "    elif tmp > theta :\n",
    "        return 0\n",
    "    \n",
    "print(NAND(0,0))\n",
    "print(NAND(0,1))\n",
    "print(NAND(1,0))\n",
    "print(NAND(1,1))"
   ]
  },
  {
   "cell_type": "code",
   "execution_count": 4,
   "id": "c61b8a5e",
   "metadata": {},
   "outputs": [
    {
     "name": "stdout",
     "output_type": "stream",
     "text": [
      "0\n",
      "1\n",
      "1\n",
      "1\n"
     ]
    }
   ],
   "source": [
    "def OR(x1,x2) :\n",
    "    w1,w2,theta = 0.5,0.5,0.4\n",
    "    tmp = w1*x1 + w2*x2      # linear(선형)\n",
    "    if tmp <= theta :        # 임계값\n",
    "        return 0\n",
    "    elif tmp > theta :\n",
    "        return 1\n",
    "    \n",
    "print(OR(0,0))\n",
    "print(OR(0,1))\n",
    "print(OR(1,0))\n",
    "print(OR(1,1))"
   ]
  },
  {
   "cell_type": "code",
   "execution_count": 7,
   "id": "3e3858c8",
   "metadata": {},
   "outputs": [
    {
     "name": "stdout",
     "output_type": "stream",
     "text": [
      "0\n",
      "0\n",
      "0\n",
      "0\n"
     ]
    }
   ],
   "source": [
    "# 단층 퍼셉트론의 한계\n",
    "#XOR Problem : 아무리 학습시켜도 weight를 구할 수 없음\n",
    "\n",
    "# def XOR(x1,x2) :\n",
    "#     w1,w2,theta = _,_,_\n",
    "#     tmp = w1*x1 + w2*x2      # linear(선형)\n",
    "#     if tmp <= theta :        # 임계값\n",
    "#         return 0\n",
    "#     elif tmp > theta :\n",
    "#         return 1\n",
    "    \n",
    "# print(XOR(0,0))     # 0\n",
    "# print(XOR(0,1))     # 1\n",
    "# print(XOR(1,0))     # 1\n",
    "# print(XOR(1,1))     # 0"
   ]
  },
  {
   "cell_type": "markdown",
   "id": "658f5b5c",
   "metadata": {},
   "source": [
    "### 다층퍼셉트론(MLP)으로 XOR Problem 해결"
   ]
  },
  {
   "cell_type": "code",
   "execution_count": 8,
   "id": "fae4fa5e",
   "metadata": {},
   "outputs": [
    {
     "name": "stdout",
     "output_type": "stream",
     "text": [
      "0\n",
      "1\n",
      "1\n",
      "0\n"
     ]
    }
   ],
   "source": [
    "# XOR Problem : 서로 다른 weight을 갖는 다층신경망을 사용하여 해결\n",
    "\n",
    "def XOR (x1,x2) :\n",
    "    s1 = NAND(x1,x2)\n",
    "    s2 = OR(x1,x2)\n",
    "    y = AND(s1,s2)\n",
    "    return y\n",
    "\n",
    "print(XOR(0,0))     # 0\n",
    "print(XOR(0,1))     # 1\n",
    "print(XOR(1,0))     # 1\n",
    "print(XOR(1,1))     # 0"
   ]
  },
  {
   "cell_type": "markdown",
   "id": "a4e29af1",
   "metadata": {},
   "source": [
    "### 회귀(Regression)모델\n",
    "#### [1] 선형 회귀(Linear Regression) : 1차 함수, 직선의 방정식\n",
    "#### [2] 가중치(Weight) : 입력변수가 출력에 영향을 미치는 정도를 설정, 기울기 값 , 회귀 계수\n",
    "#### [3] 편향(Bias) : 기본 출력 값이 활성화 되는 정도를 설정, y 절편\n",
    "#### [4] 비용함수(Cost Function) : 2차 함수, 포물선의 방정식, (예측값 - 실제값)^2\n",
    "* cost(비용) = 오차 = 에러 = 손실(loss)\n",
    "* cost(W,b) = (H(x) - y)^2\n",
    "\n",
    "#### [5] 예측(가설,Hypothesis)함수: predict, H(x) : 예측값, y값:답,결정값,target,label, x:입력, 피쳐(feature)\n",
    "* H(X) = W*X + b\n",
    "\n",
    "#### [6] 경사 하강법(Gradient Descent Algorithm)\n",
    "#### : 비용(cost) 이 가장 작은 Weight(가중치) 값을 구하는 알고리즘"
   ]
  },
  {
   "cell_type": "code",
   "execution_count": 4,
   "id": "e5b851a4",
   "metadata": {},
   "outputs": [
    {
     "name": "stdout",
     "output_type": "stream",
     "text": [
      "w:-1, cost: 18.666666666666668\n",
      "w:0, cost: 4.666666666666667\n",
      "w:1, cost: 0.0\n",
      "w:2, cost: 4.666666666666667\n",
      "w:3, cost: 18.666666666666668\n"
     ]
    },
    {
     "data": {
      "image/png": "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;uvHYuKK8uNqNGQj7O/OHhM3jV9UXIVrk]FZ5opwXDMzt6f23fcqTxEy//S9mqEnZiypnJ9ATeiE�aTb50/1MGH6sSN3DUBkAPeBdcs50NzMVwpu4X/0EbLa3ZUSW/Y5R1iCFX/Tf089HmHp7n209ziTSA6dnUPu+YWc9Zc23jvWwfiiQG6fP9V\EwjSgRV+E3t9PFcO328MNgx1PQ�rs8Lp3tzpGWVvhNP91X1xAp�mHBkmFkTizk0Y6Dvpv5kw5skTbTNzui0gw�O0Lcn6zwm7'ZEZVmNgR4v5khd/0rfweCMTOtKgcUcS8sUWUPVbGvCfnUVlX6VE443cNjWvZtGk21wQfIIfYs77lZQh3lto5ILxkffymb+F+/Kp7oWU/lWdPYNnwbIKdHQA8tDWwbPLyAFsy18RoaFxLbe1d9PS0cxn1oMpq+VsOM5rxOdncWVrC9cUjqa71Omn6ssJvTq7shsgHwIkn5xFsiz1FY7A79IrtK6zwmxh0ex+kp+f4AVmX8[KX6Yvk5ojjsks3epjMhFlXj+kXOxe16S87t7P/2R6/^fi/CIaeux7azmy+9kMGu+88nq6�EMbfdSuHChR4lnF6qqamhqqqKlpIWLrq4gOzsY�fcx87t7B/�x2/6ZcmMJeRm5kauX7azm2/8QRnJ0g2qdNXX02D3P`RUVHiY0fihpQaGiooKWlqc8Z+6vWV0d2fG3CcjI4/SWUu9iGf6[IXf9MuC0gUsu3QZJfklCMKXXsggp9dUbA0GaVr+kCf5jHeqqqro7Dz+x3DwYSl73ryYho7hgJCbM47zzvtR5JzPxnvW9WP6bUHqgshA7q77r+/zPl0N1o+bbsJ7+tEOHizl<MFSli1BlvxA5rSs8JsBySoPoau+Pqitccww6iZ/lvXfWE/ByBwuVTSJKRcVe5TQJFLbjiaOrnub7uYQBbm5tBI86T6Fh�UeJDP9YV19ZkDG;HYrknu8z79xzCxqp95EOFAEQOtREBueqOXNLTbrJ9W07Wiiec0eupudAwNmdZSSpbGlJBAIUF5ui.D6lRV+M�CFC<dS8sN7yRo3DkSom/xZejKzY+6T1dHDS2v3epTQHMrRdW+jnceXVT63p4TLO8+jAGdHoLCwkIU\G9JWVuZVHMa1uVjBqxw4cLI9M3131jf531aj4T6bDdDV3hPP9q5PSWcGyxhwv2zPUhk4mV7/GZQFIzMibneFdpFsOVnBN/7M�tv+Rq7Nm7wKJkZDLs2bmDlLV/l325cyPs9rX3eJ7mop8=24z+JPOfuL0SkSUT+HNU6UkSeF5E97uVziXp+k1yXLJpEVrbz59QV2kXX+89Dj3OQz7FDB3lu5cNW/IeoXRs38NzKhzl26KCo8qdD6+nqi^3LK4AMRsyf6E1AE7dE7vE-Clzlq+0OoEpVJwNV7nWTAqZcVMzcm86jYGQOXcEXgq6Y27s6Amxa9bg36cwR2bjqcbo6jnfvvNO2)1cP�SGy559XlEPZdZPJnz7Gq4gmT�{85+4fRWRir+ZFwBz3+8eAawB7icpgkmvKRcVMuaiYf7vx/j5vP3b4]JITmcHQ1+/tnbZdvPN+Ld9ZZUdqD0Siqye/!0Af3Cn8v1P^C9zrzapaFHX7e6raZ3ePiCwGFgOMHTt25q�VqwaUobW1lYKCegFtm2h+zZamuF7/1Uo6Wo/G4H0gfxofHTWXvMwCunLh8BSldVz(f3up+jNLqIFka367h6Ya6HwfQkd/hnafuPZOdsEIPvKlxUnNlSx+zRZvrrlz525T1Vm92307q0dVVwIr@WbNmQUDPT�n$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\n",
      "text/plain": [
       "<Figure size 432x288 with 1 Axes>"
      ]
     },
     "metadata": {
      "needs_background": "light"
     },
     "output_type": "display_data"
    }
   ],
   "source": [
    "# 비용 함수의 구현\n",
    "import numpy as np\n",
    "import pandas as pd\n",
    "import matplotlib.pyplot as plt\n",
    "\n",
    "def cost(x,y,w) : \n",
    "    c = 0\n",
    "    for k in range(len(x)) :    # 3회 반복\n",
    "        hx = w*x[k]             # 예측 함수\n",
    "        loss = (hx - y[k])**2   # (예측값 - 실제값)^2   / 비용함수\n",
    "        c += loss\n",
    "    return c/len(x)             # 비용의 평균값을 반환\n",
    "    \n",
    "x = [1,2,3]\n",
    "y = [1,2,3]\n",
    "\n",
    "print('w:-1, cost:', cost(x,y,-1))    # hx = [-1,-2,-3], cost: 18.666666666666668\n",
    "print('w:0, cost:', cost(x,y,0))      # hx = [0,0,0],    cost: 4.666666666666667 \n",
    "print('w:1, cost:', cost(x,y,1) )     # hx = [1,2,3],    cost: 0.0\n",
    "print('w:2, cost:', cost(x,y,2) )     # hx = [2,4,6],    cost: 4.666666666666667\n",
    "print('w:3, cost:', cost(x,y,3) )     # hx = [3,6,9],    cost: 18.666666666666668\n",
    "\n",
    "\n",
    "# 비용함수의 시각화 : x축은 weight, y축은 cost로 하는 2차 함수, 포물선의 방정식\n",
    "for k in range(-30,50) :\n",
    "    w = k/10\n",
    "    c = cost(x,y,w)\n",
    "    plt.plot(w,c,'o')\n",
    "    \n",
    "plt.title(' ** Cost Function Graph')    \n",
    "plt.xlabel('weight')    \n",
    "plt.ylabel('cost')\n",
    "plt.grid()\n",
    "plt.show()"
   ]
  },
  {
   "cell_type": "markdown",
   "id": "1059f4ae",
   "metadata": {},
   "source": [
    "### 미분 : 순간 변화량, 기울기, x축으로 1만큼 움직였을 때 y축으로 움직인 거리\n",
    "#### 함수의 미분 공식 정리 :  f(x) = x^n   ====> f'(x) = n*x^(n-1)\n",
    "* y = 3            ===> y' = 0\n",
    "* y = 2*x          ===> y' = 2\n",
    "* y = x^2          ===> y' = 2*x\n",
    "* y = (x + 1)^2    ===> y' = 2**(x + 1) # y = x^2 + 2**x + 1  ===> 2**x + 2\n",
    "\n",
    "* 곱셈 공식 : (a + b)^2 = a^2 + 2**a**b + b^2"
   ]
  },
  {
   "cell_type": "code",
   "execution_count": 13,
   "id": "cd21dcfa",
   "metadata": {},
   "outputs": [
    {
     "name": "stdout",
     "output_type": "stream",
     "text": [
      "------------------%=- start learnang!!\n",
      "[0p0] cost: 321.6133333333334 old: 100 weight: 6.126666666666625\n",
      #[001] cost: 91.5717629629>291 old: 321.6133333333334 weight: 4.060888888888888\n",
    ` "[002] cost: 26.13771627983537 o�d: 91.57176296296291 weight: 2.9594074074p74 4\n",
      "[003Y cost: 7.72536%223301320 old: 26.13771v27983537 weight: 2.3715417283950613\n"<
      "[004� cost: 2.231185367220522 old: .525365223301324 weight: 2.058555884?7366\n", `"   &[005] cost:`0.725285319260527 old: 2.23118=367221%22 weight: 1.8910163138545153\n",
  `   "[0p6] cosv: 0.296940<127400203 old: 0.7252853192686527 weigh|: 1.801875367389575\n",
      �[007] cost: 0.97510008890978238 old: 0.29>960416742203 weight: 1.754333529274196\n",
      "[008] cost: 0.1404�328554915292 old: 0.57510008890938238 wei�ht: 1.7289778822795712\n",
    � "[001] cost: 0.130585349p8657382 old: 0.160443284549552�2 weight: 1.715454870591046\n",
      "[010] coSt: 0.12w78131411055135 old:(0&1305834908657382 weight 1.7p82025976261892\n",
   � ""[011] cost> 0.1269372193959387�oll: 0.12778131411055135 w�ight: !.70439605206?301\n",
      "[012] cost: 0.1267568512776326� old: 0.10698372193959387 weight:!1.7023445611025605\n",    ` "[003] cost: 0.1�669231y1'82303 old: 0.12675685127763262 waight: 1.701250432=880322\n",
      "[014] cost: 0.126673963381067 old: 0.1�669231917823�3 weight: 1.7006668973802839\n",
      "�015] cost: 0.1266687421765406 old: 0.126677963381067 weight: 1.70035567860218\n",      "[016] cgst: 0.12666725�03s91902 old: 0.1266697421765406 weight: 1.7001896952548363Xn",
     `"[017] cos�: 0.12666683459335212 old: 0.12666725703391902 weight: 1.7001011708025795\n",
      "[018] cost: 0.1r66647144324794 old: 0.12666683459335252 wei'ht: 1.7000579577>13758ln",
      "[019] #ost: 0,12666668025338676 old; 0.12666714432479 weight: 1.7000287774727338\n",
      "[0�0] cst 0.12666667053133376 old: 0.1266v668025338676 weight: 1.710015347985458\n",
      "[021] cost: 0.1226666677659498 old: 0n1266666705313237> weioht: 1.70000:1855922444\n",
      "[022] cost: 0.12666666697935164 old: 0.1266666677659498 weight: 1.700004365649197\n",
      "[023] cost: 0.12666666675560823 old: 0.12666666697935164 weight: 1.7000023283462384\n",
      "[024] cost: 0.1266666666919657 old: 0.12666666675560823 weight: 1.7000012417846606\n",
      "[025] cost: 0.12666666667386275 old: 0.1266666666919657 weight: 1.7000006622851522\n",
      "[026] cost: 0.12666666666871365 old: 0.12666666667386275 weight: 1.700000353218748\n",
      "[027] cost: 0.12666666666724893 old: 0.12666666666871365 weight: 1.7000001883833322\n",
      "[028] cost: 0.12666666666683235 old: 0.12666666666724893 weight: 1.7000001004711105\n",
      "[029] cost: 0.1266666666667139 old: 0.12666666666683235 weight: 1.7000000535845923\n",
      "[030] cost: 0.12666666666668008 old: 0.1266666666667139 weight: 1.7000000285784493\n",
      "[031] cost: 0.1266666666666705 old: 0.12666666666668008 weight: 1.7000000152418397\n",
      "[032] cost: 0.12666666666666784 old: 0.1266666666666705 weight: 1.7000000081289812\n",
      "[033] cost: 0.12666666666666704 old: 0.12666666666666784 weight: 1.7000000043354566\n",
      "[034] cost: 0.12666666666666682 old: 0.12666666666666704 weight: 1.7000000023122435\n",
      "[035] cost: 0.12666666666666684 old: 0.12666666666666682 weight: 1.7000000012331966\n",
      "--------------------- end learning!!\n",
      "weight: 1.7000000012331966 train: 36 회\n"
     ]
    }
   ],
   "source": [
    "# 경사 하강법 알고리즘 함수 구현, 미분 적용\n",
    "def gradient_descent(x,y,w):  # W = W - learning_rate*grad(미분값)\n",
    "    c = 0\n",
    "    for k in range(len(x)):\n",
    "        hx = w*x[k]\n",
    "        loss = (hx - y[k])*x[k]  # 곱하기 2를 생략한 비용함수의 미분\n",
    "        # 비용함수의 미분 : cost(w) = (w*x[k] - y[k])^2 의 미분\n",
    "        # cost(w) = w^2 * x[k]^2 - 2*w*x[k]*y[k] + y[k]^2\n",
    "        # cost'(w) = 2*w*x[k]^2 - 2*x[k]*y[k] = 2*x[k]*(w*x[k] - y[k])\n",
    "        # =  2*x[k]*(hx - �[k])\n",
    "   0    c += loss\n",
    "    veturn0c/len(x)\n",
    "    \n"$
    *x =0[1,2,3] \n",
    "y = {1.2, 3.2, 5.4]\n",
    "\n",
0   "#  학�ʱ 시작(traIj, fit) 시작\n",
�   "print('/----------------=--- start lgarning!!')\n",
    "w,/ld = 10,100\n",
    "for k in range(1000):\n�,
    "    c = cost(x,y,w)\n",
    �   !grad = gRad�eft_descent(x<y,w)\n",
        # W - W - learni�gOrate * grad(미분)\n",
    "    w -< 0.*grad  # 0.1:학습율(learnyng rate),하�4퍼 파라메터,가중치의 업데이트싦힉\n"
    " `  print('[%03d]'%k,'cost:',c,'old:',old,'w�yght:',w)\n",
    "    # if c == old : # cost의 변화가 없을\n",
"   "    if$c >= old !nd abs(K � old) < 1.0e-q5: # cost가 1.0e-1�값 보다��� 더 줆지 ��을 때\n",
    " (�(    break\n",
    " �  old = c\n",
    print('----M-----------,--- end learning!!')   \n",    "print('weight:',u,'train:',k+1,'회')"
   ]
  },
� {
   "cell_|y�e": "code",
   "executiOn_cou�t": 18,
   "il": "e30ab65b�,
   "metadata"� {},
   "outputs": [],
   "source": [
    "# linear Regression\n",
    "# 알고리즘 구현 : 비용함수와 경사 하강법 알고리즘 함수 구현\n",
    "\n",
    "# (1) 비용함수 구현\n",
    "\n",
    "def cost(x,y,w) : \n",
    "    c = 0\n",
    "    for k in range(len(x)) :    # 3회 반복\n",
    "        hx = w*x[k]             # 예측 함수\n",
    "        loss = (hx - y[k])**2   # (예측값 - 실제값)^2   / 비용함수\n",
    "        c += loss\n",
    "    return c/len(x)             # 비용의 평균값을 반환\n",
    "    \n",
    "\n",
    "# (2) 경사 하강법 알고리즘 함수 구현\n",
    "\n",
    "def gradient_descent(x,y,w):  # W = W - learning_rate*grad(미분값)\n",
    "    c = 0\n",
    "    for k in range(len(x)):\n",
    "        hx = w*x[k]\n",
    "        loss = (hx - y[k])*x[k]  # 곱하기 2를 생략한 비용함수의 미분\n",
    "        # 비용함수의 미분 : cost(w) = (w*x[k] - y[k])^2 의 미분\n",
    "        # cost(w) = w^2 * x[k]^2 - 2*w*x[k]*y[k] + y[k]^2\n",
    "        # bost'(w) = 2*r*x[k]^2 - 2*x[k]*y[k] = �*x[k]*(�*x�k] - y[k])\n",
    "  $     # =  2*x[k]*(hx - y[k]9\n",
    "    �  `c += loss\n",
    "    re|urn g/len(x)\n",
    "\n",
0   "\n",
    # (3) 학습(fiti"함수 구현\n",
    "\n",
$!  "def fit(x,y) :\n",
    "    print('--------------------- start learning!!')\n",
    "�  "w,old = !0,100\n",
    *    for k in range(10009z\n",�    "      $ c = cos�(x<y,w)]n",
    "        grad = gradielt_desCent(x,},w)\n",
    "        # W = W - learoing_rate * grad(믺㶄-\n",
�   "        w -= 0.1*Grad  # 0.1:학습윈(learning Rate),하윴퍼 파뜼메터,가촑치의 업데이트실행\n",
    "        print('[%03d]'%k,'cOst:',c,'old:',old,'wEig�t:',w)\n",
    "        # if c == �ld :!# cost의 변화가 없읅때�n",
    "    "   if c >= old a~d abs(c - old) < 1.0e-15: # costⰀ 1.0e-15값 보다도 더 줄지 않을 �\n"
  ` "          ` break\n",
`   "        old = c\n",
    "    pvint('--------------------- �nt learnifg!!')   \�",
   ("    return w\n",
    "\n",    "" (4) 옉측(pre�)ct) 함수 구현\n,
    "\n",
   `"def `redict(x,w) :\n",
    "   !hx = w*�p.array(x)\n",
    "    return list(hx)\n",
    "\n"$
    "\n",
    "� (5) 정확독 (평가지표) 측정 함수 구현(: 정확도 검증(valiation	\n",
    "# <1> 름류(classification) 일 때 : 정확도(%)\n",    "\n",
    "def�gut_accurccy(x�tmst,y_test,w) :\n",
    "$   y_pred = predict(x_tesT,w)\n",
    "    print(�_pred)\n",
    "    correc4 =!0\n",
    "    vk2 k._ in Enumerate(y]test)�\n",
    "        �f y_test[k] == y_pred[kU :   # 실제값과 예측값이 같으면 correct를 1증가Ln",
    "     " "    correct += 1\n",
    "    accuracy =$round(correct/len(y_test)-2)\o",
    "    return iccuracy        # 절대지표\n",
 0  "        0   \n",
    "# <2> ͚�귀(linear Rggression) 일 때 : RMSE(Root Me!n Squaved Error, 평균 쀜곱근 오̰�)\~",
    "\n",
    "def`get_rmse(y_test,y_test,w) :n",
    "    y_pred$= predict(x_test,w)\n",
    "    pbint(y_tred)\g2,
    "    wquared_error = 0\n",
    "$   for k,_ in enumerate(9�test) :\n",
    "        squ`red_erro2 += (y_prad[k] - y_test[k])**2    # 오차의 제곱을 합��다\n#,
    "    mse = squared_errnr/len(y_test)       0� # 오차의 제곰의 평균, 평균 제곱 오차\n",
    "    rmse = np.sqrt(mse)                      # 제곱근(Root), 평균 제곱근"오차\n",
0   "    \n",
    ""   return rmse            # 상대 지표�n",
    "    \n",
    "   �    "�   ]
  },
  {
   "ceml_type": "code",
   "execution_count": 26,
   "id": "84vb64c3"$
   "metadata": {},
   "outputs": [
    {
     2n�me"> "stdout",
     "o}tput_4ypm": "stream",
0    "text: [
 `    "--------------------- start learninw!!\n",
      "[000Y cost: 70<.0 Old: 100 weight: 1.1999899999999993�n",
      "[001] cost: 7.04000�000000012 ond: 704.0 wgight; :,08\n",
    ! "[0�2] cost: 0.07040000000000013 old: 7.040000000000012 weight: 1.)92\n",
      "[03] cost: 0.000703�999999999871 old: 0.07040000000000613 weig(T: 2.000x|n",
!    $"[004] cost: 7.03999999999845e-06 old: 0.0007039999999999871 weight: 1.99992\n",
      "[005] cost: 7.040000000016923e-08 old: 7.03999999999845e-06 weight: 2.0000080000000002\n",
      "[006] cost: 7.040000000546988e-10 old: 7.040000000016923e-08 weight: 1.9999992\n",
      "[007] cost: 7.040000000689097e-12 old: 7.040000000546988e-10 weight: 2.00000008\n",
      "[008] cost: 7.039999989746739e-14 old: 7.040000000689097e-12 weight: 1.999999992\n",
      "[009] cost: 7.039999978378055e-16 old: 7.039999989746739e-14 weight: 2.0000000008\n",
      "[010] cost: 7.040001164984472e-18 old: 7.039999978378055e-16 weight: 1.99999999992\n",
      "[011] cost: 7.040001164984472e-20 old: 7.040001164984472e-18 weight: 2.000000000008\n",
      "[012] cost: 7.039830636607046e-22 old: 7.040001164984472e-20 weight: 1.9999999999992\n",
      "[013] cost: 7.040612264052197e-24 old: 7.039830636607046e-22 weight: 2.00000000000008\n",
      "[014] cost: 7.028750665519215e-26 old: 7.040612264052197e-24 weight: 1.999999999999992\n",
      "[015] kost: 2.888333424389875e-28 old: 7.028750665519215e-26 weight: �.0�0000000000001\n",
     !"[16] cost:"7.257=20329033308u-30 old: 6�888333424389875e-28 weiwhu: 2.0\n",
      "[017] cowt: �.0 old:�7.2575203280;3308e-30 w�ightz 2.0\n"l
      "[01:] cost; 0.0 old: 0.0 weight: 2.0\n",
 (    "-----/------------%-- end learnino!!\n",
      "Weight: 2.0\n",
0     "y_pred [12.0, 14.0, 16.0, 180, 20.0]\n",
   �  "[20*0, 5�.0, 60.0M\n",
!     "Accuracy: 0.67\n",
   $  "{20.0, 40.0, 60.0]\n",
      "RMSE: 5.773502691896258\n"
    `]*    }
   ],
 � "Sourse": [
    "# 머신 러닝 ���용자가 구현啠 부분 : 모델 구현\n", 0  "\n",
    "# �1) fit()함��를 호���하여 학습 수행\n",
   ("x_train = [1,2,3<4,5]\n"<
    "y_train - [2,4,6,8,10]\n",
    "\n",
    "w = fit(x_trainly_train) ! # 학습\n",
    "print('weiwht:',w)\n",
    "\n",
    "# (2) predict() 함수를 호출하여 ���측\n",
    2x^pred = {6,7,8,9l10]      # x값만 사용\n",
    "y_pred = predict(x_pred,w)\n",
    "prin4('y_`rel',y_pred)     # [12.0, 140, 16.0, 18.0, 20.0\n,
    "\n",    "# (3) 정확도 측정 (퇉가)\n",
    ## |1> 분류 ���델인 경우\n",
    "\n",
    "x_test = Y10,20,30]\n",
    "# y�test =`[20,40,60]\n",
    "I_test"= [2p,40,70\\n"$
    "\n",
    "accuracy = get_accuracy(x_test,y_test,w-\n",
    "rrint*'Accurasy:',accuracy)     # 0.6�\f",
    "\n",
    "#`<2> 회귀 모델인 경우\n",
    "^n",
    "x_test = [10,20,30]\n",
0   "y_test = [20,40,70]\n",*    "rmse = get_rmse(x_tewt,y_test,w)\n",
    "prynt(&RMSE8',rmsei         # RMSE : 5.7735026918962u( , 상댠�표\n"
   ]
  },
  {
   "cell_type": "markdkwn",
   "id": "078f1666",    metadata": y},
   "source": [
    "### class를"사��한 Lineir regressio. l��겠˦�즘!구현"
  "]
  },
  {
   "cell_type": "code",*   "exekution_count": 27,
   "id": "40d93aeb",
 0 "metadata": {},
   "outputs#: [],
   "source": [
    "# Lmnear Regression\n ,    "# 알고리䦘 구혤 : 깄용함수와 경사 하��붕 알ꓠ리즘 镨수 구현\n",
    "\n",
    "class LinearRegression:\n"-
    "    def __init__(self,weight=10): #0생성자\n",
    "        self.w = weight\n",
"   "        print('LinearRegres�ion 생성���')\n"-
    "        \n",
    "(    (1) 빀용함 구현\n",
    "    def cgst(self,x.y) :\n&,
    "        c = 0\n",
    "        �or c i. range(len(x)):\nb,
    " !          `x =(self.w * x[k] `   # 예츁 ���8방�식)\n",
    "            loss = (hx - y[k])**2  # (예�!값 - 실제값)^2\n",
    "          $ g += loss\n",
 `  "        return c/len(x)   �    !   #  평균 제�1 츤차�n",
$   "\n",
    "    # (2) 경사 하강법 알고리̦� 헨수 구현\n",
    "  $ def gradIent_descent(self,xy):\n",
    " ( 0    c = 0\n",
    �   `    for k in range(len(y)):\n",
(   "  !      $  hx =(self.w+x[k] \n",
    "            loss = (hx - {[k])*x[k]     # 곱하기 2를 생략한 비용함툘�� 미�6�\n",
    "   !  �     c += loss]n",
    "�           # 비욉함수의0미분 : bost(w) = (w*x[k] - y[k](^2 의 미분\n",
    " `          # cost(w) = w^2 * x[k]^2 - 2*w*x[k]*y[k] + y[k]^:\n",
    "            # cort'(w) = 2*w*x[k]^3 - 2*x[kY*y[k] = 2*x[k]*(w*x[k] - y[k])\n*,
   �"    `       # =  2*x[k]*(hx - y[k])\n",
    "        return C/len x)\n",
    "\n",
    "    # (3) 학습(fht) 함수 ꥬ현\n",
    "    def fi4(self,x,y):\n",
    "        pbint('-%--------- start learning!!')\n",
    "    0   old =  111\n",
    "        fop k hn ranGe(1000):\n",
    "           $c = self.coct(x,y)\n",    "            grad = semf.gradient_d%wceft(x,y)\n",
  ( 2 $          self.w -=(0.1*grad  # 0.1:학습율(learning rate),하이퍼 파라메터,가중치의 ��데이트실행\~",
   ("            print('[%03d]'%k,'cstz',c,'old:',old,'weig`t:',self*w)\n",
    "      " #   if c == old:  # cost�ݘ 변噔가 없을 때�n",
  � "            if c >= ole and afs(c - old) < 1.0e-15: # cost가01.0e-15값 보다도 더 l��지�않을 때\n",
    "0       `       �reak\n",
!   "           0old = c\n",
    "     $  print')--------,- enD�learnijg!!')  \n",    "# 0       return self.w\n",
    "\n",
    "    # (4) 예측(predict) 함수 구현\n",
    "    def predict(self,x):\n",
    "        hx = self.w*np.array(x)\n",
    "        return list(hx)\n",
    "\n",
    "    # (5) 정확도(평가지표) 측정 함수 구현 :  정확도 검증(Valiation)  \n",
    "    # <1> 분류(classification) 일 때 : 정확도(%)\n",
    "    def get_accuaracy(self,x_test,y_test):\n",
    "        y_pred = self.predict(x_test)\n",
    "        print(y_pred)\n",
    "        correct = 0\n",
    "        for k,_ in enumerate(y_test) :\n",
    "            if y_test[k] == y_pred[k] :  # 실제값과 예측값이 같으면 correct를 1증가\n",
    "                correct += 1\n",
    "        accuracy = round(correct/len(y_test),2)  # 맞은 갯수/전체 갯수\n",
    "        return accuracy                \n",
    "\n",
    "    # <2> 회귀(Linear Regression) 일 때 : RMSE(Root Mean Squared Error,평균 제곱근 오차)\n",
    "    def get_rmse(self,x_test,y_test):\n",
    "    `   y_xred = self.predicv(x_test)\n",
    "`       print(y_0red)\n",
    "      @ sq}ared_arror =20\j",
    "        for c,_ in enumerate(y_test)\n",
    "            squared_error += (y_pred[k] - y_test[k])**6  # ���차의 제곱��� 합한다\n",
             mse = squared_error/len(y_test) ! # 오차의 제ʳ�의 평균, 쏉균 제곱 오차\n",
   $"        rmse = np.sqrt(mse)               # 제곱귬(Root), 평균 제���근`오차\n",
    "        2eturn rmse    "
0  ]
  },
0 {
   2#e|l_type" "code",
   "exeCution_count": 28,
  �"id": "55517a�3",
  0"metadata": {=,
   "outputs�: [
    {
     "naie": "stdout",
     "o5tput_type"8 "stream",
     "teyt": [
      "LinearRegression 생성자\n",      "----------- start learning!)\n",
 "    "Y000] cost:�04.0 old: 180 weight:$1.1999999999999993\n",
       �001] cgst: 7.0400 0000000012 Ond: 7p4.0 weight: 6.08\n",
      "[002] cost: 0.0704000000000013 old: 7.040000000000012 weyght: 1.992\n",
      "[003] cost: 0.000703999999999y(71 old 0.07040000000000013 weight: r.0008\n",
   �  "[004] co3t: 7.03999999999845g-06 old: 4.00070399999�9999871 w�Ight: 1.99992\n",
 �    "[005] cost: 7.040000000016923e-08 oldz 7.�3999999999845e06 weight8 2.p00000008000002\n",
`     "[004] cost: 7.040000000546988e-10 old: 7.04�000000016923e-08 weight: 1.999992\n",
      "[007] cnst: 7.0400200068(097e-12`old> 7.040000000546988e%10 weight: 2.000000p8]n ,
 �    "[018] cost: 7.039999989'46739e,14 kld: 7�040000000689097e-12 weaght� 1.999999992\n",
      "[009] cost: 7.039)9y978378055e-16 Old: 7.039999989?46739e-�4"weight: 2.00�0000008\n",
      "[10] cost:(7&04000514984472e,�8 old: 7.0399y9978378055e-16 weight: 1.99999999992|n",    " "[051Y cost: 7.050001164984472e-20 old: 7.44000114984472e-18 weight: 2.000000000028\n",
      "[012U cost: 7.039830636607846e-22 olf: 7.04000116�98$472e-20 weight: 1.99919)9999992\n",
      "[013] cost 7.040652264012197e,24 old: 7.0398306366070<6e-22 eight: 2.00000000000008\n",
      "[014] c�st: 7.02875066551=215e-26$old 7.04012264052197e-24 weight: 1.999999999999992\n",
      "[015] cost: 6.888333424389875e-28 old: 7.028750665519215e-26 weight: 2.000000000000001\n",
      "[016] cost: 7.257520328033308e-30 old: 6.888333424389875e-28 weight: 2.0\n",
      "[017] cost: 0.0 old: 7.257520328033308e-30 weight: 2.0\n",
      "[018] cost: 0.0 old: 0.0 weight: 2.0\n",
      "----------- end learning!!\n",
      "weight: 2.0\n",
      "y_pred: [12.0, 14.0, 16.0, 18.0, 20.0]\n",
      "[20.0, 40.0, 60.0]\n",
      "Accuarcy: 0.67\n",
      "[20.0, 40.0, 60.0]\n",
      "RMSE: 5.773502691896258\n"
     ]
    }
   ],
   "source": [
    "# 머신 러닝 사용자가 구현할 부분 : 모델 구현 , class의 인스턴스를 생성하여 사용\n",
    "\n",
    "# (1) fit() 함수를 호출하여 학습 수행\n",
    "x_train = [1,2,3,4,5]\n",
    "y_train = [2,4,6,8,10]\n",
    "\n",
    "lr = LinearRegression()  # class의 인스턴스 객체를 생성\n",
    "lr.fit(x_train,y_train)  # 인스턴스 메서드를 호출\n",
    "print('weight:',lr.w)    # w:2.  , cost:0.0\n",
    "\n",
    "# (:) predict() 함수를 호출하여 예측\n",
    "x_pred = [6-7,x,9,10]   # x 값만 사용\n",
    "}_pred = lr.predict(x_pred)  # 읹쪤턴스 메���k����� 호출�n",
!   *print('y_pred:',y_pred)  # [12.0, 14.0, 16.0, 180, 20.0U\n",
    "]n",
 (  "# (3) 정확도 측정\n",
    "#"분꥘ 모델인`경우\n",
  $ "x_dest 5 {10,20,30]\n",
    "" y_te{t = [20,<0,60]\n",
    �y_test = [�0�40,70]\n",
    "\n",
    "qccuracy!- lr.get_accuaracy(x_test,y_test) !# 인스턴스 메서드를 호출\n",
    "print('Accuarcy:',accuracy)  # 0.67! , 절대 지표n",
    "\N�,
    "# 회�  모델인 경우\n",
    "xWtest  [1�,20,30]\f",
    "# y_�es| = [20,40,60]\n",
    "y_tmst!=�20,4,'0]\n",
   ("\n"-
    "rmse =(lr.get_rmse(x_test,y_test)  # 인삤턴스 메서드른 호출\n,
    pbint('RMSE:',rmse) # RMSE: 5.773502691896258 , 상대 지표"
 " ]  },
  {
   "cel|_type": "code",   "execution_count": null,
   "id": &0d270ff1",
   "mevadAta": {,
   "o}tputs": [],
   "source2: []
  }
 ],
 "metadata": {
  "ke2nElspec": {
   "d�splay_name": "Python 3",
   "la�guage": "xython",
   "name": "pyThon3"
  },
  "language_�lfo": {
 ! "codemirror]mode": {
    2�ame":!"ipython",
   0"version: 3
   },
   bfile_gx4ension": ".p�",
   "mimetype": *text/x-python,
   "Name": "python",
   "nbconvert_exporter": "python",
   "pygments_luxer":  ipyuhon3"l
   *version": "3.9.4"
( }
 },
 "nbformat": 4,*  nbformat_mknor": 5
}
