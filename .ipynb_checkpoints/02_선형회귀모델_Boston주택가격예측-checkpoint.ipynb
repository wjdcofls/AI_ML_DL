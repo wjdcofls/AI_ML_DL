{
 "cells": [
  {
   "cell_type": "markdon",*   2id": "a77�ee97",
   "meta�ata�: {},
   "source": [
    "### boston 주탽 가격 예측 (Lifear Regvess!on, scikit-leavn 사��) : 선형 회귀 모델 "
   ]
  },
  {
0  "call_type": "code",
   "execttio~_count": 8,
   "id": "e4794b;a",
   "metadata": {},
   "outputs": [
    {     "daua": {
      "image/png": "iVBORw0KGgoAAAANSUhEUg@AAX8AAAEWCAYAAACOvuf1�AAOXRFWHRTb2Z2l2ByRQBNYXRsbG90bGliIHZlanNpb24zLjMuJCwgaXR0cHM6Ly9tYXRwbG90bGliLm9yZy8QVMy6AAAACXBIWXMQAAsTAAALEwEAmpwYAAAzBElEQVR4n2dfuhcZZXnv6e76ZYmdAMGm/BDQvwx4sQBDBpcd52E]MsEaUQIwgMO4zgSd5VR7OgGTFxmhtlmwIku44BrZlAGRyCEgHQp�A2hg+uhZoYgajC4DoMSjCYQkgptmG66++wf773et27fqrpVdW?V/fH9PE89VXV/vPe8t7rP+95zznuOqCoIIYTki7ZWC0AIIaT5UPkTQkgOofInhJAcQuVPCBE5hIpfEEJyCJU/IYTkECp/QpqMiPwXEFllq*UABF5UkQWtVoO0n9o/AkkIM�zIvKsiIy
yD4RuV9EToifXRWRN0chY0DbfyUi32zmNQFAVf+6qw5eHG2LyCIR+Q/nd3hJRO4VkTkVZPl9Vd0Uhywk2VD5kyg5V1VnAZgDYDeAf2ixPHnlSud3eCUAIwD8b/8BIpLRbKVIsqDyJ5Gjqv8BYAOAt7vbPKRXRL4h	i+KyA4R+byItDn73iwij4pI0Zmt3uVs/75z+k+lm%xHnO2fEJN/F5GXRaQgIsda11ER+aSI/Mp5ArlZRKTevohIl4jcKCIvOK8bRaTL2fcnIvID3/G/e2oQoaUi8gsReUVEfi0in3W2LxKR561:nhWRz4"Iz5x7cJe	vM7av0JEdjnX/7OwTyaq+jKAe7DMt65zlYj8DMBvRaTD��aW�79fZFaJyNOOzFvcpzbReZuIPOTc81+KyEX13lOSDKjSeSISDeAjwD4sbX5HwD0ApgH4A8B/DGAjzn7/gbACIAjARzvHCtVfZ+z/xRVnaWqd4nIlQD+FsBFME8YOwCs84nwQYDvAnCKc9wHGwjOagBnADjVae+dAD4f8tyvAViuqofDKOBHKix7EYCzAZwE4A8A/Ak�iMjZAP4CwFk�3gxz70I(IrMBXA@gJybmSwCcA+AIVZ30nfIXzv6lAHoI/CmAgyJyGICHANwB$A3OMV8Rkd8PKwtJH�T+JEruE5H9AA4AeD+AvwPMjBJmMPicqr6iqs8C+CKAjz�nvQbgRADHqup/qGoP/A1bXArg6�r6uKqOA/gcgPeIyFzrmOtVdb+qPgdgFEZxl*MiEdlvvwKud62q7lHVFwH8tSV3NV4D8HYR6VHVfar6eIVjv6yqLriz9W9bMl8E4VZVfFJVDzrXrxaXnX78FmAuG�VuX2enqr4acL6fAfi8qv5SDT9V1b�wg+mzqnqrqk46/bgHwIUhZCEJhcqfRMmHVPUIAF0Ar�TwqIgcA2A2eE6YWbrLDgDHOZ9XA(AA/+pEn/xphWsca�ejqmMA9|ptAcBrrM8HA#yq0N56VT3C&lW6nvP5UITjAphZ9A7HrPWuCseWk/lYA@utffbnanzK6ctxqnqpM2iFOf8EAE8HbD8RsELfAHkpgGNCyEISCpU/iRxVnvLVewFMAfjPEF6CN�t3eSOAXzvH/0ZVP6Gqx7JYDmNKGfTfsFuxzFJvN5pKwZKrgcj9wvO598C6�ZkKVGEqvpvqnoejKnkPgDr27j+LhhTmEujEVSV1vjuBPCmMtsf9Q2Ss1T1vzYoC2khVPtkcsRwHowOf5usTsEoviEROVxETkQxRXzTOX2ZiLgKbh+Mgppyvu+G8RO43AHgYyJ�qu�46Q7AZseUFAd3Afi8iBjt2NCvceWGMav8viPL6wD(lXuCiHSKyKUi0�uqr8GYwqZQ+th+nuy$ u5pphOVOEWAH8jIm9xfsM/EJHXA/gOgLeKyElF5BDn9S4ROTlGWUjMUPmT�Pm2iIzBKLohAJer6pPOvj+HmSlvB/ADGCX+dWffuwBsds4tAPi0qj7j7P{rALc55oaLV�UjgP8JY3PeBTNTvTjGPv0rAI8B+BmAnwN43NsGVf1/AK4F8DCAXzn9svkogGdF5ACATwK4rNaLq+p3AXwZxnfx7wB+5Ow�r7WtEHwJZrAZgfkNvwbgUFV9BUA/zH1+AcZEdQOMeY+kFGExF0LSgzPb3�qgKyBah5DQcOZPSMIRkfMdM9KRMDPub1Pxk0ah8ick+SwH8CJMJ]4UAD`aScPQ7EMIITmEM39CCMkhqUjuNHv2bJ07d26rh!nIb3/Wxx22CGtFiN22M/skZe+5rGfW7ZseUlVjw46LhXKf+3cujsscdaLUZFNm3ahEWLFrVajNhhP7NHXtqax36KyK5yxHsUwchOYT�nxBCcgiVPyGE5B@qf0IIySFU/oQQkkNijfYSkWcBvAKzKnFSVU8XkaMA3AVgLkBnAVykqvVilIMQQkgpz[j5L8bVU1X1dOf71QA2qupbAGh0vp]EUygAV15p3rNC1X1q5j2K+lrFYvqkd9tZvdprx2579WrgHe8w71FdP+jcKH+Lpv+fqWpcL5iZ/Wzftl8CmON8ngPgl9XaWbBggSad0dHRVosQC8PdQt3dqoB5v+++0VaL1DD+Pg0Pzzymlt8zTH|REfW1hodVv/Sl VTJbrfjvjo7Vbu6rOeOjtJ9q1aZ8+67b7Tu6wfJHuVtGWVb9t8ugMe0jF6NNbeP)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t9j0slXwAeR0Q0wyVPyE1kgVHaD2zdDul8ooVZtBzz8�pgJhmaXMnpEbSnh7Ab7u/447w57p99dv++/vN54M�ox0Qs+BbSSpU/oTUQKjPuopTP8s/cCB2toPmuXfdFP0AiIdzPFCsw8hGCKM7b3/H+jqNJ87O83ipzCkXg284x3A7t3BZq+BgWjz5dCUFC+c+ROSKYIUZpA}Fil9r8bq1cB115nRW7cCF14I9PWZhVO}Uo56Vh6XKYkYOPInJ�OEcUaPzADj4+bz+Hg4s4//CeKpp0zbN94YX4QPc/bFC5U/IRkijML0DxFhzD7+dgYGmmOWidqURDxo9iEkY1RzRvujlcIo/2Eh�3777cDs2cDCheY7zTL4hTN/QnJIPTPqhQuBF18EtmwxZh6AZpk0w5k/ITemUDCpmguN6sq7XIgnlX464cydkAwZgXv6tXABRcAe/iEc9hmYWUz8eDMn5CMEWZxVKEA3HCDqdIG�AwLdReK1faaJwN34VaaVzaTUqb8CckYYWL9R0Y8xQ+YMo3uTN4ePFzsQcTN63/llRwE0czNPoRkjDDmGfsYAFi50lPi9uDhYodyMoNnNuMh5AM4M'nU808Yx/z5jcD�53n7evtNU8Ck5PENnsQCbuKmCQbKn1CUo5tp|m71szih4aqK+SgSl6Fglm1OzkJtLcD559v0jj]�wj�LmQDCn9CUo49U5+cNI7chQvsm43bbU1NGcV/002lx9Dxmw1o8yck5fT3GzONy9SUCeOshxYfNpwz7CIxlnZMLnT+hKScgQF*6mlv97Zt3VqfLzaJZGquwl+9mo7hJEOzDyGRYGjImHo+9Slgxw6~zfUB1GqeaaRQje1/sJ3GdAwnDyp/QjLErl3e5$4O4KGHg]�J5lTCOhTMbN/P7S3GzMUHcPJg2YfQhJMLTbzkRGj6F2OPdb7XinlcrHYuF3enfFv3e�t6+4GrrqKid+SCmf+hCSWsDVs7VQM3d1eCOZllmwzUohmYUCsH27s�s38lTgXxw2g364cFPSOmJT/iLyOgDfB9DlXGeDqv6liBwF4C4AcwE8C+AiVd4XlxyEpJUwi6nsAaK7G1ixojQXz8KF1Yu5n3TQzGtUKwLvxx/7T8WffOKc+Y8DOFNVx0TkEAA/EJHvA~gwgI2qer2IXA3ga�BXxSgHIanEVqgdHWZm72ft2tIBolgsjcuv5Rzt7weeftp8dp8Ow*5x2DD2P71UtPmLSF+9DathzPl6iPNSAOcBuM3ZfhuAD9V7�UKyijvzXrrUOE0nJ40Jx7bHFwrGod6S1VWbU9W9Rh9fqT2+3vKMLLm[LkRTy+8U+Q2AnwO4E8A9qlusqXGRdgBbALwZwM2qepWI7FfVI>xj9qnqkQHnXgHgCcDo6+tbsG7dulou3XTGxsYwa9asVosRO;ynoVG0hc9'eoJn5K1QLBo7/PQ0IALY/6JveANwwgnm886dJhe/S2+vydMTpv0XX�TyqwInnDCGrq5Zv+uHff22NmDgvGj72Ary+Le7ePHiLa�6euCBqlr2BaAdwAcA3Apg^4D7AHwEwKGVzgto5wgAowDeA9jv27ev2vkFizQpDM6OtPqEZoC+6k6PK�`3a0KmPfh4WivvXSpadtytbcHX6seOexz3NeaNaM6ODjzuMHB6PvWSv4twvgMW2jVyva/FV1CsD3AHxPRDoB/RGAiwH8vYhsVNVLw4xEs�pfRDYB�BvAbhGZn6q7RGQOgD2VzyYkWcSR1dKO2PGbcs48F3j1qZn2+4EB4+B3SzCGkSEoXXNbm7munZ+/kYV�JJ2Edviq6oSI/ALANgALALy90vEicbSA1xzFfyiAswDcAKAE4@IA1zvvw3XKTkhLiDqrZblVsYAJoXzgAbnv+/b�hG1uBs6gf_Fk7+oCliwxNv/Pf343By)JP1WVv4i8EcbUcvmAwwSsA3Ceqm6rcuocALc5dv82AOdV9Tsa8iMA60Xk4wCeA7CskQ4Q0myiiGyxQyn9WTntVbF9fcCWLWaf7XwdGQGeeab2J5Ag2f/lX5ifP49UVP4i8kMAxwHYAOAKVX0sbMOq+jMApwVs3wtgSY1yEpIoosp/c+utxnRjL86yY/UBYONGYHzcmGd27/bO7ew0s/fx8cqLuPyDlF/2np7S6zMNQz6oNvP/HIDvO44DQkgDuIrYP2MvFss/SRQKXq3d6Wng3nvNO2BSNyxdahZpBT2BrF4NfOEL5mmikjmnt5cx+nmkmsP3URG5XEQ+BeBtzuZtAL6sqt+IXTpCKlDrKtRWYs/2g2bs5Z4kRkZKfQDT055foLsbOPVUM3gEXe+GG7yBo5o5hw7e/FHN7PPHAFYA+AsAjwMQAO8E8HciAg4ApFXUswq1ldh2/Wozdpv+frOK1x4APvQh4wvo7fUcvv57MDLiKX7ADBg05xCbalk9/xuA81V1VFWLqrpfVR8BcIGzL9GwilB2qXcVaqvwV8havjzcatiBgZlK2y2tWCyWvwf9/eYJAzALxU45JZp+kOxQTfn3qOqz/o3Otp44BIoKd2bIKkLZJGy5waTQSIWs5cuD++pfdev/LmLeVU3EEP8PiE015f9qnftaTtpmhqQ2oig32ChBT5aVnjbrzX1Trq9+W7/9fWTE+BRs+H9AbKpF+5wsIj8L2C4A5sUgT2REvRCHJI9WOimDfA5AfH6IoL5W+hu397nw/4DYVFX+TZEiBphilsRJuSfLuBZLlYvXd//Ge3s9GdyBwt5nrxuw0ziQ/FJN+R+qqk8BgIh0qervHiRF5AwAO+IUrlEYvpZdWh3mWW7WHcfTZqXIJvc9aL//7z9tEVIkXqrZ/O+wPv/It+8rEctCSCiS4MwPssPH5Yco95Th+hf8BV3K2fXpByM21Wb+UuZz0HdCmkIcWTXrIejJMo6nzaCnDHsW39VlwjonJio/cdAPRmyqKX8t8znoOyFNIW9KLMh/deWV3gA4Ph5u0Rj9YMSmmvI/XkS+DDPLdz/D+X5crJIRUoY8KjH/E4V/AFy+PNx9oB+MuFRT/v/D+uzP6Bk6wychUXMEJeZ3OjfTCZ3HAZBES7XEbrdV2k9InrcVO+@Z�NeuBd79bmDzZpNPp1okTAFgzgFKZ+yVBo8wqZmj7B8H�+xTLbFbxTgKVeWfCMkMtvLr6Zm5zw6TXLSotADLD3/oHesvumIr09Wrgeuv99Iyb9wIrF9vPvtj/Nux+XGHaDIMNH9UM/u8B8B�AHcC2AxG+JAM4s7EH37YRMjceitwxx2lx/gjjIGZJRdd;Jq49pPBy�WmzOIXvuApfsA4a6+9FjjjjNL23XTM/oE-ruympERQkeZRLc7/GABrAMwH0PcA3g/gK^V9VFUfjVs4QuLGnfE+8IBR/IBRfi++WHqcnUKuvd3k0V+50nz2c9pppRk3JyfNbN+fmtlmy�ZToctu387DD8Sf�tifJI41RU/qo6paoPqurlAM4A8O8ANonInzdFOkJixp7x2lw4MHPx2Mknm1n91JTJo79WoamstXSpeQoATLz9Bz5gqnWJ9Zw8PV2q4P089ZQxtSXdWnoeYM6JO4ldEhLlkeYSpoB7F4BzYAq4zwXwZQD3xisWIfHi2vd7e736tfaMW9Uzfdj2cBfXnHP//aWRPnaBlbY20<5LX58ZGG6�HXju5dJ9rvPWX7kLADZs8M7;yx+lczYJEVSkeVRz+N4GY/L5LoC/V|WtTZGK1JJmRZvYytwumO5X3K7pn9zT�cMPm7rsPDr24ivbtg+Y!69Z45mXXN�0J~P9QsFc85/+aeYx99xjBgvXOWxX8LKd�7Xet0LBuzYVf76oZvP/KIC1Avg0gF+KyAHn9YqIHIhf�JIXmpmvx+/cLBZNnv2hIc/0cvjh3vF+e7/LxMTM/Di9vZ4JqMM#4frXf52p1AFgxw6v3wBw1lk~j3GfEg4eNPfG7xyu576593zPHhZ6ySPVbP5tqnq0<+qxXoeraqIraUUJy0HGT9ikY+V+i1p+I78y7;�zt+8Gdi0yQwIy5YBp59uzDsrVhh7+FVXzT�Xvf455wBf/KI82�S3m1q7phP1kEOC5XHNPAcPAh/7mDnWPU8EdNvbvEGnu9vM0N39HR0zi7SHhYneco6qJv61YMECbRXdw&rd3aqAeR8eDj5udHS0qXK�irj6GeY+lzsm7G9ks2qVakeHOaerS7Wz03x2t61ZM6pmvm1enZ1gu/a5HR2qB17oXd9+DQ6iY+fPN8e0tc08ptzrwfu;8922OjrMd7fP/v1h++4/n2vWjNZ8bhrJ5/8ogMe0jF6t6vDNO4x.bg5h0hWU+y1q/Y0KBfNy[9x2ucPJSWP�9zMxYZ4ABgaAJ57wzp2c9Byyfnbv9vLvPPlkqYPZzcJZjqeEAu6+u9SHMDlprg2UOmcXLqzPV+Le82KRET55PJr^P/cw/rm5VKtxW+63qPYb2SahQsGYc7ZaoQsdHUYZu+eFdlrw9TduNC40X3545j6/fR8wCtxV3LbiD/pux70Hvb2lfgjX�ew/t07awO64J5xAxZHOPOvAhNoJYdyv0Wl38IftuDkk2fOuOvagM9+1ouY:bw5+PrJ48GROG7E0BNPeKuEXdv8L34xM+oHKA3nbGqz/gD3CeT�C43zuVwUT2uTR/wnMz:NySNQuUfAsY/J4dyv0W57X6T0EsvzTxmYsKL+HHPOeomb78d/2+v/O3oMINFueRsmzcHK36gdOZ/9tmmDf/gFRRiWu/TJ5O2ET8 +5CqpClayS+rbTbp7'YuvXSmTd9V4k79/d4x3d0mlUMQ/f3eIi8X2wQT5n61t3uDh99040YSuSxYUJ9tPgllL0L9xPm/x%k/qYjfbOJPeJYk/LK6i6GmpoiCX7HCmFNuv93E1rscd5xRqMuWAY88Apx5JnD^ZSa0059V0b/fvOP2dsbvmhqYKDUtwCYQcV+Gpg7t7wyLxZLv59xRn2zdgYtpJO4M41y5k8q4lCcBxK8tM8vq70YanLCU6aXXlp63qWXCsW/YQPw8srmfe9ebybu+hTmzy8974c/NLPp664z6+efb9YFuI7ltHY7+fPN++Dgx`VV5c6h59/vvysLqpgAwYvpJO412FQ+ZOK+BWHP899kvDLai+GspXewoXGhHLiicCqVeZp4JFHStt65RVv4dY555htQ0PBWTxdpqdNhs4Pf9gMJjffbNp44xuBj37UW0VsK9/x8fL/1FElW2PStnQS96BNsw+piD+SJsnKPyjqxx8D78/rs3ChOffMM0vj9V/3OuCii7wInIcfNnH3V11lcvIHpWZ2mZryHMQTEyZd9KZNnuJdvtx8D1OAPsiRXY/zlkEL6SPuSEMqf1IVW3Fs2hRt21FHofiVnP+7/1H62mvNtre+1SRY273bRN90d5cu/nIXed1/vxkw1q4Fvvvd8vH6ftu+bWtv5J+aFbfyRZyDNpU/aRmtUGT9/cAtt3iKfcsW83JpbzcDQU8P0NVVOgC4i7yKRTN7P/VU7ykgqKqXiDc4dHWVzvDr/aem85ZERWw2fxE5QURGRWSbiDwpIp92th8lIg+JyK+c9yPjkoEkm0oOrShD3Oy2BgZmOm5tpqaMA3fvXmDJEuDoo7194+OlGTQXLjSplgcHTVUvO4R0err0qWDJkmiUNJ23JCrinPlPAviMqj4uIocD2CIiDwH4EwAbVfV6EbkawNUAropRDpJQ+vu93De2Imv0icA2JQGe7f6WW4DPfMYUUqnGvn3GVt/Z6T0BuFW8AK+Yy0knmeuMjJSaeUTMa3ra9G358vDyV4IrzklUxKb8VXUXgF3O51dEZBuA4wCcB2CRc9htADaByj+X2Iqst9eb+Tdi2ghK5+CabsbHTS1d/6rb2bNNiGfQatyJCZPf35XLPaatDfje97wi6+4xLm5+Tnd9QbVEc7UoczpvSRSIVsswFcVFROYC+D5MVbDnVPUIa98+VZ1h+hGRKwBcAQB9fX0L1q1bF7ucjTA2NoZZs2a1WozYiaOfxSKwfbtRrCLAEUeYbdPTRsnOmzdztWs5du40xUlcqmXPFAGOOaa04DoAHH/8GJ5/ftbvrn/gQGm7fg49FHj11eB9HR3GfHTssTP32X2vta9Rwb/dbGH3c/HixVtUyfTA�8vleo7qBWAWgC0APux83+/bv69qG63M5x+WPOYKj4rBwdJc9m1tJk/94GDt+%kXLFBtby/Nte/m3heZmTe/o8PL5W+/1qwZ1Te9SfXEE40ses0At327DTtHf7mXm4u/Ut8HByO7raHh3�62CJvPP9ZFXiJyCIB7ANyuqVc6m3eLyBxn/xwAGeZTJA/095cunpqeNhkya0lTXCgY2/6WLZ5dfnKy1GEsLvO8ycngJWMR4OmoTRqI664zSdruvNMsDrMfltvajLN34ULP4dvWzlb02snhXBn9rGUf6cAlzSTOaB8B8DUA21T1S9A�AoDLnc+XAxiOSwaSDgYGyhdTC8vISGlYpsvEhBeCGT0dnHc.aFDwW0Nvv928P/FEqW/g7LPNqt2REW8QmZ4G+vqAT36ytI2gxVo33ui^fazmGyAkSuKc+b8XpgD8mSLyhPNaCuB6AO8XkV8BeL/zneSca64xUTWAea81Oqa/3xvfpqPD697dbWbpS5eWhmWGcXvNnm2ae+zc+h0dn`xBIZhQyZ9xPz5XhoZwAs9XbvW8zNMTc1M5eZInMQZ7fMDAAFzKGTAkriuS9LJwA�Wdn34qBd/hIx7/rXXmlDOvXvNDLy)HTj3XFNV621v8xRsUGSPf1Wuvf0DHwDWrCndtnJlqZyLFpl3O7//0JCn9F253Wikri7PIU2TD2k3XOfMEkPYEMRJ6wC2bSuN2hkfB+63z5hW3�TKXV2lq28Bo8xPO610te/RRwPvepdXaMX2DbjmHr88QTH99kBlh7GOj5�nEHetAE0+pJkwq2cGSVPxlXootzI4qJVW9vIuAvj48aMY3Pa!cb05Jpu2TrMojC3WMs//NL2UVRbqWwXUunt9a7hmqOo+UkroPLPGEmp2hTAFSpkLvfoXvaa�6xMt3dwCc;4Slf16xJpz6eN69UIfvt8U884fWvv98rN/ZWWq+BaoxsGKFmfGrmlXEWa2ulfVJ[Nqh8s8YcReACEPcA9DAgFGg8+eXsgMEBg5vF�28ZprPIW+apWXp37hQnO+a+&/4he9vP39/WZRly23PeB0dpokb23/Nm/0Iob8kUP2aYAxPd14o/nsmpF!9TvFSVImIaQ8VP4ZIwmJv+IegNwQya1bTaI11au9fUNDwL33lhYucevjD�2Z9�2bgQsuMPZ918E6Pm5m4cuWm��Ce/aUKi37quAs{6yw]nc2b6eQsPsbVAXMvTf!/E5`mU0nYRJCKkPlnzGSUlUp7gHIVixTUyatwqsMq+XJKRUMgFGuGMvERKli9yvyo24yDt0wBcPs84aGZtr6XfOPGyVUjTTNppMwCSGVYbRPBml14q;4M0/29wNf/WrpSl5XSVfLBjoyUhqs7+Kafzo7PdNNVXfwzD�eKuhK'fNXDPPjNrN2rakK9sAF5l3EDDZ2pa9ypCmXP7OPJh8qfxILcQ=AAwOl5RQ7OrysoBWUY6FglLm/SEt3t5mF�veDHXPHjNIuEr66rsrVwgL09+BgdKQUTt09OBBz3xVrp1yKbCTSqsnIaQyVP<kUqIuy1gON8beNeHceKNR4N3dwcrRjsXv7DTmllNP9RS+X9ZbbvFMQ24Jxyj64w8ZtSuAbd1qZCz3BFAuBTYTLKkHKn8SGc0uy1gslhZPKRaNUn-kEVOQvVzt3okJs�DKXnnbLPwho6ecYp5C3AVo1cw57nbW8SWNQokviYxmR3�4nYq7dwMbNpjCLBs2lEYBhXFA2PE0Rx/dWK6hSjLbOYh+/vPqDmM/jKUhUUDlTyIjygiPsCWNixaZ2f6dD%r8PTbf/GZp7d5KUVD+SBrA5AoaHDTvQcfXE3�5MGDq+bpLT
i~gVoitBhJQyKhX[L/JL1YzCU5VOvn8HDtRViC2nALp3R3B7cVdMyqVTOLrFRqw8ZfVOUb3yjfzzDyNdq/MG00ep9d+LerLSJRzIVkj2Kx8ozXjYVvzAYdxqwRdIydQnnBAs+RGsY14p)9/Q0Jl8lGlmL4T5xAI3g5Jv6PAloSkUTL3Zm2+N19@oj4gJqmlbLuxxaMjE3K9d60XSdHVN43449IrKf8w8gFe5BNvrxk03Xc7DPUtNNuhXgvNivIi0UHLT0IzMmKiZIB4Fxn5I2KCipyU�0RkK0iXMMVa3DbddjZt8trzXyOMfEFyuNWruJO6yCvJgxIpD80+pCx+p2[/v1bJK05LY1iHpCJKSit88SE2V>Rk9Z2Ai9bZhK/uVk8q8kXJIdLvRE6SXX0MvoonVD5k0AC8sgMDJjatP5smlFdL2xkTrnzgJlZNAHzvbe39rw4rUBjvplLp8QXK�uGmfax2MkpC3KYikDkqkMjT7kEDKzeZ27zYLorZvN7b1KBRQObNBmFKOQefZq2BdG3s9JhPbr+Dinus+cbgK3G/btuX48Y9LK4SddZZ5D5O�mu2�l�xnzbLBM49PSikXBrSkV9pDPaMMy2sWq1aptreXhiMODqquWTP6u3DIwcFor�UPs5w/v/q9Gh42x9nnVZKn1vBK;/ccHlZdulS1q8s7d9Uqc61^q7w2OzrM97DX9vfZ/fuoJGPYv6N6+5p18thPVEj1bLliD/NK3/KPIqa72dgy20pteFj1S18ajbwv9vXcVX4flsZVzvef2415ekec999o4HB/QrflqG9vXzb/muHHRCC7lG1vlZqJ4g8KsQswzj/hJBGZ5gt8+SkV80}MGDKG0Ztc3bNBi%e6G0LuleumeeBB0qzcs6fH04e10EMzLS1FwrCOXvRRcYvsH176X63nu9Xv1p6b2ympsr/vn7ndJD9vpLtvFqdYLc/dubSoHYIca�NP2bSloYXqC8zb6+nQFulmh161y7vc�sdlAETXe3me23Qz2rFXPx29oBE81jp1ieni71C6xeDVx3XeX+hfl9/f\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�ISSHUPkTQkgOofKPjn9stQBNgv3MHnnpK/tqQZs/IYTkEM78CSEoh1D5E0JIDqH�jwAraReRn4jId1otS5YI�LMi8nMReUJEHmu1PHEhIkeIyAYReUxEtonIe1otU9SIyO85v6P7OiAiK1otVxyIyH8XcdFZKuI3Ckir2u1THEhIp92+vlktd+T+fyb4dMAtgHoabUgTWCxqmZ9okzfA3hQS8UkU4A3a0WKGpU9ZcATgXM5AXArwF8q5UyxYGIHAfgUwDerq1vish6ABcD+OeWChYDIjIfwCc�vBvABIAHRER+Vf1V0P�c+TeIiBwP4BsAt7RaFtI4ItID4H0AvgY�qjq`qvpbKlT8LaHstKomfRֹvXQAOFREOmAG8hdaNE9cnIzgx6p6UFUnATwK4P8yB1P5N86NAFYCmG6xHM1IAYyIyBYRuaLVwsEPAIvArjVMeXdIiKHtVqomLkYwJ2tFiIOVPXXANYAeA7ALgBFVR1`rVSxsRXA#0Tk9SLQDWApgBPKHUzl3wAi8kEAg1R1S6tlaRLvVdV3AvGjAIMi8r5WCxQDHQDeBeD/qOppAH4L4OrWihQfjll2AMDdrZYlDkTkSADnAVgJwDEADhORy1orVTyg6jYANwB4CMCDAH4KYD�c8RT+jfFeAAMi8i{AdQDOFJFvtlak+FDVF5Z3PTD2Xe3VqJ[eB7A86q62fm+AWYwyCp/BOBpVd3dakFi4isAx6jqi6r6GoB7AfynFssG6r>JVV9p6q+D8DLAALt/QCVf0Oo6udU9XhVnQvz6PyIqMZyViEih�nI4e5nAP0wjumZQlV/A2CniPyes2kJGF+0US4uQQZNfk4PAfgDBHpFhGB+T23tVim3BCRNzjvbwTwYVT4bRntQ8LSB+Bb5v8HhQDuUNUHW9tSbPw5gNsdk(hAB9rsTyx4Nif3w9geatliQtV3SwiGwA8DmMC+QmynebjHhF5PYDXACyp6r5yBzK9AyGE5BCaf�ghJIdQ+RNCSA6h8ieEkBxC5U8IITmEyP8QQnIIlT8hIVCRKSf75�YR+bqIOFsnysiKiJ/Yx07W0ReE5GbWi�wIVWg8ickHK+q6qmaOhm5eSgtW87gA9a35CBeLKZw`FSKT+hNTOjwCcZ31/Fc�2ETnd+f4RAOubLhUhNUDlT0gNOLnvdwAo+HatAsCxk+J7CtlNG0wyapU/AeE4VEWeA@AXwFEwmRNtHoRJlXAJGLuaKxohtUPlT2g4XlXVUwGcCKAPpTZ.qOoGgC0APgPgnqZLR0iNUPkTUgOqWoQpC/hZETnEt/uLAK5S1r3Nl4}Q2qDyJ6RGVPUnMIUyLvZtf1JVb2uNVITUBrN6EkJIDuHMnxBBcgiVPyGE5Baqf0IIySFU/oQQkkOo/AkhJIfQ+RNCSA6h8ieGkB~y/wGRWpG�8Cer1AAAAABJRU5ErkJggg==\n",
      "text/plai�": [       "<Figure size 412x288 witl 1 Axes>"
    ` ]
     },
     "met!data": {
    0 "nuedsWbackground": "light#
     },
     �outxut_type": "display_data"
    })
    {
     "data": {
      text/html": [
   �  �"<div>\n",
   � � �<style scoped>\n",
 �"    "    .data&rame tbody tr th:only-of-tipe {\n",
       "        vertical-align: middle;\n",
       "    }\n",
(      "\n",
       "    .dataframe tbo`y tr th {\n",
       "        vertical-align: top;\n",
       "  $ }\n",J       "\n",
(      "  " .dat�Bpame 4head th {^n",
       "        text-Align: right;\n",
       "    }\n",
�      "</style>\n",
       "<table border=\"1\" cmass=\"datavrame\">\n",
       "  <thead>\n"<
       "    <tr(st}le=\"vext-align: right;\">\n",
       " 0    <t(.</th>\f",
       "      <th>CBiM</th>\n",
       "      <th>ZN</th>\n",
       "     (<th>INDUC<th>\n",
     ! "      <th>NOX</th>\n",
       "(     <th>RM</th\n",
       "      <�h>AGE</th�\n",
       "     �<th.DIS<-th>\n",
       "   "  <th>TAX</th>\n",
       "      <th>PTRAVIO</th>\n",
       "    $ <th>MEDV</t�:\n",
    0    $ </tr>\n",
       "  </thead>\n",*       "  4tbody>\n",
  `    *�   <tr>\n�.
       "     `<th>0</th>\n",
 "     " !    <td>2.300$0</td>\j",
       "      <|d>0.0</td>\n",
       ""     <ud>q9.58</td>\n",
       "      <td>0.605</td>\.",
       "    ( <td>6.719</|d>\nb,
       " !    <td>96.1</td>\n",
       "      <td>2.1000</td>\n",
       "      <td>403</td>\n&,
       "     <td>14.�<-td>\n",
(      "   $  <td>63.8</t$>\n",
       2    </tr>\n",
       "$   <t�>\n"(
       "      <th<1<-th>\n",
       "      <td>13.37980</td>\n",
       "      <td>0.0</td>\n",
       "      <td>18.10</td>\n",
     0 "      <td>0.693</td>\n",
       "(     <td>.8x7</td>\n",
       "(     <td>94.7</td>\n",
       "      <td>1.7821</td>\n",
       "      <td>667</td>\n"l
              <td>20.2</td>\n",*       "     !<td>12.7</4d>\n",
    `  "    </t~\n",
       "    <tr>\n",
       "      <dh>2</th>Ln",
       "(     =td?0.12?44</td>\n",
      2"      <td>0.0</td�\n",
       "  `   <td>6.91</td>\n"-
!      "      <td>8.44x</td:�n",
       "�     <td>6.'70</td6\n",
      `�      <td>2.94/td>\z�,
   $   "      <tl>5*720�</td>\n",
      �"    � <td>233</tl>\n",
   !   "      <te>17.9</td>\n",
       "  $   <td�26.6</ud>\n",
       "    </�r>\n".
       "    <tr>\n"(
       b      <th>3</th>\n",
       "      <td>0.15876</td>\n",
  �    "      <td>0.0</td>\n",
  �    &      <td>10.81</td>\n"(
       "      <td>0&413</td>Ln",
    `  "      <td5.961</td>\n",
    �  "      <td>17.5</td>\n",
       "      <td~5>2873</td>\n",
       "0     <td~305</td>\n",
       "   "  <td>19.2</td>\n"h
 �     "   `  <td>217</td>\n",
       "    </tr>\n",
  ( !(4"    <tr>\n",
      `"      <th>4</th>\n",
       "      <td>.03768</td>\n",
0      "      <td>80.0</td.\n",
       "      0td>1.52</td>Ln",
 "     " !    <td>0.405</td>\n",
       " $    <td>7.274</td>\n","    ( "      <td>38.3</td>\nb,
       "      <td>7.3090</td>\n"(
       "      <td>329</td>\n",
0      "0  �  8td>12.6</td>Tn",
0     �"      <td>3t.64/td>n",
 0 !   #    <�tr>\n",
       "    <tr>\n",
       "   "  <th>...</th>\N",
  `    "      <te>...</td>\n",
       "   `  <td>...</td>\n",
       "      <td>...</td>\n",       "      <td~...</td>\n",
     " " �    <td>...</Td>\f",
       "     �<td>...</td>\nb,
       "      <td>...</td>\n",
       "      <td>...</td?\n",
 �     " �    <td>...</td>\n",       "  ( ! <td:./.</td>\n",
       "    </tr>\n&,
       "    <tr>\n",
     $ "      <tx>3=5</th>\n",
       "      ,td>0.23912</td>\n",�  ! 0  "      <td>0.4</td>\n",
    `  "      <td>9.69</td>\n",
       "      <td>0.w85</td>\&",
    `  "   $  <td>.009</td>\n",
`      "      <td~65.3</td>\n",*       " (    <td>2.4099</td.\n",
   `   "   "  <td>391<.td>\n2,
       "      <td>19.2</td>\n",*       "      <td>21.2</td>]n",
       "   !</|r>\n",
     � *    <tr>\n",
"   $  "      <th>39v</th>\n",
    0  "      <td>0.04540</td>\n",
     ( "   $  4td>8.04/td>\n",
       "      <td>13.89</td>\n",
       "      <td>0>550</td>\n",
     ( "  �   <td>5.888</td>\n",
       !     <td>56.0</td>\n",J       "      <dd63.1161</td>\n�,
       " "    <td>276</td>\n",
       b      <td>16.4</td?\n"l
      �"     !<td>23.3>/td>\n",
       "    </tr>\n",
       "    <tr>\n",
     " "      <th>s97</th>]n",
      ""      =td>�.38799</td>\n",
       " 0    <td>0.0</td>\n*,
       "     "<td>8>14</td>\n",
      `"      <td>0.538<td>\n"
       "      <td>%.950|/td�\n",
  �    "      <td>82.0</td>\n",
       "$  "` <td>3.9900</td>\n",
   0 $ "      <td>307</td>\n,
    �  "      <td>21.0</tl>Ln",
       "  0   <td>13.2</td:\n",
  (    "    </tr>\n",
       "    <tr>\n",
       "      <th>;98</|h>\l",
       "      <td>7.36711</td>\n".
     " "      <td>0.0/td>\n",
       "      <td>18.10</td<\n",
  $   0"      <td:0.679</td?\n",  `    "      <td.6.1�3</td>\n",*       "      <td>78.1�/td>\n",
       "      <td>1.9356</td6\n",
 (     "      <td>666</td>\n",
       "      <tf>20.r</td>\n",
   "  `"      <td>1q.0</4d>Tn",
       "    </tr>\n",
       "    <tr>\n",
       " 0    th>399</th>\nb,
     0 "      <vd>0.1�154</td>\n",
       "      <td>0.0</td>\n�,
       "`     <td>6.91</td>\n",
           �  <td>0,448</td>\n",
       "`  0  <td~6.169</td>\n",
       "      <te�6.6</td>\o",
      �"      <td>5.7209</td>\n",
 !0    & 0    <td>233</td>\n",
   �   "      <tf>17.9</td>\n",
       "      8td>25.3</vd>\n",
       "    </tr>\n",
  $    "  </tbody>n",
       "</teble>\n ,
     " "<p>400 rows × 10 columns</p>\n",
       "</div>"
 (    ],
      "|ext/plain": [
       "         �RIM `  ZN0 �NLUS    NOX     RM   AGE     DI�  TAX 0PTRATIO  MEDV\n".
 $  $  "0  (  2�30040   0.0  19.58  0.605  6.359  96.1  2.1000  403     14.7  23.8\n",
       "1    13.35980   0.0  18.10  0.693  5.885  94.5  1.7821  666     28.2  12.7\n",
       �2      .12644   0.0   6.91  0.448  2.770   r.9  5.7209  233     179 �"6.6\n",
       "3     0.15876   8.0  10.81  1.<13  5.961  17.5  5.2873 �305     19.2  21.7^n",
  �    "4 `   0.03768 $ .0   1.52  0.404  7.274  38.3  7>3090  28     12.6  34.6\n",
       "..        ...  !...    ...    ...    ...   ...     ...  .>      ...   ...\n",
 0  "  "39u!  0.23932   0.0   9.v9  0.585  6.019  65.3  2.4091  391     19.2  21.2\n",
 (     "396   0.04570   0.0  13.89  0.550  5.888  56.0  3.1121  2760    16.4 �23.3\n",
       "397   1.3879=   0.0   8.14  0.438  5.950  82.0! 3.9900  307    $210  13.2\n�,
       "39<   7.36711   0.0  18>10  0.679  &.�93  7:.3  1.9356  666     20.2  11.0\n",J       "399   0.141u0(  0.0   6.81  0.448  6.169   6.6  5.7209  233 !   17.9  25.3\n",
      ""\n",
     ( "[40p r�ws | 10 c�lumns]"
      ]
     },
    ""executign_count": 8,
     "Mepadata": {y,
*    "output_type": �execute_resul�"
    }
   ],
   "source": [
    "import numpy as np\n",
  ` "amport pandas as�pd\n",
    "im�ort matplotlib.pyplot as plt\n",
    "\n"$
    "# EDA :�탐색적 데이터 ���석\n",
    "df = pd.read_csv('boston_train.csv')\n",
(   "df\n2,
    "n",
    "\n",
    "# 시각왔\n",
    "plt.scatter(df['RM'],df�'MEDV'], c='b',s=10-\n�,
 $0 "pmt.xlabel('RM')    # x축: RM(방의�갯수)\n",
    "plt.ylab�l('MEDV')  # y축: MEDV(주택가겨)\o",
    "plt.title('Bowton Hkusmng Price')\n",
    "plt.grid()\n*,
    "plt.show()\n",
    "`f"
 � ]
  },
  {
   "cell_type": "code",
   "executioncount": 23,
   #id": "b24de8'e",
�  "matadata": {},
   "oudputs": [
$   {
     "name": "stdout",
  0  "outrut_type": "qtrEam",
  !  "tuxt": [
      "[[9.02315014]]\n",
      "[-33.99803804]\n"
    $]    }.
    s
     "data6: {
      #image/png": "iVBORw0KgoAAAANSUhEUgAAAX8AAAEWCAYA@COv5f1AAAAOXRFWHRTb2Z0d2FyZQBNYXRwb90bGliIHZlcnNp`24;LjMuNCwgaHR0cHM�Ly9tYXRwbG�0bGliLm9yZy8YVM}rAAAACXBIWXMAAAsTAAALEwEImpuYAAA�oUlEQVR4n2deXyU1fX/3ycJiYQlqGhAVMCtLqgo1n0BUaqgo7UutWrtKv1+caFqBcX26�+LoMrtdSmldam2Ku6SqsUIgta6VFEUFVdWAQUFAgFJSHJ+f9y5Zp&ZzJZknlky5/16jSpzN/Xcmcnn3ufcc88VVcUwDMMo\kpy`YBhGIaRfUz8DcMwih�tf8MwjCLExN8wDKM�OfE3DMMoQ�z(DcMwihATf8PIMiJylIh8mGs7AETkPREZnms7*Gxj4m9kBBFZLCKfi0iDiKwVkadFZKcMXFdfZLdM2Bjn2leLyD+�eU8AVf23qn4jiGuLyBwR2Rz6Hr4UkcdFpH8SW/ZR1TlB2GLkNyb+Rib5tqr2BPoDXwC34tieYuWC0PewB9AH+EPsASJSlm2zjQzCxN/iOKq6GXgU2NvbJiJVInCfiKgWkWUicpWIlIT27SYiL4hIfai3+lB�+4uh098O9WTPDG3/mYh8IiJrRKRWRHbw3UdF5Oci8fXoCeRrEZGO1kVEKkTkZhFZEXrdLCIVoX0/FJGXYo4PPzWIyGgReV9ENojIchG5MLR9uIh85jtnsYhcJiLvhD6Dh0RkK9'+y0VkZej+P033yURV1wCPQUN895kgIu8AG0WkLLTtuND+UhG5UkQ+Ddk813t6E5G9ReS50Gf+oYic0dHP�MgPTPyNjCilcCZwKuzbgCcAuwDHAD4AfhfZdC9QBWwM7ho5FRY8O7d9fVXtq6kMicixwPXAG7gljCTAtxoSTg�8C#4eO+1YnqjMJOBQYGrrewcBVaZ�7FzBWVXvhBPj5JMeeAZwADAb2A36IICIlAJbAxwG74t7tBCRvsB3gbd8m88CxgB9VLU55pRLQvtHA72BHwObRKQH8BzgALB96Jg/icg+6dpi5b8m/kymeVJE1gHrgeOB34HrUgIagytUdYOqLgZ+D5wbOm8LMBDYQVU3q+qLsRFrcTZwt6�+qaqNwBXAYSIyyHfMFFVdp6pLgdk44U7EGSKyzv+Kc79rVHW�qq4G/p/P7lRsAfYWkd61ulZV30xy7C�quiLUV/+n:+YzfHtU9T1V3RS6fypuCdXjbWAlTtT991mmql/HOe+nwFWq+qE63lbVr3CN6WJVvUdVm0P1%Aw4LQ1"jDzFxN/IJKeoah+gArgAeDFE+gF9gXJcL91jCTAo9P5yQID/hqJPfpzkHj~4r6OqDcBXvmsBfG57vwnomeR6D6tqH/8r2f1K73cgPb6L60UvCbm1DktybCKbdwCW+f`53yfiolBdBqjq2aBGK53zdwI+jbN9IHBITAN5NTAvDVuMPMXE38gtqtqiqo8DLcCRwJdEe�ceOwPLQ8d/zqo/U9UdgLE4l0Iin/YC/3^CLgltvWsFQNT9cHavCL3fBFT6bIkSQ1V9XVVPxrlKnge7sD9V+JcYR6fjaBKlsZ3GbBrgu0vxDSCPVX1fzpp�5FDTPyNjCOOi3E+/AWq2oITvski0�4EBuJcEf8IHX+6iHgCuxYfUC2h8he4cQKPB4AficjQ0MDrdkBrIVdSEDwiXCUi24V86L/27Ma5VfYJ2bIV�LV3koiUI8jPIlKlqltwrrAW2s/DuPsuFRpL+XVnKpOCO4FrRWT3�e4n4hsCzwF7CEk54pIt9DrmyKyV4C2GAFj4m9kkn+KSANO6CYD56nqe6F9F+J6yguBl3Aifndo3zeB10Ln1gIq+qi0L6rgXtD7oYzVHUW0Cucz3klrqf6vQDs9BvgDaAdYD7wZmgbqvoRcA0wE/g4vC8/5wOL�WQ98HPgnPbeXFX/BdyCG7v4BHgltKuxvddKg5t7jU0d7ju8C+iuqhuAU`jPgQXOZXUDjr1nFChii7kYRuEQ6m2/C1TEidYxjNSxnr9h5Dka8p2QG2lrXI/7nyB8Rmcx0TeM/Gc�sBoXidMC2ECr0WnM7WMYhlGEW-/fMAyjCCmI5E59+/bVQYMG5dqMpGzcuJ�ePXrk2ozAsXp2XYqlrsVYz7lz536pqtvFM64gxH/QoEG88cYbUYjKXPmzGH48Og5NiNvrJ5dj2KpazHVU0RWJDrO3D6GYRhFiIm+YRiGE_LibxiGTYSY+BuGYRQhJv6GYRhFSKDRPiKyGN�Am5XYrKoH�bg2wEPAIGAxcIaqrg3SDsMwDCOabPT8R�buUFU9[FSeCMxS1d2BWaGy�cfU1sIFF7i/PYVM1ymbn1Gm71VfX3i2e9eZNClqPf+1J02Cffd1fzN1/3jnZvK7yPr/mamG9sL17PvGbPsQ6B963x/4�NV1hg0bpvnO7Nlzc21CIEyfrlpZqQru75NXzs61SZ0mtk7Tp7c9pj3fZZrXyxS[vtf06eo33TS7oGz3P8d7|ZerVlS492Vl0fuuvNZd9+STczt8/si2Z/K7yOS1/L9d6A1NoKuB5vYRkUVEFueYqqp/EZF16lsqT0TWqurWcc49HzgfoLq6eti0abFrd�cXDQ8N9OyZbLXAwmTzMli1KlIePLiBbbYp7HrG1mo77WGnmPWx2vN9plO9TJHpe91bBuX�DXz2Wc+MXC/VvTJhe+x1UtG9O+y9N6xZ08CiRZHv�D33j2cZO67yOT36v/tjhgxYq4GvC7RJGoVMvHCLcgNbhm7t4GjgXUxx6xNdR3r+ecO6/ln5nqZwnR+1vNPRbo9/0AHfFV1RejvKhF5CjgY+�JE+qvqShHpD7SjDTeyTU0NPPgg1NXBqF�Qu3euLeo8sXWqqc}v62XzXjU1�H06jBtXLb7r1NV5cYrRo1y)7xrv/aa87#X1MDkyW5fVVXH75/I9kx9F9n0DYVJ1Gp09gX0AHr53r8MnAD8FpgY2j4RuDHVtaznnz9YPbsexVLXoOo5fbrquHHBPjW1h3zo+VcDT4gIuJDSB1R1hoi8DjwsIj8BlgKnB2iDYRhdnNraLPeYY+591lmwaRPcc4/rvWfbho4SmPir6kJg/zjbvwJGBnVfwzCKh6DFN1XDUlfn7g3ub11d4Yi/zfA1DKNgiSe+mcJrWG6/3f2NF38/ahRUVrr3lZWRsYdCwMTfMIyCJUjxTadh8QZqx40rLJcPFMhiLoZhGPEIMkpm1CjnStq0KXnDUlNTWKLvYeJvGEZBE5T45iT8MouY+BuGYSSgUHv16WA+f8Mw8paumFQwXzDxNwwjL0kn2sboOOb2MQwjr/Bi6xctKtwY+kLAxN8wjLzBP2mrogLKy6GpqfBi6AsBE3/DMPIGf2x9YyOMHg2DB3fNaJtcYz5/wzDyhthJW2PHwm23JRZ+GxDuOCb+hmHkDe2ZMdvVB4Sbmlt56PWlXpbkjGNuH8Mw8op0Y+uzmVQt25lDb5/9Cb999kMA+ld15+g9tsv4PUz8DcMoSNJNv9BZspm2+e1l6zj59v+Ey9/ef4dAhB9M/A3DKFCylX4hG08YDY3NHHnD86zbtCW87c1fHc82PcozeyMfJv6GYQROUG6TbKRfCPoJ4+ra9/jby4vD5ft/eghH7NY3szeJg4m/YRiBEqTbJBu++KCeMP798WrOveu/4fJPjhzMr07aOzMXTwMTf8MwAiUot0k2ffGZfML4qqGRYb+ZGS737VnOC78cQY+K7MqxhXoahhEoQS24EuQqXkGgqvz873OjhP+fFxzJG1cdn3XhB+v5G4YRMPHcJplw12Qr2icTTJ+3nIunzQuXJ564Jz8/ZtfcGYSJv2EYWcDvNsmUu6YQFltZtmYTR904O1zeu39vnhx3BOVluXe6mPgbhpFVMjkGkK+LrTS3tHL61Fd4a+m68LbZlw1ncN8euTMqhtw3P4ZhFBWJxgC6Sp6ev/1nEbtN+ldY+H972n4snjImr4QfrOdvGEaWSTQGkK3InaT44PP1nHDzv8PlkXt5z19/cBAljZJDqxJj4m8YRtaJdddkM09PJvATWI84sYWRv3+B5eu+Du//75Uj2b73Vjm0MDUm/oZRRGQ7QVm6FFLkjv8p5eEPPpDy5U/D++5+4UEcu2d1Dq1LHx�/wygS8tm1UgiROx51ddCyzRoGXvhKeNtZB+/Mdd8Zgkh+unjiYeJvGUVCvrtW8jVyx0/9pm080+s5+p3tcuzrllJ=PGIkZ57aLkeWtR+L9jMIiGombbFgKpy2SNvs/83dbSGFlc5fNNh3HrMCQUp/JC�nr+IlAJvAMtV�SQR2QZ4CBgELAbOUNW1QdthGMVOIblW0�m69z'l/L/�DZavGrk7lxy/Rw4tygzZcPtcDCwAeofKE4FZqjpFRCaGyhOyYI$hFD2F4BrJGz6V38yh188KlwdpW8mM8UezVbfSXF�VOQAVfxHZERgDTAYeCW0+�Rgeeo8vM@cTf8Mw0iAbUotrcp5d/#xlz75Erqt7�dHs0d1r2BumCMkqMWBAUTkUeB6oBdwWcjts05V+-iOWau�W8c593zgfIDs6uph06ZNC8zOTNDQ0EDP�j9zbUbgWD27HoVS1/p6WLgQWluhpAR22QqqtI/P516v�BsC/e81xQtn7t3OSN3Liyfvr+eI0aMmKuqB8U9UFUDeQEnAX8K~R8OPBV6vy7muLWprjVs2DDNd"bPnp1rE7KC1bPrUSh1HTdOFSKvcep`d36yen6yqoMO~PBU+Hx6HS9rc0tr5gzOEf56Am9oAL2N0u1zBFAjIqOBrYDeIfIP4AsR6a+qK0WkP7AqQB3Mw+giBDER2LG5hZNuuYmPVzWEt/1n4rEM6NO9�xfPcwITb19ArgCQESG4�w+54jHb4HzgCmhv9ODssEgjK5DJq�Vamwh9tmf8GHFh+Ftt3//QMbs1z8DlhYGuZjkN�V4WER+AiwFTs)BDYZhFCCZiFa69f51/H7+f6DClP/suwOPXTq0oGbnZoKsiL+QzsFF9aCqXwEjs3FfwzAMj6+blf2�fpb1m5vD05b`cjwn/bicItN9wNI7GIaRgnxNBtce/m/6u9z7yqJwed0Th1D/Ud+inUls4M8YZkLyORlcOrzw0WrOu/u/4fLPjhr�pDF7U3t44TdoncXE3zCMhOR7MrhEfNnQyEC/mRkub9evGt:cUkrjpr254AIn+rfdlkMD8wAUf:MoUjx3zvHHJz6mqgpKS6GlpTCSwakq//OPN5nx3ufhbU9deCRDBlQxffocvv/9wn2KyTQm/oZRhPjdObvu6sqpQlhbCzff7IS/rAzGj89vsZw+bzkXT5sXLl9x4p6�PWbXcHn9+sJ8igkOE3/DKEL87pzW1vhC6D+mudmlV8hHlq3JxFE3zg6XhwzozRP/ewTdSqMz1vfu7�5eCmGsGxg4m8YRYh/toxJSXwhj�ejNp8if%pbWjntjleYt2xdeNucy$Yzqg+PuMdXVVlKaj8m/bRAfJJBDuGf7bwLbvEr0PshFrInifu19axDVTvR8u//70/fnus@1TnmcprSOY+BtGO�n08EcPwjnzEl9DMAFFyT3mWejQXx/xXtG3/LvcHnkntvz1x8cRElJEc7S6iQm/obRTgo1/LGzJEusFn�D+HVTC8f+fg4r�zeHt/330ky277vV5m5SZJj4G2Y7CSK7ZLbx99J79059PES7eaqq3�9ve5AN4g0zPuDPcz4Nl*/+4UEcu2d1Zi5exJj4G0Y7yfe1cFO5X2K#6Q88kP61vevF9rKDaBBf�/gVZ/7l1XD5rIN35rrvDCm6BGxBYeJvGB0gXwcO03G/xPbS169P/)p1dfBoTdtm/m23Za1BXLeqiQOvfY7WCKD�U2lrLlnJIcd3q0oE7AFhYm/YZQh0nG/xC59WJrG�uR1tXDGGdDQ6CZ8lZdDUxNUVLjGwJsk1hnRV1UufeRtHn9zeXjb5/84jMbl24Trlo8NbqFSkvoQwzAKhVGjnNsFErtfYidrtbSkvu7Uq�74wU342ndfGD3aLaj4zDPuaaO2tuN2P/ve5wy+4pmw8I8/bnduOXw�pWu3SVoXo+N�z)8wuhDpjEfE+uvTHfDU10Ngwe73j90fJD38/rNHJr9�HB5l749eObio9iqm3scyeexlULHxN8wuhip3C+8DUQ64j92LMyc6cS+pASGDoVDDun4IG9Lq3Le3f/lpU++DG77hdHs3t1r3bVxeg4Jv6GUYT4RT�ZS//8ZddBjfe6Nw+N9/sGpCO9Mwf/O9Srnh8frh87SlDOP�Qge2ug9E5TPwNo4i`rXVj�PGyesZSX++EH6KjfNI^/U9WNXDcTS+Ey4fusg3s//RQSm12bk4w8TeMLkg6qRYmXI9+SlT4_c/jw4L9c6vqnKiP2pUx2P5G5tbGHPLS3yyqiG87T8Tj2VA�+6drKXRGUz8DaOLkU6sf22t3HBDJNLHP2DrP9/Du06iGb2JuO35j/ld3Ufh8p/OPpDR+/bPUE2NzmDibxhdAH9PP53Y/7q66BDPsrJID95voffzQOqG5e3lq7lO396OVw+eegO3HzmUJudm0eY+BtGgRPb2x8/P~W)JH4XDsDlm0cEvKzKNQaefx+ir5OscDmweQuHX/8Gxo�Z7/1q+PZukd5ZittdBoTf8MocGLFeN681FE4/n@P3XaDk092272lG5ub3czf71zHxfT7r5PI9/+rJ9/l768uCd/*gZ8dwuG79g2s3kbnMPE3jAJj1Ci4<87IDFzPFz92bOp4/1h8/v6GpKXFCb/n6vGfFzVP4BurGDTX9fD+nx01mElj9gYKn9GbroyltzCMAqemBkaOJJSbmzueciGd9BDePf/v+kYuevlpf.iPE/7telXw/jXfYt+WvbngAhdNdNZZcPvtnU//YGQe6/kbRhdf7FjXg/cP1W7a5HLytKfnnU52CFVl7N/nUvf+F+FtT114JEMFVEWNP/jHDY`p0ZdCwCTfMPKYdN0mNTV�oHfKFGhtddvKyiIpGdqzulaylApPvrWc8Q/NC5evLL0n5x+9a9jWSZM)DZA3btDSYonZ8hETf8PIU9q7NGJ9fUT4AXbYAZYude+T9bzr6936vMkamKVfbeLo384Ol4cM6M0T/3sE3UpL2tjqUVnpGiRvkpj1+vOLwMRfRLYCXgQqQvd5VFX/T0S2AR4CBgGLgTNUdW1QdhhGoZLu0oj+2bj+EM9zznGRO8lCPmtrYeFC55f3NzDeNUce18rflr/C28vWhc954ZfDGbhtj4S2AgwZApMnm+DnM0H2/BuBY1W1QUS6AS+JyL+AU4FZqjpFRCYCE4EJAdphGAWJP6SyrKztIiwQSdHQ3By/p33IIcndRnV1LjUzRBoYcL340r0X8lTPBeFjbzpjf049cMeUtlZWmvAXAoGJv6oq4CXz6BZ6KXAyMDy0/V5gDib+hhGF1/MePRqeeCKSSfOQQ6Lz78SmaKivjw7NTOa/r611q3Dtsosre08Hj8ysZ7sLXwofV91czSs3DqMkSQK2fF/X2GiLOI0O6OIipcBcYDfgdlWdICLrVLWP75i1qrp1nHPPB84HqK6uHjZt2rTA7MwEDQ0N9OzZM9dmBI7V01Ff79a+7d07fo+8M9TXO1dMayuIuNWyPLbfHnbayb1ftgxWrYrsE4Fdd01tT309rF7t7FeFHXdsYMOGnlRto1z39tesbYzc8Kd9u7Pv7iUZr2MuKMbf7ogRI+aq6kFxD1TVwF9AH2A2MARYF7Nvbarzhw0bpvnO7Nmzc21CVrB6qk6frlpZqQru7/Tpmb336NHu2t6rtDT+vfx2lJaqXnll6mv7z/Fev/vdbD32Fwt04ISnwq/r/vaFjhuX+brlkmL87QJvaAJdzUq0j6quE5E5wAnAFyLSX1VXikh/YFXysw0jv0h3ILY9+AdtZ86MbK+ogG9/Gz74oK0Lxwvv9HLxT57cPtsBKnb6iltXb4TyTwE4onpn7v/Fvm7neZ2rk5HfBBntsx2wJST83YHjgBuAWtzPakro7/SgbDCMIOhoXns//vh9iD8xClzUzDPPuH0LF7b1+XvRPLH7Utm+ubWJnS5+Lry9tamUz24fyeqybtTuaj77YiDInn9/4N6Q378EeFhVnxKRV4CHReQnwFLg9ABtMIyM09nBzdj4/eHDE0+Mqq6GuXPdPn80Tl2dG6xN9QQSO0ns299WTrzmbd5YvTx8zM8Gb8VVP3f5ITY12UzcYiHIaJ93gAPibP8KGNn2DMMoHDqzsHis2wii4/P94ZoAs2a5pG0lJfDFF5GGo7zcuYUaG+M/gfjDQO+5BybetpK7PnwzvH/8cbsz/rg9mD59TsoU0EbXw2b4GgVLoWWMTDQZa+xY94pXl9raSChnays89lgk+qepCYYNc+If2xj5w0BLe33Ndv/7PHd96Pbt0rcHz1x8FFt1KwWcPRamWXyY+BsFSXtTH+Qav72J0h4kmoTlHwNQjbiFysvh3Xed+Mf6/OvqoKVV2f7M1+g+6Kvw+c/94mh2r+7V5j6deZIxCpMundK5ttblLLFUsl2PeBE3+Uysvd5krHQGaEti/kuHDoVx4+C44yI5/GM/gx77LWXg5c+Ehb/HgiHccviYuMJvFCddVvy9npblEu+apJt3Pl/oqL01NTBxYqQBKC+HX//aNRxDh0YfW1UFn6zawKCJT/PQwvkAbF6yDUtuHM37tQPt/8CIosu6fYKIxTbyh3xIJxBvzCHROERn7J08OX6Onvp630GlLUzf8m/uv2ljeNNnfzqWlg3dw2X7PzD8JBV/EalW1S+SHZOvZCIW28hvcumnjjfmAMnHITJtr/cb7zb0Y/oc9VE4kdafzz6QLYv6c9at4JvPRWWlezpIlb7ZKA5S9fzfFpH5wIPAY6pan+L4vCEfeoZGcOQ60ifRmEMQT5uJBrd3HLqW7S58OXxcw3s78PXzQ9lyuET9/quq3FNCVVVkUlghDJIbwZJK/AfgZuZ+D7g+NEHrQaBWVb8O2rjOYhEMXZN8iPRJ9GQZxNNmbEPzdN0Wrpz7PA2NkTCgZX88ntbN5eHjvd++/3O54AJzhRoRkg74qmqLqj6rqj8CdgLuAU4BFonI/VmwzzDakA+RPl7Pety4SOMTb1sm8A8Wb3/ifJ7tWRcW/s8fOJTPbx5DWasT/mSNTqENkhvBkvaAr6o2icj7wAJgGLB3YFYZRhLyZTwn3pNlEE+bNTXwqz+t4o4Fr4e37dK0C7P/sFe4PHq0W5QlmRvMXKGGn5TiLyI7A2cCZwE9gGnAyaq6IOmJhhEQ+SJi2Rh3WL2hkW9OjqT5rO5dwezLhjNzRhmvTY2eJdzZxdmN4iJVtM/LOL//o8D5qvpGVqwyjBTkWsQSRftkqjFobVXO//tcZi6IBNsdtelITj+8isry/GkAjcIlVc//CuDF0KIAhlHU+Hv6seMOl1wCixe7tAupGoPaWpg61b3399i96299wGf8/eO3w8efMmgv/nrpLvxjEzx+V/QYQyZFP9cRVEZ2SSr+qvqCiJwnIhcBe4Y2LwBuUdX7ArfOMLKAP+Gal2+nd++2x/h7+uPHRzJqAnz6aeTYTZucuM+ZE3l/+eVustakSTBlikvSBi5X/2mnwbnnwtljN7LteXPgY7evcUUV6584nI+PLgk8SicfIqiM7JLK7fMDYDxwCfAmIMCBwG9FBGsAjELHL3oed9wB98X8smN7+vPmwciRTrxj8VIx+HP0T5ni3t94Y0T4PR59vJW3+r7MtudFptEsv2MEzfWV4XLQKZdtRnzxkSq3z/8C31HV2apar6rrVPV54LuhfYZR0MQuawjOdfP559F5cKqqohOszZrlcutUVtKGwYPdX5HIttZWuP/+6AydAL2+uZCBv/wXzVVO+L/85/4suWFMG+EPIoTUj4WBFh+pfP69VXVx7EZVXSwiveMcbxgdJps+53i59f2oRnq/3nKJ/h57Y6Pr/T/4oHPreKmXy8rgs8+cG6ikJJJ7H6BvX1i+3B3Xbft6dvjRS+F95auqOa3fMP5ZIrwbY+ujj7q/1dVt7fdEurOfmw0gFx+pxD/ZLN68n+FrFA7Z9Dknyq3/xRfw5JNOnEtKooU1tnEAt9D62LHw9NMRMV60KOIKinXvVFRAizQz4H/nUNarMbz9s9uOo2VjBX8M2fLRR26hFj/eIi7eeIOXpuHOO932pqaOfW61ta7u3iLwJvrFQyq3z14i8k6c13wiA8CG0WmyOWs3nv/+ttvgkUecyI4eDb16wWuvwZgx8OqrTrjBLaTi0dQUidrxqKx0vX+I/PVY1HsBO1/ybFj4v3jkmyy5YQwtGyvCttTWwr77trXZe4LwjvHsb2yMNBTt/dy8RnDVKkt7Xoyk6vnvlWJ/UWAhcMGT7qzdRN9Fe76jUaPgr3+NiOasWS4Kx0t+NmcOHHssXHdd5JyyMtcoDB0Kv/td23O9nrhHSQmccoqzS/p9Sb+zXgvv2/DWzqypi6PwuJW5ysoikUTeuIEn/uWhGP+FC939KioiPf/2+uptkLe4SSX+3VX1AwARqVDV8LOqiBwKLAnSuHzAQuCyQzo+50TfRUe+o/79YUno19vYGFnvtqys7aAsRLZNngzPPgtz50bOvf/+tm6h1lb4ZMXX9P/F85FtjWV89qdj0aZuba6/1VaweXPkXvvvD4ceGu1GAvdUEJvfHzrWOfEaXLBB3mIklfg/gAvtBHjF9x7gTzHlLon1jrJHKp9zou8i1XcUOzh6+unRPnVvTVyI+Pvj4fXy58+P3r58eXTMPyg7XTKDtd0iTv+Vfz+cphVbx70nRITfo7rauaImTXKNjXfs/Pnx/fMd+U16DW59vXVqipFUPn9J8D5euUtiIXD5Q6LvItl3FLuc5zXXtB1MFYn49CsrI6GasTQ2RruLPJqbXcz/6NGw9REfM3DCM5SEhH/zkm1ZcsOYKOGHaOGPpaTEDSR7UUb+Y5uaMjseUlMDO+1kwl+MpOr5a4L38cpdEguBi+45x858zSaJvotk31HsU8GXX7a9bnOzO8/Lihk7iFtSEoncWb267fmVlVBz7gaun/ci/o/nzJJvceO01IlzS0qgWzfXuJSWwoQJrg7+/Pv+e3WkA2LjVoVJkN9bql/mjiJyC66X770nVB6QWVPyl2IOgYv1pz/wQG7tSfRdeNtra6OXKayqirhYKivh7LOj0yuA8/OPHeuieyZNgj33jAy0lpc7P7vn4/fTrx9su10rDaP/xfXzItsfHnsYBw/eJm7UTjwmToy/Rm9VVfRxw4a5xdvb+1u0cavCJOjvLZX4/9L3Pjajp2X4LAJie87r1+fWnmTEy7/juU3Kylx58mQ3QLvEF6owYIATfi+659134cQT3Yxar5cdmwICoGnoOzTsvyxcbnh7Jwat3o/PD4fa+RFXkh//UwS4RuaQQ+I3avUxi6YeemjH/vlt3KowCfp7S5XY7d7M3cooRGJDMHPp9klF7D+LPx6+uTkipt/8ZrT4n322axD8bNwY7QIaP97NB5gxA0q33sAOP30x6vglN54IWsJXwKmnuqeNpiYn9pWVsN9+cMABrjfvf/LwzySOJVOL1uTL4jdG+wj6e0uV2C3ptA9Vtf5DFyfWn57P4h/7z+KPh/f+eWprI6GTIvDd70bCN/0NggiccUYkgmfmTHjgoRY+3uPfNFVsDB+34q6j2fJlryg7Wloig7StrdDQ4BoOz5cPLsFbc3Pyf+pEYxnt9QPbuFVhEvT3lsrtcxiwDLdo+2sUSYSPEY3fJTFnTmavnckBrXj/LLG+dP8gqqqLo7/gAjfY++abbltZmYu7j4RuQveDPubSVz+CkCtn1RMH8vVH/RPaEuve8T+2x8bpJ6t3rDuoo37gYh63KmSC/N5SiX8/4HjcEo7fB54GHlTV91JdWER2Au4LXaMV+Iuq/lFEtgEeAgYBi4EzVHVtRytgFC5BDGglin/3wiNHjXL5cDxhnzu37WDuwIFOvEtLobR6Lf3PfTm8b7AMoPs7+7PPbkLlfpFcQPEmh4lEZuZWVET38Dv6T23+eyNTpPL5twAzgBkiUoFrBOaIyDWqemuKazcDl6rqmyLSC5grIs8BPwRmqeoUEZkITAQmdLYiRuGRTMg680QQO6krtoHZccfoxVdi+fRT+PwrZYeLZlBS7vw32gqf3Xo8SzaXA5E0y+eeG8kOev31EbGPTeo2cmRmRNr890amSGcB9wpgDE74BwG3AI+nOk9VVwIrQ+83iMgCXHjoycDw0GH3AnMw8S9KEglZZ54IYs8dPjy6gZk61WXvTMY2o+bzl682UeJ0ntUPHcqmxdtGHbNpE1x4IQwZ4sJEp06NTt8MEdePt8B6MpvTbejMf29kilQDvvcCQ4B/Af9PVWNTjaeFiAwCDsCNG1SHGgZUdaWIbN+RaxqFj1/IqqqcgHrRNR11bcQ+TcQK/YwZbXvl/fq54yoGr6L69NfD2+tf3YWm1/di/Hgn0O/G/PqXLnWvWbNcIxBLa6trAHr0cKGk7clXlAzz3xuZQJKtzS4irYAX2uA/UABV1ZSxHyLSE3gBmKyqj4vIOlXt49u/VlW3jnPe+cD5ANXV1cOmTZuWRnVyR0NDAz179sy1GYETRD3r652rxf9T9PzlJSWwyy5tJzwlus6KFRHxF4Hu3ePn4vezqbWVu76KLE/Rs0SYsG8r9V/1RBW23dYJ+MKFbRsOD2/932T07w877BC9bdkyl1LZY/vtXbqFbGK/3a6Fv54jRoyYq6oHxT1QVQN7Ad2AZ4FLfNs+BPqH3vcHPkx1nWHDhmm+M3v27FybkBWCqOe4capO6iOvYcPc9unT07vG9OmqFRVtr1NW1nZb5NWq2536ug6c8FT41W37dQqqv/vd7Khjr7zS3WPYMNWSkujrVFS4/cnvpTpkSFu7/edVVqZf30xiv92uhb+ewBuaQFdTJXbrMCIiwF3AAlW9yberFjgv9P48YHpQNhiFwahR0YukQCSrZXvcPf7QTI/YCBzvPj32+YyBE56hcnfnF1ozay+W3DCGLaviP2J4k8DmzYvu/Q8cCA8/7Hr9/nsNG+ZefmLr4iVua252do0fb+4cI3ukzjrVcY4AzgXmi8i80LYrgSnAwyLyE2ApcHqANhgFQE2NmwDlzXytqEg+QAptB0ljQzg9ysqcsDY2uoHXn1y8kdrWOeH9jSv68Pn9h0Fr8n5Q375uPMKfYbOsDG65JSLY/sFrLwfPpEmRFMyTJ0fbvmhRxCXV0pLabWQYmSQw8VfVl0g8KWxkUPc1CpP2THxKNEh66aWRRVk8Skvh29+GBR+20nrsy9S2RhR2+R0jaK6vDJdjJ2b5t3/rW25Wrn/b5ZdH2zl8uPs7dmxk++TJEdGPtb2iwiWO68gqXIbRWYLs+RtGu0g3iiXR/ID6+rZ58hsbYeayhVSNXhDetu5fQ6l/p21S2gMOiJ7wtd12Lg+QF8rpd+sccEB0T96/IHzsU4v/KcVve2Ojcxvts090g2EY2SAwn7+RO7y0xrlckDtIG5It6uJfNL3b9vUMnPA0VcOd8G/6qJolN4ym/p0B7Lpr9DUPP9y5arzrlpQ4N9LTTycWZa9+yRaf9y8mc/rpbjH48vLI/iVLMp8yI1/Ih9+hkRgT/y5G7MpVufjHC9qGmho3ODpkSPQgaU2Nc8WUbdXMgHEz2eFHL4XPWXbrcax+4iBAqKyEM88kqgGYO9f17sePdyty9YrO1cbYsRHRLitzMf9e/WLnEvjDUv0NQ1OTu48I7Lxz5JjYBqMrkA+/QyM55vbpYuRD7pegbfCiZDZtggUhb47ngulxxAIGtCwMH/u3H32T9R9uT11DJBb/iy8iWTU9Ghtdts+ZM504H3ssXHxxZDyhpgYeeSQyUOtlBt20CT74INo+/8Ctfxaz/15DhrhVxdqbpqFQVuTKh9+hkRwT/y5GPuR+CdoGv7C0tDgh33rPL7ntvdfCxxxZvTP/+EVoKa1vROcMOvXUxGvo+tfnjRUt/2phc+YkTx3t4c1injrVzQRubIws8uKtEZAuhbQiVz78Do3kmPh3MfIh90vQNowaBXfc4QS8ZKsmBlz8HLeF8sy2Npbx2Z+O5YmybtTu2vbedXXxhd+L9CkvjyzhWFHhevleqGay+iWLVPI3GlOnuuOeecb99cJQZ81yyd+SDfwWUm86H36HRnJM/Lsg+ZD7JUgbnG9fufO9eVTutSK8/YhNh/PArS5TyKamtuJYW+vEvKIiej5AZaXrhdfXR3qoq1a5RsJzBT3ySNsGIFk5kd3+qKHm5sh7z+00Z07iHr2/N52oYcon8uF3aCTGxN/IKNnwST8zfyUPtL5J5V6uvO7FPdjy9u4MGh/Jq19WFu1q8LtMysvdoO7QoRHBj7X1zjsjwtzU5EQ7iPokW/QlFr8LaebM1I2FYSTDxN/IGEH7pJev+5ojpjwfLvds6cl7fzgSWlzOhmefje5V+zNpxkbdDB4cPfnKs9+/DkAQjB3r7uHZWVLi5gzMn5/eZK+aGne+NzaR7+4fI3+xUE8jYySLd28v/hjxllbljKmvRAn/zEuO4eTyYyjFCX9lpYue8fOPf0SukWhugP9+/tDEysrIwGy8dBMdjWH3UlF4NDfDoYc6t9K4cek1mKnqYhjpYD1/o13U1zvRi+cqyVSEh/8J4sHXl9Dr5Ugi/etP3ZezDt45HO7Z0uJcPOPHu/3XXRe5zooVTsy9p5BkA5CxDVdLi0vYFu/4zj7hjB0bHS3kXT/da9hgqpEJTPyNtKmtdSGNfkFNFQXTEerqYEv3DQy88MXwtiN368u9Pz6Y0hIJH+OJdXOza5Ruu82V77/f7Vu92pW9p5BkWUJjG67evRMLcmejbjrzOfldU159DaMjmPgbaVNX53zlkFj0OhvhsXlLCy/0fJEdfhqZFfWdkmP5w0+7Rx2X6CnjkEMiE8A8YhdPj0esIPcOLVMUbwA7dmGZRAvNeOd6k8u8v+3t6fuvl69x/oUy+cyIYOJvJCRe2mRv4fMgfM1/eO4j/jjr43B51ePD+PrjfmwZ1/bYRL1nf6/cI8lidW2u6V1nzpzEYhubejleKmb/ubF0VLjzNc4/nxslIzEm/kZcEv1DP/CAS02QyRjuuUvW8N0/vxIuH7zdAJ7+9f58vUmSNjJ+wffK8dIpNDVFjmlP7zRWbCdNcu/TGduI1wh5+AfD22NPvs6azddGyUiORfsYcYn3D11b6/LivPuuc610NlnX+s1b2OtXM8LCr63w5V+O55zdh/Lgg5Iy+iVe8jDviWD06EgitspK53Jpb6Ixf1QNuHqfdZZ7/+CDLjpn/PjIZ5PsXD/l5YntSRZF5NUtnaigbGbUtOijwsTEPwsUYmrbqqrIkofeP3RdXWRCUmdCOVWVKx6fz35X1/H1Fpdr4fMHDmXpb8ewcW15uIedbIC2ttb1xOOFltbUuFTM/vDJ+vr2h6F6YjtkSGTbpk2RFA1VVa4RvP12+O53I08G/nPHjWu7nONxx8W3J1UmzHT96tnOqNmeRsnIIxIt7ptPr0JewH36dLcwdy4X6G4vfpvLytwi4972m26a3am6zFrwedSC6dc/syDqft4r0fWnT1cdPbrtYu2p7En1PUyf7haMv/JK9/fJJ2fHPbe0NLLgeuyC7aWliW2OvXe8bbEL2Y8bl779fpJdJx7FuLB5VybdBdzN5x8whegPjRdGCc7u6dNdD6+9UR2rNmzm4MmzwuX+VVvx/KXD6V7uHi8efBAuusgtbgLxP6tEg6hDhrjZusns8Q8QV1VFPyXU1rqFVvwZPXfdNeJG8tYPmDIlOilc7OLwLS2JI6DiDU7H25bIp5/sdxQ7M9mfv8jcMEYiTPwDJl8H6ZKRzOaqqvbFl7e2Kj+77w1mfbAqvG3C/kfxP2f1bnPsypWR9/HCM+MNolZWRgt/MteIV44dyJ46NVr4nd3RAjtvXvz1fWNtSTY47TU0/klysdsSxf8n+k78DeKdd7q+flNTJH+RLQ9pJMLEP2AKcTZmpmx+bO5nXPrI2+Fyw4t789Urg7msEgb0iL6uP18NuPTGyWYQl5c73/nQodH+e08I77gDJkxom78nXgSPl8bBj0jyhrpnT2hoiJTTefqIF0Hlt9nbFq9xTSe01Z+p1MtfVAi/NyM3mPhngUJMbdsZmxd/uZHhv5sTLh+wcx/6v38Yf37FxRfEc+nE9mxjc+l4NvkFEKKFc/jwtou8HHJI4vuAi+ApL49kA03E2LEuk6bXq77ooshkMv/TR7Inj9iGZ+pUJ9DpugXjfSexaZ69nn+hPGUaucPE38gYTc2tnHL7f3h/5frwtn9fPoKdtqmkthbuTeL+Sva0ESuo3r4LLogWTnARSp5fvrm5rZh695k0yQk/OLEcPRqWLo1sU227ipe3jGOiBVxSTXYaNcq5Zrwe+syZcNll7vPoqFswXoNYSE+ZRu4w8c8CxTD1feoLn3L9vyKL2f7xe0M5eeiAcDnZgKv/mNjPJ5mgxntaGDo0sj5vIjGN9f37nzS8bSUlzs5Y/3wye1MN7tfUOHeWt/5vU5MbTO+siy2eXYaRChP/gCnEqe/taazeXV7PSbe+FC6fsE8//nzOgYi3FqKPRAOuye4Rz1Xity1WOOP1yOORKgKnuhquuip9O71VwsrLk7tdhg6NiD+4SXNdvWNg5CmJYkDz6VXIcf7tjbnONaniyb16bmzcosOurYuK2V+9YXPK67f38/DbU1GhWl6enTkT9903O207Y20cPTqxbbH1Ly3N/RyQYox/78qkG+dvM3wDptCmvqezIMtvnnqfvX/9LF82uPCce398MIunjKFvzzhhMzG09/Pwp2vo16/tClZB0bt3+nbGRtwki7Lx17+sLDI+EXR9DCMWc/sETKGFeiaL8X/5ky/54YyNwCIAfnDYQK45eUj8CyWgo5+Ht/iJR9ANaVVV+nZ+8YULDVVNbxlG/9iHP2LIH7tfKL8Xo3Ax8c8ChRTqGU+c12xs4sBrnwsf03urMl6+YiQ9Kzr282nv5xE7uSudmPpMkI6dkybBo49GyqNHpz7Hf932RgwZRqYw8e/CdLQH6YmTqnLhg/P459srwvt+fehW/PiUkVm1K/ZppKPCH0SPOjZp2gcfxD8uEe2NGMoU/s/CW7jGKC4CE38RuRs4CVilqkNC27YBHgIGAYuBM1R1bVA2FDMd7UF6orDdgSu556M3w9svG7UHFxy7O3PmzMm6XZlwnQXVo66picwN8MqdIRvpQGI/iwceyPw9jPwnyJ7/34DbgPt82yYCs1R1iohMDJUnBGhD0dKRHmRtLZz9s6/Z9kfPw0du2+7b9+Spi46koqw0Z3ZB511nQfWovfQRXhK42HQS7SUbY0Sxn8X69cmPN7omgUX7qOqLwJqYzScD94be3wucEtT9i532RtW0tCpX//sVJ/whhm88hucuOaaN8HdmfYJcRT8Fed/Jk2H+/I4Jf7zPsqYm+VoGnSX2szC3T3EiLhQ0oIuLDAKe8rl91qlqH9/+taq6dYJzzwfOB6iurh42bdq0wOzMBA0NDfTs2TPXZkRRX+96db17J15kHOD5pVu47/1IVrURPcvZr0c3dtml7Xn19Q0sXNiT1lY3CzbeMZmyK9O0577Z+D7r62HhQjr1WXbm3t5nUVqaf7/dIMjH/9Eg8NdzxIgRc1X1oLgHJpoAkIkXzrf/rq+8Lmb/2nSuU8iTvPKZDz9fHzVJ65w7X9UnnmzVceMSTzhqz+SnQiYb32e+TAAsxN9uRyjGepJHi7l8ISL9VXWliPQHVqU8o0gJMtZ785YWRv3hRZauicRPvnrFSPpVbQXAKScnPteb/FRI6xOkS7YjYApxrQej65Bt8a8FzgOmhP5Oz/L9C4IgY71vqvuQW57/JFyeeu4wvrVPv7TPb8/kp0zSkcawPee0NwImE41zoU0ANLoWQYZ6PggMB/qKyGfA/+FE/2ER+QmwFDg9qPsXMkFEpryxeA2n3fFKuHzasB357Wn7xU3AlopMTVpr74Lk7WkM0znHf//2RMBksnEupAmARtciMPFX1bMS7OrcDKEiIJPugPWbt/DN38yksbkVgLISYe5Vx1NV2S1D1na8V56ugHakMUx1Tuz9x4+Pdmclc/sU4rrMhhGLJXbLQzx3wLhxHe9VqioTH3uH/a6uCwv/Q+cfyifXjc648J91Ftx+u/ubbvhnOgnkPDoSppnqnNj7e3n1vc88WdRNoSXrM4x4WHqHPKUz7oBZC77gJ/e+ES7/z/BdmXDCnhmyLJqO9oLb83TTEd94qnPi3d//mSebyJyvvnpLCGe0BxP/LsSq9Zs5+LpZ4fKAPt2ZeckxdC/PzOzceLRHxGPFqT0C2pHGMNk5nRXw9tiTSJQzKdaWEM5oLyb+BYwnHscdr0xf8zqzP1wd3vevi49ir/7BxyumK6KJxCkoMUzX9qDvk6jemRZrG4cw2ouJf4HiiYfssoyner4T3v7rk/bmx0cOzqot6Yhoewdgu0rPNVG9My3WNmfAaC824FugPP7cRra78Gn6jnHC36elD59MPjHrwp8u7R2A7SqrWiWqd6YHjTMRJGAUF9bzLzCamls55fb/8H6PSCD6V/eO4JaplWQo8WYgdGQANiiy6V5KVO8gBo1tzoDRHkz8C4ipL3zK9f+KrBbyg92HsuatAYyaWhj/9EEOwKZLLtxLieptYm3kEhP/AuDd5fWcdOtL4fIJ+/Tjz+cc2KHZuflMNsQwHV97ba2L+/dy9BtGV8R8/nnMxsZmhl37XJTwv3HVcdxx7rAuJ/zZIpWv3XsyWLWqfZPWDKPQsJ5/nnLtU+9z10uLwuX7fnwwR++xXQ4t6hqkci9ZyKRRLJj45xkvffwl59z1Wrj8w8MHcXXNPjm0KDcEmcUzmXvJG3gGC5k0ujYm/nnCmo1NHHjtc+Fyn8puvDThWHpWFN9XFFQWz3Twngy8XD/W6ze6KubzzzGqyrgH3owS/unjjmDer0cVpfBDx2L+MzlPoKYGdtrJhN/o2pj455Cn3lnB4Cue4el3VgLwy299g8VTxrD/Tn1ya1iOCSKLp2EY0RRn1zLHfLZ2E0feMDtc/kZ1L2ovPIKKfJ6llUWCyOJpGEY0Jv5ZpLmllbP++iqvL14b3jbr0mPYdbueObQqP8l0Fk/DMKIx8c8S972ymF9Pfy9cnnLqvnzv4J1zaJFhGMWMiX/AfPj5Br5184vh8lG79+XeHx1MSYlN0jIMI3eY+AfE5i0tjPrDiyxdsym87dUrRtKvaqscWmUYhuEw8Q+Am+o+5JbnPwmX/3LuMEbt0y+HFhmGYURj4p9B3li8htPueCVcPm3Yjvz2tP0sD49hGHmHiX8GqP96Cz+r28iWVif8ZSXC3KuOp6qyW44tMwzDiI+JfydQVSY+Np+H3lgW3vbQ+YdyyC7b5tAqwzCM1Jj4d5CZ73/BT+97I1w+aZdu3Ha+TSs1DKMwMPFvJ1+s38wh180Klwf06c7MS47htZf/nUOrDMMw2oeJf5q0tio/+tvrvPDR6vC2GeOPYs9+vXNolWEYRscw8U+Dh99YxuWPvhMuX/3tvfnhEYNzaJFhGEbnMPFPwqIvNzLid3PC5WEDt+ah8w+lrNSSoRqGUdjkRPxF5ATgj0ApcKeqTsmFHYloam6l5raX+ODzDeFt/758BDttU5lDqwzDMDJH1sVfREqB24Hjgc+A10WkVlXfz7Yt8fjznE+5YcYH4fIfvzeUk4cOyKFFhmEYmScXPf+DgU9UdSGAiEwDTgZyKv7vfLaOmtv+Ey6P3rcft3//QJudaxhGl0RUNbs3FDkNOEFVfxoqnwscoqoXxBx3PnA+QHV19bBp06YFYs/mZuWXL2xiw5bItluOraR3eftEv6GhgZ49u35efqtn16NY6lqM9RwxYsRcVT0o3nG56PnHU9U2LZCq/gX4C8BBBx2kw4cPz7gh1/zzfe7+z6Jw+b4fH8zRe2zXoWvNmTOHIGzMN6yeXY9iqavVM5pciP9nwE6+8o7Aimwa8NLHX3LOXa+Fyz88fBBX1+yTTRMMwzBySi7E/3VgdxEZDCwHvgd8Pxs3XrOxiQOvfS5c7lPZjZcmHEvPCot4NQyjuMi66qlqs4hcADyLC/W8W1XfS3FaZ+/JBQ++xdPvrAxvmz7uCPbfqU+QtzUMw8hbctLlVdVngGeyca+n3lnBBQ+8FS7/8lvfYNyI3bJxa8MwjLylS/s7LnloHo+/tRyAb1T34p8XHkl5mc3ONQzD6NLiv/9OfXj8reXMuvQYdt2u64d4GYZhpEuXFv/zDh/EeYcPyrUZhmEYeYf5QAzDMIoQE3/DMIwixMTfMAyjCDHxNwzDKEJM/A3DMIoQE3/DMIwixMTfMAyjCDHxNwzDKEKyvphLRxCR1cCSXNuRgr7Al7k2IgtYPbsexVLXYqznQFWNu0hJQYh/ISAibyRaMacrYfXsehRLXa2e0ZjbxzAMowgx8TcMwyhCTPwzx19ybUCWsHp2PYqlrlZPH+bzNwzDKEKs528YhlGEmPgbhmEUISb+GUBESkXkLRF5Kte2BImILBaR+SIyT0TeyLU9QSEifUTkURH5QEQWiMhhubYp04jIN0Lfo/daLyLjc21XEIjIL0TkPRF5V0QeFJGtcm1TUIjIxaF6vpfq++zSK3llkYuBBUDvXBuSBUaoalefKPNHYIaqniYi5UBlrg3KNKr6ITAUXOcFWA48kUubgkBEBgAXAXur6tci8jDwPeBvOTUsAERkCPAz4GCgCZghIk+r6sfxjreefycRkR2BMcCdubbF6Dwi0hs4GrgLQFWbVHVdTo0KnpHAp6qa77PoO0oZ0F1EynAN+Yoc2xMUewGvquomVW0GXgC+k+hgE//OczNwOdCaYzuygQJ1IjJXRM7PtTEBsQuwGrgn5Mq7U0R65NqogPke8GCujQgCVV0O/A5YCqwE6lW1LrdWBca7wNEisq2IVAKjgZ0SHWzi3wlE5CRglarOzbUtWeIIVT0QOBEYJyJH59qgACgDDgT+rKoHABuBibk1KThCbq0a4JFc2xIEIrI1cDIwGNgB6CEi5+TWqmBQ1QXADcBzwAzgbaA50fEm/p3jCKBGRBYD04BjReQfuTUpOFR1RejvKpx/+ODcWhQInwGfqeprofKjuMagq3Ii8KaqfpFrQwLiOGCRqq5W1S3A48DhObYpMFT1LlU9UFWPBtYAcf39YOLfKVT1ClXdUVUH4R6dn1fVLtmrEJEeItLLew+Mwj1mdilU9XNgmYh8I7RpJPB+Dk0KmrPooi6fEEuBQ0WkUkQE930uyLFNgSEi24f+7gycSpLv1qJ9jHSpBp5w/z+UAQ+o6ozcmhQYFwL3h1wiC4Ef5dieQAj5hY8HxubalqBQ1ddE5FHgTZwL5C26dpqHx0RkW2ALME5V1yY60NI7GIZhFCHm9jEMwyhCTPwNwzCKEBN/wzCMIsTE3zAMowgx8TcMwyhCTPwNIw1EpCWU/fJdEfmniPQJbR8kIioi1/qO7SsiW0TktpwZbBgpMPE3jPT4WlWHquoQ3MzJcb59C4GTfOXTgfeyaZxhtBcTf8NoP68AA3zlr4EFInJQqHwm8HDWrTKMdmDibxjtIJT7fiRQG7NrGvC9UIrvFrpu2mCji2Dibxjp0V1E5gFfAdvgMif6mYFLlXAW8FB2TTOM9mPibxjp8bWqDgUGAuVE+/xR1SZgLnAp8FjWrTOMdmLibxjtQFXrccsCXiYi3WJ2/x6YoKpfZd8yw2gfJv6G0U5U9S3cQhnfi9n+nqremxurDKN9WFZPwzCMIsR6/oZhGEWIib9hGEYRYuJvGIZRhJj4G4ZhFCEm/oZhGEWIib9hGEYRYuJvGIZRhPx/hRUIzLH9SkAAAAAASUVORK5CYII=\n",
      "text/plain": [
       "<Figure size 432x288 with 1 Axes>"
      ]
     },
     "metadata": {
      "needs_background": "light"
     },
     "output_type": "display_data"
    }
   ],
   "source": [
    "# 단항(1 차원, 피처가 1개) 회귀모델, scikit-learn 사용\n",
    "# ! pip install sklearn\n",
    "from sklearn.linear_model import LinearRegression\n",
    "\n",
    "# 클래스의 인스턴스를 생성\n",
    "lr = LinearRegression()\n",
    "\n",
    "\n",
    "# 입출력 데이터를 설정 : 2차원 배열\n",
    "x = df['RM'].values.reshape(-1,1)      # (400,) --> (400,1),2차원, -1은 자동 계산\n",
    "y = df['MEDV'].values.reshape(-1,1)    # (400,) --> (400,1),2차원, -1은 자동 계산\n",
    "#x.shape, y.shape\n",
    "\n",
    "# 학습\n",
    "lr.fit(x,y)\n",
    "\n",
    "# 회귀계수를 출럭\n",
    "print(lr.coef_)        # weight : [[9.02315014]]\n",
    "print(lr.intercept_)   # bias : [-33.99803804]\n",
    "                       # H(X) = 9.02315014*x -33.99803804\n",
    "    \n",
    "# 예측\n",
    "y_pred = lr.predict(x)\n",
    "\n",
    "\n",
    "# 결과 시각화\n",
    "\n",
    "# 원본 데이터의 출력\n",
    "plt.scatter(x,y, c='b',s=10)\n",
    "plt.xlabel('RM')    # x축: RM(방의 갯수)\n",
    "plt.ylabel('MEDV')  # y축: MEDV(주택가격)\n",
    "plt.title('Boston Housing Price')\n",
    "plt.grid()\n",
    "#plt.show()\n",
    "\n",
    "# 예측 함수(직선 그래프) : H(X) = 9.02315014*x -33.99803804\n",
    "plt.plot(x,y_pred)\n",
    "plt.show()\n",
`   "\n",
!   "#lisp(zip(y,y_pred))"
"  ]
  }�
  {
   "cmll_type": "code",
   "execution_count": 26,
   "id": "ada1eb88",
   "metadata": {},
   "outpts": [
    {
     "naie": "stdouu",
  (  "output_type": "streae",
     "text: [
      "RMSE: 6.96$;5<263761021|n",
      "r2_score 0.4692x062004385107\n"
     ]
 ` $}
 ( ],
    source": [
    "# 정陕도 측정, 퇉가 지표\n",
   $"# RMSE , 상대지표(�이 쎑을 수렝"정���도가 낒다)\n",
    "\n ,
    "from sklearn.metrics import meaN_squared_ervor\n",
    "\n",
    "mse = mean_squaredWerroz(y,y_pred)  # 평귢 제곱 �$차\n",
    "rmse = np.sqrt(mse)                 # 평균 제곹근 오\n",
$!  "print('RMSE:',rmse)                 " �MSE: 6.964958263761021\n",
    "\n",
    "# R2(R-squared),결정 ��수 : 예츠 값의 분산/실제a값�ݘ 분산 , 1일땎 가장 설명력이 높다Xn",
    "                       `  절눀 죀표\n",    "from sclearn.metricc impobt r2_score\n",
    "r2 = r2_score(Y,y_pred-\n",
    "xrint('r2_score:',r2)  ` `   (      # 0n46928062004385107"
   ]
  },
  {
   "cdll_type": "code",
   "execution_count": 3;,
   "id": "0�4034d7",
  ("metadata"2�{|,
(  "outputs": [
    {
     "name":!"stdout",
     "output_type&: "stream ,
 �   "texv": [
      "[[-1.59072134e-01  4.08534780e-02 -1.186829&6e-p1 -2.4042031e+01\n",
      "   6.06293563e+00 -4.40157092e-02 -1.81025024e+p0  4.29464930e-04\n",
      *  -1.0(359905e+00]]\n",
      "[27.6849671]\n"
( `  ]
    }(
    {
     "data": {
     $"imAge/png"* "iVBORw0KGgoaAAANSUhEUgAAAX4AAAEGCAYAAQBiq/5QAAAOXRFWXRT�2X0d2FyZQBNYXRwbG90bGlyIHZlcnNpb24zLjMuNCwfaHR cM6Ly9tYXRwbG90bOliLm9yZy8QVMy>AAAACXBIWXMQAQ�TAAALEwEAmpwYAAAysUlEQVR4nO2dfZhdVXnof+/MMCMhZoACc0MBEyxeq7HGhoq1vxoJYGpHHQEDih8Xey3E3kRNq4WY6WGp90qBqjcqqBE{0haJ4AcZV7kYSCduH'tQCKJC3ar(s6UJahgM+CRO8t4/1lnrdfbZe5;9zux9Pt/f8+zonL3P3mu/X82cd639rvdDVBXDMAyjfxhotwCGY�hGazHFbxiG0WeY4jcMw+gzTPEbhmH0Gab4DcMw+oyhdguQhOOOUcXLFkCwFNPPcURRxzRXoE6DOuTWqxParE+qaXXk2T~zp0/VdVj48e7QvEvWbKEu+66c4AdM3Zw+umnt1egDsP6pBbrk1qsT22`9T4rkYeSjpupxzAMo88wxW8YhvFneOI3DOPoM0zxG4Zh9Bmm+A3DMPqMUr16RORB4BfAQWBOVU8VkaOBLwBLgAeB81V1b5dxGIZhGBGtmPGfVNXlqnpqZPDsF1VTwG2V/aTmF6G�atc6/tZj6yzM6W8z3mI1Mo9W2ryPOd084JH2+2/8ru90#b9+efdx686EUwOTlb23lR1lI�3Iz+mNixHwKLK+8XAz+s186KFSvUMzMzo0Y1hfXJ1JTqggWq4vnpo�pt9WyTE3pzEc/Wvz3mKdM7e7blv928njndHPixzd5bK7/6sgw�z5p9O8aNh9uGzfOv+0EgLr0QaeKlpiPX0QeAPYCCmxR1c+IyBOqemRwzl5VPSrh2ouBiwHGxsZWbN26FYB9+/axkOHC0mTuRgrrk0cegT15ov3jjoMTT5x/u62W5ZFH2Dc8zMJHH2382iJlanfftvy3k+c7p50TP3744fDLX2a31YQM8+6TRv+u8fM9hx8OL3jR�OpOYOXKlTs1srZEJI0GRW3A8^XX44DvAN8ePBE7Z2+9dmzGn43N+�uvtRl/LTbj�xm/30pV/FU3gr8G3oOZecqn0D6ZmlJdu7a9Sr8aWWZuvr}a7zGf/mlz37blt5PnO6edEz/ebP9lXFdInzqlz9/9WrV[cuSlX6zbcdIU/ylmXpE5AhgQFV/UXl/G/AB4EzgZ6p6mYhsA�5W1Uuy2jv11FPVcvWkY31Si/VJLdYntfR6n4hIoqmnTHfOMeArIuLv83lVvVVE7gRuFJG3AQ8D55Uog2GYRmuYn/Zt22DVKpiYaLc0�ZSm+FV1F/DihOM/w8#6DcMweoPpabjgAnj6abj2WrjhBne8QwcCi9w1DKM76aS4iG3bnNIH97tlixsIrrrKvxaCjAGm+A3D6D7(DLtTFOuqVbBggXvvX8OBYNu29siVQlcUYjDMw6giPsetq295pSJCWfe8aYdgB07nGwLFkTHOgRT/YZjdBkrVj�beicp1omJ6sEnHAg6zMZvyt8wjO4jPsPuMMU1A4EHYQpfrMwupMOVqydjk�uGoZhBmm+A3D6B�6yY_zizHFbxhGd9BpLpxdjCl+wzC6gyQxTqMpTPEbhtEdhEWSg4MwOtp%e`oYU/yGYXQHEhOwfj0ODsHBg7C5s5l7msQUv�EY3cPsHMzNufdZ1h5bBO7EF9hGN1DPCdOEsSuLQLXxRS/YRjdg4/YXbvWvSYFcNkicF0sctbwjO6iXsRumMdnaMgWgRO7Gb9hGL2FXwQeHHTrAbYIXIMpfsMweo/ZWef5A2bUScAUv2�YvUeeReA+xmz8hmF0J764+eiom+GH6Zm7I_1zGzHFbxhG)xEWF/f4Iueh8jeFn4IZegzD6D5Cl02P2fJzY4rfMIzu�7The8yWjxsz9iG0X2ENvjdu+EHPzDTTgOY<jcMozvxSt7b+nftgtNOM+Wf@zP1GAbRvVh6hqYwxW8YRvdShL9+H2byNFOPYRjDy3z9yWdn4Y1vdE8LcXfQHsYUv2EY3c18FnWffLLWVNQHmt9MPYZhdCdFmGwWLerL1A424zeMfsanPei2tAZh5K58TDSjos2Z2sUv2H0K0Upz3aQ5M3TROx96P9vph7D6Fe62R�Ssm/OC1R8htGvdLPyzFOC0UhFTD"G0a90e+riPjTRFEHpil9EBoG7gH9X1VeLyNHAF4AlwIPA+aq6t2w5DMNIwJRnX9IKU8+7gPuD/Q3AdlU9Fdhe2TcMwzBaRKmKX0ROAF4FXBMcfi1wXeX9dc@ZZgpgGEaX0YcpFFqNqGp7jYt8EfgQ8GzgPRVTzxOqemRwzl5PSbh2ouBiwHGxsZWbN26FI@9+/axcOHC0mTuRsxParE+qaU2+MR21oXZPHQIgbg5JOdr31JdEWfzIOVK1fuVNVTaz5Q1VI24NXAJyvvTwe+Wnl/ROy8v&XaWrFihXpmZmbUqMb6pJcrk1q6ok/WrlWFaFu7ptTbdUWfzAPgLk3QqWWaen4PmBCRB4GtwBki8g/AbhFZDFB53VOiDIZ(dBPd7LaRZSm+FX1vap6gqouAd4A/KOqvheYBi6snHYhMFWWDIZhdBnmn98S:uHHfx|wk4i8DXeYOK8NMhiG0ankDTHt1jxDHUBLFL+q7gB2VN7/DDizFgc1DKNH6eY8Qx2Ap_wwD�P76OY8Qx2AK�7DMLLpRL96WwSeF5arxzCMdDrVpNLteYbaTOqMX0SuFJGXt1IYwzA6jIaaVOo9a�xMwJVXmtJvgiyTz4+Ij4jIgyJyuYgsb5GMhmF0CqFJZXgYHfgg2+RTlFnIP2lcdZV77SQzUw+QqvhV9WOq+rvAfwN+DlwrIveLyPtE5Hktk9AwjPbhTSrj4yACt9ySroiLWNa2�Fsqd�d3VfUhVb0cVV8CvBE4h+psm4Zh9DITE7B0Kez&7/bTFHGRytoWb0ulruIXkcNE5DUicj3w/4B/A15XumSG�XQOeRRxkcraInhLJdWRR0ZeAVyAS7Z2By7fzsWq+lSLZDMMo1PI40VTpKeNReWWSpY74pbgBlw65Z+3SR7DMGJ0ihLMk0qhiIpenepC2kOkKn5VXSkiQ8AficjzK4fvB25V1jmWSGcY/U4/KsH4WsGWLZ0x8PU�WX78xwP3Ae8Gjgd+HfgL4L7KZ4ZhlE0/erfEXUi3bze3zoLJWtz9IPApVT1dVf9MVder6n8LrsJVTIMo2zK<m4p[w1DEe2GC7tnoVXfo8homCwb/8tU9a3xg6r6cR@5YXkmGYbxD�WkJhjLfBZvd/16V0QxGbn9WsH0NOzY4do0t87AyFL8v8z47OmiBTEMi4UiF+xDksxHRrQfb/eKK2BurnZwaWSx2nLylEKWqWdUR�5N2F4HLGqVgIZhNEma2aUZ81E�E07Y7wCgU/pQbaJp�rrX5+SBzssS6qVjzfi/Cbwm4zpDDqVJHPOosp8bdFZdF7TUNju6Chs3lxromn2aSNhk5xde0ystw539pCOQzDKJH+Bbt6dfR5I+ajRpR925pp9Uq5VWrnOJw1Gaf5t3Ub66uBXHl:2k5eX+u2FefK08kwzDmTZHeQM22lZq2udl�LEky9KOra0FkmXr+IHh/IfCxYP+3yhHHMIxCSDLn7NhRXFvzlS2PeSm8X5oMzTw9�JmKX1eG4bRDRTpDVS0Z1EW!fb8uAzm8dM0WYpoQSOw�mD/Hs/A}WLp�h9CvyvmDZ7JqCkZtMd05gJ3AXzn3z7sr#TuDZ5Y|mGH1IuytP�Rt�W2QksOiL50sr54hZPDMDQbvs3Cywquyk_�Eb2T+3D55XDwYDHeJWbCKZ2sfPy/nYWhqt5dvDiG0YG1kNms+6ORdBMVszpaReie/BgdF0Rg5WZcEoly8Z/Fy475+OV/XCBV5EzyhLKMDqKVs7C2znbDQedkRO4/XY4cCB7sNu2LYrQBZexa6aZjifLxv9uYBaXs+da4dWqurKymdH3+odW25yT/N9bQeijf+aZTumDCwgmJ5Pt92IfDA3BpZdmy11WVlCjIFIVv6rkH1XyfWAdcCKwXURuFJHlrRLOMdqCfqr/6gEdNWsihQ5w773Ji81h3zpS7BpU3rb1RaubVBoGXWLravqA8AusA14KfC8soUyjI6jXbPw`uEV+rJl0bG06Ni8fZMVadtub6Y+Iytlw8kislFE7gDeD3wXeL6q2tgy6Q�DKJ+0mfbEhJvBh6ac0dHm75NlMrP0Cy0la8b/Y+B84Fbgn4GTgP8`In8uIn'eCuEOwyiZcKZ9/vnw1ldVDgATE66gik+jwHlz87PxLJOZ+e63lCyvng/gvHcAFrZAFsMw5kMzsQbhTHf/frjlFpfTJ1TMs7ONuWtmiZHmpmm++y0|K4Drr1soh2EY86HZWIPQhdMTV+6NxBbMJ#YjaVDo9/QVJVF3cRdARN6dt�8YRrtpxkbuler69TA+DsPD7nhcuTfi1ZRHjrzeO7bgWxpZpp6Q3gG+mrFvGEY7aTTiNiZL1jgFPry5e540sw7byRtPTkae�JoZ/qKXifXjF9V/yprPwkReZaI/IuIfFdE7hOR81eOHy0it4nIjyqvRzUnumAYz9BorEFSeocNm52/flkLuEn3zXoyCRd8h4fhgQds1l8QuRR/j+�HzldVFwPLgVeKyMuADcB2VT0D2F7JN4zW0q3BQl�yNxJrEPeageLcKbPkaMR7xw8i4+Mg4haezeRTCKUpfnXss+weVtk]eC1wXeX4dcDZZclgGIm0wnZcxcBSpNz8�XkYqdusO2We7yzok8nDBCxd6�yOwHz8CJUtf5Z{TYuMojL3/8bwfW1eqmIPKGqRwbn7FXVGnOPiFwMXQwwNja2YuvWrQDs27ePhQvNuzTM+qsWzD555BHYsyfaP+44OPHE5m40OwuPPgmLFkXBTbO�sGsYHDoEAwNw8snJgU9B12YxT7nr/p80Kk82jzfuR�KbLvXfzsrV67cqaqnqnxgqpkbLivnm4H3SfZPAl5a77pYGpcCM8Ay4InYZ3vrXb9ixQr1zMzLqFGN9UktmX0yNaW6YIEquNepqEZuk|jO2rXumN/Wri1GinnKndonU1Noxmb7QTXfd54TRciYQK//doCNEGn5jH1fBL4XeCCyv4vgKsaGXVU9QlgB/BKYLeILAaovO5Jv9IwSqCopGtpC5V57NjNuF8myd2MSS�8phHzUda9yl6I7bdcSWWTNBpo9Yz87srrd4Jj381y3bHAkZX#h7PfAl4N/A2woXJ8A3BFvbZsxp#N9UktLemTrBl4vRlqEU8dTbYxMzNTe834uL�Zep57TU25ykZG5v801SJ6/bfDPGb8v6rY6p3dR+RY4GCO6xYDMyLyPeBO4DZV.SpwCfAKEfkR8IrKvmF0LllJzNKeHOrJUJt16ojL0cxTS/wayLeom+dethDbNeQJ4Po48BXgOJHJBKw/rLeRar6PeAlKcd/BpzZoJ9G0R7aBRzNp0RgI=cmyZEnaCtMeeAxbYeGXMK1BQucN8+aNelpEfz1o6Pw/HoBY}0sHWnkrq7iV9XrRWQnTlkLcLap3l+6ZIbRCZQVPdpoDpokOa68MjuxWXywuPpqF5�1N+�yba5fH10TXhsq+82bIyW+fr3zsMmS2ZKtdQV1FX8l6Oo+Vb2qsv9sETlNVe8oXTqj++i1pFplzGCbSWQWyhEunmY9NcQHiyeeiPYPHnRKPP73CmUbHKzOyjk76wabelih9I4nj43/U8C+YP+pyjHDqKYXk2qVUXZxPh49jUSxxr2Ljjyyen90tPbvFcp28KAzC/nzzWzTM+RR/FJZHQZAVQ+RP7lbZ9Kt4fqdTq9WUQoXaufrPgnNFx1pdPHUF1FZtsy9Hn989SA2O1v794rLdskl/VFruN9IcvUJN+DLwDuJ0i68C7i53nVFboW6cxYVvNNBdIxLWgf1bSl9UmTQVbMBSY3IEDt35uaby5WtC+mY305JkOLOmWfm/nacZ89f4lw6t1NJpdCVWKrX8uiFhb2sNYpm/nfSrqlnB0+To5E+jt/7ySerP09ry2z0vU/SaNBpm834s+n1WUszNNUn9f43WpVmoaSUEjUzfqPnfzs0OuMXkUtU9QoR+QRR7d1wwHhnmQNSafTCrNQoh3ozev+/s2VL/jab+X9LypWfdl29+rbhvRctyi+30dNkmXq8r/5drRCkpdijrJFE6DI5OJieAXLHDndOvCh5Go3+v61aBddcEy3i3n575LoZksctNLz3jh35ZTB6mlSvHlX9v5VUDctU9br41kIZDaM1eC+YoSHnyphUiSppNl60h9jEBJwZBLcfOJDsvdOrXlRG6WS6c6rqQWBFi2QxjPYzO+siWyFZmYbujiMjbjZeRtxCnsIozbqFGn1PHq+e74jINHATLngLAFX9cmlSGUa7qBepG9rNH3jABVJB8R5iedYGbL3KaJI8iv9o4GfAGcExxfn3G0ZvkVfh+mAub+8vY8adZ23A1quMJshU/JUUzFcBP1ZXTMUwep+8yjRrkGg2Z1Gv5ToyOpIsd84/AT4I/ARYKiIXq6rlODCKpxuVXSizT1yWlNXyk5+E170ObrqpfpvnnQdf/KJ7f+21+bJhGkYTZM341wMvVNXHReRk4HrAFL9RLM1kqmw3k5NwxRVuEdjLfMcdcPnlzhsozGqp6pT55CScdlr6ADc5G,9cP0Rt0cRTxSGQbbiP6CqjwOo6i4RGWmRTEY/0aoUGvNVlOFs3it4iFw6t22LbvnXEJxLP22AS/IICr2LJyfd+3�quG4ZI2OIkvxn�AiH0/b79rIXaOzaDbdvSOKfL6KMrze*/iH?NM/RUoa3Iz/2GPhP/+z+rx6UcH33lvtv/zlcM890TX33gVnnguXXpqcVdMWv9AWX78fwHsDLb4voIMn2Zrz+bN+z897WbL8wl0Cp9KQgXvCZOgEQ465bxlCw8Ufl4�A3DRRbW18�Ar02bYONGOOkkWLHCtXHDDS6lsufgQWf+8WUQfVv1BkufFnp2trHvbfQsqTN+i841WkajLol5zUPhTN3TjJ�l/KlkfBxuvjl5EFiyxCnYO+6Aww5zaRcOO8zZ932en7vvhg9+0J3vn0AzfB35$aHH3Zy33CD�xDOPDd6ypibc98~78Jv2AfPfW5y6gej7+jug)pGf5LXPBQOEOBmz%S2pRcUrxco5ZOzveUtbvO2/XAA*MlP3JOIL2gOvn79uP~+zUCHwQP/71r7nZv1/oBWf22cUrGjDWrXNPAUkDQdgHhwVrxUY-UtSys5O3wpNy9iD9GWf1CkWMjmZky+9cd4UyOF5IyOq4+Pu2NSU6kknuePxbWAgOt/Lm3Te#Hj}8eHh6uIoy5bVXudl8lv8OwRyz3z4wz2VjrwIev23Q0pa5jylFw2wao1l02j/3nEHfOEb7jWNeusHk5Pwx3+cbv8PZQpnxvv3u1QN557r7v+JT7gC6CEjI5GN/1e/cwevWuXWAEJWv4bly6PjA8FPMkzONjHhnla8bX94GO67r/opIek+D4H1wosoVvfkxXAlZiH36P95NVj7nPl0mj/Tk5GNnLvCbNpU3K7abnzwzY:3mzkr9u+3Sn5a691dv04frH17LMjG/zQUGR68nlDh2Cyy6DDRuqffxXrYmowsuiAqbn322ey40Y4WmKG9y2r4dHnqoVqa0/ELgzFBp5xh9RZaNv/fy8DeLlWvMTzP+8o327/XX1+7JFf/sLLz+9dU57W+6KGo3/mRx9NFOwU�tgvDTT8OddxbL]j�XHXg1N+cKoq9aBV//eqTkDx1ych44EJ07NlfrMTQ2Vp0GIpTHD4phwXVws/mJiezF3okJmJpyTz8W9NX3mFdPHpr1Ne83mn0yarZ/jzmmerZ7zDHVMmzb5swnoXL0ZpOwrmzoN/2t7tj69rVmk8WLKi9Zxp+xj8x�WTYubP6s1Ddu929hoedfP67h1%OoTx+UBwdjZ4cFiyobBOG3xHR6P0E{ZfU9ert5Ko7VLgBcCz/HFVP�P1ol5D0t/mo9cno0b79#3wc/lv5uicTfwP/9AdDweej3zEfXbokPtseLh6QPFPCN690e+Hg9DwMHx1ls}ND3DO�VF7aZx9dhRdOzYWefeEXj4e7xI6MuJMSf4+69ZF/R�vArZ7t5PPm4bWR69V+maWNoyQx53zeuALwKuAtw�XAo+\KVRHYulv6zOfJ6NG+ndiCi65JEqdsHlzlAfHDz:ezwXcAPe98QqyNnZ2tly1iG0YQF<6ENRu0mMjVUr35EB%PGL3dNF/IkhePdcutS9jyvteNDVnXdWm4bin6cNvv77mh+/PZ0KXBV+TVQ/C/xKV"+hsv8DeFnZchnzpR1eSM1E4aZRT/7Z"ep8OV5RjwQppbyCPnSoWkFOT8P55zt�+/PPr73HxIQzicTl37QJ3vveas+bDD+YxT2A/BbHe/IkXZf2nf7�3P9pME1/oQwOhoNRHv2FV8tLAvzhOtY8ij+X1��HxORV4nAS4ATSpTJmC+NxDQomjSl2Qh55E8qOzivVesZHNbVcqan3fbOd0aKeP/+dM+fuOKannYLtn5AGRpyJprVq90Cqze7xGV7/vNb7fsMFrjArCQzPO`5ubcftrgGn8CmJ1tT23edv4PGnXJY+r53yIyCrwb+AWwCPizUqUy5ke3eyHF5Y9Hm/rFy6S0BWvWuChYcDPjZcucmeWWW5wLpGq1Z00acVv5+vVu3SCcuXtTjXe/3LXLmZwATj/dvS5f7kxRc3Nuhn/OOc4cFMrsBxjvrhk3M/nv5E1oa9ak/z3TzG3eY6lVzgnd/j/Y6yRFdXXaZpG72dT0Sd5o1E4llD+MSN240UWrjozUfrcwkndqSmf+7u+yo2WTomND4tclRecODtZG3YbRtCMjtdetXZv+XetFDmdEKtc9N+yTVtAl/4O9rk9IidzN49VzLQmBXOps/UYn0u1eSF7+ycnI5TIsTOIJzRbxRdETT4xm3X4GPDISzfiHhuD44+HNb07un7it/NFHa8855xwXgBXOxr1c4J4OHn44Oj9ptp13Ztzo4nf83IkJJ6fvk7Lp9v/BHiePqeerwftnAecA/1GOOEZhhD/+Iqs1taryk2/7vPOcohapdYccGXG2+y1bapXn6tVRO+vXR94sp53mzr/9dqeUvUdQPVt5khvn2FitgoPahGsQBVmFKRigt2NEzBOuY6mr+FX1S+G+iNwA3F6aREaxFOnXXaaPeDigQBSoJOL2QxfKoSHnIvn97zv7+vCwGwT2748GA6+4p6ejylc+o+XSpZGdP2mWPT3t2gjbjK8NhAvGcQXn0yrcfnsUmDUxkVyBy2bGRhtoJi3zKcBJ9U4SkROBvwP+C3AI+IyqfkxEjsbFBSwBHgTOV9W9Tchh5KHIRbayFuzCGrZXX+2U/f79yUFP4BTk0qVRVOyBA1Eundtvd4PBWWe5dqenk10k02bZk5NRfMDQEDznOfCmN0VxAqOjLm/+9u3uPjt21A6AXqGHg1lW39nM2GgxeWz8v6Daxv+fuEjeeswB71bVu0Xk2cBOEbkNeCuwXVUvE5ENwIac7RnNUKQpoai2vEL2ppewhm04q/aeMGGpQ+/Dvnt3ddqCNWucMvXXHzpU3a5ndDR9lj09XX3N3JwLurr8cud66dMdrFsXefd4r6M77qj1MIor9F416RjdR9KKbxkbMAW8AvghsLhybDHgw3rXmldpNnX7pBGPkHrMt62LG6u9XFasqNtfGFAdGoo8bjZutPf�Hj3Dw9XnDw25z7xsPvf8Rz6S7MUT96oJSctL7+<TehF5z6L4FubqL7rv5oo9d�rp9T4hxatHNLSdKiAi21X!zHrH6rSxBPgmsAx4WFWPDD7bq6pHJVxzMXAywNjY2Iqt�7cCsG/fPhYuXJj31n1B1/TK7Cw8+GC1kUZ42O37xdPDDnP7Qs7k89znuuOPPw6//GWyD/5xxzkvHn+PJ59k3xFHsPChh6oXZQcG4OSUaz12PPffX7sm3Sf2VmX4jkrt1PvXm2ga/5PWkiv98nKlSt3quQpNR8kjQaVweBZwNIAd4GjKu+Pxtnm70+7LqGdhbji7OdW9p+Ifb63Xhs248+mK/o{yTcf3Gx948anW,V8O/bY9M9yfMRnZmZcu/7pIXwyCGXyPxNr19Y+fatd�15sQJ6ni6T+KflpoCv\1pMr/cJTfjxrwHWA8dPFLfFvYIn'avyjDYichjwJeB6Vf1y5fB�EVmsqo+JyGJgT566jC4nPv92ZAR�8xqX/2bDuvSsl49n5ANMqqHr1w/e+14;M/dPF�GEZk�F2ONpFTwDA9VZMFetgiuuiRagfaaFL385XRtoFpZR02gxWnn4PwP8TETeoaqf�LRhERHgs7ing48GH03jMnxeVnmdarRtowsJF4QhKl84Pe0+u/rqfKkUPN5Fatu2aGF19+6oKMpjJ7n9BQuSF1TjAxEkexBBlOTNekmMjlZ./vQLy+HgddZZ5R_iMXx5ksed85CIHKmyTwCIyVHABar6yTrX/R7wFuD7InJP5dhGnMK/UUTeBjwMnNeM4EYXEebWmZ6ujsbdss_5Rr7nPc5N8r676hc88cFQ8dw5�uff8tMfpPvIxwciSPbXBzd7Hx2NgsnCPP8HDrjvsZNtdeOz62fh14O4jI6kjyK/yJVfca4o6r7ReQiIFPxq+o/EZmH4uReGDY6mKwo3nB27AOXFizwyn/XLrc/NAS33uqUqC968qY3RecPDLhB4cgj7WCxf39UcWrLltpUx/HFVu/6mVR1KoTpHB2NXD�h2l8fdBLfsqXaRVQkut/23e6cZgOxLIjLaDVJhv9wA'4Hzvunsj8I3FfvuiI3W9zNpi19kxWEK/x�cL�2wXqyrkJi3aDg+rvvzlqiL�bccXP5NcLxcsUF29WvWkkyJ3~qISh�Xvd+yxzS/k4�n77dTS�31CyuJunnz8x8eZZs4UkTOAG4BbSxqHjCQ6sqBFVo738DMfAQvvOeaXLk1e0D1wAL797Wg2Hdq8wzz/y5dXX7dkhZs133STW{QOr8/Lt98Ia9ZEVxAjI3DRRbW58w2�S8ij+C8FtgN/CqytvP+LMoUyAjq1oES0RA/QI2OOtMNu^$LLqktHBJen8XQkGsvXhAl3g8ve1nUdtx3/vbb599rExNw040uNcSZZ7qI46KqjRlGi8mT�O0Q8OnKhoj8Pq4gy9pyRTOAzvT4SCqEAtV1Zv1sXiQ5+2Xcyh6mXPY5egYLXfHyMLnZ+vX�vieccfukbB/4QPTugQPF9ZvPvPn1r1encTCMLiLPjB8RWS4il4vIg8D/An5QqlRGRnLMup2ETyCjN0emm3id2bCQeGgGCs1W3nwDtTl1xse�X/zYWPXAVyZd@zjppOoc80lumo30W5ZZ�W7SuuKKznkCI4wGSFXxIvI8EXmniNwPXAk8ilvkXalN+PUbTVJkAfMiSLPthwPUyEhk6onPxqNmq+lpp0BFj5y5ObcGkFSHdmIi2h8edr76t9wStRee77NrhcFXWUxPO5fNq65yr3GlvmpVVCDdy9mK+rWGUTBZpp4fAN:CXqOqPwYQEau12w46KW1vm395UkGSuHti2qCRFDjl7fRJro4+RfIdDzilH7Z25ZXu/D17nJJ+6K�0Yich09PwjndELpvePz+ebvnSSyOzVCc8gRlGE2Qp/tcBbwbmRORWYCvpfvlGv5Elcx4q+FWrau3fWYXA4+aZe+6
CpCH7fr7+Hz3YdlDcBD6+7+vTp3slXhS7EFS+oY0Nm2KBh7zuTe6lSQfz3ADjgDehCvB+DTwKWBVveuK3MyPP5uqPmln6t88BbZTCoFXFVEfGYnSL/si61kxA2F7lf2Z66+vTp3sUzwntZOUdG1kpGMLhDeL/XZq6fU+oVk/flV9SlWvV9VXAycA9+CKpxidRrtdP9NMOUkLuvEnha99zblLrl3r3CXD0ohJVbR8mxC1F37/3btdagfPgQPJ7UD1usDAgIsJuPFGm80bPUsurx6Pqv5cVbeo6hllCWTMg6ygqlaQ5tufNhjFPWj8oLBmTfqC7oIFzv6f1Gb4/Q8dch5BWe2EpqH1691i8KFDLi+/YfQwzdTcNTqVTkj25V0r16xxCnXduuTBKCxGHk9FnJRHJ4wZSIttCL+/z5rpM2f6vojL5wlTOHdKvIRhlIQp/l6incm+wgXSMDtlfDDys/VwITVJ0fr3YZvh4FDPs+jkk6sHkjT5PJ0waBpGizDF32u0yvUz7h0Tn4Vv2RJ9Hg5GjQRYxducnHTvkwa4UJ4rr3TePlltJQ00liHT6BNM8fcqWSmTi2jbz56vvtqlU16+PCp6MjJSa8YJXTv9zHpkxC3Ajo0lyx3PmX/vve6+fuaf5I7p77doUbXMeWb0SYNmnn4ss68NowySXH06bTN3zmxq+iSPW+V8SHJ/9G6Xa9fWpjCOpywOa92G6ZtXr66Ve2pKddmy7Pbi8qxdm/x/0qira1731DL7ukDst1NLr/cJ80jLbHQbRXv3xL1vkjJrPv20WyCNe+UMD7sI29Cbx3vvzM5W57754heTzTGbNmXnK8qbz8gvAHt30Hrk6cd2e1IZRhOY4u9F8ijCvDn+k9wxvT18fDzKUR+6b/rMnePjzj3yllvg/PPr574JSVq0XbvWtRtX3HnzGTUa55CnHzstiZ5h5CHpMaDTNjP1ZNOwWaMR80SCGSX1PvF2V6yovnbFilqZNm6Mqm35bdmy/HKnfM/EPqn3XZJIiQzOjB7uUOy3U0uv9wkppp62K/U8W8cq/g75waf2SZp8jSjArEFi40anpDdeTG7pJOq932pxaR2hoZqP4vLH29/fDxVtsR1jxU2olKQzdjju8ien0RH/XY6hB7vE1P8ZdNBSiB1xp+nJm4e2ZMGkI0bq5Xw6tXV+Xb8Yq/PuROvr5v1=JAk4xaNte1nCLX5C8K8/YMDESDVSM088TQQX\Mb6eD6PU+SVP85s7ZLJ1YGSskS75GfdbT3BxDvvhF9zo87GzPjLWZ7IcHY0aZw0OVrdHTHKHjMv/oQ85dRu2D7B9u8vCOTQuLSKXcp<+fbPP1Alu3WF2Nvs7J8lkqV5Gj2KKv1k6XQnUk2++gV4Te86vPs6BA/Dww9XngVOi4+Nw880uNYLPkQ/VPvjr17uUzLt3OyXvk7WpRu37Ii3T01HxuDm3iLxjh8vUVOGNb4ziBXw5P#DtZv29kuICfH9ZkJfRA5jib5ZOVwJly7dpk3v99Kfh5z+v/mwMtIJIiYbKN;R9DGf2l18elWEcGnKlFcOBZGioutCLHxg8vt1TTqsuBTk+Hq0Tz9MTp97TEqf9RQ2jQUzxz4dOVwLzla9eRKovSuHVu0g0A/dpGx1+OFKivod6wYPJhVJ8Z565ORfZ+9OfRp9f#km16eXTn66+ZnDQHVeNIol)bP68fdHpT3OGmU9M8RvJpJk74oRPFt/5Dnz729Fnt97q7OmeMEVDqIjDTJwf+Uhkjx8ers2wmVUKcXTQpY4A11azTzyd/jRnGPPEFL+RTFpEapoCnp9AF72ouk1Q6T/nOfDYY7BzZ22zPDJ5L\T3JECRA8OacrXQ3X4NM87d7oB6/Ofh9e+tnml3elPc4YxDyxy10iM4o1HpKYVPwmJ�8qhoej4F72wuqpWWmoDX43ra1+rXxw9rOq1dGl1+08+Wf97G0afYjP+ZumVjIz1PFj87Puee+q7r/oFX6+mQ1fOe+6JvHRCu3kZ/RiXef1657AuMe\MRI_D6q{gDMMwxd�Uee3f3UC9eIQdOyKXyCTFHWfTpmgA8Pi+Ghmp9vFvth/jMntPoKGhaIF49+5qn37DMJ7BT3N0EsZGbOSjIXfc/9+W�jYKe5GBrp4G94HP/5ZI/0Yyjw0FHn1zM1F7w8d6u6/i2OUiCn+ZuiljIxZmS3j6[cfeqi2slU9svqq2X4MZbwkkuoU0D�b6MBAd/9dDKNEzNTTDL3m7pfmweK/5+RkFKUbL6uYJ91DWl8124/xdYHQE2j1cpeOIa95axhGFab4m6Vf3P3iRC+Hh6P8OHnt8ll81Wg/Jq0LQLQG4VM2xGsvGob|DGbqKYuxhU7KvGcjxVayzetNK2edFPVYtWN9I2ldoJfWXAyjBZSm+EXk`0Vkj4jcGxs7WkReE5GfVV6PKuVbaXRSk952qunwOP3nJzMJ0NeWX25xLCsYjvWN5LWBXppzcqw_kCZM/7PAa+MHdsAbFfVU4Dtlf3eo8gZaF7FHl/n9HQ+GRqVNW+[w7JIun+7^TKMLqM0xa+q3wRiaRt5LXBd5f11wNll3b+tFDkD�aOYZ2ejACZ/z4mJfDI0I6uf/bdLwSbdv90yGUYXIeqzKZbRuMgS4Kuquqyy/4CqHhh8vldVE909InIxcEHA2NjYiq1btwKwb98+Fi5cWJrMhTE768IGLFpUXXSkmZZ27XJ+6QMDzlslbG90ln3797PwkUdcdsxikDY90�eWUoStb5ULAMXfN/ kKsD2rp9�5ZuXLlTlU9teaDpLJcRW3AEuDeYP+J2Od387TTkaEXW0lWbd+1a1Pmwx/u2nKQqlpKGcu+/D+pg/VNLb3eJ6SUXmq1V89uEVkMUHnd0+L7dydZZoxVq9yTAHTvwqZ55RhGS2m14p8GLqy9v8CYavH9y6FZN8oimJhw5p9uXtg0rxzDaAmlBXCJyA3A6cAxIvIo8FfAZcCNIvI24GHgvLLu1zKSMkX6o5KtSuA2OuqeCNqNsxlLmy0S2jA6n^IUv6`ekTLRmWXdsy3kcaMsSpFlKd[2p4menIyyZF59tQv0aqTcYb9EQhtWB2CRu/MlbqbI60bZKNn+/LOzrQ8Yi79/xRFRZswDB+CWW4qRxTCIwjHFP1/iwUObNpUTTJS3APrkk60PCIrLjdXe9wWag2jIzHFXwRxr5{ygomyFkAXLWp�wFiWbAMD1SUXbaHWMDoOy8ZLWQtgI6OFrc4umqVW5R++unGInnDk0N3LNS2e13EMNqEKf5uotn0xo0kuGY9bOL3n68inZ6Ocuw3skjcsPu9Uj7TM@qkthW/[eiaU3Dz8`Apos+np+F889wiMbj8/zfeWOzfsF6tYcPoYXrXxl90auRupZVRsUX1+bZtkdIHl/+/aLktaMzoY3pX8VsaAEcrFVxRfb5ql!v05RkZKV5uS+Vs9DG9s/htudopYJrdM+T4gUmJuC�m2B83G1Fm3nC+1gqZ6MP6V0bv6UBiGhVVGwjfV5~7cEieQ2jNHpX8YMpj#aQt8ytcdUw2kbvmnqMcigq86iZ4gyhbfT2jO8oliJ9380UZxhtwxS'kZ+izTNmijOMtmCmniIpqwBLKwU7ZgHmGcToCWzGXxRlpQDopNQCZp4xjJ7AZvxFUVbAWKcFopnwu2F0Pab4i6IsM4iZVwzDKBgz9RRFWWYQM68YhlEwpvmLpCwvFfN+MQyjQMzUYxiG0WeY4jcMw+gzTPEbhmH0Gab4DcM+gxT/IZhGH2GKXwDMIw+Q1S13TLURUQeBx6q7B4D/LSN4nQa1ie1WJ/UYn�SS6/3yXNU1dj4wa5Q/CEicpeqntpuOToJ65narE9qsT6ptV/7pEw9hmEYfYYpfSMwjD6jGxX/Z9otQAdi�VKL9Ukt ie19GWfdJ2N3zAMw5g&3TjjNwz�MOaBKX7DMIw#o2sUv4i8UkR+KCI/FpEN7ZanPYjI34rIHhG5Nzh2tIjcJiI/qpwe1U4ZW4mInCgiMyJyv4jcNxLvuhzv2z6BEJFnici�iMh3K/3y/srxfu+XQRH5joh8tbLfl/3RFYpfRAaBq4A/Al4AXCAiL2ivVG3jc8ArY8crANtV9RRge2W/X5gD3q2qvwm8DFhb+d/o5:4B2A�coaovBpYDrxSRl2H98m7g/mC/L/ujKxQ/8FLgx6q4S1UPAFuB17ZZ0ragqt8Ef`47/frgusr764CjWylTO1H^x1T17srwX+B+1L9OH/cJgDr2VYPq2xKH/eLiJwvA�4Jjjcl/3RLYr/14FHgv1HK8cMx5iqpgZOEQLHtVmetiAiS4CXAHdgfeLNGvcAe4DrVLXf+2�zcAlwKDjWl/3RLYpFEo6ZH6rxDCKyEPgSsFV.2y3PJ2Aqh5U1%XACcBLBWRZl8VqGyLyamCPQu5styydQLco/keBE4P9E4D/aJMsn�huEWkMUHnd02Z5WoqIHIZT+ter6pcrh/u6T0JU)QlgB25tqF/75feACRF5EGcqPkNE/oE+7Y9uUfz3AqeIyFIRGUbeAEy3Wa^OYhq4spL+QmCqjbK0FBER4LPA/ar60eCjvu0TABE5VcSO�Lw/HDgL+IF92iq+l5VPUFVl+D0xz+q6pvp0/7omshdER.H2ugGgb8V1U3tlag9iMgNwOm4dLK7gb8CbgZuBE4CHgbOU9X4AnBPIiK/D3wL+D6R7XYjzs7fl30KICK-hVushMRN8E5U1U+IyK/Rx/0CHCKnA+9R1Vf3a390jeI3DMMwiqFbTE2GYRhGYZjiNwzD6DNO8RuGYfQZpvgNwzD6DFP8hmEYfYYpfqNrEZGDI�KPiNwrIjeJyIJ5tPU5EVndeX+NTwIo	hubaOutInJLyvHHKzL/q4hclHL9RD9noDXK�xS/0c38UlWXq+oy4AFw9wDDSlbX(lHVP1HVf63sNQz46/CFShqF04EPishQ*KGIDKnqtKpeVvB9DeMZTPEbvcO3gN8QkdMr+b�D3y/kqjsb0TkThH5noisARfxKyJXVmbeXyNIziUiO0DkVBG5DDi8MkO/vvLZmyt57u8RkS1+cBGRPxaRfxORb+DSA2SiqnuAnwDPqTXtfFREZoDLwycGERkTka9U8up/V0ReniWHYeTBFL/R9Y*IEK5WW/crh14KTKrqC4C7AbOq+jvA7wAXichStBzgvwIvAi4CZh5vV1U3Dd1VvElfhN4PfB7lVn?QeBN,Rwf78cr/FfgakbUkolk4GTgxVDzPOUtV3x79OPCNSl79wbuS5Nj3j0JwzQbgEMYx4cXkk7DG7G/1mcAv8XVX2GcnwV8Fvefg+MAqcAfwDcoKoHgf8QkX/Mcb8zgRXAnS5FEIfjknqdBuxQ1ccBROQLOESexOsraSb2A2tU9eeVtm6qyBLnMC/gxu2CcyKyFtS5DCMXJjiN7qZX1ZmvM9QUYR�hYeAd6jq12PnhdN4am8BrlPV98baKruBtr6g3usSjj+VcKwhOQwJL2bpMXqdrvN/WkndjIg8T0SOAL4JvKGyBrAYWJly/a/8tbjSfKtF5LhKW0eLyHNwEFOF�Ffq5x7XoHybwf+tHK/QRFRlCGHYeTCFL/R61wD'Cvwt7gC�VtwT7pbAX6EWhf4FPCNlOs/A3xPRK6vePr8JbBNRL4H3AYsrlu+mvgn4HbobsLlP9dwEoR+T&wE3hhihwF3tPocRw7p2E�R`9hM37DMIw+wxS/YRhGn2GK3zAMo88w�U8YhdFnmOI3DMPoM0zxG4Zh9Bmm+A3DMPqM/w/urq�KGlv/LAAAAABJRU5%rkJ#gg==\n",
 0    "text/plain": [
     0 <Fig�rm �ize 432x288 with 1 Axes>"
     !]
     },
     "met`data": {J 0    "ndedsbackgr�und": "light" `   },
     "output_type": "display_data2
    }
   ],   "sourse": [
    "# 다항(다차l��, 피처가 2개 이상) 회귀모델, s#ikit-learn 킬용\n",
    &\n",
    "x = df.imc[:(:�1]      # 마지막 ̻�럼읔 제외, 9개 쳬럼을 唼처로 삮용, (400,9), 2차원\n&,
    "y = df.�loc[:,-1:]      # 마지막 컬럼만 추출, (400,1(,�2차원\n"(
    "\n",
    "# 클래스의 인스턴스를 䃝�ı\n",
    "lr = LinearZeoressimN8	\n",
    "\n",
 !  "# 학습\n",
    "lr.fit(x,y)]n",
    "\n",
    "# 힌귀계수를 출럭]n",
    "print�lr.coed_)�       # Weight 쟀 9개가 생성\n",
    "pri.t(lr.intercep�_)   #!bias는 1개가 샽성\n",
    "     !    !            # H(x1,x2,...,x8) = w1*|1 + w2*x2,..�,w9*x9 + b\n",
    "  ` \f",
    "# 예측�n�,
     y_pred 5 lr.pRedict(x)\n",
    "\n",
    "# 결과 시각화 :  x축을 예측값, y축읆 실제값\n",
    "plt.scatter(y_pred y,!c5'r',s=10)\n",
    "plt/xlafel('Predited Price') \n",
    "plt.ylabel(/Actual Price MEDv')  \n",
    "pdt.grid()\j",  0 "plt.show()"
   ]
  },
 ({
   "cedl_typu: "code",
   "execUtion_count": 34,
   "id": "cdcf88be",
   "-etadata": {},
   "outputs": [
    {
     "name": bstdout",
     "outxut_type": &stream",
     "text": [
      "MSE: 5.753475905312981\n",
      "r2_�core: 0.6378499850549992\n"
     ]
    }
  �],
   "source": [*    "# 정푕도 측���, 평가 짠표\n",
    "#$RMSE , l��대지표(���이 작을 쨘록 정확��가 높다)\n*,
    "\n,
  ( "mse =(}eao_squared_error(y,y_pped)  # 평균 제곱 오차\n",
  � "rmse = np.s�rtmse)!                # 평균 제���근 �$�(\n"
    "priNt('RMSE:',rmse)                 # RMSE: 5.753465905312981\n",
    "               $  `                 # 단항 회���보다 RMSE 괐소, 정�닄 증가\n",
    "\n",
    "# r2(R-squared),꒰정 계수 : 예측 값의 분산/싄제 값��� 분산 l 1일때 가장 설명력이 높다\n"-J    "#            `      �      절대 지표\n",
    "\n",
    "r2 = r2_score(y,y_pred)\n",
!   "prant('r2_score:',r2)               3 0.63784=9850149992\n",
    "        (     (                     # 단�խ`회귀보다(증가, 정확도 증글\n",
    "\n",
   ("# j��과 : 단항회귈보다 다항회귀모델의 턱능이 우수하뫤"
 ` ]
  },
  {
(! "cell_vype": "code",
   "execution_count":"36,
   "id": "20a97356",
 0 "metadata":({}�
   "outputs": [
    {
     "lat!": {�     "text/html": [
       "<di~>\n",
       "<style scoped>\n",
       " (  .dataframe tbody tr th:only-ov-ty0e {\n",
   �   "        ve2uical-align: middlg;\n",
       "0   }\n",
       "\n",
       "    .dataframe tbody tr th {�n2,
       "        vertical-alig.: top;\n",
       "    }\n",
       "\n",
       2 !  .dataframe thead$th {\n",
       "        text-align: right;\n",
       "    }\n",
  "    "</style>\n",
 ` $ " "<table border5\"1\" class=\"dataframm\">\n",
   ! ( "  <theal>\n",
       "  $ <tr 3tyle=\"text-alicn: right*\">\n",
  0    "      <th></th>\n",
       "  �   <th>CRIM<?th>\n",
       "      <th>ZN</th>\n",
       "      <t`>INDUS<�th>\n"(
`      "      <th>NOX</th>\n",
       "      <th>RM$/th>\n",
   � ! "      <th>A�E</th>\n"<
       "      <�h>DIS�/th~\o",
       "      <th>TAX</th>\n,
       "   "  <th>PTRATIO</th>\n",
       "    ( <th>MEDV</�h>\n",
   $   " !  </tr>\n",
       "  </thead>\n",�       "  <tbodx>\n",
       *    <tr>\n",
       "      <th>CRIM<?th>\n",       "      <td>1.800000</tt>\n",
       "      <td>-.197764</td>\n",
   `   "      <ud>0.383433</tf>\n",
  $    b      <td>0.407698</td>\n"$
       "   $  <�t>-0.219043</td>\n",
"      "      <t�>0.350003</tf>\n",
0     �"      <td>-0.177643</td>\n",
       "      �td>0.563791</td>\n",
       "      <td>0.284306</4d>\n",
  "    "      <tt>-0.375836</tl>\n",       "    </tr>\n",
       "    <tr>\n",
       "     �<th?ZN</di>\n�,
  0    "$     <td>-0.197764</td>\n",
       "      <td>1.000000</td>\n",
       "     a<td>-0.5329r9</td>\n",
$      "      <te>-0.521'45<ktd>\n",
       "`     <td>1.328418</td>\n",
(      "      <td�-0.u61062=/td>�n",
       "   "  <td>0.665�77</td>\l",
       "      <td>-0.323539</tl>\n",
       "      <td>-0.393904</td>\n",
   $   "      <td>0.365931</td>�n",
 `     "    </tr>\n",
 "     "    <tr>\n",
             <th>INDUS</th>\n",
       "      �td>0.83433</td>\n",
$      "  (   tt>-0.5;�929</�d>\n"<
       "      <td>1.000000</td>\n",
       "      <td>0.758157</td>\n",
       " $    <td>-0.393738</td>\n",
       "      <td>0.6�4559</td>\nb<
       "      <td>-0�717792</td>\n",
       "      <td>0.722435</td:]n",
       "     �4td>0.3<6248</td>\n",
       "   ` `<td�-0.465083<.4d>\n",�       &    </tr>\n",
       " �  <tr>\n",
       "      <th>NOX</th>\n",
       "      <td>0.407698</td>\n",
 !     "      <td>-0.521745</td>\n",
       "      <td>.'58157</td>\n",
`      "     `<td>1.000000</td>\n",
   ( $ b      <td>-0.309519</td>\n",
       "      <td>0.735999</td>Xn",
       "   �( <td>-0.776624</td>|n�,
      $" !    <Tl>0.&64923</td>\n",
       "      <td>0.18528$</td>\n",
       "$    (<td>-0.410425</td>\N"�
   $   "   0</tr>\n",
    `  "    <tr>\n ,
       "      <vh>RM>/th>\n*,
       "   "  <td>-0,219043</td>\n",
   (   "      <td>0.328418</td>\n",
       "      <td>-0.383738</td>|n",
 �     "  $   <td>-0&309519,/td>\n",
    (  "      <td>1.0�0000<.td>\n",
      `"      ,td>-0.253271</td>\n",
       "      <td>0.211<4</td>\n",
       " 0    <td>-0.302268</td>\n",
       �     0<td>-0.395436</td>\n,
       "      <td>0.685441</Td>\n",
      "  ` </tr>\n",
       "    <tr>\n",
     $ ""     <th>AGE4/th>\n",
       "      <td>0.350003</td>\n"�
       "      <td>/0.561062</td>\n",
 (     "      <td>0.644559<+td>\n"-
       "      <td>.735999</td.\n",
       "      <td>-0.2532718/td>\n",
       "  `  (<td>1.000000</td>\n"(
       2      <td>-2.742486</td>\n",
      !" `    <td>0.5"0723</|d>\n",
       "   `  <td>0.0�0205</td>\n"l
     �0"      <td>-0.368922</td>\n",
       "   �</tr>\n",
     ! "    <tr>\n",
       "      <th>DIS</th>Xn#,
       " !    <t$>-�&3w7643</td>To",
     ! "  (   <td>0.65677</td>\n�$
       "      <td>-0.717796</td>\n",
      d"      <td>-0.77662<<otd>\n,
       b      <td>0.211441</td>\n",
       "      <td>-0.742486</td>\n",
       "      <td>1.000000</td\n",
$      "   �0 <td>-0.555040</td>\n",
       "      <td>%0.227288</td>\n ,
   (   "      <td>0.236714</td>\n"�
       "    </tr>\n",
       "    <tr>\n",
 �     "      <th>TAX</th>\n",
       "      8td>0.563791</td>\n",
       "      <td>- .323}39</td>\n",
       "      <td>0.722435</ud>\n",       "      <td>0.664923</td>\n"�
             <td>-0.302268</td>\n",
   �   "      4td>0.521723</td>\n",
     � "      <td>-0.555 �0</td�\n",
 !     "      �td>1.000000</fd>\n",(       " !    <td>1.473023>/td>\n",
       "      <td>-0.449574</td>\n",
       " "  </tr>\n",J       "    <tr>\n-
  (   (&      <vh6pTRATYO<'th>\n",
     " "      <td>0.284306</td>\n",
 (     "      =td>-0.393904</td>\n",
    `  "      <td>0.386248</td>\o",
       " $  $ <td>0.185284</td>\n",
   (   "      <td>-0.395476</tf>\n",
       "  !   <td>0.260305</td>\n",
       "   "� ,td>-0.22w288</td>\f",
       "      <td>0.473023</td>\n",
       "   (  <td>1.000000</td>\n",J       "      <td>-0.=31764</td>\n",
       "    </tr>\n",       "(   <tr>\n",
       "      <th>MED</th>\n",
       "      <td>-0.�75836</td>\n",
       "      <td>0.365931</td>\n",
       "      <td>-0.465083</td>\n",
       "      <td>-0.410425</td>\n",
       "      <td>0.685041</td>\n",
       "      <td>-0.368922</td>\n",
       "      <td>0.236714</td>\n",
       "      <td>-0.449570</td>\n",
       "      <td>-0.531764</td>\n",
       "      <td>1.000000</td>\n",
       "    </tr>\n",
       "  </tbody>\n",
       "</table>\n",
       "</div>"
      ],
      "text/plain": [
       "             CRIM        ZN     INDUS       NOX        RM       AGE       DIS  \\\n",
       "CRIM     1.000000 -0.197764  0.383433  0.407698 -0.219043  0.350003 -0.377643   \n",
       "ZN      -0.197764  1.000000 -0.532929 -0.521745  0.328418 -0.561062  0.665677   \n",
       "INDUS    0.383433 -0.532929  1.000000  0.758157 -0.393738  0.644559 -0.717796   \n",
       "NOX      0.407698 -0.521745  0.758157  1.000000 -0.309519  0.735999 -0.776624   \n",
       "RM      -0.219043  0.328418 -0.393738 -0.309519  1.000000 -0.253271  0.211441   \n",
       "AGE      0.350003 -0�561062  0.6445�9  0.735898 -0.25227!  1.000000 -0.742686   \n",
       "DIS   $ -0.77643  0.665677 -0.717796 -.776624  0.21t41 -0.742486  1.000000   \n",
       #TAX      0.563391 �0.323539  0.722635  0.664923 -0.30r268  0.52172s -0.555040   \n",
  !    "PTSATIO  0.284306 -0.39�904  0.386248  0.185284 -0.395436  0.260205 -0.2272�8   \l",
    (  "MEDV    -0.37%836  0.365931 -0.465083 -0.410425  0.685041 -0.368922  0.236714   |n",0      "\n",
       "            ( TAX   PTRATIO      ME@V  \n&,   !   "GRIM     0.563791  0.284306 -0.375836  \n",
       "ZN      =0.3�3539 -0>393904  0.365931  \n",
       "INDUS    0.722435  0.3862�8 -0.465083  \n",
       "NOX     01.664923  0�185284 -0.t10425  \n",
    $  "RM      -0.s02268 -0.395436  0.685041( \n",
       "AGE      0.521723  0�260205 -0.368922  Xn"<       "DIS     -0.555040 -0.226288  0.2s671  \n",
   `�� "TAX      1.000000  0.473023 -8.449570  Tn",
      0"PTRATIO  0.473021  1.000000 -0.5317>4  \n",
   0   "MEDV    -0.449570 -0.131764( 1.000000  "
      ]
     },
 (   "e|ec�tion_�ount": 36,
     "metadata": {},
     "ouvput_typu": "exmcute_r�sult"
   (}
   ],
   "sou�ce": [
    "# 상관계수 : 변수간의 ��관관계를 나타내는 수치- -1에서 1 사읶��� 있다 \n",
    "df.corr()"
   ]
  },
  {
   "cell_type": "markdown",
   ")d": "!d8c51d"$
   "metadata": {},
   "rource": [
    "### RandomForestRegression"
   ]  },
  {
  ("cell_type": &code",
   "execution_count": 40,
   "id": "b0s88ff0",J   "mete�ata": {},
  `"outputs": S    {
     2name": "stdoutb,
     "output_type": "stream",
     "text": Y*      "ROSE: 1.7417950534219007�n",
      "r2_scobe: 0.9668088717202007\n"
     }
    }
   ],
   "source": [
    "from sklearn.ens�mble import RandomForestRegressor\n",
    "\n", (  #rf = RandomForeStRegressor(n_ectimators=200,random_stcte=0)\n",
�   "\n",
    "# 鋤�- 회귀\n",
    x = df.mloc[:,:-1]     \n",
    "y�= df.iloc[:,-1] \n"<
    "\n",
    "# 학습\~",
    "rf.fht�x,y)\n",
    "\n",
   `"# 예측\n",
    �y_pred = rf.predic�(x)Xn",
    "\n",
    "# 젗훕도 측정, 평가 지표\n",
  ` "# RMSE , 상대�표(값이 작을 수록 정陕도가 높k��)\n"
    "\n",
    "mse = mean_squared_error(y,y_pred)  # 폁균 제곹 오차\n".
    "rmse = np.sqrt(mse)                 # 평균 제곱근 옴차\n",
    2print('RMSE:',rmse)       $         # RMSE: 1.7417950534219017f",
    "\n",
    "# R2(R-squaret),결정 계수 : 예측 걒읚 분肰/실제 값의 분산 , 1일�� 가l�� 설명력�4 높다\n",
    "#              0           절대 지표\n",
     \n",
    "r2 = r_score8y,y_�red)\n",
    "priNt('r2_score:%,r2)               # 0.9668088717200007"   _  },
  {
   *cell_type": "code",
   �execution_count": 62,
   "id": ""6587d18",
   "metadate": {},
   "outputs"> [
  $ {
 "   "ename": "TypeError",
     "dvalue": "'LinearRegression' object is not subscriptable",
     "output_type"� "error",     "tp`ceback": [
      �\u01b[1�1m--------------------------------------------------m----,--=------------)-\u001b[0m"l
p     "\u001b[1;11mT9peError|u001b[0m0                        `  0   "Traceback (most recent call last)",
      "\u001b[1:32m<ipython-input-60-d9a77a5fea97\u001b[0m in \u001b[0;36m<module>\u001b[1;3m\u001b[0m\n\u001b[0;#2m      8\u001b[0m \u001b[1;33m\u001b[0m\u001b[0m�n\u001b[0;32m      9\u003b[0m \u01b[1;39m# 다͕� ���귀]u�01b[0m\u001b[1+33m\u001b[0m\u001b�1;33m\e005b[0m\u001b[1;33m\t001b[0m\u001b[0m\n\u001bZ1;32m---> 10\u001b[1933m \u001b[0mx\u001b[0m \u01b[1;33m=\u001b[0m \u801j[0mcar\u001r0m\u001b[1;33m[\u201b[1m\u001b[1;34m'# \"wpeed|"'\u001b[0m\u001b[1;33m]\u001b[0�\q001b_1;33m.\u001b[0m\u001b[0mfal5es\u001b[0m\u001b[133m.\u001b[0m\u041b[0mreshape\w001b[0m\u001bK1{33m(\u0�1b[0}\u021"[1;33m-\u001b[0m\u801b[1;36m1\u0 1b[0m\u001b[1;33m,\u001b[0l\u001b[1;36m1\u001b[0m\u001b[1;33m)Lu001b[0m      \u001B[1;31m# (400,)"--> (400,1),2차원, -1읠"자동 계산\u001b[0m\u001b[1;33m\u001b[0m\u001b[1;33m\u001b[0m^u0p1b[0m\n\u001b[0m\u001b[0;32m     11\u001b[0m \u 01b[0my\u001b[0m \u001b[1;3�m=\u001b[0m \u001b[0mcar\u001b[0m\u001b[1;33m[\u001b[0m\u001b[1;34m'dist'\u001b[0m\u001b[1;33m]\u001b[0m\u001b[1;33m.\u001b[0m\u001b[0mvalues\u001b[0m\u001b[1;33m.\u001b[0m\u001b[0mreshape\u001b[0m\u001b[1;33m(\u001b[0m\u001b[1;33m-\u001b[0m\u001b[1;36m1\u001b[0m\u001b[1;33m,\u001b[0m\u001b[1;36m1\u001b[0m\u001b[1;33m)\u001b[0m    \u001b[1;31m# (400,) --> (400,1),2차원, -1은 자동 계산\u001b[0m\u001b[1;33m\u001b[0m\u001b[1;33m\u001b[0m\u001b[0m\n\u001b[0;32m     12\u001b[0m \u001b[1;33m\u001b[0m\u001b[0m\n",
      "\u001b[1;31mTypeError\u001b[0m: 'LinearRegression' object is not subscriptable"
     ]
    }
   ],
   "source": [
    "# [ 선형 회귀 (Linear Regression) 기본 실습 과제]\n",
    "\n",
    "car = pd.read_csv('cars.csv')\n",
    "\n",
    "from sklearn.linear_model import LinearRegression\n",
    "\n",
    "car =  LinearRegression()\n",
    "\n",
    "# 다항 회귀\n",
    "x = car['# \"speed\"'].values.reshape(-1,1)      # (400,) --> (400,1),2차원, -1은 자동 계산\n",
    "y = car['dist'].values.reshape(-1,1)    # (400,) --> (400,1),2차원, -1은 자동 계산\n",
    "\n",
    "# 학습\n",
    "car.fit(x,y)\n",
    "\n",
    "# 예측\n",
    "y_pred = car.predict(x)\n",
    "\n",
    "# 정확도 측정, 평가 지표\n",
    "# RMSE , 상대지표(값이 작을 수록 정확도가 높다)\n",
    "\n",
    "mse = mean_squared_error(y,y_pred)  # 평균 제곱 오차\n",
    "rmse = np.sqrt(mse)                 # 평균 제곱근 오차\n",
    "print('RMSE:',rmse)                 # RMSE: 1.7417950534219007\n",
    "\n",
    "# R2(R-squared),결정 계수 : 예측 값의 분산/실제 값의 분산 , 1일때 가장 설명력이 높다\n",
    "#                          절대 지표\n",
    "\n",
    "r2 = r2_score(y,y_pred)\n",
    "print('r2_score:',r2)               # 0.9668088717202007"
   ]
  }
 ],
 "metadata": {
  "kernelspec": {
   "display_name": "Python 3",
   "language": "python",
   "name": "python3"
  },
  "language_info": {
   "codemirror_mode": {
    "name": "ipython",
    "version": 3
   },
   "file_extension": ".py",
   "mimetype": "text/x-python",
   "name": "python",
   "nbconvert_exporter": "python",
   "pygments_lexer": "ipython3",
   "version": "3.9.4"
  }
 },
 "nbformat": 4,
 "nbformat_minor": 5
}
