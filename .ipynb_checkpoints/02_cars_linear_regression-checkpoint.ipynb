{
 "cells": [
  {
   "cell_type": "code",
   "execution_count": 1,
   "id": "76950cb5",
   "metadata": {},
   "outputs": [],
   "source": [
    "# 02_cars_linear_regression\n",
    "# X : 'speed' (속도)  , Y : 'dist' (제동거리) , 단항 회귀\n",
    "\n",
    "import tensorflow as tf\n",
    "import numpy as np\n",
    "import matplotlib.pyplot as plt\n",
    "tf.random.set_seed(5)\n",
    "\n",
    "# 데이터 읽어오기\n",
    "xy = np.loadtxt('data-01-cars.csv', unpack=True, delimiter=',', skiprows=1)\n",
    "x_train = xy[0]\n",
    "y_train = xy[1]"
   ]
  },
  {
   "cell_type": "code",
   "execution_count": 5,
   "id": "a890243b",
   "metadata": {},
   "outputs": [
    {
     "data": {
      "text/plain": [
       "(<tf.Variable 'weight:0' shape=(1,) dtype=float32, numpy=array([1.3506279], dtype=float32)>,\n",
       " <tf.Variable 'bias:0' shape=(1,) dtype=float32, numpy=array([-1.1078699], dtype=float32)>)"
      ]
     },
     "execution_count": 5,
     "metadata": {},
     "output_type": "execute_result"
    }
   ],
   "source": [
    "# 변수 초기화 : weight, bias\n",
    "# tf.random.normal([1]) : 난수 1개를 생성\n",
    "W = tf.Variable(tf.random.normal([1]), name='weight')\n",
    "b = tf.Variable(tf.random.normal([1]), name='bias')\n",
    "# W,b"
   ]
  },
  {
   "cell_type": "code",
   "execution_count": 6,
   "id": "80cce31d",
   "metadata": {},
   "outputs": [],
   "source": [
    "# 예측 함수 (hypothesis) : H(x) = W*X + b\n",
    "def hypothesis(X):\n",
    "    return X*W + b"
   ]
  },
  {
   "cell_type": "code",
   "execution_count": 7,
   "id": "bc9e81a4",
   "metadata": {},
   "outputs": [],
   "source": [
    "# 비용 함수 : (H(X) - Y)^2 의 평균\n",
    "# tf.square() : 제곱\n",
    "# tf.reduce_mean() : 평균\n",
    "\n",
    "def cost_func():\n",
    "    cost = tf.reduce_mean(tf.square(hypothesis(x_train) - y_train))\n",
    "    return cost"
   ]
  },
  {
   "cell_type": "code",
   "execution_count": 8,
   "id": "67b7d26c",
   "metadata": {},
   "outputs": [],
   "source": [
    "# 경사 하강법\n",
    "# learning_rate(학습율)을 0.01로 설정하여 optimizer 객체를 생성\n",
    "\n",
    "# optimizer = tf.compat.v1.train.GradientDescentOptimizer(learning_rate=0.01)\n",
    "# optimizer = tf.compat.v1.train.AdamOptimizer(learning_rate=0.01)   # 성능이 향상됨 _ AdamOptimizer\n",
    "optimizer = tf.keras.optimizers.Adam(learning_rate=0.01)"
   ]
  },
  {
   "cell_type": "code",
   "execution_count": 10,
   "id": "da3bd1b5",
   "metadata": {},
   "outputs": [
    {
     "name": "stdout",
     "output_type": "stream",
     "text": [
      "****** Start Learning !!\n",
      "0000 cost:[ 943.02423 ]  W: [1.3606279]  b: [-1.0978699]\n",
      "0100 cost:[ 387.93713 ]  W: [2.2233443]  b: [-0.25027925]\n",
      "0200 cost:[ 271.57382 ]  W: [2.6882439]  b: [0.13547535]\n",
      "0300 cost:[ 260.19534 ]  W: [2.8535628]  b: [0.14591318]\n",
      "0400 cost:[ 259.05276 ]  W: [2.8979273]  b: [-0.01708043]\n",
      "0500 cost:[ 258.21823 ]  W: [2.9156008]  b: [-0.24125907]\n",
      "0600 cost:[ 257.3096 ]  W: [2.9309118]  b: [-0.4955904]\n",
      "0700 cost:[ 256.3327 ]  W: [2.9472854]  b: [-0.77373046]\n",
      "0800 cost:[ 255.29822 ]  W: [2.9649081]  b: [-1.0734141]\n",
      "0900 cost:[ 254.21574 ]  W: [2.9836922]  b: [-1.3929199]\n",
      "1000 cost:[ 253.09445 ]  W: [3.0035458]  b: [-1.7306844]\n",
      "1100 cost:[ 251.94293 ]  W: [3.024383]  b: [-2.0852396]\n",
      "1200 cost:[ 250.76913 ]  W: [3.0461206]  b: [-2.455184]\n",
      "1300 cost:[ 249.58087 ]  W: [3.068679]  b: [-2.839163]\n",
      "1400 cost:[ 248.38539 ]  W: [3.0919802]  b: [-3.2358549]\n",
      "1500 cost:[ 247.18958 ]  W: [3.1159484]  b: [-3.6439629]\n",
      "1600 cost:[ 245.99977 ]  W: [3.1405072]  b: [-4.062212]\n",
      "1700 cost:[ 244.82225 ]  W: [3.165584]  b: [-4.489344]\n",
      "1800 cost:[ 243.66241 ]  W: [3.191105]  b: [-4.9241204]\n",
      "1900 cost:[ 242.5256 ]  W: [3.2169986]  b: [-5.365315]\n",
      "2000 cost:[ 241.41637 ]  W: [3.2431931]  b: [-5.8117185]\n",
      "2100 cost:[ 240.33907 ]  W: [3.2696192]  b: [-6.26214]\n",
      "2200 cost:[ 239.29738 ]  W: [3.2962072]  b: [-6.7153993]\n",
      "2300 cost:[ 238.29472 ]  W: [3.3228903]  b: [-7.17034]\n",
      "2400 cost:[ 237.33379 ]  W: [3.3495982]  b: [-7.62582]\n",
      "2500 cost:[ 236.41699 ]  W: [3.3762708]  b: [-8.080721]\n",
      "2600 cost:[ 235.5463 ]  W: [3.40284]  b: [-8.533941]\n",
      "2700 cost:[ 234.72307 ]  W: [3.4292424]  b: [-8.984396]\n",
      "2800 cost:[ 233.94833 ]  W: [3.4554174]  b: [-9.4310255]\n",
      "2900 cost:[ 233.2227 ]  W: [3.4813035]  b: [-9.872791]\n",
      "3000 cost:[ 232.5464 ]  W: [3.5068414]  b: [-10.308679]\n",
      "3100 cost:[ 231.91917 ]  W: [3.5319738]  b: [-10.737697]\n",
      "3200 cost:[ 231.34053 ]  W: [3.556644]  b: [-11.158875]\n",
      "3300 cost:[ 230.80952 ]  W: [3.580798]  b: [-11.571289]\n",
      "3400 cost:[ 230.32504 ]  W: [3.6043808]  b: [-11.974006]\n",
      "3500 cost:[ 229.88559 ]  W: [3.6273437]  b: [-12.366159]\n",
      "3600 cost:[ 229.48932 ]  W: [3.6496356]  b: [-12.746905]\n",
      "3700 cost:[ 229.13443 ]  W: [3.6712105]  b: [-13.11544]\n",
      "3800 cost:[ 228.81866 ]  W: [3.6920254]  b: [-13.471011]\n",
      "3900 cost:[ 228.53981 ]  W: [3.712037]  b: [-13.812902]\n",
      "4000 cost:[ 228.29532 ]  W: [3.731209]  b: [-14.140457]\n",
      "4100 cost:[ 228.08272 ]  W: [3.7495055]  b: [-14.453082]\n",
      "4200 cost:[ 227.8994 ]  W: [3.7668962]  b: [-14.750252]\n",
      "4300 cost:[ 227.74275 ]  W: [3.7833557]  b: [-15.031517]\n",
      "4400 cost:[ 227.61017 ]  W: [3.7988625]  b: [-15.2965145]\n",
      "4500 cost:[ 227.49904 ]  W: [3.8134005]  b: [-15.54497]\n",
      "4600 cost:[ 227.40692 ]  W: [3.82696]  b: [-15.776713]\n",
      "4700 cost:[ 227.33148 ]  W: [3.8395376]  b: [-15.991678]\n",
      "4800 cost:[ 227.27032 ]  W: [3.8511357]  b: [-16.189905]\n",
      "4900 cost:[ 227.22147 ]  W: [3.861764]  b: [-16.371565]\n",
      "5000 cost:[ 227.18297 ]  W: [3.8714387]  b: [-16.53693]\n",
      "5100 cost:[ 227.15297 ]  W: [3.8801844]  b: [-16.68641]\n",
      "5200 cost:[ 227.13002 ]  W: [3.8880296]  b: [-16.820513]\n",
      "5300 cost:[ 227.11273 ]  W: [3.8950124]  b: [-16.939863]\n",
      "5400 cost:[ 227.09996 ]  W: [3.9011743]  b: [-17.045195]\n",
      "5500 cost:[ 227.09062 ]  W: [3.906565]  b: [-17.137337]\n",
      "5600 cost:[ 227.084 ]  W: [3.9112349]  b: [-17.217161]\n",
      "5700 cost:[ 227.07936 ]  W: [3.915241]  b: [-17.285637]\n",
      "5800 cost:[ 227.07617 ]  W: [3.9186416]  b: [-17.34377]\n",
      "5900 cost:[ 227.07402 ]  W: [3.9214954]  b: [-17.392551]\n",
      "6000 cost:[ 227.07262 ]  W: [3.923863]  b: [-17.433014]\n",
      "6100 cost:[ 227.07176 ]  W: [3.9258025]  b: [-17.466171]\n",
      "6200 cost:[ 227.0712 ]  W: [3.9273708]  b: [-17.492981]\n",
      "6300 cost:[ 227.07085 ]  W: [3.9286215]  b: [-17.514355]\n",
      "6400 cost:[ 227.07068 ]  W: [3.9296043]  b: [-17.531155]\n",
      "6500 cost:[ 227.07054 ]  W: [3.9303646]  b: [-17.544155]\n",
      "6600 cost:[ 227.07047 ]  W: [3.9309435]  b: [-17.554054]\n",
      "6700 cost:[ 227.07045 ]  W: [3.9313774]  b: [-17.561462]\n",
      "6800 cost:[ 227.07045 ]  W: [3.931696]  b: [-17.56691]\n",
      "6900 cost:[ 227.07043 ]  W: [3.9319255]  b: [-17.570837]\n",
      "7000 cost:[ 227.0704 ]  W: [3.932088]  b: [-17.57361]\n",
      "7100 cost:[ 227.07045 ]  W: [3.9322004]  b: [-17.57553]\n",
      "7200 cost:[ 227.07043 ]  W: [3.9322767]  b: [-17.576838]\n",
      "7300 cost:[ 227.07043 ]  W: [3.932327]  b: [-17.577696]\n",
      "7400 cost:[ 227.07043 ]  W: [3.9323587]  b: [-17.578241]\n",
      "7500 cost:[ 227.07043 ]  W: [3.9323795]  b: [-17.578596]\n",
      "7600 cost:[ 227.0704 ]  W: [3.9323905]  b: [-17.578787]\n",
      "7700 cost:[ 227.07043 ]  W: [3.9324]  b: [-17.578945]\n",
      "7800 cost:[ 227.07043 ]  W: [3.9324002]  b: [-17.578947]\n",
      "7900 cost:[ 227.07043 ]  W: [3.9324002]  b: [-17.57895]\n",
      "8000 cost:[ 227.07043 ]  W: [3.9324002]  b: [-17.57895]\n",
      "8100 cost:[ 227.07047 ]  W: [3.9324012]  b: [-17.578966]\n",
      "8200 cost:[ 227.07047 ]  W: [3.9324012]  b: [-17.578966]\n",
      "8300 cost:[ 227.07043 ]  W: [3.932403]  b: [-17.578993]\n",
      "8400 cost:[ 227.0704 ]  W: [3.9324028]  b: [-17.578997]\n",
      "8500 cost:[ 227.07043 ]  W: [3.9324033]  b: [-17.579002]\n",
      "8600 cost:[ 227.0704 ]  W: [3.9324036]  b: [-17.579004]\n",
      "8700 cost:[ 227.07043 ]  W: [3.9324036]  b: [-17.579008]\n",
      "8800 cost:[ 227.0704 ]  W: [3.9324038]  b: [-17.579012]\n",
      "8900 cost:[ 227.0704 ]  W: [3.9324038]  b: [-17.579012]\n",
      "9000 cost:[ 227.0704 ]  W: [3.9324038]  b: [-17.579012]\n",
      "9100 cost:[ 227.0704 ]  W: [3.9324043]  b: [-17.57902]\n",
      "9200 cost:[ 227.0704 ]  W: [3.9324043]  b: [-17.57902]\n",
      "9300 cost:[ 227.0704 ]  W: [3.9324043]  b: [-17.57902]\n",
      "9400 cost:[ 227.07039 ]  W: [3.9324052]  b: [-17.579035]\n",
      "9500 cost:[ 227.07043 ]  W: [3.9324057]  b: [-17.579039]\n",
      "9600 cost:[ 227.07043 ]  W: [3.9324055]  b: [-17.57904]\n",
      "9700 cost:[ 227.0704 ]  W: [3.9324057]  b: [-17.579042]\n",
      "9800 cost:[ 227.07043 ]  W: [3.9324064]  b: [-17.579048]\n",
      "9900 cost:[ 227.07043 ]  W: [3.9324062]  b: [-17.579052]\n",
      "10000 cost:[ 227.07043 ]  W: [3.9324062]  b: [-17.579052]\n",
      "****** Start Finishing !!\n"
     ]
    }
   ],
   "source": [
    "# 학습 시작\n",
    "print('****** Start Learning !!')\n",
    "for step in range(10001):\n",
    "    # cost를 minimize한다\n",
    "    optimizer.minimize(cost_func, var_list=[W,b])\n",
    "    \n",
    "    if step % 100 == 0:\n",
    "        print('%04d'%step,'cost:[',cost_func().numpy(),']',\n",
    "             ' W:',W.numpy(),' b:',b.numpy())\n",
    "    \n",
    "print('****** Start Finishing !!')"
   ]
  },
  {
   "cell_type": "code",
   "execution_count": 12,
   "id": "9d4ed7e1",
   "metadata": {},
   "outputs": [
    {
     "name": "stdout",
     "output_type": "stream",
     "text": [
      "weight: [3.9324062]\n",
      "bias: [-17.579052]\n"
     ]
    }
   ],
   "source": [
    "# 회귀계수, weight과 bias 출력\n",
    "print('weight:', W.numpy())\n",
    "print('bias:', b.numpy())"
   ]
  },
  {
   "cell_type": "code",
   "execution_count": 17,
   "id": "fca08d36",
   "metadata": {},
   "outputs": [
    {
     "name": "stdout",
     "output_type": "stream",
     "text": [
      "****** Predict\n",
      "speed=30, dist= [100.39313]\n",
      "speed=50, dist= [179.04126]\n",
      "speed=[10,11,12,24,25], dist= [21.74501  25.677418 29.609821 76.79869  80.73111 ]\n"
     ]
    }
   ],
   "source": [
    "# 예측\n",
    "print('****** Predict')\n",
    "# 속도가 30과 50일 떄 제동거리를 예측해 보세요\n",
    "print('speed=30, dist=',hypothesis(30).numpy())   # 3.9324062 * 30 -17.579052 한 거\n",
    "print('speed=50, dist=',hypothesis(50).numpy())\n",
    "\n",
    "# X = [10,11,12,24,25] 일 때\n",
    "print('speed=[10,11,12,24,25], dist=',hypothesis([10,11,12,24,25]).numpy())"
   ]
  },
  {
   "cell_type": "code",
   "execution_count": 23,
   "id": "84490a6e",
   "metadata": {},
   "outputs": [
    {
     "name": "stderr",
     "output_type": "stream",
     "text": [
      "D:\\AllProgram\\anaconda3\\envs\\tf250\\lib\\site-packages\\numpy\\core\\_asarray.py:136: VisibleDeprecationWarning: Creating an ndarray from ragged nested sequences (which is a list-or-tuple of lists-or-tuples-or ndarrays with different lengths or shapes) is deprecated. If you meant to do this, you must specify 'dtype=object' when creating the ndarray\n",
      "  return array(a, dtype, copy=False, order=order, subok=True)\n"
     ]
    },
    {
     "data": {
      "image/png": "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@sCBvjAmIczXticmJzF4m2zN5��6156uaW/S8k/pl�1cwIjKL/FuFKSlWU03OW&yt91WXKX1Q1zyKRB8kq4RkWoi8QmIrBWRNSJyrYjUEJG5IrLBfV/dF/syppgKse6Eg`Jqzyqe+eYZ6g2zx717mXRH4v4z7X'Yc0Ta5j/9/k8cvkzVKlX5Yx0ygYu4TfG05AtDDj8OO3bw6JF8P334KFDaKydWlz46kx+BPCVqv5NRMOCkcCLwIeq+qaIPA88D/Tx0f6MKV5CsDuhP52saU9MPmTRh4soHVGaTk06ERcdR8dLOp6qaT9DTAyLf6/BgAHKZ+kdKcsJYm/ayjPvNaZx48AfQ7kwuguliFQBlcEXaa6PE5F1QDtV3SkidYAfVLXA1j/Wh`KErSBJwykHM1h3uZ5uJJdp2ram5/fnPjoeB5s+eAZNe25qcI32ziVMvPmOX1kHn8ceveG2r]DfBDFlL9XhroISAUSRaQVsBToDVygqjsB3IH+/HwGlwAkAEQFeSmTKCHCuEZ7y8EtTp/25HGkpKWc1mmPax3HFXWuOFXTfrasLPnkE+cCpuRkuPBCGDTI+Q9OlSqBPYZw5osgXxq4HPiXqi4UkRE4qXlCUdUxwBhwzuR9MB5jQk+Y1WgfO3GMz9Z8hivZxfebv0cQbr1oVv57y3+559J7qFCmQr7vTU93Jk+HDHH+E9OkCXzwgZO18nnDMOOTIL8d2K6qC92PP8UJ8rtFpE6ufM0eH+zLmOIpBLsTekpVWbxjMc4kFx+v/Ji0jDYaVWvEq+1mKTY6lqiqBf?C2rcP3n�HqWvguxeutc�piexUyZmLNv7h9R+�qu4Cton	yXz7LcBqQCYQ694WC8zwdl/GFFsxMQ6hd4MGTmlIgwrO4�Iw6br7yG6GzB9C83ebC/XYq/lg4Re6LUpj3pwL2FjzFf73p/9bYIRPSXHyv1FR8PLLTjfIn3vC+fOdC5rOCPAltALJl3Yy/J+IR@NjgbLAJiAO5xfIVCAK2Ap4UdX�BX2ObwaExpOZj9gz3Q5uJJczN4wm6ycLK4pdwnxM7bQ^�mTqhnuF0ZG5vvLasWK4w3DRE43DGvePJ+dnL2JdI7PN6cVNPFqa7waY05ZnbqaxKPEPlz+IXuO75GCihfwcKuHiY�O47Irbz9nhZCqc5Y+cCB8+SVUrAiPPgpPPVWI6YcSUIHkL3bGqzHFUYCSF2n@0;hvqXtcM/Yamo1qxvCFw2lbvy0zu81k21PbGnl+IJfVuqzACqGcHJg+Ia69Ftq1cy5cevXV0�3dCzW/HKoVSM_8hWRtDYwJRX6+eCxhc/hhyw+4kl|MWzON41nHaVarGUN~G0pMyxjOr%hHx\MeFUIZlGVi9d4Magrr1kGjRvD2rxAX9+deYOcUihVI4XAR�6qG{O2[K64QY4yq�mig�mQ/zrw1aODVx245sEX7zeenDYc3VPq(Vf9bVR//4nFdpH2R5uTkFPzmiBNVIyNVQQ9SVQfwrNaRQqq0dGqkyernjjhxeByff6pW2Sksz1Y/PQ9+BqwRPOJq3Ymb0wo8}Hq4tiJY0xfO81Xk|PTDnDLRbfwxs1vnLOm/QwxMew8UJ$Sfffw7qeHkIqN1+2i3HDoH17H/RTiYmBH35xJlqzs6FUKYiNDe4Zc6imkDxgd6Y�ORl6kLdNe2JSYlMXjlZtAw0GlZrSL92/YhtFUuDamcv-1Swyeth8AYP/5+srLg/i5OpUybNj5sOzBpEowfwR4cO7Hj4e3bYMx6EMxheSp/E7xg3GzdI0xbkVMXew+sluHzB*izd5ppvVDK7xeQR/87EH9ftP3m02T7fEwFi=Uve8+VRHVcuVTH3tdcOGoh7UOYRiai�UU0h5oIB0TdCDe+6bBXlj"pk40QlwYs59PoElMytTZ6ydOfd8fI+Wf�W02g+9Zuw1+tW9/TgsYMewyMnR/XLL1XbTXMmRLVqqi++qLppl4+P72wieSd5ET/v+BwK+T0EU0FB3urkjSmmTta0T1g+gd1d5+qae8Z3ZOmtZqe+wPOqhzJohRTyj7MwNpDWL61OnXrOvXtCQhQubKfDwasTt4L/u5CaYwHkLTjaUxZNYXE5ER+3f4rpSNKc9Df7iI+O06Ol3RkTKk{hf+wvn0hPZ2jROIiniH8h5Thmy6YyMuV3ViYqBsWf8dy5)EQX+f]GR@3pgQl6M5/LjlR1xJLqatnsaxrGM0q9WMIbcN4cGWD+[d014Ie1OO8g4v8Pb-Yh/ncR2/MHJ/c1fWbCLisn18FIUQitU1YcCCvDEhuVwCuOXjWdc8jg2H9xM1XHViW0VS3zreNpc2CbfPu3nsmULDB0KH0gK6RrJ3czkOQZyP"84L2jgWeWNz4RidU0YsCBvTAg4duIYn6/9HFeyi+82fYei3N�o��6/+XXuvfTewte052H5c�f1pSlTnZr2mOt�8uziB2h2fOnpFwUzPeJOH50hPd3ZbkG+yKx3jTFF5aOeHqrK4j8W02t2L+oMqUOPz3qwcv9GXv7ry2zuvZlvH/6WHi16FCnAq8MPP8Dt|0OrVjBjBvz737BpE4z76WK�jX3Kv+2�PfjzCoMLj0JS�mU3wbhZCaUpNnxQP73nyBtdOn+oNh/VXOmHln+9vMMi9HvNn1XpJr23LKyVKdNU73qKmdotWqpvv666r59Xn2sZzz9IwrFOvliAiuhNMbHihj5l5GTxZwNc0hMTmTW+llk5WRxdd2riYuOo1vzblQtX9WrYWVkwIcfOl!nrl8PF�0EzzwDPXtChaJoeorG0z8j6ydfRFJCaYyveZhaWJO6hsRkp6Z915FdnF/xgJ68+kniWscVrqb9H�LSYPRoGD4gdu2C1qh�4/h/vuhdLD+lXuafjkZyPv2dV4TFuXMD1xA94oFeWOKohA9TQ5lHGLKSqemfcH:BZSSUk5Ne+t4br/j�s9q2vOxY4cT2EePhsOH4dZcYcIEuOUWHzQM81ZR+r7AxFhQ9zGbeDWmKPr3/3PD9MhIcl5/jR+2/MED0x+m9tDaJHyRQFpGGoPbD+aPp//g826f06lJJ68D/Lp18MgjTv/2IUOcidUlS2DuXCfQ+y3AezKRms+fkVscFGd5JguDcbOJV!Os5OppktK0rr468n5tNLyR8g+t8T8q+tisx3Th9oXn7tPugQULVO+912mhUr686uOPq27c6LOPLhRJpuLQd+XcIFJvBpje8ezjjs17Uku~t307ama9rjoOO697F4)y3i6NFLeVGHOHKfG/a%fOFo1eOIJpxTy/KJd7Fo01lsmZAVkjVcRKSUiSSLyhftxDROZKyIb3PfVfbUvY4JFRVmyYwlPzH6COkPq0H3ad9bvW39GTXtMyxifBPgTJ2DiRKe+/c47ndr2oUOdOcnXX88jwBelbd/q2IOeLydeewNrgGrex88D36nqmyLyv�txHx/uz5iAST3!ysTlE0lMUmTFnhVUL12e+y+7n7joOG5qdBMR4rvpraNHYezY0wG9aVMYNW&6dy+gYVhR1iL19D3hsIBGSZRfHseTG1AP+A64GFjCvW0dUMf1sx1�3ck+x3L9JpScyD6hs1bN0vum3HeqT/tV71+loxeP1gPHTvh8f6mpqi+9pFqjhpPubttWde[M1ezCXBdlAuJPH1@MVlCoyQiAGu8DgmeA3K3fb5AVXe6f5HsFJM8s4cikgAkAETZGYEJAW�3riUxKZEPl394qqa999W9iYuOo9nzXy+v82b3Q3DPoBjx6BTJ2dpvbZtPfiQoqRSrI69RPA6yIvIXcAeVV0qIu08fb*qjghGgDPx6u14kCmKQxmHmLpaKq4k6ma9jv/cidx0fHc0fgOl9S0n2#ZmcydepUJyUeEwPPTuukZ�xWlFSK1fGXAL54k28LdBkRO4DyqBUBmQjsFpE67rP4OsAeH+zLGJ/J0Rx+SvmJpOREPl39Kekn0rnsvMsY1H4QD7Z8kNqVfLhItZu6G4YNGABffw2VKrGTTzq3evW8#OCiLLhhi3SUDPnlcYpyA1pxOic/CHje/fPzwMBzwdy8iYQth7cqq/9+JpeNOKiUzXuCTMT9Ndtw/q0xj23rCzVT/79o15ZNilB9fyIPdq/S5Lu3+/DnRSlJt3ddexWJx8QBGoh77OCgE2cydgN7vsa53q/BXnjL8dKHNPJKYbr"RNuU+knSj/05v364RlE/Ro5lH/7feY6nvvqTaunaagejEb9F0e03TKh/++0U3UBkxBQt4uhjJhS1X5bedvuJJcfLTyIw4eP0hU1Sh6tupJz+ieNKreyG/7PngQ3n0XRoyA3bfhirLN6ZP5GvfxGiXIOf3CcL6QyC6eCpiAX@xl�F95cNFO6tFUHv86nOj3omnzfhtcyS7uaHwHcx+ay+bem3nLpld8G+B79XJaPIo497168ccfZuRpVBS8+CK0bAnffguLM6PpwqdnBngI3wuJ'OKpkGBdKE3oK8RFO1k�WXy98WtcyS5mrZvFiZwTXHnhlb8757t0a96NauWr+XZMvXo5p+xua7MvYdCwVzDhvSyyCU3Xrk6wv/xy9{alMALaezkqdCQXx4nGDfLyZs8FXDRztrUtdpnbi*tM7iO0g+tNbCWPv307pi9wr/jqlUKVXQ�VyjnZmuoFqedO0l7+jvv+f8+p[Yny6JxxwkBGri1dubBXmTJ5EzAs_hsujY1ui18Sj90FK6lNK7P7pbp6ZrhlZGX4fDk6O6hfcoTfwo4Jqdfbp//CqqaW+59UPkKxkiX�xmTVOEViQd4Ubw0aaA7ojw3Q2HvQyBed4H7Zk2V04M8DdefhnQEZRm!m6vjxqs2bO?9y6pOiw+ith6l4+pdQqVIBGcufFLUNcCid!YfaeIoRC/Km2Np�cKu+PrKLXtzbKX5s/AKacBe64OJymjNhQkTGcPiw6rBhqvXro/9imjVTHX/zOM2i9JkBCZwG78EQiN41/hZq4y�GCgryNvFqQs7xzOPMWDuDxOREvvn9GxTlpgqb0u+v3dz38z4iL2wQkJ4pqenw0lrw9ttw4ADgcAMz13r77RAREQu9FjqLTGd.Q6lSzmwqFF+HVO+AtG7x|9CbTxhwoK8CQmqStKuJKemfcVHH�h+gKaqUfzvjf9LbHQsF1W/�GmBFwCbNjlL6r�ccPw4dO4Mff2Atdee9cJRo4IX1M8WqN41/hRq4wcX*Z3iB+Nm6ZqSH/Voqg5fMFxbvdtk6YeWe62cdv+0u87:fa1m5xSmx24+ijGB99Vrs1Vb5AyNIEvLkKHxf92gq1cXfQgBZTf5Eg3LyZtQciLwhM5eP1vvn3I/lnm1jNIPvXLMlTpq0Sjdn+6DZi4eBIucHN�wv1W9zcUfKqqVSdNnGKjbubDtBZhQ�K7xVKiNp5'oKMhbWwMTM�v3rScxKZHzy8az88hOakXW4wGWDxIXHUeLC1r4bkeFuJw+Oxs++xzpBrl0KVwQkcqTOUP4B6OpRlqe7zEmVFlbAxM0hzMO40pycb3repq83YRB8wfR5sI2fN�1M7Y/vZ2hHYYWMsD7aC3S48dh9Gho0gS2doW0NHjvPdiSE8XzDDgzwBf�WZ6OKRCvNyYv+Z3iB+NmZrwkJOToz9u+VF7ft5TK/avqRRDL337Uh3480DdcWiH5x/oaa42j1Kx�VTT/tUG6PnfO5vatFH95BOnBXB+7/HpUnj+fr0p0bCcvAmEbWnb9PUfX9eLR,7i1LS-UVkfnfmozt86�'s+7V4E4M!caP;hkFbikIJqh�6q33/v5OLze09�f5UOCZ/v96UaAUGecvJG69kZGUwY90MXEku5m6aS47m0K5xO+Kj47nvstuoW�ai9zuJiHBC3NlEIC�jz9uBNQJn�fDV40w66plsSvHAtdt4blRDoqML2E+�XoWve/d0TP5+vS�RCsrJW528KZKknUmn+rTvP7af+lXq0/eGvvSM7unUtPuSB/XT8+c7k6kzZ)5NhQsw2D/h6aehUaOGBe9j0iQYP94J8ODgjx/vrKad10VXntZ0+/v1xuQnv1P8YNwsZRPa9h7dqyN+HXFGTXu3T7vpNxu/0hzsrHN,QFGdI5WSja06c6Zq27bO]zVqqL70k�aePR7sw3LyphjDcvLGY+565awI9Mvrzte/DbrqV17mzFt9J1F7/imqt3D8eWUn86IUB03zuk�A6pRUarDhzu9Zjx2VqfMUzcRjxbk6TH49PWmXCooyFtO3vzZtEls6PMIiZceZ3wr2FEFzkuHh+00JK77QN/�tBfBkSPw/vSwdChs3w7NmzutBx54AMqUKeKH2lJ1phizn\wplCOZR/hk1Se4�n6cnx/NKCIH7tgAbx2Bu9ZD2Ypr5MngBfg9e2DkSGcu9MABuPFGp8b9)pud+Uiv99/5upTAJGRznZj�jGvL4YSkfoiMk9E1ojIJhH�7d5eQ0TmisgG931174drfE�V+b+U/{N)Rjy1B9cmfmY8qaUzGDAXTg+FWZPhvjVQNpugdQP8/Xen8KVBA3jjDWjXThYsgB9/hDvu8EGB2dyNTbWqaoB5z421t+dLgtkF0MZX0gvj1PYG1AHuNz9c2VgPdUGA�<797+PDDg\J9lOfnA2Z�2Tgv/1P9UTXulNyrpIzMecWraG0R5NgnpJ8uXqnbtqhoRoVqmjOrf/666dq2fdhZqE52hNh4T0gjkxCswA2gPrAPq6OlfBOvO9V4L8v51/MRxnbpyqnac2FUjXolQkqF/Tfyrjk8er0cyjpx+YRADTE6O6ty5qrfe}y2cmXVZ59V/eMPP+841C4+Cr�xmJAWsC�PNAS:AlWAg2c9dyBfyyQiS4AlUVNR/v6zCJGSdybpv778l9[YQDPph9YfWl//57v/0Y37Nub/pgBXdpw4nfrxx6qXX+79rqxdW/XNN1UPHgzQeKpSXeNpoTYeE9IBEuSBSsBS4D7340IF;dw3O5P3nb1H9+rIX0dq9OjoM2rav974tX9r2j2Enq46apTqRRc5fxsbN1YdO0b12LFcLypqr3RPfimE:`lzpI3HhDS/B3mgDPA18HSubZatCbCs7Cydq2G�dpnaRcu+Vlbph7x2hWBr2kvh�37VV9/XU81DLvqKtVp03I1DMrN3zcqFfU9/hRq4zEhzaBHhDgY2D4VdsHnTXxOvBcn2VB�mjW712vL377otYdUlfph9YcUFOfnPOkLtu1LHCDKOSZ89atqk89pVqxovOsr2NH1Xnz8mgYlpunqYuingWH2sVHoTYeE7L8HmSvBxRYDi[7b3cANYHvgA3u+xrn+iwL9oV3OOOwuf5z6Q2uG5R+�MQrEXrnpDt12uppmpGVEdjBFOKsc9Uq1dhY1dKlVUuVUu3RQz]5uZCf72nQtny2KWEKCvJeXwylqj+7z+bzco53n29OU1V+2fYLriQ\U1dN�e)Jm/yl5l9485Y3eajVQ�xY+cLgDKXv3zMvIgL.cd++/NwghoEDYdYsqDABhn-cqRjWsKEHn+/phUrW7MuY0/KLsG42Zl83ranbds3fnpDG49sfKqm/e8z.q6/bP3Fuz7tvnLWmXM2ojO46/jzwWfYdjLL4umpnqxD09SF0�N1t6xBRTWIOy0uf$ieX6yapP9@aJt5+qab8x8UydlzTuzJr2UOBOp2RQRhOJ1ecsdLIppbbpyJEqR4Hx3KI0A7OJTlNMFBTkrUFZ)E~elUxiUiITV0xk/7H91KtSj9hWsfSM7sk|NS4J9vDydHjwFMb0SmbYmSf4g3q0ZBnPlR1B1zG3Uia2R7CXVz�WoMwUI9agLMTtP7agj1Z8hCvJRdKuJMqWKsu9l95LXHQc415pK6UiSgV7iHnavftkw7AHOHjiAdqVW8DYjEfpELUGeaM?xBSUAA8FLv5tTHFmQP5IsnOymbtpLmnJiXy+9nMyszO5vM7lvH3723Rv0Z0aFWoEe4j52rcRBg+GceMgMxPuvReeew6uvvpaXE6wh1c0NllrwpTXXSiNZzbu30jf7/rScERDbp90O99t+o7HK91E8ud1WPqQJJ7oO/gan4VmoFy6FLp2hSZNIDERHnoI1qyB`dPg6qs9/LBQv�DYv79TsZMbtRo34SC/ZH0wbuE68Xo44wAMJiXqzYk3nqppv2PSHbRpqk/1+ITEkJ7wy8lR/eYb1VtucYZWpYpqnz6qO3Z48aGhOslr1TWmm]ImXgNPVZm/bb7T0756Kkcyj/CXmn8hLjqOh1s9fHqmPUQn/LKy4NNPYeBASEqCOnXgySfhscegalUvPzhEj9-Y4somXgNox+EefLjsQxKTE1m/bz2VylbigWYPEBcdx3X1r0POXuEixCb8jh1zUjG�B8RmzU5qXuxYePBBKFfORzsJsWM2JpxZkPeBzOxMZq2bhSvZxVcbvyJHc7ixwY28aP0L/K3q36hUtlLkbw6RCb/9++Gdd+CttyA1cmxDxkC�Ts7aXOfSpFjNqYjsCD�hWW7lpGYnMjE5RPZd2wf`SvXuYXrX/Cspj3Aa4tu2+YsiQ3++3D0qLNeap8+zvqpRllWLy+2nqoxAWNB3kP7j+1n8orJuJJdoLbzN8qWKss;l95dfHR00WraT64�revk62IinKCjz/XFl25EgYNgo8+cmY+u3eHZ5+Fli39ultHkI7ZmJLIJl4LIVsnm283fUticiLT105nMzuT1rVbE�86nh4teoR0TXtuqvDzzzBgAMye7Zw8P/I0xCsQYngj84YU1Q2<VpEG/dvZFzyOMYvG8/2Q9upwaEm/7biH8S1jiO6d~Swh1doOTlOF8gBA2DBAqnZE555BZ44wvnZGBO/LM)f5Wbm�T5d/SmuZBG/pfxEhETQ8ZKODOswjLv/czflSvuqxMT/MjKca4wGD�K1a53Kxbfegvj4P1/38yeTKlk6xZgwYEEep6Z9wf]�uJJcTFk1hSO[R2hcozFv3PwGD7d6mLpV6gZ7iB45dA*GjIFhw2DHDmjVysm9d+kCpQvzjU+adObEaEqK8xgs0BtTzJToIL/j8A4eLJtAYnIi6/ato2KZik5Ne+s42tZv)+ea9hC3axeMGAHvvgtpiXDTTeywW23eVgpU8AiIBbkjSleSlyQz8zO5Iv1X+BKcjFn4xxyNIcbom6gT9s+dGnWpdCadn/xMjWyYYNz8DL48U7DsPvvdxqGXXmlEcdjFysZEzZKTJJvvnv5QT7te9P3UrdyXZ5v+zw9o3vSuGbj4A7Mi9TI4sVO24Fp06BMGejZE555Bhr7ezh2sZIxYcPvQV5EGgIjgF\AWFV9�9/7PO�AsQN8tOIjG�MTWbpzOWV�l!Vzk87t46�/UXtQ6NPu4epEVX45hunUmfePKePTJ8+0Ls31K7tozHZxUrGhA2/BnkRKQW8A7QHtgOLRWSmqq721z6zc7L5bvN3uJJcfM72czKyM4iuHc3	jiPp0aIHNSNDrGawkKmRrCz45BPnzD05GS680KmaSUiAKlV8PCa7WMmYsOHvM/mrgI2qugnARD4GOgM�D/K/7//9VE37tkXbqFGxBglXJBAXHUfrOq19vTvfOUdqJD3dmTwDMsRx0NikCXzwgRN�fdYwLC8xLRrUjQKD/g7ydYFt}R�vBzxdXuKc5m2ex80f3iyERNDh4g4MuW0InZp0Kh417fmkBvY9P4h3XnXq2vfuhWuucUo�O3XyQ�MwY0zU8neQr6tw74w+CiKSACQARBVxXq9tVFsG3jqQHi16FLua9rNTIykXXsvQZ�8w9j+Ykp4Od97p5Nyvf96pDcOMOWHLr71rRORaoJ+qdnA/fgFAVf+b1+tDuXdNIKxY4eT�J092gvnJhmEtWgR7ZMaYUBfM3jWLgcYi0gj4A�gG)XDzPosNVfjpJye4f/clVKwI/�oXPPWUVSsaY3zDr0FeFbNE=JoA1zo|lC5VXeX@fRYHOTkwY4ZTBrlwIZ�sHrz6qtMwrEbxaGhPjCkm/F4or6pfAl/6ez/FQU]GTHzohT6uWweNWsHbb0NcXCEahhlzTBGUmCteGyktDd57D4YPh50ITreyb2/7W+FbBhmjDFVZCHCj3buPN0u7NAhuPleGDcO22e3RhljTGBYkPeD9etPNwzLyjrdMK|NnnPf8yjjPxbkfWjRImcydfp0KFvWy�U/8wxcUsg1vY0xxtcs�HtJGb7+2gnu@/wA1arBCy8trZA+axhmjDFFZEG+iLKyYM/Up8Z9+XKoW9dJ0SQkQOXKwR6dMcX4LMh74OjR0w3DUlLg0kudxzExTorGGGLCiQX5Qtq7F;55x2kYtm8fXHcdjBwJd91lDcOMM�HLgrw5bNkCQ4c67X#T052gfrJhmDHWhDoL8rlYvtyZTJ0yxalpj4lxKmWaNw/29IwxpvAqyOeiCj/+6AT3r75yGob9+=9O�7D69YM9OmOMxZsFeSA7+3TDsEWLoFYteO016NXLGgYZ�4Q3Eh3kzLggw+d0sf16+Gii2DUKOjZEypUCPbojDHGeyUyyOehw5jRUsOwXbugdWv�+G_n/YA1�DPGhJMSFdJ27HAC++jRcPgw3JorPJgEt9xiDcOMMeGpRAT5deucXu4VJjhXqv7tb07DsCuuCPbIjDHGv8I6yC9c6Eymfv65czqfLxTCnnxxcDemTHGBAbYbXlVmDP6Snz449Nw7AXX3Qehl1wQbBHJ4wxgRU2Qf7EidMNw1asgHr1nCtVH3nEGoYZYqusAjyixc7efatW6FpU2f1pe7drWGYmcZ41VpLRAaJyFoRWS4i00VkWq7nXhCRjSKyTkQ6eD3SAlxyidMNcuZM5iw+NtYCvDHGwJdBHpgL�FfVlsB64AUAEWkKdCOaAR2BUSJSyst95at6dWfhjrvvto6QxhiTm1chUVW?UdUs98NggXrufzsDH6tqh�puBjY�V3mzL2�MMZ7z5XlvPFDH�XNdYFuu57`7t/2JiCSKyBIRWZKamurD4PhjjDnnxKuIfAvktVppX1Wd0X5NXyALmHTybXm8XvP6fFUdA4wBaNOiTZ6vMcYYUzTnDPKqem|Bz4tILH@XcIuqngzS24HbzXnrATuKOkhjjDFF421TUegD9BJVdNzPTUT6CYi5USkEdAYWOTNvowxxjjO2zr5|4FywFxxOnz9qqr/UNVVAjIVWI2TxnlCVrO93JcxyhgPeRXkVfWSAp7rD/T35vONIcZ486�Kj\EmjMnxudL��5FUIMWLjzgP2Muj4R�HJe14WY65pLBj9kwDVa2V1xMhFeS9JSJLVLVN{McRKCXteMGOuaSwY/YdS;cYY0wYsyBvjDFhLNyC/jhgDyDAtrxghqzSWHL7CN�lZM3xhhzpnA7kz�GGJOLBXlj*AljYRHkR�SjewwqjSLyfLDHEwgiskVEVo�IsogsAgZ4/EGEXCKyR0RW5tpWQ0TmisgE9331YI7R1/I55�4i8of7�04WkTuCOUZfEpH6IjJPRnaIyCoR6e3eHrbf�wHH7Jbvudjn5N02Tq0H2uN0v1wMdFfV1]EdmJkHyBanjaqG7QUj	nIjcAT4UFWbu7cNBPar6pvuX+jVVbVPMMfpS/kcczogiKoODubY/EFE6gB1VXU3EakMLAXuAXoSpt1zAcfcFT98z+FwJn8VsFFVN6lq�vAxzspUpphT1Z+A/_dt7gyMd/88HucfP9jI55jDhqruVNXf#D8fBtcgDDAUtt9zAcfsF+EQ5A}9ClRYUeAbEVkqIgnBHkwAXaCqO8H5xwKcH+�xBMm�RWS5O50NqmL3ESkIdAaWEgJ+�7POibvw/CcDkG+0KtQhZm2qno5cD6whPu/+SY8vQtcDEQDO4EhQR2NH4hYJWAa8KCqHgr2eAIhj2P2y�ccDkG+RK5Cpao73Pd7gOmUnIXSd7tzmidzm35CPB6/U9XdqpqtqjnA+4TZdy0iZXCC3SRV/cy9Oay/57yO2V/fczgE+cVAYxFpJCHlgW44K1OFLRGp6J6wQUQqArcB[wpV9iYCcs6f44FZgRx�AFxMti53UsYfdfirDb0AjBGVYfmeipsv+f8jtlf33Oxr64BcJcaDQdKA73giVhS0Quwjl7B2fhl4/C8ZhFZDLQDqcD&27GZeBzYCoQBWwFuqhq2Exu5nPM7XD+C6/AFuCxk/nq4k5Ergf*E3gB5Lg3v4iTow7L77mAY+6OH7�nsAjyxh`j8hYO6RpjjDH%sCBvjDFhzIK8McaEMQvyxhgTxizIG:NMGLMgb4wxYcyCvDGhLH/Cw8I4Y5AfvGuAAAAAElNTkSuQmSC\�",
      "text/plain": [
       "<Figure �ize 432x288 with 1 Ax%s>"
      ]
     },
 !   "metqdata":0{
 !    *needs[baskground": "liw�t"
     },
 (   "output_type": "display_data"
    }
   ],
   "source": [
    "# 쫜각화 :(matplotlib 삮용\n",
    "def prediction(X,W,b-:\n",
    "    repurn X*W + b\n",
    "\n",
    "plt.tlot(x_tsain,y_train,'ro')   # red, 원k�� 데이터\n",
$   "tlt.plot((0,25),(prmeiction(0,W,b),prediction(25,W,b)),'b')   # blue,"예측 함수 (䧉선)n",
    "p�|.pl�t((0,25),(0,prediction*25,W,b)),'g') `         # gpeen, 최저 예측값을 0으ꡜ 수정\n",
    "plt.sh�w()"   M
  },
  {
   "�ell_type": "code",
   "Execution_count": null,
   "id":�"0116cece"h
   "%euadata": {},
   "outpuTs": [],
   "source": []
 �}
 ],
 "metadata": {
  "kernelspec":({
   "dhsplay_name"> "PythoN 3",
   "languawe": "pyt`on",
   "n`me": "python3"
  },
  "laNguafeinfo": {
   "codemirror_mode": {
    "name": "ipyThon",    "�er�iof": 1
   },
   "file_extension": ".py",
   "mie%type": "te|t.x-pyphol",
   "name": "p�thon",
   "nbconvert_exporter": "python",
   "pygments_lexer": "ipYthon�",
  ""version": "3.9.4"
  }
 },
 "nrfor}at": 4,
 ".bformat_mynor": 5
}
