{
 "cells": [
  {
   "cell_type": "code",
   "execution_count": 1,
   "id": "76950cb5",
   "metadata": {},
   "outputs": [],
   "source": [
    "# 02_cars_linear_regression\n",
    "# X : 'speed' (속도)  , Y : 'dist' (제동거리) , 단항 회귀\n",
    "\n",
    "import tensorflow as tf\n",
    "import numpy as np\n",
    "import matplotlib.pyplot as plt\n",
    "tf.random.set_seed(5)\n",
    "\n",
    "# 데이터 읽어오기\n",
    "xy = np.loadtxt('data-01-cars.csv', unpack=True, delimiter=',', skiprows=1)\n",
    "x_train = xy[0]\n",
    "y_train = xy[1]"
   ]
  },
  {
   "cell_type": "code",
   "execution_count": 5,
   "id": "a890243b",
   "metadata": {},
   "outputs": [
    {
     "data": {
      "text/plain": [
       "(<tf.Variable 'weight:0' shape=(1,) dtype=float32, numpy=array([1.3506279], dtype=float32)>,\n",
       " <tf.Variable 'bias:0' shape=(1,) dtype=float32, numpy=array([-1.1078699], dtype=float32)>)"
      ]
     },
     "execution_count": 5,
     "metadata": {},
     "output_type": "execute_result"
    }
   ],
   "source": [
    "# 변수 초기화 : weight, bias\n",
    "# tf.random.normal([1]) : 난수 1개를 생성\n",
    "W = tf.Variable(tf.random.normal([1]), name='weight')\n",
    "b = tf.Variable(tf.random.normal([1]), name='bias')\n",
    "# W,b"
   ]
  },
  {
   "cell_type": "code",
   "execution_count": 6,
   "id": "80cce31d",
   "metadata": {},
   "outputs": [],
   "source": [
    "# 예측 함수 (hypothesis) : H(x) = W*X + b\n",
    "def hypothesis(X):\n",
    "    return X*W + b"
   ]
  },
  {
   "cell_type": "code",
   "execution_count": 7,
   "id": "bc9e81a4",
   "metadata": {},
   "outputs": [],
   "source": [
    "# 비용 함수 : (H(X) - Y)^2 의 평균\n",
    "# tf.square() : 제곱\n",
    "# tf.reduce_mean() : 평균\n",
    "\n",
    "def cost_func():\n",
    "    cost = tf.reduce_mean(tf.square(hypothesis(x_train) - y_train))\n",
    "    return cost"
   ]
  },
  {
   "cell_type": "code",
   "execution_count": 8,
   "id": "67b7d26c",
   "metadata": {},
   "outputs": [],
   "source": [
    "# 경사 하강법\n",
    "# learning_rate(학습율)을 0.01로 설정하여 optimizer 객체를 생성\n",
    "\n",
    "# optimizer = tf.compat.v1.train.GradientDescentOptimizer(learning_rate=0.01)\n",
    "# optimizer = tf.compat.v1.train.AdamOptimizer(learning_rate=0.01)   # 성능이 향상됨 _ AdamOptimizer\n",
    "optimizer = tf.keras.optimizers.Adam(learning_rate=0.01)"
   ]
  },
  {
   "cell_type": "code",
   "execution_count": 10,
   "id": "da3bd1b5",
   "metadata": {},
   "outputs": [
    {
     "name": "stdout",
     "output_type": "stream",
     "text": [
      "****** Start Learning !!\n",
      "0000 cost:[ 943.02423 ]  W: [1.3606279]  b: [-1.0978699]\n",
      "0100 cost:[ 387.93713 ]  W: [2.2233443]  b: [-0.25027925]\n",
      "0200 cost:[ 271.57382 ]  W: [2.6882439]  b: [0.13547535]\n",
      "0300 cost:[ 260.19534 ]  W: [2.8535628]  b: [0.14591318]\n",
      "0400 cost:[ 259.05276 ]  W: [2.8979273]  b: [-0.01708043]\n",
      "0500 cost:[ 258.21823 ]  W: [2.9156008]  b: [-0.24125907]\n",
      "0600 cost:[ 257.3096 ]  W: [2.9309118]  b: [-0.4955904]\n",
      "0700 cost:[ 256.3327 ]  W: [2.9472854]  b: [-0.77373046]\n",
      "0800 cost:[ 255.29822 ]  W: [2.9649081]  b: [-1.0734141]\n",
      "0900 cost:[ 254.21574 ]  W: [2.9836922]  b: [-1.3929199]\n",
      "1000 cost:[ 253.09445 ]  W: [3.0035458]  b: [-1.7306844]\n",
      "1100 cost:[ 251.94293 ]  W: [3.024383]  b: [-2.0852396]\n",
      "1200 cost:[ 250.76913 ]  W: [3.0461206]  b: [-2.455184]\n",
      "1300 cost:[ 249.58087 ]  W: [3.068679]  b: [-2.839163]\n",
      "1400 cost:[ 248.38539 ]  W: [3.0919802]  b: [-3.2358549]\n",
      "1500 cost:[ 247.18958 ]  W: [3.1159484]  b: [-3.6439629]\n",
      "1600 cost:[ 245.99977 ]  W: [3.1405072]  b: [-4.062212]\n",
      "1700 cost:[ 244.82225 ]  W: [3.165584]  b: [-4.489344]\n",
      "1800 cost:[ 243.66241 ]  W: [3.191105]  b: [-4.9241204]\n",
      "1900 cost:[ 242.5256 ]  W: [3.2169986]  b: [-5.365315]\n",
      "2000 cost:[ 241.41637 ]  W: [3.2431931]  b: [-5.8117185]\n",
      "2100 cost:[ 240.33907 ]  W: [3.2696192]  b: [-6.26214]\n",
      "2200 cost:[ 239.29738 ]  W: [3.2962072]  b: [-6.7153993]\n",
      "2300 cost:[ 238.29472 ]  W: [3.3228903]  b: [-7.17034]\n",
      "2400 cost:[ 237.33379 ]  W: [3.3495982]  b: [-7.62582]\n",
      "2500 cost:[ 236.41699 ]  W: [3.3762708]  b: [-8.080721]\n",
      "2600 cost:[ 235.5463 ]  W: [3.40284]  b: [-8.533941]\n",
      "2700 cost:[ 234.72307 ]  W: [3.4292424]  b: [-8.984396]\n",
      "2800 cost:[ 233.94833 ]  W: [3.4554174]  b: [-9.4310255]\n",
      "2900 cost:[ 233.2227 ]  W: [3.4813035]  b: [-9.872791]\n",
      "3000 cost:[ 232.5464 ]  W: [3.5068414]  b: [-10.308679]\n",
      "3100 cost:[ 231.91917 ]  W: [3.5319738]  b: [-10.737697]\n",
      "3200 cost:[ 231.34053 ]  W: [3.556644]  b: [-11.158875]\n",
      "3300 cost:[ 230.80952 ]  W: [3.580798]  b: [-11.571289]\n",
      "3400 cost:[ 230.32504 ]  W: [3.6043808]  b: [-11.974006]\n",
      "3500 cost:[ 229.88559 ]  W: [3.6273437]  b: [-12.366159]\n",
      "3600 cost:[ 229.48932 ]  W: [3.6496356]  b: [-12.746905]\n",
      "3700 cost:[ 229.13443 ]  W: [3.6712105]  b: [-13.11544]\n",
      "3800 cost:[ 228.81866 ]  W: [3.6920254]  b: [-13.471011]\n",
      "3900 cost:[ 228.53981 ]  W: [3.712037]  b: [-13.812902]\n",
      "4000 cost:[ 228.29532 ]  W: [3.731209]  b: [-14.140457]\n",
      "4100 cost:[ 228.08272 ]  W: [3.7495055]  b: [-14.453082]\n",
      "4200 cost:[ 227.8994 ]  W: [3.7668962]  b: [-14.750252]\n",
      "4300 cost:[ 227.74275 ]  W: [3.7833557]  b: [-15.031517]\n",
      "4400 cost:[ 227.61017 ]  W: [3.7988625]  b: [-15.2965145]\n",
      "4500 cost:[ 227.49904 ]  W: [3.8134005]  b: [-15.54497]\n",
      "4600 cost:[ 227.40692 ]  W: [3.82696]  b: [-15.776713]\n",
      "4700 cost:[ 227.33148 ]  W: [3.8395376]  b: [-15.991678]\n",
      "4800 cost:[ 227.27032 ]  W: [3.8511357]  b: [-16.189905]\n",
      "4900 cost:[ 227.22147 ]  W: [3.861764]  b: [-16.371565]\n",
      "5000 cost:[ 227.18297 ]  W: [3.8714387]  b: [-16.53693]\n",
      "5100 cost:[ 227.15297 ]  W: [3.8801844]  b: [-16.68641]\n",
      "5200 cost:[ 227.13002 ]  W: [3.8880296]  b: [-16.820513]\n",
      "5300 cost:[ 227.11273 ]  W: [3.8950124]  b: [-16.939863]\n",
      "5400 cost:[ 227.09996 ]  W: [3.9011743]  b: [-17.045195]\n",
      "5500 cost:[ 227.09062 ]  W: [3.906565]  b: [-17.137337]\n",
      "5600 cost:[ 227.084 ]  W: [3.9112349]  b: [-17.217161]\n",
      "5700 cost:[ 227.07936 ]  W: [3.915241]  b: [-17.285637]\n",
      "5800 cost:[ 227.07617 ]  W: [3.9186416]  b: [-17.34377]\n",
      "5900 cost:[ 227.07402 ]  W: [3.9214954]  b: [-17.392551]\n",
      "6000 cost:[ 227.07262 ]  W: [3.923863]  b: [-17.433014]\n",
      "6100 cost:[ 227.07176 ]  W: [3.9258025]  b: [-17.466171]\n",
      "6200 cost:[ 227.0712 ]  W: [3.9273708]  b: [-17.492981]\n",
      "6300 cost:[ 227.07085 ]  W: [3.9286215]  b: [-17.514355]\n",
      "6400 cost:[ 227.07068 ]  W: [3.9296043]  b: [-17.531155]\n",
      "6500 cost:[ 227.07054 ]  W: [3.9303646]  b: [-17.544155]\n",
      "6600 cost:[ 227.07047 ]  W: [3.9309435]  b: [-17.554054]\n",
      "6700 cost:[ 227.07045 ]  W: [3.9313774]  b: [-17.561462]\n",
      "6800 cost:[ 227.07045 ]  W: [3.931696]  b: [-17.56691]\n",
      "6900 cost:[ 227.07043 ]  W: [3.9319255]  b: [-17.570837]\n",
      "7000 cost:[ 227.0704 ]  W: [3.932088]  b: [-17.57361]\n",
      "7100 cost:[ 227.07045 ]  W: [3.9322004]  b: [-17.57553]\n",
      "7200 cost:[ 227.07043 ]  W: [3.9322767]  b: [-17.576838]\n",
      "7300 cost:[ 227.07043 ]  W: [3.932327]  b: [-17.577696]\n",
      "7400 cost:[ 227.07043 ]  W: [3.9323587]  b: [-17.578241]\n",
      "7500 cost:[ 227.07043 ]  W: [3.9323795]  b: [-17.578596]\n",
      "7600 cost:[ 227.0704 ]  W: [3.9323905]  b: [-17.578787]\n",
      "7700 cost:[ 227.07043 ]  W: [3.9324]  b: [-17.578945]\n",
      "7800 cost:[ 227.07043 ]  W: [3.9324002]  b: [-17.578947]\n",
      "7900 cost:[ 227.07043 ]  W: [3.9324002]  b: [-17.57895]\n",
      "8000 cost:[ 227.07043 ]  W: [3.9324002]  b: [-17.57895]\n",
      "8100 cost:[ 227.07047 ]  W: [3.9324012]  b: [-17.578966]\n",
      "8200 cost:[ 227.07047 ]  W: [3.9324012]  b: [-17.578966]\n",
      "8300 cost:[ 227.07043 ]  W: [3.932403]  b: [-17.578993]\n",
      "8400 cost:[ 227.0704 ]  W: [3.9324028]  b: [-17.578997]\n",
      "8500 cost:[ 227.07043 ]  W: [3.9324033]  b: [-17.579002]\n",
      "8600 cost:[ 227.0704 ]  W: [3.9324036]  b: [-17.579004]\n",
      "8700 cost:[ 227.07043 ]  W: [3.9324036]  b: [-17.579008]\n",
      "8800 cost:[ 227.0704 ]  W: [3.9324038]  b: [-17.579012]\n",
      "8900 cost:[ 227.0704 ]  W: [3.9324038]  b: [-17.579012]\n",
      "9000 cost:[ 227.0704 ]  W: [3.9324038]  b: [-17.579012]\n",
      "9100 cost:[ 227.0704 ]  W: [3.9324043]  b: [-17.57902]\n",
      "9200 cost:[ 227.0704 ]  W: [3.9324043]  b: [-17.57902]\n",
      "9300 cost:[ 227.0704 ]  W: [3.9324043]  b: [-17.57902]\n",
      "9400 cost:[ 227.07039 ]  W: [3.9324052]  b: [-17.579035]\n",
      "9500 cost:[ 227.07043 ]  W: [3.9324057]  b: [-17.579039]\n",
      "9600 cost:[ 227.07043 ]  W: [3.9324055]  b: [-17.57904]\n",
      "9700 cost:[ 227.0704 ]  W: [3.9324057]  b: [-17.579042]\n",
      "9800 cost:[ 227.07043 ]  W: [3.9324064]  b: [-17.579048]\n",
      "9900 cost:[ 227.07043 ]  W: [3.9324062]  b: [-17.579052]\n",
      "10000 cost:[ 227.07043 ]  W: [3.9324062]  b: [-17.579052]\n",
      "****** Start Finishing !!\n"
     ]
    }
   ],
   "source": [
    "# 학습 시작\n",
    "print('****** Start Learning !!')\n",
    "for step in range(10001):\n",
    "    # cost를 minimize한다\n",
    "    optimizer.minimize(cost_func, var_list=[W,b])\n",
    "    \n",
    "    if step % 100 == 0:\n",
    "        print('%04d'%step,'cost:[',cost_func().numpy(),']',\n",
    "             ' W:',W.numpy(),' b:',b.numpy())\n",
    "    \n",
    "print('****** Start Finishing !!')"
   ]
  },
  {
   "cell_type": "code",
   "execution_count": 12,
   "id": "9d4ed7e1",
   "metadata": {},
   "outputs": [
    {
     "name": "stdout",
     "output_type": "stream",
     "text": [
      "weight: [3.9324062]\n",
      "bias: [-17.579052]\n"
     ]
    }
   ],
   "source": [
    "# 회귀계수, weight과 bias 출력\n",
    "print('weight:', W.numpy())\n",
    "print('bias:', b.numpy())"
   ]
  },
  {
   "cell_type": "code",
   "execution_count": 17,
   "id": "fca08d36",
   "metadata": {},
   "outputs": [
    {
     "name": "stdout",
     "output_type": "stream",
     "text": [
      "****** Predict\n",
      "speed=30, dist= [100.39313]\n",
      "speed=50, dist= [179.04126]\n",
      "speed=[10,11,12,24,25], dist= [21.74501  25.677418 29.609821 76.79869  80.73111 ]\n"
     ]
    }
   ],
   "source": [
    "# 예측\n",
    "print('****** Predict')\n",
    "# 속도가 30과 50일 떄 제동거리를 예측해 보세요\n",
    "print('speed=30, dist=',hypothesis(30).numpy())   # 3.9324062 * 30 -17.579052 한 거\n",
    "print('speed=50, dist=',hypothesis(50).numpy())\n",
    "\n",
    "# X = [10,11,12,24,25] 일 때\n",
    "print('speed=[10,11,12,24,25], dist=',hypothesis([10,11,12,24,25]).numpy())"
   ]
  },
  {
   "cell_type": "code",
   "execution_count": 23,
   "id": "84490a6e",
   "metadata": {},
   "outputs": [
    {
     "name": "stderr",
     "output_type": "stream",
     "text": [
      "D:\\AllProgram\\anaconda3\\envs\\tf250\\lib\\site-packages\\numpy\\core\\_asarray.py:136: VisibleDeprecationWarning: Creating an ndarray from ragged nested sequences (which is a list-or-tuple of lists-or-tuples-or ndarrays with different lengths or shapes) is deprecated. If you meant to do this, you must specify 'dtype=object' when creating the ndarray\n",
      "  return array(a, dtype, copy=False, order=order, subok=True)\n"
     ]
    },
    {
     "data": {
      "image/png": "[encoded data removed]",
      "text/plain": [
       "<Figure size 432x288 with 1 Axes>"
      ]
     },
     "metadata": {
      "needs_background": "light"
     },
     "output_type": "display_data"
    }
   ],
   "source": [
    "# 시각화 : matplotlib 사용\n",
    "def prediction(X,W,b):\n",
    "    return X*W + b\n",
    "\n",
    "plt.plot(x_train,y_train,'ro')   # red, 원본 데이터\n",
    "plt.plot((0,25),(prediction(0,W,b),prediction(25,W,b)),'b')   # blue, 예측 함수 (직선)\n",
    "plt.plot((0,25),(0,prediction(25,W,b)),'g')           # green, 최저 예측값을 0으로 수정\n",
    "plt.show()"
   ]
  },
  {
   "cell_type": "code",
   "execution_count": null,
   "id": "0116cece",
   "metadata": {},
   "outputs": [],
   "source": []
  }
 ],
 "metadata": {
  "kernelspec": {
   "display_name": "Python 3",
   "language": "python",
   "name": "python3"
  },
  "language_info": {
   "codemirror_mode": {
    "name": "ipython",
    "version": 3
   },
   "file_extension": ".py",
   "mimetype": "text/x-python",
   "name": "python",
   "nbconvert_exporter": "python",
   "pygments_lexer": "ipython3",
   "version": "3.9.4"
  }
 },
 "nbformat": 4,
 "nbformat_minor": 5
}
