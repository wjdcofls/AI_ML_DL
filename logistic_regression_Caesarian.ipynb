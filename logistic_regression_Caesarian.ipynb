{
 "cells": [
  {
   "cell_type": "code",
   "execution_count": 1,
   "metadata": {},
   "outputs": [],
   "source": [
    "# logistic_regression_Caesarian.\n",
    "\n",
    "import tensorflow as tf\n",
    "import numpy as np\n",
    "tf.random.set_seed(5)\n",
    "\n",
    "xy = np.loadtxt('caesarian.csv',delimiter=',',dtype=np.float32)\n",
    "\n",
    "# train data set\n",
    "x_data = xy[:56, :-1 ]\n",
    "y_data = xy[:56, [-1] ]\n",
    "\n",
    "x_train = np.array(x_data,dtype=np.float32)\n",
    "y_train = np.array(y_data,dtype=np.float32)"
   ]
  },
  {
   "cell_type": "code",
   "execution_count": 2,
   "metadata": {},
   "outputs": [],
   "source": [
    "# 변수 초기화 : weight, bias\n",
    "W = tf.Variable(tf.random.normal([5,1]), name='weight')\n",
    "b = tf.Variable(tf.random.normal([1]), name='bias')"
   ]
  },
  {
   "cell_type": "code",
   "execution_count": 3,
   "metadata": {},
   "outputs": [],
   "source": [
    "# hypothesis 예측 함수(방정식)  , H(x) = sigmoid(W * X + b)\n",
    "# tf.sigmoid : tf.div(1., 1. + tf.exp(tf.matmul(X,W)))\n",
    "def hypothesis(X):\n",
    "    return  tf.sigmoid(tf.matmul(X,W) + b  )"
   ]
  },
  {
   "cell_type": "code",
   "execution_count": 4,
   "metadata": {},
   "outputs": [],
   "source": [
    "# 비용함수 : logloss\n",
    "def cost_func():\n",
    "    cost = -tf.reduce_mean(y_train*tf.math.log(hypothesis(x_train)) + (1-y_train)*\n",
    "                       tf.math.log(1-hypothesis(x_train)))\n",
    "    return cost"
   ]
  },
  {
   "cell_type": "code",
   "execution_count": 5,
   "metadata": {},
   "outputs": [],
   "source": [
    "## 경사 하강법\n",
    "# learning rate (학습율) 을 0.01로 설정하여  optimizer객체를 생성\n",
    "# optimizer = tf.compat.v1.train.GradientDescentOptimizer(learning_rate=0.01)\n",
    "optimizer = tf.keras.optimizers.Adam(learning_rate=0.01)"
   ]
  },
  {
   "cell_type": "code",
   "execution_count": 6,
   "metadata": {
    "scrolled": true
   },
   "outputs": [
    {
     "name": "stdout",
     "output_type": "stream",
     "text": [
      "***** Start Learning!!\n",
      "0000 cost: [ 3.257355 ]  W:  [[-0.17030667]\n",
      " [-0.9402863 ]\n",
      " [-0.02964061]\n",
      " [-0.73254067]\n",
      " [ 1.3331522 ]]   b:  [0.23652858]\n",
      "1000 cost: [ 0.5308221 ]  W:  [[-0.0334911 ]\n",
      " [ 0.25211966]\n",
      " [-0.2700633 ]\n",
      " [ 0.1515186 ]\n",
      " [ 2.5541186 ]]   b:  [-0.17207505]\n",
      "2000 cost: [ 0.5292896 ]  W:  [[-0.01470615]\n",
      " [ 0.26314083]\n",
      " [-0.2468881 ]\n",
      " [ 0.19900657]\n",
      " [ 2.5522108 ]]   b:  [-0.77784264]\n",
      "3000 cost: [ 0.5291536 ]  W:  [[-0.00793587]\n",
      " [ 0.26634997]\n",
      " [-0.23871745]\n",
      " [ 0.2168821 ]\n",
      " [ 2.5552855 ]]   b:  [-0.99656314]\n",
      "4000 cost: [ 0.52915204 ]  W:  [[-0.00714858]\n",
      " [ 0.26674047]\n",
      " [-0.237774  ]\n",
      " [ 0.21897115]\n",
      " [ 2.5557616 ]]   b:  [-1.0220596]\n",
      "5000 cost: [ 0.52915204 ]  W:  [[-0.00713171]\n",
      " [ 0.2667489 ]\n",
      " [-0.23775369]\n",
      " [ 0.21901624]\n",
      " [ 2.5557718 ]]   b:  [-1.0226064]\n",
      "6000 cost: [ 0.52915204 ]  W:  [[-0.00713137]\n",
      " [ 0.266748  ]\n",
      " [-0.23775356]\n",
      " [ 0.2190168 ]\n",
      " [ 2.5557728 ]]   b:  [-1.0226148]\n",
      "7000 cost: [ 0.52915204 ]  W:  [[-0.00713136]\n",
      " [ 0.26674807]\n",
      " [-0.23775357]\n",
      " [ 0.2190167 ]\n",
      " [ 2.555773  ]]   b:  [-1.0226156]\n",
      "8000 cost: [ 0.52915204 ]  W:  [[-0.00712664]\n",
      " [ 0.26675278]\n",
      " [-0.23774827]\n",
      " [ 0.21902137]\n",
      " [ 2.5557752 ]]   b:  [-1.0226074]\n",
      "9000 cost: [ 0.52915204 ]  W:  [[-0.00714793]\n",
      " [ 0.26673725]\n",
      " [-0.23776425]\n",
      " [ 0.21901655]\n",
      " [ 2.5557537 ]]   b:  [-1.0226538]\n",
      "10000 cost: [ 0.52915204 ]  W:  [[-0.0071314 ]\n",
      " [ 0.2667494 ]\n",
      " [-0.23775348]\n",
      " [ 0.21901695]\n",
      " [ 2.5557735 ]]   b:  [-1.0226126]\n",
      "***** Learning Finished!!\n"
     ]
    }
   ],
   "source": [
    "# 학습 시작\n",
    "print('***** Start Learning!!')\n",
    "for step in range(10001):\n",
    "    # cost를 minimize한다\n",
    "    optimizer.minimize(cost_func, var_list=[W,b])\n",
    "    \n",
    "    if step % 1000 == 0:\n",
    "        print('%04d'%step, 'cost: [', cost_func().numpy(), ']  W: ', W.numpy(), '  b: ', b.numpy())\n",
    "        \n",
    "print('***** Learning Finished!!')"
   ]
  },
  {
   "cell_type": "code",
   "execution_count": 7,
   "metadata": {},
   "outputs": [
    {
     "name": "stdout",
     "output_type": "stream",
     "text": [
      "Weight = [[-0.0071314 ]\n",
      " [ 0.2667494 ]\n",
      " [-0.23775348]\n",
      " [ 0.21901695]\n",
      " [ 2.5557735 ]]\n",
      "Bias = [-1.0226126]\n"
     ]
    }
   ],
   "source": [
    "# 회귀 계수 출력\n",
    "print('Weight =', W.numpy())\n",
    "print('Bias =', b.numpy())                                 "
   ]
  },
  {
   "cell_type": "code",
   "execution_count": 8,
   "metadata": {},
   "outputs": [
    {
     "name": "stdout",
     "output_type": "stream",
     "text": [
      "\n",
      "Accuracy: 0.45833334\n"
     ]
    }
   ],
   "source": [
    "# accuracy computation (정확도 측정)\n",
    "# test data set\n",
    "x_data = xy[56:, :-1 ]\n",
    "y_data = xy[56:, [-1] ]\n",
    "\n",
    "x_test = np.array(x_data,dtype=np.float32)\n",
    "y_test = np.array(y_data,dtype=np.float32)\n",
    "\n",
    "def predict(X):\n",
    "    return tf.cast(hypothesis(X) > 0.5, dtype = tf.float32)\n",
    "\n",
    "accuracy = tf.reduce_mean(tf.cast(tf.equal(predict(x_test),y_test),\n",
    "                                     dtype = tf.float32))\n",
    "# print(\"Hypothesis:\\n\",hypothesis(x_test).numpy(), \n",
    "#       \"\\nPredict:\\n\",predict(x_test).numpy())\n",
    "\n",
    "print(\"\\nAccuracy:\",accuracy.numpy()) # Accuracy: 0.45833334\n",
    "\n"
   ]
  },
  {
   "cell_type": "code",
   "execution_count": null,
   "metadata": {},
   "outputs": [],
   "source": []
  }
 ],
 "metadata": {
  "kernelspec": {
   "display_name": "Python 3",
   "language": "python",
   "name": "python3"
  },
  "language_info": {
   "codemirror_mode": {
    "name": "ipython",
    "version": 3
   },
   "file_extension": ".py",
   "mimetype": "text/x-python",
   "name": "python",
   "nbconvert_exporter": "python",
   "pygments_lexer": "ipython3",
   "version": "3.9.4"
  }
 },
 "nbformat": 4,
 "nbformat_minor": 4
}
